{
 "cells": [
  {
   "cell_type": "markdown",
   "metadata": {},
   "source": [
    "# Weather Data Collection for Formula 1 Races"
   ]
  },
  {
   "cell_type": "code",
   "execution_count": 15,
   "metadata": {},
   "outputs": [],
   "source": [
    "import warnings\n",
    "warnings.filterwarnings(\"ignore\")"
   ]
  },
  {
   "cell_type": "code",
   "execution_count": 16,
   "metadata": {},
   "outputs": [],
   "source": [
    "import time\n",
    "start = time.time()"
   ]
  },
  {
   "cell_type": "code",
   "execution_count": 17,
   "metadata": {
    "ExecuteTime": {
     "end_time": "2020-04-26T13:28:21.078451Z",
     "start_time": "2020-04-26T13:28:20.570222Z"
    }
   },
   "outputs": [],
   "source": [
    "import pandas as pd\n",
    "import numpy as np\n",
    "from selenium import webdriver\n",
    "import time"
   ]
  },
  {
   "cell_type": "code",
   "execution_count": 18,
   "metadata": {
    "ExecuteTime": {
     "end_time": "2020-04-26T13:28:21.269172Z",
     "start_time": "2020-04-26T13:28:21.252970Z"
    }
   },
   "outputs": [],
   "source": [
    "races = pd.read_csv('./data/races.csv')"
   ]
  },
  {
   "cell_type": "code",
   "execution_count": 19,
   "metadata": {
    "ExecuteTime": {
     "end_time": "2020-04-26T13:28:21.850123Z",
     "start_time": "2020-04-26T13:28:21.820934Z"
    }
   },
   "outputs": [
    {
     "data": {
      "text/html": [
       "<div>\n",
       "<style scoped>\n",
       "    .dataframe tbody tr th:only-of-type {\n",
       "        vertical-align: middle;\n",
       "    }\n",
       "\n",
       "    .dataframe tbody tr th {\n",
       "        vertical-align: top;\n",
       "    }\n",
       "\n",
       "    .dataframe thead th {\n",
       "        text-align: right;\n",
       "    }\n",
       "</style>\n",
       "<table border=\"1\" class=\"dataframe\">\n",
       "  <thead>\n",
       "    <tr style=\"text-align: right;\">\n",
       "      <th></th>\n",
       "      <th>season</th>\n",
       "      <th>round</th>\n",
       "      <th>circuit_id</th>\n",
       "      <th>lat</th>\n",
       "      <th>long</th>\n",
       "      <th>country</th>\n",
       "      <th>date</th>\n",
       "      <th>url</th>\n",
       "    </tr>\n",
       "  </thead>\n",
       "  <tbody>\n",
       "    <tr>\n",
       "      <th>0</th>\n",
       "      <td>1950</td>\n",
       "      <td>1</td>\n",
       "      <td>silverstone</td>\n",
       "      <td>52.0786</td>\n",
       "      <td>-1.01694</td>\n",
       "      <td>UK</td>\n",
       "      <td>1950-05-13</td>\n",
       "      <td>http://en.wikipedia.org/wiki/1950_British_Gran...</td>\n",
       "    </tr>\n",
       "    <tr>\n",
       "      <th>1</th>\n",
       "      <td>1950</td>\n",
       "      <td>2</td>\n",
       "      <td>monaco</td>\n",
       "      <td>43.7347</td>\n",
       "      <td>7.42056</td>\n",
       "      <td>Monaco</td>\n",
       "      <td>1950-05-21</td>\n",
       "      <td>http://en.wikipedia.org/wiki/1950_Monaco_Grand...</td>\n",
       "    </tr>\n",
       "    <tr>\n",
       "      <th>2</th>\n",
       "      <td>1950</td>\n",
       "      <td>3</td>\n",
       "      <td>indianapolis</td>\n",
       "      <td>39.7950</td>\n",
       "      <td>-86.23470</td>\n",
       "      <td>USA</td>\n",
       "      <td>1950-05-30</td>\n",
       "      <td>http://en.wikipedia.org/wiki/1950_Indianapolis...</td>\n",
       "    </tr>\n",
       "    <tr>\n",
       "      <th>3</th>\n",
       "      <td>1950</td>\n",
       "      <td>4</td>\n",
       "      <td>bremgarten</td>\n",
       "      <td>46.9589</td>\n",
       "      <td>7.40194</td>\n",
       "      <td>Switzerland</td>\n",
       "      <td>1950-06-04</td>\n",
       "      <td>http://en.wikipedia.org/wiki/1950_Swiss_Grand_...</td>\n",
       "    </tr>\n",
       "    <tr>\n",
       "      <th>4</th>\n",
       "      <td>1950</td>\n",
       "      <td>5</td>\n",
       "      <td>spa</td>\n",
       "      <td>50.4372</td>\n",
       "      <td>5.97139</td>\n",
       "      <td>Belgium</td>\n",
       "      <td>1950-06-18</td>\n",
       "      <td>http://en.wikipedia.org/wiki/1950_Belgian_Gran...</td>\n",
       "    </tr>\n",
       "  </tbody>\n",
       "</table>\n",
       "</div>"
      ],
      "text/plain": [
       "   season  round    circuit_id      lat      long      country        date  \\\n",
       "0    1950      1   silverstone  52.0786  -1.01694           UK  1950-05-13   \n",
       "1    1950      2        monaco  43.7347   7.42056       Monaco  1950-05-21   \n",
       "2    1950      3  indianapolis  39.7950 -86.23470          USA  1950-05-30   \n",
       "3    1950      4    bremgarten  46.9589   7.40194  Switzerland  1950-06-04   \n",
       "4    1950      5           spa  50.4372   5.97139      Belgium  1950-06-18   \n",
       "\n",
       "                                                 url  \n",
       "0  http://en.wikipedia.org/wiki/1950_British_Gran...  \n",
       "1  http://en.wikipedia.org/wiki/1950_Monaco_Grand...  \n",
       "2  http://en.wikipedia.org/wiki/1950_Indianapolis...  \n",
       "3  http://en.wikipedia.org/wiki/1950_Swiss_Grand_...  \n",
       "4  http://en.wikipedia.org/wiki/1950_Belgian_Gran...  "
      ]
     },
     "execution_count": 19,
     "metadata": {},
     "output_type": "execute_result"
    }
   ],
   "source": [
    "races.head()"
   ]
  },
  {
   "cell_type": "code",
   "execution_count": 20,
   "metadata": {
    "ExecuteTime": {
     "end_time": "2020-04-26T13:28:22.726999Z",
     "start_time": "2020-04-26T13:28:22.719912Z"
    }
   },
   "outputs": [
    {
     "data": {
      "text/plain": [
       "(1018, 8)"
      ]
     },
     "execution_count": 20,
     "metadata": {},
     "output_type": "execute_result"
    }
   ],
   "source": [
    "races.shape"
   ]
  },
  {
   "cell_type": "markdown",
   "metadata": {},
   "source": [
    "## Weather Dataset Analysis"
   ]
  },
  {
   "cell_type": "code",
   "execution_count": 21,
   "metadata": {},
   "outputs": [],
   "source": [
    "weather_info = pd.read_csv('./data/weather.csv')"
   ]
  },
  {
   "cell_type": "code",
   "execution_count": 22,
   "metadata": {},
   "outputs": [
    {
     "data": {
      "text/plain": [
       "(1018, 9)"
      ]
     },
     "execution_count": 22,
     "metadata": {},
     "output_type": "execute_result"
    }
   ],
   "source": [
    "weather_info.shape"
   ]
  },
  {
   "cell_type": "code",
   "execution_count": 23,
   "metadata": {},
   "outputs": [
    {
     "data": {
      "text/html": [
       "<div>\n",
       "<style scoped>\n",
       "    .dataframe tbody tr th:only-of-type {\n",
       "        vertical-align: middle;\n",
       "    }\n",
       "\n",
       "    .dataframe tbody tr th {\n",
       "        vertical-align: top;\n",
       "    }\n",
       "\n",
       "    .dataframe thead th {\n",
       "        text-align: right;\n",
       "    }\n",
       "</style>\n",
       "<table border=\"1\" class=\"dataframe\">\n",
       "  <thead>\n",
       "    <tr style=\"text-align: right;\">\n",
       "      <th></th>\n",
       "      <th>season</th>\n",
       "      <th>round</th>\n",
       "      <th>circuit_id</th>\n",
       "      <th>weather</th>\n",
       "      <th>weather_warm</th>\n",
       "      <th>weather_cold</th>\n",
       "      <th>weather_dry</th>\n",
       "      <th>weather_wet</th>\n",
       "      <th>weather_cloudy</th>\n",
       "    </tr>\n",
       "  </thead>\n",
       "  <tbody>\n",
       "    <tr>\n",
       "      <th>0</th>\n",
       "      <td>1950</td>\n",
       "      <td>1</td>\n",
       "      <td>silverstone</td>\n",
       "      <td>Sunny, mild, dry.</td>\n",
       "      <td>0</td>\n",
       "      <td>0</td>\n",
       "      <td>0</td>\n",
       "      <td>0</td>\n",
       "      <td>0</td>\n",
       "    </tr>\n",
       "    <tr>\n",
       "      <th>1</th>\n",
       "      <td>1950</td>\n",
       "      <td>2</td>\n",
       "      <td>monaco</td>\n",
       "      <td>not found</td>\n",
       "      <td>0</td>\n",
       "      <td>0</td>\n",
       "      <td>0</td>\n",
       "      <td>0</td>\n",
       "      <td>0</td>\n",
       "    </tr>\n",
       "    <tr>\n",
       "      <th>2</th>\n",
       "      <td>1950</td>\n",
       "      <td>3</td>\n",
       "      <td>indianapolis</td>\n",
       "      <td>Rainy</td>\n",
       "      <td>0</td>\n",
       "      <td>0</td>\n",
       "      <td>0</td>\n",
       "      <td>1</td>\n",
       "      <td>0</td>\n",
       "    </tr>\n",
       "    <tr>\n",
       "      <th>3</th>\n",
       "      <td>1950</td>\n",
       "      <td>4</td>\n",
       "      <td>bremgarten</td>\n",
       "      <td>Warm, dry and sunny</td>\n",
       "      <td>1</td>\n",
       "      <td>0</td>\n",
       "      <td>1</td>\n",
       "      <td>0</td>\n",
       "      <td>0</td>\n",
       "    </tr>\n",
       "    <tr>\n",
       "      <th>4</th>\n",
       "      <td>1950</td>\n",
       "      <td>5</td>\n",
       "      <td>spa</td>\n",
       "      <td>Warm, dry and sunny</td>\n",
       "      <td>1</td>\n",
       "      <td>0</td>\n",
       "      <td>1</td>\n",
       "      <td>0</td>\n",
       "      <td>0</td>\n",
       "    </tr>\n",
       "  </tbody>\n",
       "</table>\n",
       "</div>"
      ],
      "text/plain": [
       "   season  round    circuit_id              weather  weather_warm  \\\n",
       "0    1950      1   silverstone    Sunny, mild, dry.             0   \n",
       "1    1950      2        monaco            not found             0   \n",
       "2    1950      3  indianapolis                Rainy             0   \n",
       "3    1950      4    bremgarten  Warm, dry and sunny             1   \n",
       "4    1950      5           spa  Warm, dry and sunny             1   \n",
       "\n",
       "   weather_cold  weather_dry  weather_wet  weather_cloudy  \n",
       "0             0            0            0               0  \n",
       "1             0            0            0               0  \n",
       "2             0            0            1               0  \n",
       "3             0            1            0               0  \n",
       "4             0            1            0               0  "
      ]
     },
     "execution_count": 23,
     "metadata": {},
     "output_type": "execute_result"
    }
   ],
   "source": [
    "weather_info.head()"
   ]
  },
  {
   "cell_type": "code",
   "execution_count": 24,
   "metadata": {},
   "outputs": [
    {
     "data": {
      "text/html": [
       "<div>\n",
       "<style scoped>\n",
       "    .dataframe tbody tr th:only-of-type {\n",
       "        vertical-align: middle;\n",
       "    }\n",
       "\n",
       "    .dataframe tbody tr th {\n",
       "        vertical-align: top;\n",
       "    }\n",
       "\n",
       "    .dataframe thead th {\n",
       "        text-align: right;\n",
       "    }\n",
       "</style>\n",
       "<table border=\"1\" class=\"dataframe\">\n",
       "  <thead>\n",
       "    <tr style=\"text-align: right;\">\n",
       "      <th></th>\n",
       "      <th>season</th>\n",
       "      <th>round</th>\n",
       "      <th>circuit_id</th>\n",
       "      <th>weather</th>\n",
       "      <th>weather_warm</th>\n",
       "      <th>weather_cold</th>\n",
       "      <th>weather_dry</th>\n",
       "      <th>weather_wet</th>\n",
       "      <th>weather_cloudy</th>\n",
       "    </tr>\n",
       "  </thead>\n",
       "  <tbody>\n",
       "    <tr>\n",
       "      <th>1013</th>\n",
       "      <td>2019</td>\n",
       "      <td>17</td>\n",
       "      <td>suzuka</td>\n",
       "      <td>Sunny</td>\n",
       "      <td>1</td>\n",
       "      <td>0</td>\n",
       "      <td>0</td>\n",
       "      <td>0</td>\n",
       "      <td>0</td>\n",
       "    </tr>\n",
       "    <tr>\n",
       "      <th>1014</th>\n",
       "      <td>2019</td>\n",
       "      <td>18</td>\n",
       "      <td>rodriguez</td>\n",
       "      <td>Partly cloudy</td>\n",
       "      <td>0</td>\n",
       "      <td>0</td>\n",
       "      <td>0</td>\n",
       "      <td>0</td>\n",
       "      <td>1</td>\n",
       "    </tr>\n",
       "    <tr>\n",
       "      <th>1015</th>\n",
       "      <td>2019</td>\n",
       "      <td>19</td>\n",
       "      <td>americas</td>\n",
       "      <td>Sunny</td>\n",
       "      <td>1</td>\n",
       "      <td>0</td>\n",
       "      <td>0</td>\n",
       "      <td>0</td>\n",
       "      <td>0</td>\n",
       "    </tr>\n",
       "    <tr>\n",
       "      <th>1016</th>\n",
       "      <td>2019</td>\n",
       "      <td>20</td>\n",
       "      <td>interlagos</td>\n",
       "      <td>Sunny</td>\n",
       "      <td>1</td>\n",
       "      <td>0</td>\n",
       "      <td>0</td>\n",
       "      <td>0</td>\n",
       "      <td>0</td>\n",
       "    </tr>\n",
       "    <tr>\n",
       "      <th>1017</th>\n",
       "      <td>2019</td>\n",
       "      <td>21</td>\n",
       "      <td>yas_marina</td>\n",
       "      <td>Clear</td>\n",
       "      <td>1</td>\n",
       "      <td>0</td>\n",
       "      <td>0</td>\n",
       "      <td>0</td>\n",
       "      <td>0</td>\n",
       "    </tr>\n",
       "  </tbody>\n",
       "</table>\n",
       "</div>"
      ],
      "text/plain": [
       "      season  round  circuit_id        weather  weather_warm  weather_cold  \\\n",
       "1013    2019     17      suzuka          Sunny             1             0   \n",
       "1014    2019     18   rodriguez  Partly cloudy             0             0   \n",
       "1015    2019     19    americas          Sunny             1             0   \n",
       "1016    2019     20  interlagos          Sunny             1             0   \n",
       "1017    2019     21  yas_marina          Clear             1             0   \n",
       "\n",
       "      weather_dry  weather_wet  weather_cloudy  \n",
       "1013            0            0               0  \n",
       "1014            0            0               1  \n",
       "1015            0            0               0  \n",
       "1016            0            0               0  \n",
       "1017            0            0               0  "
      ]
     },
     "execution_count": 24,
     "metadata": {},
     "output_type": "execute_result"
    }
   ],
   "source": [
    "weather_info.tail()"
   ]
  },
  {
   "cell_type": "code",
   "execution_count": 25,
   "metadata": {},
   "outputs": [
    {
     "data": {
      "text/plain": [
       "array([[<AxesSubplot:title={'center':'season'}>,\n",
       "        <AxesSubplot:title={'center':'round'}>,\n",
       "        <AxesSubplot:title={'center':'weather_warm'}>],\n",
       "       [<AxesSubplot:title={'center':'weather_cold'}>,\n",
       "        <AxesSubplot:title={'center':'weather_dry'}>,\n",
       "        <AxesSubplot:title={'center':'weather_wet'}>],\n",
       "       [<AxesSubplot:title={'center':'weather_cloudy'}>, <AxesSubplot:>,\n",
       "        <AxesSubplot:>]], dtype=object)"
      ]
     },
     "execution_count": 25,
     "metadata": {},
     "output_type": "execute_result"
    },
    {
     "data": {
      "image/png": "[encoded data removed]",
      "text/plain": [
       "<Figure size 432x288 with 9 Axes>"
      ]
     },
     "metadata": {
      "needs_background": "light"
     },
     "output_type": "display_data"
    }
   ],
   "source": [
    "weather_info.hist()"
   ]
  },
  {
   "cell_type": "code",
   "execution_count": 26,
   "metadata": {},
   "outputs": [
    {
     "data": {
      "text/plain": [
       "array([[<AxesSubplot:xlabel='season', ylabel='season'>,\n",
       "        <AxesSubplot:xlabel='round', ylabel='season'>,\n",
       "        <AxesSubplot:xlabel='weather_warm', ylabel='season'>,\n",
       "        <AxesSubplot:xlabel='weather_cold', ylabel='season'>,\n",
       "        <AxesSubplot:xlabel='weather_dry', ylabel='season'>,\n",
       "        <AxesSubplot:xlabel='weather_wet', ylabel='season'>,\n",
       "        <AxesSubplot:xlabel='weather_cloudy', ylabel='season'>],\n",
       "       [<AxesSubplot:xlabel='season', ylabel='round'>,\n",
       "        <AxesSubplot:xlabel='round', ylabel='round'>,\n",
       "        <AxesSubplot:xlabel='weather_warm', ylabel='round'>,\n",
       "        <AxesSubplot:xlabel='weather_cold', ylabel='round'>,\n",
       "        <AxesSubplot:xlabel='weather_dry', ylabel='round'>,\n",
       "        <AxesSubplot:xlabel='weather_wet', ylabel='round'>,\n",
       "        <AxesSubplot:xlabel='weather_cloudy', ylabel='round'>],\n",
       "       [<AxesSubplot:xlabel='season', ylabel='weather_warm'>,\n",
       "        <AxesSubplot:xlabel='round', ylabel='weather_warm'>,\n",
       "        <AxesSubplot:xlabel='weather_warm', ylabel='weather_warm'>,\n",
       "        <AxesSubplot:xlabel='weather_cold', ylabel='weather_warm'>,\n",
       "        <AxesSubplot:xlabel='weather_dry', ylabel='weather_warm'>,\n",
       "        <AxesSubplot:xlabel='weather_wet', ylabel='weather_warm'>,\n",
       "        <AxesSubplot:xlabel='weather_cloudy', ylabel='weather_warm'>],\n",
       "       [<AxesSubplot:xlabel='season', ylabel='weather_cold'>,\n",
       "        <AxesSubplot:xlabel='round', ylabel='weather_cold'>,\n",
       "        <AxesSubplot:xlabel='weather_warm', ylabel='weather_cold'>,\n",
       "        <AxesSubplot:xlabel='weather_cold', ylabel='weather_cold'>,\n",
       "        <AxesSubplot:xlabel='weather_dry', ylabel='weather_cold'>,\n",
       "        <AxesSubplot:xlabel='weather_wet', ylabel='weather_cold'>,\n",
       "        <AxesSubplot:xlabel='weather_cloudy', ylabel='weather_cold'>],\n",
       "       [<AxesSubplot:xlabel='season', ylabel='weather_dry'>,\n",
       "        <AxesSubplot:xlabel='round', ylabel='weather_dry'>,\n",
       "        <AxesSubplot:xlabel='weather_warm', ylabel='weather_dry'>,\n",
       "        <AxesSubplot:xlabel='weather_cold', ylabel='weather_dry'>,\n",
       "        <AxesSubplot:xlabel='weather_dry', ylabel='weather_dry'>,\n",
       "        <AxesSubplot:xlabel='weather_wet', ylabel='weather_dry'>,\n",
       "        <AxesSubplot:xlabel='weather_cloudy', ylabel='weather_dry'>],\n",
       "       [<AxesSubplot:xlabel='season', ylabel='weather_wet'>,\n",
       "        <AxesSubplot:xlabel='round', ylabel='weather_wet'>,\n",
       "        <AxesSubplot:xlabel='weather_warm', ylabel='weather_wet'>,\n",
       "        <AxesSubplot:xlabel='weather_cold', ylabel='weather_wet'>,\n",
       "        <AxesSubplot:xlabel='weather_dry', ylabel='weather_wet'>,\n",
       "        <AxesSubplot:xlabel='weather_wet', ylabel='weather_wet'>,\n",
       "        <AxesSubplot:xlabel='weather_cloudy', ylabel='weather_wet'>],\n",
       "       [<AxesSubplot:xlabel='season', ylabel='weather_cloudy'>,\n",
       "        <AxesSubplot:xlabel='round', ylabel='weather_cloudy'>,\n",
       "        <AxesSubplot:xlabel='weather_warm', ylabel='weather_cloudy'>,\n",
       "        <AxesSubplot:xlabel='weather_cold', ylabel='weather_cloudy'>,\n",
       "        <AxesSubplot:xlabel='weather_dry', ylabel='weather_cloudy'>,\n",
       "        <AxesSubplot:xlabel='weather_wet', ylabel='weather_cloudy'>,\n",
       "        <AxesSubplot:xlabel='weather_cloudy', ylabel='weather_cloudy'>]],\n",
       "      dtype=object)"
      ]
     },
     "execution_count": 26,
     "metadata": {},
     "output_type": "execute_result"
    },
    {
     "data": {
      "image/png": "[encoded data removed]",
      "text/plain": [
       "<Figure size 432x432 with 49 Axes>"
      ]
     },
     "metadata": {
      "needs_background": "light"
     },
     "output_type": "display_data"
    }
   ],
   "source": [
    "from pandas.plotting import scatter_matrix\n",
    "scatter_matrix(weather_info, alpha=0.2, figsize=(6, 6), diagonal='kde')"
   ]
  },
  {
   "cell_type": "code",
   "execution_count": 27,
   "metadata": {},
   "outputs": [],
   "source": [
    "end = time.time()"
   ]
  },
  {
   "cell_type": "code",
   "execution_count": 28,
   "metadata": {},
   "outputs": [
    {
     "data": {
      "text/plain": [
       "'0:00:05.598031'"
      ]
     },
     "execution_count": 28,
     "metadata": {},
     "output_type": "execute_result"
    }
   ],
   "source": [
    "import datetime\n",
    "str(datetime.timedelta(seconds=(end - start)))"
   ]
  },
  {
   "cell_type": "code",
   "execution_count": 29,
   "metadata": {},
   "outputs": [
    {
     "name": "stdout",
     "output_type": "stream",
     "text": [
      "5.5980308055877686 seconds\n"
     ]
    }
   ],
   "source": [
    "print(str(end - start)+\" seconds\")"
   ]
  }
 ],
 "metadata": {
  "kernelspec": {
   "display_name": "Python 3",
   "language": "python",
   "name": "python3"
  },
  "language_info": {
   "codemirror_mode": {
    "name": "ipython",
    "version": 3
   },
   "file_extension": ".py",
   "mimetype": "text/x-python",
   "name": "python",
   "nbconvert_exporter": "python",
   "pygments_lexer": "ipython3",
   "version": "3.6.8"
  },
  "varInspector": {
   "cols": {
    "lenName": 16,
    "lenType": 16,
    "lenVar": 40
   },
   "kernels_config": {
    "python": {
     "delete_cmd_postfix": "",
     "delete_cmd_prefix": "del ",
     "library": "var_list.py",
     "varRefreshCmd": "print(var_dic_list())"
    },
    "r": {
     "delete_cmd_postfix": ") ",
     "delete_cmd_prefix": "rm(",
     "library": "var_list.r",
     "varRefreshCmd": "cat(var_dic_list()) "
    }
   },
   "types_to_exclude": [
    "module",
    "function",
    "builtin_function_or_method",
    "instance",
    "_Feature"
   ],
   "window_display": false
  }
 },
 "nbformat": 4,
 "nbformat_minor": 4
}
