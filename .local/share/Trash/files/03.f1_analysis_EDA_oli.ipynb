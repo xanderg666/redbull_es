{
 "cells": [
  {
   "cell_type": "markdown",
   "metadata": {},
   "source": [
    "# Formula 1 Grand Prix Exploratory Data Analysis (EDA)"
   ]
  },
  {
   "cell_type": "markdown",
   "metadata": {},
   "source": [
    "## Exploratory based on the drivers, constructors or both \n",
    "### FIA Rules defined in the last 10 years\n",
    "\n",
    "Before begining the project we need to understand the history of F1 and the different eras in which a certain driver or tream dominated the whole grid. Here are some important eras of F1 in (relatively) recent history.  \n",
    "\n",
    "* 1994-2009 Schumacher (Scuderia Ferrari)\n",
    "* 2007-2010 Alonso (Renault,Scuderia Ferrari)\n",
    "* 2011-2013 Vettle (Redbull Racing)\n",
    "* 2014-Present Hamilton (Mercedes-Benz)\n",
    "\n",
    "An F1 team's performance is largely dependent on the FIA technical regulation for the season. After the 2013 season, new engine regulations were made (Hybrid era). Mercedes-Benz is the most dominant team since, followed by Red Bull Racing and Scuderia Ferrari. Rules are set to change for 2022, so whatever analysis is made here will not apply for 2022 season and after. Only data after 2010 will be considered in the following analysis."
   ]
  },
  {
   "cell_type": "code",
   "execution_count": 17,
   "metadata": {},
   "outputs": [],
   "source": [
    "import warnings\n",
    "warnings.filterwarnings(\"ignore\")"
   ]
  },
  {
   "cell_type": "code",
   "execution_count": 18,
   "metadata": {},
   "outputs": [],
   "source": [
    "import time\n",
    "start = time.time()"
   ]
  },
  {
   "cell_type": "code",
   "execution_count": 19,
   "metadata": {},
   "outputs": [],
   "source": [
    "import pandas as pd\n",
    "import numpy as np\n",
    "import matplotlib.pyplot as plt\n",
    "import seaborn as sns\n",
    "import pickle\n",
    "from sklearn.preprocessing import StandardScaler,LabelEncoder,OneHotEncoder\n",
    "from sklearn.model_selection import cross_val_score,StratifiedKFold,RandomizedSearchCV\n",
    "from sklearn.linear_model import LogisticRegression\n",
    "from sklearn.ensemble import RandomForestClassifier\n",
    "from sklearn.svm import SVC\n",
    "from sklearn.tree import DecisionTreeClassifier\n",
    "from sklearn.neighbors import KNeighborsClassifier\n",
    "from sklearn.naive_bayes import GaussianNB\n",
    "from sklearn.metrics import confusion_matrix,precision_score,f1_score,recall_score\n",
    "plt.style.use('seaborn')"
   ]
  },
  {
   "cell_type": "code",
   "execution_count": 20,
   "metadata": {},
   "outputs": [],
   "source": [
    "results = pd.read_csv(r'./data_f1/results.csv')\n",
    "races = pd.read_csv(r'./data_f1/races.csv')\n",
    "quali = pd.read_csv(r'./data_f1/qualifying.csv')\n",
    "drivers = pd.read_csv(r'./data_f1/drivers.csv')\n",
    "constructors = pd.read_csv(r'./data_f1/constructors.csv')\n",
    "circuit = pd.read_csv(r'./data_f1/circuits.csv')"
   ]
  },
  {
   "cell_type": "code",
   "execution_count": 21,
   "metadata": {},
   "outputs": [],
   "source": [
    "df1 = pd.merge(races,results,how='inner',on=['raceId'])\n",
    "df2 = pd.merge(df1,quali,how='inner',on=['raceId','driverId','constructorId'])\n",
    "df3 = pd.merge(df2,drivers,how='inner',on=['driverId'])\n",
    "df4 = pd.merge(df3,constructors,how='inner',on=['constructorId'])\n",
    "df5 = pd.merge(df4,circuit,how='inner',on=['circuitId'])"
   ]
  },
  {
   "cell_type": "code",
   "execution_count": 22,
   "metadata": {},
   "outputs": [
    {
     "data": {
      "text/html": [
       "<div>\n",
       "<style scoped>\n",
       "    .dataframe tbody tr th:only-of-type {\n",
       "        vertical-align: middle;\n",
       "    }\n",
       "\n",
       "    .dataframe tbody tr th {\n",
       "        vertical-align: top;\n",
       "    }\n",
       "\n",
       "    .dataframe thead th {\n",
       "        text-align: right;\n",
       "    }\n",
       "</style>\n",
       "<table border=\"1\" class=\"dataframe\">\n",
       "  <thead>\n",
       "    <tr style=\"text-align: right;\">\n",
       "      <th></th>\n",
       "      <th>raceId</th>\n",
       "      <th>year</th>\n",
       "      <th>round</th>\n",
       "      <th>circuitId</th>\n",
       "      <th>name_x</th>\n",
       "      <th>date</th>\n",
       "      <th>time_x</th>\n",
       "      <th>url_x</th>\n",
       "      <th>resultId</th>\n",
       "      <th>driverId</th>\n",
       "      <th>...</th>\n",
       "      <th>nationality_y</th>\n",
       "      <th>url_x</th>\n",
       "      <th>circuitRef</th>\n",
       "      <th>name</th>\n",
       "      <th>location</th>\n",
       "      <th>country</th>\n",
       "      <th>lat</th>\n",
       "      <th>lng</th>\n",
       "      <th>alt</th>\n",
       "      <th>url_y</th>\n",
       "    </tr>\n",
       "  </thead>\n",
       "  <tbody>\n",
       "    <tr>\n",
       "      <th>0</th>\n",
       "      <td>1</td>\n",
       "      <td>2009</td>\n",
       "      <td>1</td>\n",
       "      <td>1</td>\n",
       "      <td>Australian Grand Prix</td>\n",
       "      <td>2009-03-29</td>\n",
       "      <td>06:00:00</td>\n",
       "      <td>http://en.wikipedia.org/wiki/2009_Australian_G...</td>\n",
       "      <td>7554</td>\n",
       "      <td>18</td>\n",
       "      <td>...</td>\n",
       "      <td>British</td>\n",
       "      <td>http://en.wikipedia.org/wiki/Brawn_GP</td>\n",
       "      <td>albert_park</td>\n",
       "      <td>Albert Park Grand Prix Circuit</td>\n",
       "      <td>Melbourne</td>\n",
       "      <td>Australia</td>\n",
       "      <td>-37.8497</td>\n",
       "      <td>144.968</td>\n",
       "      <td>10</td>\n",
       "      <td>http://en.wikipedia.org/wiki/Melbourne_Grand_P...</td>\n",
       "    </tr>\n",
       "    <tr>\n",
       "      <th>1</th>\n",
       "      <td>1</td>\n",
       "      <td>2009</td>\n",
       "      <td>1</td>\n",
       "      <td>1</td>\n",
       "      <td>Australian Grand Prix</td>\n",
       "      <td>2009-03-29</td>\n",
       "      <td>06:00:00</td>\n",
       "      <td>http://en.wikipedia.org/wiki/2009_Australian_G...</td>\n",
       "      <td>7555</td>\n",
       "      <td>22</td>\n",
       "      <td>...</td>\n",
       "      <td>British</td>\n",
       "      <td>http://en.wikipedia.org/wiki/Brawn_GP</td>\n",
       "      <td>albert_park</td>\n",
       "      <td>Albert Park Grand Prix Circuit</td>\n",
       "      <td>Melbourne</td>\n",
       "      <td>Australia</td>\n",
       "      <td>-37.8497</td>\n",
       "      <td>144.968</td>\n",
       "      <td>10</td>\n",
       "      <td>http://en.wikipedia.org/wiki/Melbourne_Grand_P...</td>\n",
       "    </tr>\n",
       "    <tr>\n",
       "      <th>2</th>\n",
       "      <td>18</td>\n",
       "      <td>2008</td>\n",
       "      <td>1</td>\n",
       "      <td>1</td>\n",
       "      <td>Australian Grand Prix</td>\n",
       "      <td>2008-03-16</td>\n",
       "      <td>04:30:00</td>\n",
       "      <td>http://en.wikipedia.org/wiki/2008_Australian_G...</td>\n",
       "      <td>18</td>\n",
       "      <td>18</td>\n",
       "      <td>...</td>\n",
       "      <td>Japanese</td>\n",
       "      <td>http://en.wikipedia.org/wiki/Honda_Racing_F1</td>\n",
       "      <td>albert_park</td>\n",
       "      <td>Albert Park Grand Prix Circuit</td>\n",
       "      <td>Melbourne</td>\n",
       "      <td>Australia</td>\n",
       "      <td>-37.8497</td>\n",
       "      <td>144.968</td>\n",
       "      <td>10</td>\n",
       "      <td>http://en.wikipedia.org/wiki/Melbourne_Grand_P...</td>\n",
       "    </tr>\n",
       "    <tr>\n",
       "      <th>3</th>\n",
       "      <td>36</td>\n",
       "      <td>2007</td>\n",
       "      <td>1</td>\n",
       "      <td>1</td>\n",
       "      <td>Australian Grand Prix</td>\n",
       "      <td>2007-03-18</td>\n",
       "      <td>03:00:00</td>\n",
       "      <td>http://en.wikipedia.org/wiki/2007_Australian_G...</td>\n",
       "      <td>383</td>\n",
       "      <td>18</td>\n",
       "      <td>...</td>\n",
       "      <td>Japanese</td>\n",
       "      <td>http://en.wikipedia.org/wiki/Honda_Racing_F1</td>\n",
       "      <td>albert_park</td>\n",
       "      <td>Albert Park Grand Prix Circuit</td>\n",
       "      <td>Melbourne</td>\n",
       "      <td>Australia</td>\n",
       "      <td>-37.8497</td>\n",
       "      <td>144.968</td>\n",
       "      <td>10</td>\n",
       "      <td>http://en.wikipedia.org/wiki/Melbourne_Grand_P...</td>\n",
       "    </tr>\n",
       "    <tr>\n",
       "      <th>4</th>\n",
       "      <td>55</td>\n",
       "      <td>2006</td>\n",
       "      <td>3</td>\n",
       "      <td>1</td>\n",
       "      <td>Australian Grand Prix</td>\n",
       "      <td>2006-04-02</td>\n",
       "      <td>14:00:00</td>\n",
       "      <td>http://en.wikipedia.org/wiki/2006_Australian_G...</td>\n",
       "      <td>796</td>\n",
       "      <td>18</td>\n",
       "      <td>...</td>\n",
       "      <td>Japanese</td>\n",
       "      <td>http://en.wikipedia.org/wiki/Honda_Racing_F1</td>\n",
       "      <td>albert_park</td>\n",
       "      <td>Albert Park Grand Prix Circuit</td>\n",
       "      <td>Melbourne</td>\n",
       "      <td>Australia</td>\n",
       "      <td>-37.8497</td>\n",
       "      <td>144.968</td>\n",
       "      <td>10</td>\n",
       "      <td>http://en.wikipedia.org/wiki/Melbourne_Grand_P...</td>\n",
       "    </tr>\n",
       "  </tbody>\n",
       "</table>\n",
       "<p>5 rows × 51 columns</p>\n",
       "</div>"
      ],
      "text/plain": [
       "   raceId  year  round  circuitId                 name_x        date  \\\n",
       "0       1  2009      1          1  Australian Grand Prix  2009-03-29   \n",
       "1       1  2009      1          1  Australian Grand Prix  2009-03-29   \n",
       "2      18  2008      1          1  Australian Grand Prix  2008-03-16   \n",
       "3      36  2007      1          1  Australian Grand Prix  2007-03-18   \n",
       "4      55  2006      3          1  Australian Grand Prix  2006-04-02   \n",
       "\n",
       "     time_x                                              url_x  resultId  \\\n",
       "0  06:00:00  http://en.wikipedia.org/wiki/2009_Australian_G...      7554   \n",
       "1  06:00:00  http://en.wikipedia.org/wiki/2009_Australian_G...      7555   \n",
       "2  04:30:00  http://en.wikipedia.org/wiki/2008_Australian_G...        18   \n",
       "3  03:00:00  http://en.wikipedia.org/wiki/2007_Australian_G...       383   \n",
       "4  14:00:00  http://en.wikipedia.org/wiki/2006_Australian_G...       796   \n",
       "\n",
       "   driverId  ...  nationality_y                                         url_x  \\\n",
       "0        18  ...        British         http://en.wikipedia.org/wiki/Brawn_GP   \n",
       "1        22  ...        British         http://en.wikipedia.org/wiki/Brawn_GP   \n",
       "2        18  ...       Japanese  http://en.wikipedia.org/wiki/Honda_Racing_F1   \n",
       "3        18  ...       Japanese  http://en.wikipedia.org/wiki/Honda_Racing_F1   \n",
       "4        18  ...       Japanese  http://en.wikipedia.org/wiki/Honda_Racing_F1   \n",
       "\n",
       "    circuitRef                            name   location    country      lat  \\\n",
       "0  albert_park  Albert Park Grand Prix Circuit  Melbourne  Australia -37.8497   \n",
       "1  albert_park  Albert Park Grand Prix Circuit  Melbourne  Australia -37.8497   \n",
       "2  albert_park  Albert Park Grand Prix Circuit  Melbourne  Australia -37.8497   \n",
       "3  albert_park  Albert Park Grand Prix Circuit  Melbourne  Australia -37.8497   \n",
       "4  albert_park  Albert Park Grand Prix Circuit  Melbourne  Australia -37.8497   \n",
       "\n",
       "       lng alt                                              url_y  \n",
       "0  144.968  10  http://en.wikipedia.org/wiki/Melbourne_Grand_P...  \n",
       "1  144.968  10  http://en.wikipedia.org/wiki/Melbourne_Grand_P...  \n",
       "2  144.968  10  http://en.wikipedia.org/wiki/Melbourne_Grand_P...  \n",
       "3  144.968  10  http://en.wikipedia.org/wiki/Melbourne_Grand_P...  \n",
       "4  144.968  10  http://en.wikipedia.org/wiki/Melbourne_Grand_P...  \n",
       "\n",
       "[5 rows x 51 columns]"
      ]
     },
     "execution_count": 22,
     "metadata": {},
     "output_type": "execute_result"
    }
   ],
   "source": [
    "df5.head()"
   ]
  },
  {
   "cell_type": "code",
   "execution_count": 23,
   "metadata": {},
   "outputs": [
    {
     "data": {
      "text/plain": [
       "['raceId',\n",
       " 'year',\n",
       " 'round',\n",
       " 'circuitId',\n",
       " 'name_x',\n",
       " 'date',\n",
       " 'time_x',\n",
       " 'url_x',\n",
       " 'resultId',\n",
       " 'driverId',\n",
       " 'constructorId',\n",
       " 'number_x',\n",
       " 'grid',\n",
       " 'position_x',\n",
       " 'positionText',\n",
       " 'positionOrder',\n",
       " 'points',\n",
       " 'laps',\n",
       " 'time_y',\n",
       " 'milliseconds',\n",
       " 'fastestLap',\n",
       " 'rank',\n",
       " 'fastestLapTime',\n",
       " 'fastestLapSpeed',\n",
       " 'statusId',\n",
       " 'qualifyId',\n",
       " 'number_y',\n",
       " 'position_y',\n",
       " 'q1',\n",
       " 'q2',\n",
       " 'q3',\n",
       " 'driverRef',\n",
       " 'number',\n",
       " 'code',\n",
       " 'forename',\n",
       " 'surname',\n",
       " 'dob',\n",
       " 'nationality_x',\n",
       " 'url_y',\n",
       " 'constructorRef',\n",
       " 'name_y',\n",
       " 'nationality_y',\n",
       " 'url_x',\n",
       " 'circuitRef',\n",
       " 'name',\n",
       " 'location',\n",
       " 'country',\n",
       " 'lat',\n",
       " 'lng',\n",
       " 'alt',\n",
       " 'url_y']"
      ]
     },
     "execution_count": 23,
     "metadata": {},
     "output_type": "execute_result"
    }
   ],
   "source": [
    "list(df5.columns)"
   ]
  },
  {
   "cell_type": "code",
   "execution_count": 24,
   "metadata": {},
   "outputs": [],
   "source": [
    "data2021 = df5[df5['year']==2021]"
   ]
  },
  {
   "cell_type": "code",
   "execution_count": 25,
   "metadata": {},
   "outputs": [
    {
     "name": "stdout",
     "output_type": "stream",
     "text": [
      "      raceId  year  round  circuitId                 name_x        date  \\\n",
      "1224    1052  2021      1          3     Bahrain Grand Prix  2021-03-28   \n",
      "1227    1052  2021      1          3     Bahrain Grand Prix  2021-03-28   \n",
      "1252    1052  2021      1          3     Bahrain Grand Prix  2021-03-28   \n",
      "1263    1052  2021      1          3     Bahrain Grand Prix  2021-03-28   \n",
      "1295    1052  2021      1          3     Bahrain Grand Prix  2021-03-28   \n",
      "...      ...   ...    ...        ...                    ...         ...   \n",
      "8624    1054  2021      3         75  Portuguese Grand Prix  2021-05-02   \n",
      "8627    1054  2021      3         75  Portuguese Grand Prix  2021-05-02   \n",
      "8628    1054  2021      3         75  Portuguese Grand Prix  2021-05-02   \n",
      "8633    1054  2021      3         75  Portuguese Grand Prix  2021-05-02   \n",
      "8634    1054  2021      3         75  Portuguese Grand Prix  2021-05-02   \n",
      "\n",
      "        time_x                                              url_x  resultId  \\\n",
      "1224  15:00:00  https://en.wikipedia.org/wiki/2021_Bahrain_Gra...     24979   \n",
      "1227  15:00:00  https://en.wikipedia.org/wiki/2021_Bahrain_Gra...     24983   \n",
      "1252  15:00:00  https://en.wikipedia.org/wiki/2021_Bahrain_Gra...     24972   \n",
      "1263  15:00:00  https://en.wikipedia.org/wiki/2021_Bahrain_Gra...     24969   \n",
      "1295  15:00:00  https://en.wikipedia.org/wiki/2021_Bahrain_Gra...     24973   \n",
      "...        ...                                                ...       ...   \n",
      "8624  14:00:00  http://en.wikipedia.org/wiki/2021_Portuguese_G...     25017   \n",
      "8627  14:00:00  http://en.wikipedia.org/wiki/2021_Portuguese_G...     25022   \n",
      "8628  14:00:00  http://en.wikipedia.org/wiki/2021_Portuguese_G...     25024   \n",
      "8633  14:00:00  http://en.wikipedia.org/wiki/2021_Portuguese_G...     25015   \n",
      "8634  14:00:00  http://en.wikipedia.org/wiki/2021_Portuguese_G...     25020   \n",
      "\n",
      "      driverId  ...  nationality_y  \\\n",
      "1224       847  ...        British   \n",
      "1227       849  ...        British   \n",
      "1252       817  ...        British   \n",
      "1263       846  ...        British   \n",
      "1295       832  ...        Italian   \n",
      "...        ...  ...            ...   \n",
      "8624       841  ...          Swiss   \n",
      "8627       854  ...       American   \n",
      "8628       853  ...       American   \n",
      "8633       842  ...        Italian   \n",
      "8634       852  ...        Italian   \n",
      "\n",
      "                                                  url_x  circuitRef  \\\n",
      "1224  http://en.wikipedia.org/wiki/Williams_Grand_Pr...     bahrain   \n",
      "1227  http://en.wikipedia.org/wiki/Williams_Grand_Pr...     bahrain   \n",
      "1252               http://en.wikipedia.org/wiki/McLaren     bahrain   \n",
      "1263               http://en.wikipedia.org/wiki/McLaren     bahrain   \n",
      "1295      http://en.wikipedia.org/wiki/Scuderia_Ferrari     bahrain   \n",
      "...                                                 ...         ...   \n",
      "8624  http://en.wikipedia.org/wiki/Alfa_Romeo_in_For...    portimao   \n",
      "8627          http://en.wikipedia.org/wiki/Haas_F1_Team    portimao   \n",
      "8628          http://en.wikipedia.org/wiki/Haas_F1_Team    portimao   \n",
      "8633   http://en.wikipedia.org/wiki/Scuderia_AlphaTauri    portimao   \n",
      "8634   http://en.wikipedia.org/wiki/Scuderia_AlphaTauri    portimao   \n",
      "\n",
      "                                    name  location   country      lat  \\\n",
      "1224       Bahrain International Circuit    Sakhir   Bahrain  26.0325   \n",
      "1227       Bahrain International Circuit    Sakhir   Bahrain  26.0325   \n",
      "1252       Bahrain International Circuit    Sakhir   Bahrain  26.0325   \n",
      "1263       Bahrain International Circuit    Sakhir   Bahrain  26.0325   \n",
      "1295       Bahrain International Circuit    Sakhir   Bahrain  26.0325   \n",
      "...                                  ...       ...       ...      ...   \n",
      "8624  Autódromo Internacional do Algarve  Portimão  Portugal  37.2270   \n",
      "8627  Autódromo Internacional do Algarve  Portimão  Portugal  37.2270   \n",
      "8628  Autódromo Internacional do Algarve  Portimão  Portugal  37.2270   \n",
      "8633  Autódromo Internacional do Algarve  Portimão  Portugal  37.2270   \n",
      "8634  Autódromo Internacional do Algarve  Portimão  Portugal  37.2270   \n",
      "\n",
      "          lng  alt                                              url_y  \n",
      "1224  50.5106    7  http://en.wikipedia.org/wiki/Bahrain_Internati...  \n",
      "1227  50.5106    7  http://en.wikipedia.org/wiki/Bahrain_Internati...  \n",
      "1252  50.5106    7  http://en.wikipedia.org/wiki/Bahrain_Internati...  \n",
      "1263  50.5106    7  http://en.wikipedia.org/wiki/Bahrain_Internati...  \n",
      "1295  50.5106    7  http://en.wikipedia.org/wiki/Bahrain_Internati...  \n",
      "...       ...  ...                                                ...  \n",
      "8624  -8.6267  108  http://en.wikipedia.org/wiki/Algarve_Internati...  \n",
      "8627  -8.6267  108  http://en.wikipedia.org/wiki/Algarve_Internati...  \n",
      "8628  -8.6267  108  http://en.wikipedia.org/wiki/Algarve_Internati...  \n",
      "8633  -8.6267  108  http://en.wikipedia.org/wiki/Algarve_Internati...  \n",
      "8634  -8.6267  108  http://en.wikipedia.org/wiki/Algarve_Internati...  \n",
      "\n",
      "[219 rows x 51 columns]\n"
     ]
    }
   ],
   "source": [
    "print(data2021)"
   ]
  },
  {
   "cell_type": "code",
   "execution_count": 26,
   "metadata": {},
   "outputs": [
    {
     "data": {
      "text/plain": [
       "['resultId',\n",
       " 'raceId',\n",
       " 'driverId',\n",
       " 'constructorId',\n",
       " 'number',\n",
       " 'grid',\n",
       " 'position',\n",
       " 'positionText',\n",
       " 'positionOrder',\n",
       " 'points',\n",
       " 'laps',\n",
       " 'time',\n",
       " 'milliseconds',\n",
       " 'fastestLap',\n",
       " 'rank',\n",
       " 'fastestLapTime',\n",
       " 'fastestLapSpeed',\n",
       " 'statusId']"
      ]
     },
     "execution_count": 26,
     "metadata": {},
     "output_type": "execute_result"
    }
   ],
   "source": [
    "list(results.columns)"
   ]
  },
  {
   "cell_type": "code",
   "execution_count": 27,
   "metadata": {},
   "outputs": [
    {
     "name": "stdout",
     "output_type": "stream",
     "text": [
      "[2009 2008 2007 2006 2005 2004 2003 2000 1999 2011 2010 2017 2018 2019\n",
      " 2016 1998 1997 1996 2014 2015 2012 2013 2002 2020 2021 1995 1994 2001]\n"
     ]
    }
   ],
   "source": [
    "#for col in results:\n",
    "#    print(results[col].unique())\n",
    "print(df5['year'].unique())"
   ]
  },
  {
   "cell_type": "code",
   "execution_count": 48,
   "metadata": {},
   "outputs": [],
   "source": [
    "oo = df5['year'].unique()"
   ]
  },
  {
   "cell_type": "code",
   "execution_count": 52,
   "metadata": {},
   "outputs": [
    {
     "name": "stdout",
     "output_type": "stream",
     "text": [
      "Array is of type:  <class 'numpy.ndarray'>\n",
      "No. of dimensions:  1\n",
      "Shape of array:  (28,)\n",
      "Size of array:  28\n",
      "Array stores elements of type:  int64\n"
     ]
    }
   ],
   "source": [
    "# Printing type of arr object\n",
    "print(\"Array is of type: \", type(oo))\n",
    "\n",
    "# Printing array dimensions (axes)\n",
    "print(\"No. of dimensions: \", oo.ndim)\n",
    " \n",
    "# Printing shape of array\n",
    "print(\"Shape of array: \", oo.shape)\n",
    " \n",
    "# Printing size (total number of elements) of array\n",
    "print(\"Size of array: \", oo.size)\n",
    " \n",
    "# Printing type of elements in array\n",
    "print(\"Array stores elements of type: \", oo.dtype)"
   ]
  },
  {
   "cell_type": "code",
   "execution_count": 56,
   "metadata": {},
   "outputs": [
    {
     "name": "stdout",
     "output_type": "stream",
     "text": [
      "<class 'list'>\n"
     ]
    }
   ],
   "source": [
    "ol = df5['year'].unique().tolist()\n",
    "print(type(ol))"
   ]
  },
  {
   "cell_type": "code",
   "execution_count": 59,
   "metadata": {},
   "outputs": [
    {
     "name": "stdout",
     "output_type": "stream",
     "text": [
      "2009\n",
      "2008\n",
      "2007\n",
      "2006\n",
      "2005\n",
      "2004\n",
      "2003\n",
      "2000\n",
      "1999\n",
      "2011\n",
      "2010\n",
      "2017\n",
      "2018\n",
      "2019\n",
      "2016\n",
      "1998\n",
      "1997\n",
      "1996\n",
      "2014\n",
      "2015\n",
      "2012\n",
      "2013\n",
      "2002\n",
      "2020\n",
      "2021\n",
      "1995\n",
      "1994\n",
      "2001\n"
     ]
    }
   ],
   "source": [
    "for i in ol:\n",
    "        print (i)"
   ]
  },
  {
   "cell_type": "code",
   "execution_count": 60,
   "metadata": {},
   "outputs": [],
   "source": [
    "data2021.to_csv('./data_f1/data_filtered_2021.csv', index = False)"
   ]
  },
  {
   "cell_type": "code",
   "execution_count": 61,
   "metadata": {},
   "outputs": [],
   "source": [
    "#reasons for DNF(did not finish)\n",
    "data2021['driver_dnf'] = data2021['statusId'].apply(lambda x: 1 if x in [3,4,20,29,31,41,68,73,81,97,82,104,107,130,137] else 0)\n",
    "data2021['constructor_dnf'] = data2021['statusId'].apply(lambda x: 1 if x not in [3,4,20,29,31,41,68,73,81,97,82,104,107,130,137,1] else 0)"
   ]
  },
  {
   "cell_type": "code",
   "execution_count": 64,
   "metadata": {},
   "outputs": [
    {
     "data": {
      "text/plain": [
       "['raceId',\n",
       " 'year',\n",
       " 'round',\n",
       " 'circuitId',\n",
       " 'name_x',\n",
       " 'date',\n",
       " 'time_x',\n",
       " 'url_x',\n",
       " 'resultId',\n",
       " 'driverId',\n",
       " 'constructorId',\n",
       " 'number_x',\n",
       " 'grid',\n",
       " 'position_x',\n",
       " 'positionText',\n",
       " 'positionOrder',\n",
       " 'points',\n",
       " 'laps',\n",
       " 'time_y',\n",
       " 'milliseconds',\n",
       " 'fastestLap',\n",
       " 'rank',\n",
       " 'fastestLapTime',\n",
       " 'fastestLapSpeed',\n",
       " 'statusId',\n",
       " 'qualifyId',\n",
       " 'number_y',\n",
       " 'position_y',\n",
       " 'q1',\n",
       " 'q2',\n",
       " 'q3',\n",
       " 'driverRef',\n",
       " 'number',\n",
       " 'code',\n",
       " 'forename',\n",
       " 'surname',\n",
       " 'dob',\n",
       " 'nationality_x',\n",
       " 'url_y',\n",
       " 'constructorRef',\n",
       " 'name_y',\n",
       " 'nationality_y',\n",
       " 'url_x',\n",
       " 'circuitRef',\n",
       " 'name',\n",
       " 'location',\n",
       " 'country',\n",
       " 'lat',\n",
       " 'lng',\n",
       " 'alt',\n",
       " 'url_y',\n",
       " 'driver_dnf',\n",
       " 'constructor_dnf']"
      ]
     },
     "execution_count": 64,
     "metadata": {},
     "output_type": "execute_result"
    }
   ],
   "source": [
    "list(data2021.columns)"
   ]
  },
  {
   "cell_type": "code",
   "execution_count": 65,
   "metadata": {},
   "outputs": [],
   "source": [
    "font = {\n",
    "    'family':'serif',\n",
    "    'color':'black',\n",
    "    'weight':'bold',\n",
    "    'size':10\n",
    "}"
   ]
  },
  {
   "cell_type": "code",
   "execution_count": 72,
   "metadata": {},
   "outputs": [],
   "source": [
    "#rename the columns\n",
    "data2021.rename(columns={'name':'GP_name','position_y':'position','grid':'quali_pos','name_y':'constructor','nationality_x':'driver_nationality','nationality_y':'constructor_nationality'},inplace=True)\n",
    "data2021['driver'] = data2021['forename']+' '+data2021['surname']\n",
    "data2021['date'] = pd.to_datetime(data2021['date'])\n",
    "data2021['dob'] = pd.to_datetime(data2021['dob'])"
   ]
  },
  {
   "cell_type": "code",
   "execution_count": 68,
   "metadata": {},
   "outputs": [
    {
     "data": {
      "image/png": "[encoded data removed]",
      "text/plain": [
       "<Figure size 2160x720 with 1 Axes>"
      ]
     },
     "metadata": {},
     "output_type": "display_data"
    }
   ],
   "source": [
    "dnf_by_driver = data2021.groupby('driver').sum()['driver_dnf']\n",
    "driver_race_entered = data2021.groupby('driver').count()['driver_dnf']\n",
    "driver_dnf_ratio = (dnf_by_driver*100/driver_race_entered).sort_values(ascending=False)\n",
    "plt.figure(figsize=(30,10))\n",
    "bars = plt.bar(x=driver_dnf_ratio.index,height=driver_dnf_ratio,align='center',width=0.5)\n",
    "plt.xticks(rotation=90)\n",
    "plt.xlabel('Drivers')\n",
    "plt.ylabel('Driver DNF ratio')\n",
    "plt.title('DNFs ratio due to Driver error')\n",
    "for bar in bars.patches:\n",
    "    yval = bar.get_height()\n",
    "    plt.text(bar.get_x()-0.1,yval+0.15,f'{round(yval,1)}',fontdict=font)\n",
    "plt.show()"
   ]
  },
  {
   "cell_type": "code",
   "execution_count": 130,
   "metadata": {},
   "outputs": [],
   "source": [
    "#Some of the constructors changed their name over the year so replacing old names with current name\n",
    "data2021['constructor'] = data2021['constructor'].apply(lambda x: 'Aston Martin' if x=='Force India' else x)\n",
    "data2021['constructor'] = data2021['constructor'].apply(lambda x: 'Aston Martin' if x=='Racing Point' else x)\n",
    "data2021['constructor'] = data2021['constructor'].apply(lambda x: 'Alfa Romeo' if x=='Sauber' else x)\n",
    "data2021['constructor'] = data2021['constructor'].apply(lambda x: 'Alpine F1' if x=='Lotus F1' else x)\n",
    "data2021['constructor'] = data2021['constructor'].apply(lambda x: 'Alpine F1' if x=='Renault' else x)\n",
    "data2021['constructor'] = data2021['constructor'].apply(lambda x: 'Alpine F1' if x=='Alpine F1 Team' else x)\n",
    "data2021['constructor'] = data2021['constructor'].apply(lambda x: 'AlphaTauri' if x=='Toro Rosso' else x)"
   ]
  },
  {
   "cell_type": "code",
   "execution_count": 131,
   "metadata": {},
   "outputs": [
    {
     "data": {
      "image/png": "[encoded data removed]",
      "text/plain": [
       "<Figure size 2160x720 with 1 Axes>"
      ]
     },
     "metadata": {},
     "output_type": "display_data"
    }
   ],
   "source": [
    "dnf_by_constructor = data2021.groupby('constructor').sum()['constructor_dnf']\n",
    "constructor_race_entered = data2021.groupby('constructor').count()['constructor_dnf']\n",
    "constructor_dnf_ratio = (dnf_by_constructor*100/constructor_race_entered).sort_values(ascending=False)\n",
    "plt.figure(figsize=(30,10))\n",
    "bars = plt.bar(x=constructor_dnf_ratio.index,height=constructor_dnf_ratio,align='center',width=0.8)\n",
    "plt.xticks(rotation=90)\n",
    "plt.xlabel('F1 Teams')\n",
    "plt.ylabel('F1 Temas DNF ratio')\n",
    "plt.title('DNFs ratio due to F1 Team error')\n",
    "for bar in bars.patches:\n",
    "    yval = bar.get_height()\n",
    "    plt.text(bar.get_x()+0.21,yval+1,f'{round(yval,2)}',fontdict=font)\n",
    "plt.show()"
   ]
  },
  {
   "cell_type": "markdown",
   "metadata": {},
   "source": [
    "## Check Points"
   ]
  },
  {
   "cell_type": "code",
   "execution_count": 132,
   "metadata": {},
   "outputs": [],
   "source": [
    "data2021['driver_nationality'] = data2021['driver_nationality'].apply(lambda x: str(x)[:3])\n",
    "data2021['constructor_nationality'] = data2021['constructor_nationality'].apply(lambda x: str(x)[:3])\n",
    "data2021['country'] = data2021['country'].apply(lambda x: 'Bri' if x=='UK' else x)\n",
    "data2021['country'] = data2021['country'].apply(lambda x: 'Ame' if x=='USA' else x)\n",
    "data2021['country'] = data2021['country'].apply(lambda x: 'Fre' if x=='Fra' else x)\n",
    "data2021['country'] = data2021['country'].apply(lambda x: str(x)[:3])\n",
    "data2021['driver_home'] = data2021['driver_nationality'] == data2021['country']\n",
    "data2021['constructor_home'] = data2021['constructor_nationality'] == data2021['country']\n",
    "data2021['driver_home'] = data2021['driver_home'].apply(lambda x: int(x))\n",
    "data2021['constructor_home'] = data2021['constructor_home'].apply(lambda x: int(x))"
   ]
  },
  {
   "cell_type": "code",
   "execution_count": 133,
   "metadata": {},
   "outputs": [
    {
     "data": {
      "image/png": "[encoded data removed]",
      "text/plain": [
       "<Figure size 2160x720 with 1 Axes>"
      ]
     },
     "metadata": {},
     "output_type": "display_data"
    }
   ],
   "source": [
    "driver_home_points_finish = data2021.loc[(data2021['position']<11)&(data2021['driver_home']==1)].groupby('driver').count()['position']\n",
    "total_home_races = data2021[data2021['driver_home']==1].groupby('driver').sum()['driver_home']\n",
    "driver_home_point_finish_ratio = (driver_home_points_finish*100/total_home_races).sort_values(ascending=False).fillna(0)\n",
    "plt.figure(figsize=(30,10))\n",
    "bars = plt.bar(x=driver_home_point_finish_ratio.index,height=driver_home_point_finish_ratio,align='center',width=0.8)\n",
    "plt.xticks(rotation=90)\n",
    "plt.xlabel('Drivers')\n",
    "plt.ylabel('percentage')\n",
    "plt.title('Drivers points finish percentage at home race')\n",
    "for bar in bars.patches:\n",
    "    yval = bar.get_height()\n",
    "    plt.text(bar.get_x(),yval+1,f'{round(yval,2)}',fontdict=font)\n",
    "plt.show()"
   ]
  },
  {
   "cell_type": "code",
   "execution_count": 134,
   "metadata": {},
   "outputs": [
    {
     "data": {
      "image/png": "[encoded data removed]",
      "text/plain": [
       "<Figure size 2160x720 with 1 Axes>"
      ]
     },
     "metadata": {},
     "output_type": "display_data"
    }
   ],
   "source": [
    "constructor_home_points_finish = data2021.loc[(data2021['position']<11)&(data2021['constructor_home']==1)].groupby('constructor').count()['position']\n",
    "total_home_races = data2021[data2021['constructor_home']==1].groupby('constructor').sum()['constructor_home']\n",
    "constructor_home_point_finish_ratio = (constructor_home_points_finish*100/total_home_races).sort_values(ascending=False).fillna(0)\n",
    "plt.figure(figsize=(30,10))\n",
    "bars = plt.bar(x=constructor_home_point_finish_ratio.index,height=constructor_home_point_finish_ratio,align='center',width=0.8)\n",
    "plt.xticks(rotation=90)\n",
    "plt.xlabel('F1 Teams')\n",
    "plt.ylabel('percentage')\n",
    "plt.title('F1 Teams points finish percentage at home race')\n",
    "for bar in bars.patches:\n",
    "    yval = bar.get_height()\n",
    "    plt.text(bar.get_x()+0.2,yval+1,f'{round(yval,2)}',fontdict=font)\n",
    "plt.show()"
   ]
  },
  {
   "cell_type": "code",
   "execution_count": 135,
   "metadata": {},
   "outputs": [
    {
     "name": "stdout",
     "output_type": "stream",
     "text": [
      "['Bahrain International Circuit', 'Autodromo Enzo e Dino Ferrari', 'Autódromo Internacional do Algarve', 'Circuit de Barcelona-Catalunya', 'Circuit de Monaco', 'Baku City Circuit', 'Circuit Paul Ricard', 'Red Bull Ring', 'Silverstone Circuit', 'Hungaroring']\n"
     ]
    }
   ],
   "source": [
    "data2021=data2021.sort_values(by='date')\n",
    "races = data2021['GP_name'].unique().tolist()\n",
    "print(races)"
   ]
  },
  {
   "cell_type": "code",
   "execution_count": 136,
   "metadata": {},
   "outputs": [
    {
     "name": "stdout",
     "output_type": "stream",
     "text": [
      "['George Russell', 'Valtteri Bottas', 'Nicholas Latifi', 'Daniel Ricciardo', 'Lando Norris', 'Carlos Sainz', 'Fernando Alonso', 'Esteban Ocon', 'Lewis Hamilton', 'Yuki Tsunoda', 'Charles Leclerc', 'Max Verstappen', 'Sebastian Vettel', 'Lance Stroll', 'Kimi Räikkönen', 'Antonio Giovinazzi', 'Mick Schumacher', 'Nikita Mazepin', 'Pierre Gasly', 'Sergio Pérez']\n"
     ]
    }
   ],
   "source": [
    "drivers = data2021['driver'].unique().tolist()\n",
    "print(drivers)"
   ]
  },
  {
   "cell_type": "code",
   "execution_count": 137,
   "metadata": {},
   "outputs": [
    {
     "name": "stdout",
     "output_type": "stream",
     "text": [
      "['Williams', 'Mercedes', 'McLaren', 'Ferrari', 'Alpine F1', 'AlphaTauri', 'Red Bull', 'Aston Martin', 'Alfa Romeo', 'Haas F1 Team']\n"
     ]
    }
   ],
   "source": [
    "constructors = data2021['constructor'].unique().tolist()\n",
    "print(constructors)"
   ]
  },
  {
   "cell_type": "code",
   "execution_count": 138,
   "metadata": {},
   "outputs": [],
   "source": [
    "results = {'race': [],\n",
    "          'driver':[],\n",
    "          'constructor':[],\n",
    "          'points':[]}\n",
    "for race in races:\n",
    "    for driver in drivers:\n",
    "        clst = data2021.loc[(data2021['GP_name']==race)&(data2021['driver']==driver)]['constructor'].unique().tolist()\n",
    "        plst = data2021.loc[(data2021['GP_name']==race)&(data2021['driver']==driver)]['points'].unique().tolist()\n",
    "        for c in clst:\n",
    "            for p in plst:\n",
    "                results['race'].append(race)\n",
    "                results['driver'].append(driver)\n",
    "                results['constructor'].append(c)\n",
    "                results['points'].append(p)\n"
   ]
  },
  {
   "cell_type": "code",
   "execution_count": 139,
   "metadata": {},
   "outputs": [
    {
     "name": "stdout",
     "output_type": "stream",
     "text": [
      "1528    AlphaTauri\n",
      "Name: constructor, dtype: object\n",
      "<class 'pandas.core.series.Series'>\n"
     ]
    }
   ],
   "source": [
    "oc = data2021.loc[(data2021['GP_name']=='Bahrain International Circuit')&(data2021['driver']=='Pierre Gasly')]['constructor']\n",
    "print (oc)\n",
    "print(type(oc))"
   ]
  },
  {
   "cell_type": "code",
   "execution_count": 140,
   "metadata": {},
   "outputs": [
    {
     "name": "stdout",
     "output_type": "stream",
     "text": [
      "{'race': ['Bahrain International Circuit', 'Bahrain International Circuit', 'Bahrain International Circuit', 'Bahrain International Circuit', 'Bahrain International Circuit', 'Bahrain International Circuit', 'Bahrain International Circuit', 'Bahrain International Circuit', 'Bahrain International Circuit', 'Bahrain International Circuit', 'Bahrain International Circuit', 'Bahrain International Circuit', 'Bahrain International Circuit', 'Bahrain International Circuit', 'Bahrain International Circuit', 'Bahrain International Circuit', 'Bahrain International Circuit', 'Bahrain International Circuit', 'Bahrain International Circuit', 'Bahrain International Circuit', 'Autodromo Enzo e Dino Ferrari', 'Autodromo Enzo e Dino Ferrari', 'Autodromo Enzo e Dino Ferrari', 'Autodromo Enzo e Dino Ferrari', 'Autodromo Enzo e Dino Ferrari', 'Autodromo Enzo e Dino Ferrari', 'Autodromo Enzo e Dino Ferrari', 'Autodromo Enzo e Dino Ferrari', 'Autodromo Enzo e Dino Ferrari', 'Autodromo Enzo e Dino Ferrari', 'Autodromo Enzo e Dino Ferrari', 'Autodromo Enzo e Dino Ferrari', 'Autodromo Enzo e Dino Ferrari', 'Autodromo Enzo e Dino Ferrari', 'Autodromo Enzo e Dino Ferrari', 'Autodromo Enzo e Dino Ferrari', 'Autodromo Enzo e Dino Ferrari', 'Autodromo Enzo e Dino Ferrari', 'Autodromo Enzo e Dino Ferrari', 'Autodromo Enzo e Dino Ferrari', 'Autódromo Internacional do Algarve', 'Autódromo Internacional do Algarve', 'Autódromo Internacional do Algarve', 'Autódromo Internacional do Algarve', 'Autódromo Internacional do Algarve', 'Autódromo Internacional do Algarve', 'Autódromo Internacional do Algarve', 'Autódromo Internacional do Algarve', 'Autódromo Internacional do Algarve', 'Autódromo Internacional do Algarve', 'Autódromo Internacional do Algarve', 'Autódromo Internacional do Algarve', 'Autódromo Internacional do Algarve', 'Autódromo Internacional do Algarve', 'Autódromo Internacional do Algarve', 'Autódromo Internacional do Algarve', 'Autódromo Internacional do Algarve', 'Autódromo Internacional do Algarve', 'Autódromo Internacional do Algarve', 'Autódromo Internacional do Algarve', 'Circuit de Barcelona-Catalunya', 'Circuit de Barcelona-Catalunya', 'Circuit de Barcelona-Catalunya', 'Circuit de Barcelona-Catalunya', 'Circuit de Barcelona-Catalunya', 'Circuit de Barcelona-Catalunya', 'Circuit de Barcelona-Catalunya', 'Circuit de Barcelona-Catalunya', 'Circuit de Barcelona-Catalunya', 'Circuit de Barcelona-Catalunya', 'Circuit de Barcelona-Catalunya', 'Circuit de Barcelona-Catalunya', 'Circuit de Barcelona-Catalunya', 'Circuit de Barcelona-Catalunya', 'Circuit de Barcelona-Catalunya', 'Circuit de Barcelona-Catalunya', 'Circuit de Barcelona-Catalunya', 'Circuit de Barcelona-Catalunya', 'Circuit de Barcelona-Catalunya', 'Circuit de Barcelona-Catalunya', 'Circuit de Monaco', 'Circuit de Monaco', 'Circuit de Monaco', 'Circuit de Monaco', 'Circuit de Monaco', 'Circuit de Monaco', 'Circuit de Monaco', 'Circuit de Monaco', 'Circuit de Monaco', 'Circuit de Monaco', 'Circuit de Monaco', 'Circuit de Monaco', 'Circuit de Monaco', 'Circuit de Monaco', 'Circuit de Monaco', 'Circuit de Monaco', 'Circuit de Monaco', 'Circuit de Monaco', 'Circuit de Monaco', 'Baku City Circuit', 'Baku City Circuit', 'Baku City Circuit', 'Baku City Circuit', 'Baku City Circuit', 'Baku City Circuit', 'Baku City Circuit', 'Baku City Circuit', 'Baku City Circuit', 'Baku City Circuit', 'Baku City Circuit', 'Baku City Circuit', 'Baku City Circuit', 'Baku City Circuit', 'Baku City Circuit', 'Baku City Circuit', 'Baku City Circuit', 'Baku City Circuit', 'Baku City Circuit', 'Baku City Circuit', 'Circuit Paul Ricard', 'Circuit Paul Ricard', 'Circuit Paul Ricard', 'Circuit Paul Ricard', 'Circuit Paul Ricard', 'Circuit Paul Ricard', 'Circuit Paul Ricard', 'Circuit Paul Ricard', 'Circuit Paul Ricard', 'Circuit Paul Ricard', 'Circuit Paul Ricard', 'Circuit Paul Ricard', 'Circuit Paul Ricard', 'Circuit Paul Ricard', 'Circuit Paul Ricard', 'Circuit Paul Ricard', 'Circuit Paul Ricard', 'Circuit Paul Ricard', 'Circuit Paul Ricard', 'Circuit Paul Ricard', 'Red Bull Ring', 'Red Bull Ring', 'Red Bull Ring', 'Red Bull Ring', 'Red Bull Ring', 'Red Bull Ring', 'Red Bull Ring', 'Red Bull Ring', 'Red Bull Ring', 'Red Bull Ring', 'Red Bull Ring', 'Red Bull Ring', 'Red Bull Ring', 'Red Bull Ring', 'Red Bull Ring', 'Red Bull Ring', 'Red Bull Ring', 'Red Bull Ring', 'Red Bull Ring', 'Red Bull Ring', 'Red Bull Ring', 'Red Bull Ring', 'Red Bull Ring', 'Red Bull Ring', 'Red Bull Ring', 'Red Bull Ring', 'Red Bull Ring', 'Red Bull Ring', 'Red Bull Ring', 'Red Bull Ring', 'Red Bull Ring', 'Red Bull Ring', 'Silverstone Circuit', 'Silverstone Circuit', 'Silverstone Circuit', 'Silverstone Circuit', 'Silverstone Circuit', 'Silverstone Circuit', 'Silverstone Circuit', 'Silverstone Circuit', 'Silverstone Circuit', 'Silverstone Circuit', 'Silverstone Circuit', 'Silverstone Circuit', 'Silverstone Circuit', 'Silverstone Circuit', 'Silverstone Circuit', 'Silverstone Circuit', 'Silverstone Circuit', 'Silverstone Circuit', 'Silverstone Circuit', 'Silverstone Circuit', 'Hungaroring', 'Hungaroring', 'Hungaroring', 'Hungaroring', 'Hungaroring', 'Hungaroring', 'Hungaroring', 'Hungaroring', 'Hungaroring', 'Hungaroring', 'Hungaroring', 'Hungaroring', 'Hungaroring', 'Hungaroring', 'Hungaroring', 'Hungaroring', 'Hungaroring', 'Hungaroring', 'Hungaroring', 'Hungaroring'], 'driver': ['George Russell', 'Valtteri Bottas', 'Nicholas Latifi', 'Daniel Ricciardo', 'Lando Norris', 'Carlos Sainz', 'Fernando Alonso', 'Esteban Ocon', 'Lewis Hamilton', 'Yuki Tsunoda', 'Charles Leclerc', 'Max Verstappen', 'Sebastian Vettel', 'Lance Stroll', 'Kimi Räikkönen', 'Antonio Giovinazzi', 'Mick Schumacher', 'Nikita Mazepin', 'Pierre Gasly', 'Sergio Pérez', 'George Russell', 'Valtteri Bottas', 'Nicholas Latifi', 'Daniel Ricciardo', 'Lando Norris', 'Carlos Sainz', 'Fernando Alonso', 'Esteban Ocon', 'Lewis Hamilton', 'Yuki Tsunoda', 'Charles Leclerc', 'Max Verstappen', 'Sebastian Vettel', 'Lance Stroll', 'Kimi Räikkönen', 'Antonio Giovinazzi', 'Mick Schumacher', 'Nikita Mazepin', 'Pierre Gasly', 'Sergio Pérez', 'George Russell', 'Valtteri Bottas', 'Nicholas Latifi', 'Daniel Ricciardo', 'Lando Norris', 'Carlos Sainz', 'Fernando Alonso', 'Esteban Ocon', 'Lewis Hamilton', 'Yuki Tsunoda', 'Charles Leclerc', 'Max Verstappen', 'Sebastian Vettel', 'Lance Stroll', 'Kimi Räikkönen', 'Antonio Giovinazzi', 'Mick Schumacher', 'Nikita Mazepin', 'Pierre Gasly', 'Sergio Pérez', 'George Russell', 'Valtteri Bottas', 'Nicholas Latifi', 'Daniel Ricciardo', 'Lando Norris', 'Carlos Sainz', 'Fernando Alonso', 'Esteban Ocon', 'Lewis Hamilton', 'Yuki Tsunoda', 'Charles Leclerc', 'Max Verstappen', 'Sebastian Vettel', 'Lance Stroll', 'Kimi Räikkönen', 'Antonio Giovinazzi', 'Mick Schumacher', 'Nikita Mazepin', 'Pierre Gasly', 'Sergio Pérez', 'George Russell', 'Valtteri Bottas', 'Nicholas Latifi', 'Daniel Ricciardo', 'Lando Norris', 'Carlos Sainz', 'Fernando Alonso', 'Esteban Ocon', 'Lewis Hamilton', 'Yuki Tsunoda', 'Charles Leclerc', 'Max Verstappen', 'Sebastian Vettel', 'Lance Stroll', 'Kimi Räikkönen', 'Antonio Giovinazzi', 'Nikita Mazepin', 'Pierre Gasly', 'Sergio Pérez', 'George Russell', 'Valtteri Bottas', 'Nicholas Latifi', 'Daniel Ricciardo', 'Lando Norris', 'Carlos Sainz', 'Fernando Alonso', 'Esteban Ocon', 'Lewis Hamilton', 'Yuki Tsunoda', 'Charles Leclerc', 'Max Verstappen', 'Sebastian Vettel', 'Lance Stroll', 'Kimi Räikkönen', 'Antonio Giovinazzi', 'Mick Schumacher', 'Nikita Mazepin', 'Pierre Gasly', 'Sergio Pérez', 'George Russell', 'Valtteri Bottas', 'Nicholas Latifi', 'Daniel Ricciardo', 'Lando Norris', 'Carlos Sainz', 'Fernando Alonso', 'Esteban Ocon', 'Lewis Hamilton', 'Yuki Tsunoda', 'Charles Leclerc', 'Max Verstappen', 'Sebastian Vettel', 'Lance Stroll', 'Kimi Räikkönen', 'Antonio Giovinazzi', 'Mick Schumacher', 'Nikita Mazepin', 'Pierre Gasly', 'Sergio Pérez', 'George Russell', 'Valtteri Bottas', 'Valtteri Bottas', 'Nicholas Latifi', 'Daniel Ricciardo', 'Daniel Ricciardo', 'Lando Norris', 'Lando Norris', 'Carlos Sainz', 'Carlos Sainz', 'Fernando Alonso', 'Fernando Alonso', 'Esteban Ocon', 'Lewis Hamilton', 'Lewis Hamilton', 'Yuki Tsunoda', 'Yuki Tsunoda', 'Charles Leclerc', 'Charles Leclerc', 'Max Verstappen', 'Max Verstappen', 'Sebastian Vettel', 'Lance Stroll', 'Lance Stroll', 'Kimi Räikkönen', 'Antonio Giovinazzi', 'Mick Schumacher', 'Nikita Mazepin', 'Pierre Gasly', 'Pierre Gasly', 'Sergio Pérez', 'Sergio Pérez', 'George Russell', 'Valtteri Bottas', 'Nicholas Latifi', 'Daniel Ricciardo', 'Lando Norris', 'Carlos Sainz', 'Fernando Alonso', 'Esteban Ocon', 'Lewis Hamilton', 'Yuki Tsunoda', 'Charles Leclerc', 'Max Verstappen', 'Sebastian Vettel', 'Lance Stroll', 'Kimi Räikkönen', 'Antonio Giovinazzi', 'Mick Schumacher', 'Nikita Mazepin', 'Pierre Gasly', 'Sergio Pérez', 'George Russell', 'Valtteri Bottas', 'Nicholas Latifi', 'Daniel Ricciardo', 'Lando Norris', 'Carlos Sainz', 'Fernando Alonso', 'Esteban Ocon', 'Lewis Hamilton', 'Yuki Tsunoda', 'Charles Leclerc', 'Max Verstappen', 'Sebastian Vettel', 'Lance Stroll', 'Kimi Räikkönen', 'Antonio Giovinazzi', 'Mick Schumacher', 'Nikita Mazepin', 'Pierre Gasly', 'Sergio Pérez'], 'constructor': ['Williams', 'Mercedes', 'Williams', 'McLaren', 'McLaren', 'Ferrari', 'Alpine F1', 'Alpine F1', 'Mercedes', 'AlphaTauri', 'Ferrari', 'Red Bull', 'Aston Martin', 'Aston Martin', 'Alfa Romeo', 'Alfa Romeo', 'Haas F1 Team', 'Haas F1 Team', 'AlphaTauri', 'Red Bull', 'Williams', 'Mercedes', 'Williams', 'McLaren', 'McLaren', 'Ferrari', 'Alpine F1', 'Alpine F1', 'Mercedes', 'AlphaTauri', 'Ferrari', 'Red Bull', 'Aston Martin', 'Aston Martin', 'Alfa Romeo', 'Alfa Romeo', 'Haas F1 Team', 'Haas F1 Team', 'AlphaTauri', 'Red Bull', 'Williams', 'Mercedes', 'Williams', 'McLaren', 'McLaren', 'Ferrari', 'Alpine F1', 'Alpine F1', 'Mercedes', 'AlphaTauri', 'Ferrari', 'Red Bull', 'Aston Martin', 'Aston Martin', 'Alfa Romeo', 'Alfa Romeo', 'Haas F1 Team', 'Haas F1 Team', 'AlphaTauri', 'Red Bull', 'Williams', 'Mercedes', 'Williams', 'McLaren', 'McLaren', 'Ferrari', 'Alpine F1', 'Alpine F1', 'Mercedes', 'AlphaTauri', 'Ferrari', 'Red Bull', 'Aston Martin', 'Aston Martin', 'Alfa Romeo', 'Alfa Romeo', 'Haas F1 Team', 'Haas F1 Team', 'AlphaTauri', 'Red Bull', 'Williams', 'Mercedes', 'Williams', 'McLaren', 'McLaren', 'Ferrari', 'Alpine F1', 'Alpine F1', 'Mercedes', 'AlphaTauri', 'Ferrari', 'Red Bull', 'Aston Martin', 'Aston Martin', 'Alfa Romeo', 'Alfa Romeo', 'Haas F1 Team', 'AlphaTauri', 'Red Bull', 'Williams', 'Mercedes', 'Williams', 'McLaren', 'McLaren', 'Ferrari', 'Alpine F1', 'Alpine F1', 'Mercedes', 'AlphaTauri', 'Ferrari', 'Red Bull', 'Aston Martin', 'Aston Martin', 'Alfa Romeo', 'Alfa Romeo', 'Haas F1 Team', 'Haas F1 Team', 'AlphaTauri', 'Red Bull', 'Williams', 'Mercedes', 'Williams', 'McLaren', 'McLaren', 'Ferrari', 'Alpine F1', 'Alpine F1', 'Mercedes', 'AlphaTauri', 'Ferrari', 'Red Bull', 'Aston Martin', 'Aston Martin', 'Alfa Romeo', 'Alfa Romeo', 'Haas F1 Team', 'Haas F1 Team', 'AlphaTauri', 'Red Bull', 'Williams', 'Mercedes', 'Mercedes', 'Williams', 'McLaren', 'McLaren', 'McLaren', 'McLaren', 'Ferrari', 'Ferrari', 'Alpine F1', 'Alpine F1', 'Alpine F1', 'Mercedes', 'Mercedes', 'AlphaTauri', 'AlphaTauri', 'Ferrari', 'Ferrari', 'Red Bull', 'Red Bull', 'Aston Martin', 'Aston Martin', 'Aston Martin', 'Alfa Romeo', 'Alfa Romeo', 'Haas F1 Team', 'Haas F1 Team', 'AlphaTauri', 'AlphaTauri', 'Red Bull', 'Red Bull', 'Williams', 'Mercedes', 'Williams', 'McLaren', 'McLaren', 'Ferrari', 'Alpine F1', 'Alpine F1', 'Mercedes', 'AlphaTauri', 'Ferrari', 'Red Bull', 'Aston Martin', 'Aston Martin', 'Alfa Romeo', 'Alfa Romeo', 'Haas F1 Team', 'Haas F1 Team', 'AlphaTauri', 'Red Bull', 'Williams', 'Mercedes', 'Williams', 'McLaren', 'McLaren', 'Ferrari', 'Alpine F1', 'Alpine F1', 'Mercedes', 'AlphaTauri', 'Ferrari', 'Red Bull', 'Aston Martin', 'Aston Martin', 'Alfa Romeo', 'Alfa Romeo', 'Haas F1 Team', 'Haas F1 Team', 'AlphaTauri', 'Red Bull'], 'points': [0.0, 16.0, 0.0, 6.0, 12.0, 4.0, 0.0, 0.0, 25.0, 2.0, 8.0, 18.0, 0.0, 1.0, 0.0, 0.0, 0.0, 0.0, 0.0, 10.0, 0.0, 0.0, 0.0, 8.0, 15.0, 10.0, 1.0, 2.0, 19.0, 0.0, 12.0, 25.0, 0.0, 4.0, 0.0, 0.0, 0.0, 0.0, 6.0, 0.0, 0.0, 16.0, 0.0, 2.0, 10.0, 0.0, 4.0, 6.0, 25.0, 0.0, 8.0, 18.0, 0.0, 0.0, 0.0, 0.0, 0.0, 0.0, 1.0, 12.0, 0.0, 15.0, 0.0, 8.0, 4.0, 6.0, 0.0, 2.0, 25.0, 0.0, 12.0, 19.0, 0.0, 0.0, 0.0, 0.0, 0.0, 0.0, 1.0, 10.0, 0.0, 0.0, 0.0, 0.0, 15.0, 18.0, 0.0, 2.0, 7.0, 0.0, 0.0, 25.0, 10.0, 4.0, 0.0, 1.0, 0.0, 8.0, 12.0, 0.0, 0.0, 0.0, 2.0, 10.0, 4.0, 8.0, 0.0, 0.0, 6.0, 12.0, 0.0, 18.0, 0.0, 1.0, 0.0, 0.0, 0.0, 15.0, 25.0, 0.0, 12.0, 0.0, 8.0, 10.0, 0.0, 4.0, 0.0, 18.0, 0.0, 0.0, 26.0, 2.0, 1.0, 0.0, 0.0, 0.0, 0.0, 6.0, 15.0, 0.0, 15.0, 18.0, 0.0, 0.0, 6.0, 10.0, 15.0, 8.0, 10.0, 2.0, 1.0, 0.0, 19.0, 12.0, 1.0, 0.0, 6.0, 4.0, 25.0, 26.0, 0.0, 4.0, 0.0, 0.0, 0.0, 0.0, 0.0, 0.0, 2.0, 12.0, 8.0, 0.0, 16.0, 0.0, 10.0, 12.0, 8.0, 6.0, 2.0, 27.0, 1.0, 18.0, 3.0, 0.0, 4.0, 0.0, 0.0, 0.0, 0.0, 0.0, 0.0, 4.0, 0.0, 6.0, 0.0, 0.0, 15.0, 12.0, 25.0, 18.0, 8.0, 0.0, 2.0, 0.0, 0.0, 1.0, 0.0, 0.0, 0.0, 11.0, 0.0]}\n"
     ]
    }
   ],
   "source": [
    "print (results)"
   ]
  },
  {
   "cell_type": "code",
   "execution_count": 141,
   "metadata": {},
   "outputs": [
    {
     "name": "stdout",
     "output_type": "stream",
     "text": [
      "                              race              driver   constructor  points\n",
      "0    Bahrain International Circuit      George Russell      Williams     0.0\n",
      "1    Bahrain International Circuit     Valtteri Bottas      Mercedes    16.0\n",
      "2    Bahrain International Circuit     Nicholas Latifi      Williams     0.0\n",
      "3    Bahrain International Circuit    Daniel Ricciardo       McLaren     6.0\n",
      "4    Bahrain International Circuit        Lando Norris       McLaren    12.0\n",
      "..                             ...                 ...           ...     ...\n",
      "206                    Hungaroring  Antonio Giovinazzi    Alfa Romeo     0.0\n",
      "207                    Hungaroring     Mick Schumacher  Haas F1 Team     0.0\n",
      "208                    Hungaroring      Nikita Mazepin  Haas F1 Team     0.0\n",
      "209                    Hungaroring        Pierre Gasly    AlphaTauri    11.0\n",
      "210                    Hungaroring        Sergio Pérez      Red Bull     0.0\n",
      "\n",
      "[211 rows x 4 columns]\n"
     ]
    }
   ],
   "source": [
    "df2021= pd.DataFrame(results)\n",
    "print (df2021)"
   ]
  },
  {
   "cell_type": "code",
   "execution_count": 143,
   "metadata": {},
   "outputs": [
    {
     "name": "stdout",
     "output_type": "stream",
     "text": [
      "Number of Races: 10\n"
     ]
    }
   ],
   "source": [
    "#print('Number of Races: %s' & (df2021.groupby('race').count()));\n",
    "#print('Number of Races: %s' & (str(len(races))));\n",
    "print(f'Number of Races: {len(races)}')\n",
    "#print (len(races))"
   ]
  },
  {
   "cell_type": "code",
   "execution_count": 144,
   "metadata": {},
   "outputs": [],
   "source": [
    "pts_by_driver = df2021.groupby('driver').sum()['points']\n",
    "driver_race = df2021.groupby('driver').count()['race']\n",
    "driver_points_ratio = (pts_by_driver/len(races)/25.0)\n",
    "driver_points_dict = dict(zip(driver_points_ratio.index,driver_points_ratio))"
   ]
  },
  {
   "cell_type": "code",
   "execution_count": 145,
   "metadata": {},
   "outputs": [
    {
     "data": {
      "text/plain": [
       "{'Antonio Giovinazzi': 0.004,\n",
       " 'Carlos Sainz': 0.332,\n",
       " 'Charles Leclerc': 0.32,\n",
       " 'Daniel Ricciardo': 0.2,\n",
       " 'Esteban Ocon': 0.156,\n",
       " 'Fernando Alonso': 0.152,\n",
       " 'George Russell': 0.016,\n",
       " 'Kimi Räikkönen': 0.008,\n",
       " 'Lance Stroll': 0.07200000000000001,\n",
       " 'Lando Norris': 0.452,\n",
       " 'Lewis Hamilton': 0.78,\n",
       " 'Max Verstappen': 0.748,\n",
       " 'Mick Schumacher': 0.0,\n",
       " 'Nicholas Latifi': 0.024,\n",
       " 'Nikita Mazepin': 0.0,\n",
       " 'Pierre Gasly': 0.2,\n",
       " 'Sebastian Vettel': 0.12,\n",
       " 'Sergio Pérez': 0.41600000000000004,\n",
       " 'Valtteri Bottas': 0.43200000000000005,\n",
       " 'Yuki Tsunoda': 0.07200000000000001}"
      ]
     },
     "execution_count": 145,
     "metadata": {},
     "output_type": "execute_result"
    }
   ],
   "source": [
    "driver_points_dict"
   ]
  },
  {
   "cell_type": "code",
   "execution_count": 146,
   "metadata": {},
   "outputs": [],
   "source": [
    "pts_by_constructor = df2021.groupby('constructor').sum()['points']\n",
    "constructor_race = df2021.groupby('constructor').count()['race']\n",
    "constructor_pts_ratio = (pts_by_constructor/len(races)/(25.0+18.0))\n",
    "constructor_points_dict = dict(zip(constructor_pts_ratio.index,constructor_pts_ratio))\n",
    "#constructor_points_dict = dict(zip(pts_by_constructor.index,pts_by_constructor))"
   ]
  },
  {
   "cell_type": "code",
   "execution_count": 147,
   "metadata": {},
   "outputs": [
    {
     "data": {
      "text/plain": [
       "{'Alfa Romeo': 0.0069767441860465115,\n",
       " 'AlphaTauri': 0.15813953488372093,\n",
       " 'Alpine F1': 0.17906976744186046,\n",
       " 'Aston Martin': 0.11162790697674418,\n",
       " 'Ferrari': 0.3790697674418605,\n",
       " 'Haas F1 Team': 0.0,\n",
       " 'McLaren': 0.3790697674418605,\n",
       " 'Mercedes': 0.7046511627906977,\n",
       " 'Red Bull': 0.6767441860465117,\n",
       " 'Williams': 0.023255813953488372}"
      ]
     },
     "execution_count": 147,
     "metadata": {},
     "output_type": "execute_result"
    }
   ],
   "source": [
    "constructor_points_dict"
   ]
  },
  {
   "cell_type": "code",
   "execution_count": 148,
   "metadata": {},
   "outputs": [],
   "source": [
    "import pickle\n",
    "def save_obj(obj, name ):\n",
    "    with open('web/'+ name, 'wb') as f:\n",
    "        pickle.dump(obj, f, pickle.HIGHEST_PROTOCOL)"
   ]
  },
  {
   "cell_type": "code",
   "execution_count": 149,
   "metadata": {},
   "outputs": [],
   "source": [
    "driver_pred_dict_str = {}\n",
    "for key , value in driver_points_dict.items():\n",
    "    driver_pred_dict_str[key] = np. array([value])\n",
    "    #print (\"%s: %s\" % (key, value))"
   ]
  },
  {
   "cell_type": "code",
   "execution_count": 150,
   "metadata": {},
   "outputs": [],
   "source": [
    "save_obj(driver_pred_dict_str, 'driver_pred_dict' )"
   ]
  },
  {
   "cell_type": "code",
   "execution_count": 151,
   "metadata": {},
   "outputs": [],
   "source": [
    "constructor_pred_dict_str = {}\n",
    "for key , value in constructor_points_dict.items():\n",
    "    constructor_pred_dict_str[key] = np. array([value])\n",
    "    #print (\"%s: %s\" % (key, value))"
   ]
  },
  {
   "cell_type": "code",
   "execution_count": 152,
   "metadata": {},
   "outputs": [],
   "source": [
    "save_obj(constructor_pred_dict_str, 'constructor_pred_dict' )"
   ]
  },
  {
   "cell_type": "code",
   "execution_count": 153,
   "metadata": {},
   "outputs": [
    {
     "name": "stdout",
     "output_type": "stream",
     "text": [
      "Index(['raceId', 'year', 'round', 'circuitId', 'name_x', 'date', 'time_x',\n",
      "       'url_x', 'resultId', 'driverId', 'constructorId', 'number_x',\n",
      "       'quali_pos', 'position_x', 'positionText', 'positionOrder', 'points',\n",
      "       'laps', 'time_y', 'milliseconds', 'fastestLap', 'rank',\n",
      "       'fastestLapTime', 'fastestLapSpeed', 'statusId', 'qualifyId',\n",
      "       'number_y', 'position', 'q1', 'q2', 'q3', 'driverRef', 'number', 'code',\n",
      "       'forename', 'surname', 'dob', 'driver_nationality', 'url_y',\n",
      "       'constructorRef', 'constructor', 'constructor_nationality', 'url_x',\n",
      "       'circuitRef', 'GP_name', 'location', 'country', 'lat', 'lng', 'alt',\n",
      "       'url_y', 'driver_dnf', 'constructor_dnf', 'driver', 'driver_home',\n",
      "       'constructor_home'],\n",
      "      dtype='object')\n"
     ]
    }
   ],
   "source": [
    "print (data2021.columns)"
   ]
  },
  {
   "cell_type": "code",
   "execution_count": null,
   "metadata": {},
   "outputs": [],
   "source": []
  },
  {
   "cell_type": "code",
   "execution_count": 154,
   "metadata": {},
   "outputs": [],
   "source": [
    "qualif = {'race': [],\n",
    "          'driver':[],\n",
    "          'quali_pos':[]\n",
    "         }\n",
    "for race in races:\n",
    "    for driver in drivers:\n",
    "        qlst = data2021.loc[(data2021['GP_name']==race)&(data2021['driver']==driver)]['quali_pos'].unique().tolist()\n",
    "        for q in qlst:\n",
    "            qualif['race'].append(race)\n",
    "            qualif['driver'].append(driver)\n",
    "            qualif['quali_pos'].append(q)\n"
   ]
  },
  {
   "cell_type": "code",
   "execution_count": 156,
   "metadata": {},
   "outputs": [
    {
     "name": "stdout",
     "output_type": "stream",
     "text": [
      "                              race              driver  quali_pos\n",
      "0    Bahrain International Circuit      George Russell         15\n",
      "1    Bahrain International Circuit     Valtteri Bottas          3\n",
      "2    Bahrain International Circuit     Nicholas Latifi         17\n",
      "3    Bahrain International Circuit    Daniel Ricciardo          6\n",
      "4    Bahrain International Circuit        Lando Norris          7\n",
      "..                             ...                 ...        ...\n",
      "205                    Hungaroring  Antonio Giovinazzi          0\n",
      "206                    Hungaroring     Mick Schumacher         20\n",
      "207                    Hungaroring      Nikita Mazepin         19\n",
      "208                    Hungaroring        Pierre Gasly          5\n",
      "209                    Hungaroring        Sergio Pérez          4\n",
      "\n",
      "[210 rows x 3 columns]\n"
     ]
    }
   ],
   "source": [
    "qualif2021= pd.DataFrame(qualif)\n",
    "print (qualif2021)"
   ]
  },
  {
   "cell_type": "code",
   "execution_count": 157,
   "metadata": {},
   "outputs": [],
   "source": [
    "qualif2021.to_csv('./data_f1/qualif_filtered.csv', index = False)"
   ]
  },
  {
   "cell_type": "code",
   "execution_count": 158,
   "metadata": {},
   "outputs": [
    {
     "name": "stdout",
     "output_type": "stream",
     "text": [
      "Hungaroring\n"
     ]
    }
   ],
   "source": [
    "# last race\n",
    "last_race = races[len(races)-1]\n",
    "print(last_race)"
   ]
  },
  {
   "cell_type": "code",
   "execution_count": 159,
   "metadata": {},
   "outputs": [
    {
     "name": "stdout",
     "output_type": "stream",
     "text": [
      "            race              driver  quali_pos\n",
      "190  Hungaroring      George Russell         17\n",
      "191  Hungaroring     Valtteri Bottas          2\n",
      "192  Hungaroring     Nicholas Latifi         18\n",
      "193  Hungaroring    Daniel Ricciardo         11\n",
      "194  Hungaroring        Lando Norris          6\n",
      "195  Hungaroring        Carlos Sainz         15\n",
      "196  Hungaroring     Fernando Alonso          9\n",
      "197  Hungaroring        Esteban Ocon          8\n",
      "198  Hungaroring      Lewis Hamilton          1\n",
      "199  Hungaroring        Yuki Tsunoda         16\n",
      "200  Hungaroring     Charles Leclerc          7\n",
      "201  Hungaroring      Max Verstappen          3\n",
      "202  Hungaroring    Sebastian Vettel         10\n",
      "203  Hungaroring        Lance Stroll         12\n",
      "204  Hungaroring      Kimi Räikkönen         13\n",
      "205  Hungaroring  Antonio Giovinazzi          0\n",
      "206  Hungaroring     Mick Schumacher         20\n",
      "207  Hungaroring      Nikita Mazepin         19\n",
      "208  Hungaroring        Pierre Gasly          5\n",
      "209  Hungaroring        Sergio Pérez          4\n"
     ]
    }
   ],
   "source": [
    "qualif_last= qualif2021[qualif2021['race']==last_race]\n",
    "print (qualif_last)"
   ]
  },
  {
   "cell_type": "code",
   "execution_count": 160,
   "metadata": {},
   "outputs": [],
   "source": [
    "qualif_last.to_csv('./data_f1/qualif_lastrace.csv', index = False)"
   ]
  },
  {
   "cell_type": "code",
   "execution_count": null,
   "metadata": {},
   "outputs": [],
   "source": []
  },
  {
   "cell_type": "code",
   "execution_count": 45,
   "metadata": {},
   "outputs": [],
   "source": [
    "end = time.time()"
   ]
  },
  {
   "cell_type": "code",
   "execution_count": 46,
   "metadata": {},
   "outputs": [
    {
     "data": {
      "text/plain": [
       "'0:00:08.976518'"
      ]
     },
     "execution_count": 46,
     "metadata": {},
     "output_type": "execute_result"
    }
   ],
   "source": [
    "import datetime\n",
    "str(datetime.timedelta(seconds=(end - start)))"
   ]
  },
  {
   "cell_type": "code",
   "execution_count": 47,
   "metadata": {},
   "outputs": [
    {
     "name": "stdout",
     "output_type": "stream",
     "text": [
      "8.976518392562866 seconds\n"
     ]
    }
   ],
   "source": [
    "print(str(end - start)+\" seconds\")"
   ]
  }
 ],
 "metadata": {
  "kernelspec": {
   "display_name": "Python 3",
   "language": "python",
   "name": "python3"
  },
  "language_info": {
   "codemirror_mode": {
    "name": "ipython",
    "version": 3
   },
   "file_extension": ".py",
   "mimetype": "text/x-python",
   "name": "python",
   "nbconvert_exporter": "python",
   "pygments_lexer": "ipython3",
   "version": "3.6.8"
  }
 },
 "nbformat": 4,
 "nbformat_minor": 4
}
