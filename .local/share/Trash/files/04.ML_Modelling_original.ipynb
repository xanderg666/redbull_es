{
 "cells": [
  {
   "cell_type": "markdown",
   "metadata": {},
   "source": [
    "# Search the best Machine Learning Algorithms to predict"
   ]
  },
  {
   "cell_type": "code",
   "execution_count": 1,
   "metadata": {},
   "outputs": [],
   "source": [
    "import warnings\n",
    "warnings.filterwarnings(\"ignore\")"
   ]
  },
  {
   "cell_type": "code",
   "execution_count": 2,
   "metadata": {},
   "outputs": [],
   "source": [
    "import time\n",
    "start = time.time()"
   ]
  },
  {
   "cell_type": "code",
   "execution_count": 3,
   "metadata": {
    "ExecuteTime": {
     "end_time": "2020-06-03T17:56:46.083156Z",
     "start_time": "2020-06-03T17:56:45.184584Z"
    }
   },
   "outputs": [],
   "source": [
    "import numpy as np\n",
    "import pandas as pd\n",
    "from sklearn.metrics import confusion_matrix, precision_score\n",
    "from sklearn.metrics import accuracy_score\n",
    "from sklearn.linear_model import LogisticRegression, LinearRegression\n",
    "from sklearn import svm\n",
    "from sklearn.preprocessing import StandardScaler, MinMaxScaler\n",
    "from sklearn.ensemble import RandomForestClassifier, RandomForestRegressor\n",
    "from sklearn.neural_network import MLPClassifier, MLPRegressor\n",
    "\n",
    "np.set_printoptions(precision=4)"
   ]
  },
  {
   "cell_type": "code",
   "execution_count": 4,
   "metadata": {
    "ExecuteTime": {
     "end_time": "2020-06-03T17:56:46.866967Z",
     "start_time": "2020-06-03T17:56:46.697643Z"
    }
   },
   "outputs": [],
   "source": [
    "data = pd.read_csv('./data/f1_df_final.csv')"
   ]
  },
  {
   "cell_type": "code",
   "execution_count": 5,
   "metadata": {
    "ExecuteTime": {
     "end_time": "2020-06-03T17:56:47.463809Z",
     "start_time": "2020-06-03T17:56:47.426867Z"
    }
   },
   "outputs": [
    {
     "data": {
      "text/html": [
       "<div>\n",
       "<style scoped>\n",
       "    .dataframe tbody tr th:only-of-type {\n",
       "        vertical-align: middle;\n",
       "    }\n",
       "\n",
       "    .dataframe tbody tr th {\n",
       "        vertical-align: top;\n",
       "    }\n",
       "\n",
       "    .dataframe thead th {\n",
       "        text-align: right;\n",
       "    }\n",
       "</style>\n",
       "<table border=\"1\" class=\"dataframe\">\n",
       "  <thead>\n",
       "    <tr style=\"text-align: right;\">\n",
       "      <th></th>\n",
       "      <th>season</th>\n",
       "      <th>round</th>\n",
       "      <th>weather_warm</th>\n",
       "      <th>weather_cold</th>\n",
       "      <th>weather_dry</th>\n",
       "      <th>weather_wet</th>\n",
       "      <th>weather_cloudy</th>\n",
       "      <th>driver</th>\n",
       "      <th>grid</th>\n",
       "      <th>podium</th>\n",
       "      <th>...</th>\n",
       "      <th>constructor_minardi</th>\n",
       "      <th>constructor_prost</th>\n",
       "      <th>constructor_red_bull</th>\n",
       "      <th>constructor_renault</th>\n",
       "      <th>constructor_sauber</th>\n",
       "      <th>constructor_team_lotus</th>\n",
       "      <th>constructor_toro_rosso</th>\n",
       "      <th>constructor_toyota</th>\n",
       "      <th>constructor_tyrrell</th>\n",
       "      <th>constructor_williams</th>\n",
       "    </tr>\n",
       "  </thead>\n",
       "  <tbody>\n",
       "    <tr>\n",
       "      <th>0</th>\n",
       "      <td>1983</td>\n",
       "      <td>1</td>\n",
       "      <td>False</td>\n",
       "      <td>False</td>\n",
       "      <td>True</td>\n",
       "      <td>False</td>\n",
       "      <td>False</td>\n",
       "      <td>keke_rosberg</td>\n",
       "      <td>1</td>\n",
       "      <td>15</td>\n",
       "      <td>...</td>\n",
       "      <td>0</td>\n",
       "      <td>0</td>\n",
       "      <td>0</td>\n",
       "      <td>0</td>\n",
       "      <td>0</td>\n",
       "      <td>0</td>\n",
       "      <td>0</td>\n",
       "      <td>0</td>\n",
       "      <td>0</td>\n",
       "      <td>1</td>\n",
       "    </tr>\n",
       "    <tr>\n",
       "      <th>1</th>\n",
       "      <td>1983</td>\n",
       "      <td>1</td>\n",
       "      <td>False</td>\n",
       "      <td>False</td>\n",
       "      <td>True</td>\n",
       "      <td>False</td>\n",
       "      <td>False</td>\n",
       "      <td>prost</td>\n",
       "      <td>2</td>\n",
       "      <td>6</td>\n",
       "      <td>...</td>\n",
       "      <td>0</td>\n",
       "      <td>0</td>\n",
       "      <td>0</td>\n",
       "      <td>1</td>\n",
       "      <td>0</td>\n",
       "      <td>0</td>\n",
       "      <td>0</td>\n",
       "      <td>0</td>\n",
       "      <td>0</td>\n",
       "      <td>0</td>\n",
       "    </tr>\n",
       "    <tr>\n",
       "      <th>2</th>\n",
       "      <td>1983</td>\n",
       "      <td>1</td>\n",
       "      <td>False</td>\n",
       "      <td>False</td>\n",
       "      <td>True</td>\n",
       "      <td>False</td>\n",
       "      <td>False</td>\n",
       "      <td>tambay</td>\n",
       "      <td>3</td>\n",
       "      <td>4</td>\n",
       "      <td>...</td>\n",
       "      <td>0</td>\n",
       "      <td>0</td>\n",
       "      <td>0</td>\n",
       "      <td>0</td>\n",
       "      <td>0</td>\n",
       "      <td>0</td>\n",
       "      <td>0</td>\n",
       "      <td>0</td>\n",
       "      <td>0</td>\n",
       "      <td>0</td>\n",
       "    </tr>\n",
       "    <tr>\n",
       "      <th>3</th>\n",
       "      <td>1983</td>\n",
       "      <td>1</td>\n",
       "      <td>False</td>\n",
       "      <td>False</td>\n",
       "      <td>True</td>\n",
       "      <td>False</td>\n",
       "      <td>False</td>\n",
       "      <td>piquet</td>\n",
       "      <td>4</td>\n",
       "      <td>1</td>\n",
       "      <td>...</td>\n",
       "      <td>0</td>\n",
       "      <td>0</td>\n",
       "      <td>0</td>\n",
       "      <td>0</td>\n",
       "      <td>0</td>\n",
       "      <td>0</td>\n",
       "      <td>0</td>\n",
       "      <td>0</td>\n",
       "      <td>0</td>\n",
       "      <td>0</td>\n",
       "    </tr>\n",
       "    <tr>\n",
       "      <th>4</th>\n",
       "      <td>1983</td>\n",
       "      <td>1</td>\n",
       "      <td>False</td>\n",
       "      <td>False</td>\n",
       "      <td>True</td>\n",
       "      <td>False</td>\n",
       "      <td>False</td>\n",
       "      <td>warwick</td>\n",
       "      <td>5</td>\n",
       "      <td>7</td>\n",
       "      <td>...</td>\n",
       "      <td>0</td>\n",
       "      <td>0</td>\n",
       "      <td>0</td>\n",
       "      <td>0</td>\n",
       "      <td>0</td>\n",
       "      <td>0</td>\n",
       "      <td>0</td>\n",
       "      <td>0</td>\n",
       "      <td>0</td>\n",
       "      <td>0</td>\n",
       "    </tr>\n",
       "  </tbody>\n",
       "</table>\n",
       "<p>5 rows × 100 columns</p>\n",
       "</div>"
      ],
      "text/plain": [
       "   season  round  weather_warm  weather_cold  weather_dry  weather_wet  \\\n",
       "0    1983      1         False         False         True        False   \n",
       "1    1983      1         False         False         True        False   \n",
       "2    1983      1         False         False         True        False   \n",
       "3    1983      1         False         False         True        False   \n",
       "4    1983      1         False         False         True        False   \n",
       "\n",
       "   weather_cloudy        driver  grid  podium  ...  constructor_minardi  \\\n",
       "0           False  keke_rosberg     1      15  ...                    0   \n",
       "1           False         prost     2       6  ...                    0   \n",
       "2           False        tambay     3       4  ...                    0   \n",
       "3           False        piquet     4       1  ...                    0   \n",
       "4           False       warwick     5       7  ...                    0   \n",
       "\n",
       "   constructor_prost  constructor_red_bull  constructor_renault  \\\n",
       "0                  0                     0                    0   \n",
       "1                  0                     0                    1   \n",
       "2                  0                     0                    0   \n",
       "3                  0                     0                    0   \n",
       "4                  0                     0                    0   \n",
       "\n",
       "   constructor_sauber  constructor_team_lotus  constructor_toro_rosso  \\\n",
       "0                   0                       0                       0   \n",
       "1                   0                       0                       0   \n",
       "2                   0                       0                       0   \n",
       "3                   0                       0                       0   \n",
       "4                   0                       0                       0   \n",
       "\n",
       "   constructor_toyota  constructor_tyrrell  constructor_williams  \n",
       "0                   0                    0                     1  \n",
       "1                   0                    0                     0  \n",
       "2                   0                    0                     0  \n",
       "3                   0                    0                     0  \n",
       "4                   0                    0                     0  \n",
       "\n",
       "[5 rows x 100 columns]"
      ]
     },
     "execution_count": 5,
     "metadata": {},
     "output_type": "execute_result"
    }
   ],
   "source": [
    "data.head()"
   ]
  },
  {
   "cell_type": "code",
   "execution_count": 6,
   "metadata": {},
   "outputs": [
    {
     "data": {
      "text/plain": [
       "14272"
      ]
     },
     "execution_count": 6,
     "metadata": {},
     "output_type": "execute_result"
    }
   ],
   "source": [
    "len(data)"
   ]
  },
  {
   "cell_type": "markdown",
   "metadata": {},
   "source": [
    "## Directory to store Models"
   ]
  },
  {
   "cell_type": "code",
   "execution_count": 7,
   "metadata": {},
   "outputs": [],
   "source": [
    "import os\n",
    "if not os.path.exists('./models'):\n",
    "    os.mkdir('./models')"
   ]
  },
  {
   "cell_type": "markdown",
   "metadata": {},
   "source": [
    "## Create Training Datasets"
   ]
  },
  {
   "cell_type": "code",
   "execution_count": 8,
   "metadata": {
    "ExecuteTime": {
     "end_time": "2020-06-03T17:56:54.886125Z",
     "start_time": "2020-06-03T17:56:54.601218Z"
    }
   },
   "outputs": [],
   "source": [
    "df = data.copy()\n",
    "df.podium = df.podium.map(lambda x: 1 if x == 1 else 0)\n",
    "\n",
    "train = df[df.season < 2019]\n",
    "X_train = train.drop(['driver', 'podium'], axis = 1)\n",
    "y_train = train.podium\n",
    "\n",
    "scaler = StandardScaler()\n",
    "X_train = pd.DataFrame(scaler.fit_transform(X_train), columns = X_train.columns)\n"
   ]
  },
  {
   "cell_type": "code",
   "execution_count": 9,
   "metadata": {},
   "outputs": [
    {
     "data": {
      "text/html": [
       "<div>\n",
       "<style scoped>\n",
       "    .dataframe tbody tr th:only-of-type {\n",
       "        vertical-align: middle;\n",
       "    }\n",
       "\n",
       "    .dataframe tbody tr th {\n",
       "        vertical-align: top;\n",
       "    }\n",
       "\n",
       "    .dataframe thead th {\n",
       "        text-align: right;\n",
       "    }\n",
       "</style>\n",
       "<table border=\"1\" class=\"dataframe\">\n",
       "  <thead>\n",
       "    <tr style=\"text-align: right;\">\n",
       "      <th></th>\n",
       "      <th>season</th>\n",
       "      <th>round</th>\n",
       "      <th>weather_warm</th>\n",
       "      <th>weather_cold</th>\n",
       "      <th>weather_dry</th>\n",
       "      <th>weather_wet</th>\n",
       "      <th>weather_cloudy</th>\n",
       "      <th>grid</th>\n",
       "      <th>driver_points</th>\n",
       "      <th>driver_wins</th>\n",
       "      <th>...</th>\n",
       "      <th>constructor_minardi</th>\n",
       "      <th>constructor_prost</th>\n",
       "      <th>constructor_red_bull</th>\n",
       "      <th>constructor_renault</th>\n",
       "      <th>constructor_sauber</th>\n",
       "      <th>constructor_team_lotus</th>\n",
       "      <th>constructor_toro_rosso</th>\n",
       "      <th>constructor_toyota</th>\n",
       "      <th>constructor_tyrrell</th>\n",
       "      <th>constructor_williams</th>\n",
       "    </tr>\n",
       "  </thead>\n",
       "  <tbody>\n",
       "    <tr>\n",
       "      <th>count</th>\n",
       "      <td>1.388000e+04</td>\n",
       "      <td>1.388000e+04</td>\n",
       "      <td>1.388000e+04</td>\n",
       "      <td>1.388000e+04</td>\n",
       "      <td>1.388000e+04</td>\n",
       "      <td>1.388000e+04</td>\n",
       "      <td>1.388000e+04</td>\n",
       "      <td>1.388000e+04</td>\n",
       "      <td>1.388000e+04</td>\n",
       "      <td>1.388000e+04</td>\n",
       "      <td>...</td>\n",
       "      <td>1.388000e+04</td>\n",
       "      <td>1.388000e+04</td>\n",
       "      <td>1.388000e+04</td>\n",
       "      <td>1.388000e+04</td>\n",
       "      <td>1.388000e+04</td>\n",
       "      <td>13880.000000</td>\n",
       "      <td>1.388000e+04</td>\n",
       "      <td>1.388000e+04</td>\n",
       "      <td>1.388000e+04</td>\n",
       "      <td>1.388000e+04</td>\n",
       "    </tr>\n",
       "    <tr>\n",
       "      <th>mean</th>\n",
       "      <td>4.193636e-15</td>\n",
       "      <td>1.474325e-16</td>\n",
       "      <td>-4.914417e-17</td>\n",
       "      <td>-1.638139e-17</td>\n",
       "      <td>9.828833e-17</td>\n",
       "      <td>2.457208e-17</td>\n",
       "      <td>3.890580e-17</td>\n",
       "      <td>1.064790e-16</td>\n",
       "      <td>6.552555e-17</td>\n",
       "      <td>2.457208e-17</td>\n",
       "      <td>...</td>\n",
       "      <td>-1.638139e-17</td>\n",
       "      <td>1.638139e-17</td>\n",
       "      <td>-1.638139e-17</td>\n",
       "      <td>1.638139e-17</td>\n",
       "      <td>-2.457208e-17</td>\n",
       "      <td>0.000000</td>\n",
       "      <td>3.276278e-17</td>\n",
       "      <td>-1.638139e-17</td>\n",
       "      <td>-3.276278e-17</td>\n",
       "      <td>3.890580e-17</td>\n",
       "    </tr>\n",
       "    <tr>\n",
       "      <th>std</th>\n",
       "      <td>1.000036e+00</td>\n",
       "      <td>1.000036e+00</td>\n",
       "      <td>1.000036e+00</td>\n",
       "      <td>1.000036e+00</td>\n",
       "      <td>1.000036e+00</td>\n",
       "      <td>1.000036e+00</td>\n",
       "      <td>1.000036e+00</td>\n",
       "      <td>1.000036e+00</td>\n",
       "      <td>1.000036e+00</td>\n",
       "      <td>1.000036e+00</td>\n",
       "      <td>...</td>\n",
       "      <td>1.000036e+00</td>\n",
       "      <td>1.000036e+00</td>\n",
       "      <td>1.000036e+00</td>\n",
       "      <td>1.000036e+00</td>\n",
       "      <td>1.000036e+00</td>\n",
       "      <td>1.000036</td>\n",
       "      <td>1.000036e+00</td>\n",
       "      <td>1.000036e+00</td>\n",
       "      <td>1.000036e+00</td>\n",
       "      <td>1.000036e+00</td>\n",
       "    </tr>\n",
       "    <tr>\n",
       "      <th>min</th>\n",
       "      <td>-1.647288e+00</td>\n",
       "      <td>-1.609202e+00</td>\n",
       "      <td>-7.956967e-01</td>\n",
       "      <td>-1.538646e-01</td>\n",
       "      <td>-5.570451e-01</td>\n",
       "      <td>-3.374541e-01</td>\n",
       "      <td>-3.492547e-01</td>\n",
       "      <td>-1.609252e+00</td>\n",
       "      <td>-4.655381e-01</td>\n",
       "      <td>-3.106935e-01</td>\n",
       "      <td>...</td>\n",
       "      <td>-2.167811e-01</td>\n",
       "      <td>-1.093473e-01</td>\n",
       "      <td>-1.943116e-01</td>\n",
       "      <td>-2.035106e-01</td>\n",
       "      <td>-2.396732e-01</td>\n",
       "      <td>-0.163875</td>\n",
       "      <td>-1.855569e-01</td>\n",
       "      <td>-1.400486e-01</td>\n",
       "      <td>-1.876243e-01</td>\n",
       "      <td>-3.114050e-01</td>\n",
       "    </tr>\n",
       "    <tr>\n",
       "      <th>25%</th>\n",
       "      <td>-8.898732e-01</td>\n",
       "      <td>-8.229818e-01</td>\n",
       "      <td>-7.956967e-01</td>\n",
       "      <td>-1.538646e-01</td>\n",
       "      <td>-5.570451e-01</td>\n",
       "      <td>-3.374541e-01</td>\n",
       "      <td>-3.492547e-01</td>\n",
       "      <td>-8.685026e-01</td>\n",
       "      <td>-4.655381e-01</td>\n",
       "      <td>-3.106935e-01</td>\n",
       "      <td>...</td>\n",
       "      <td>-2.167811e-01</td>\n",
       "      <td>-1.093473e-01</td>\n",
       "      <td>-1.943116e-01</td>\n",
       "      <td>-2.035106e-01</td>\n",
       "      <td>-2.396732e-01</td>\n",
       "      <td>-0.163875</td>\n",
       "      <td>-1.855569e-01</td>\n",
       "      <td>-1.400486e-01</td>\n",
       "      <td>-1.876243e-01</td>\n",
       "      <td>-3.114050e-01</td>\n",
       "    </tr>\n",
       "    <tr>\n",
       "      <th>50%</th>\n",
       "      <td>-3.778204e-02</td>\n",
       "      <td>-3.676201e-02</td>\n",
       "      <td>-7.956967e-01</td>\n",
       "      <td>-1.538646e-01</td>\n",
       "      <td>-5.570451e-01</td>\n",
       "      <td>-3.374541e-01</td>\n",
       "      <td>-3.492547e-01</td>\n",
       "      <td>2.039731e-02</td>\n",
       "      <td>-3.900833e-01</td>\n",
       "      <td>-3.106935e-01</td>\n",
       "      <td>...</td>\n",
       "      <td>-2.167811e-01</td>\n",
       "      <td>-1.093473e-01</td>\n",
       "      <td>-1.943116e-01</td>\n",
       "      <td>-2.035106e-01</td>\n",
       "      <td>-2.396732e-01</td>\n",
       "      <td>-0.163875</td>\n",
       "      <td>-1.855569e-01</td>\n",
       "      <td>-1.400486e-01</td>\n",
       "      <td>-1.876243e-01</td>\n",
       "      <td>-3.114050e-01</td>\n",
       "    </tr>\n",
       "    <tr>\n",
       "      <th>75%</th>\n",
       "      <td>9.089859e-01</td>\n",
       "      <td>7.494578e-01</td>\n",
       "      <td>1.256760e+00</td>\n",
       "      <td>-1.538646e-01</td>\n",
       "      <td>-5.570451e-01</td>\n",
       "      <td>-3.374541e-01</td>\n",
       "      <td>-3.492547e-01</td>\n",
       "      <td>7.611472e-01</td>\n",
       "      <td>-1.280955e-02</td>\n",
       "      <td>-3.106935e-01</td>\n",
       "      <td>...</td>\n",
       "      <td>-2.167811e-01</td>\n",
       "      <td>-1.093473e-01</td>\n",
       "      <td>-1.943116e-01</td>\n",
       "      <td>-2.035106e-01</td>\n",
       "      <td>-2.396732e-01</td>\n",
       "      <td>-0.163875</td>\n",
       "      <td>-1.855569e-01</td>\n",
       "      <td>-1.400486e-01</td>\n",
       "      <td>-1.876243e-01</td>\n",
       "      <td>-3.114050e-01</td>\n",
       "    </tr>\n",
       "    <tr>\n",
       "      <th>max</th>\n",
       "      <td>1.666400e+00</td>\n",
       "      <td>2.321897e+00</td>\n",
       "      <td>1.256760e+00</td>\n",
       "      <td>6.499221e+00</td>\n",
       "      <td>1.795187e+00</td>\n",
       "      <td>2.963366e+00</td>\n",
       "      <td>2.863240e+00</td>\n",
       "      <td>2.242647e+00</td>\n",
       "      <td>9.167519e+00</td>\n",
       "      <td>1.089041e+01</td>\n",
       "      <td>...</td>\n",
       "      <td>4.612948e+00</td>\n",
       "      <td>9.145171e+00</td>\n",
       "      <td>5.146372e+00</td>\n",
       "      <td>4.913749e+00</td>\n",
       "      <td>4.172348e+00</td>\n",
       "      <td>6.102206</td>\n",
       "      <td>5.389183e+00</td>\n",
       "      <td>7.140379e+00</td>\n",
       "      <td>5.329801e+00</td>\n",
       "      <td>3.211253e+00</td>\n",
       "    </tr>\n",
       "  </tbody>\n",
       "</table>\n",
       "<p>8 rows × 98 columns</p>\n",
       "</div>"
      ],
      "text/plain": [
       "             season         round  weather_warm  weather_cold   weather_dry  \\\n",
       "count  1.388000e+04  1.388000e+04  1.388000e+04  1.388000e+04  1.388000e+04   \n",
       "mean   4.193636e-15  1.474325e-16 -4.914417e-17 -1.638139e-17  9.828833e-17   \n",
       "std    1.000036e+00  1.000036e+00  1.000036e+00  1.000036e+00  1.000036e+00   \n",
       "min   -1.647288e+00 -1.609202e+00 -7.956967e-01 -1.538646e-01 -5.570451e-01   \n",
       "25%   -8.898732e-01 -8.229818e-01 -7.956967e-01 -1.538646e-01 -5.570451e-01   \n",
       "50%   -3.778204e-02 -3.676201e-02 -7.956967e-01 -1.538646e-01 -5.570451e-01   \n",
       "75%    9.089859e-01  7.494578e-01  1.256760e+00 -1.538646e-01 -5.570451e-01   \n",
       "max    1.666400e+00  2.321897e+00  1.256760e+00  6.499221e+00  1.795187e+00   \n",
       "\n",
       "        weather_wet  weather_cloudy          grid  driver_points  \\\n",
       "count  1.388000e+04    1.388000e+04  1.388000e+04   1.388000e+04   \n",
       "mean   2.457208e-17    3.890580e-17  1.064790e-16   6.552555e-17   \n",
       "std    1.000036e+00    1.000036e+00  1.000036e+00   1.000036e+00   \n",
       "min   -3.374541e-01   -3.492547e-01 -1.609252e+00  -4.655381e-01   \n",
       "25%   -3.374541e-01   -3.492547e-01 -8.685026e-01  -4.655381e-01   \n",
       "50%   -3.374541e-01   -3.492547e-01  2.039731e-02  -3.900833e-01   \n",
       "75%   -3.374541e-01   -3.492547e-01  7.611472e-01  -1.280955e-02   \n",
       "max    2.963366e+00    2.863240e+00  2.242647e+00   9.167519e+00   \n",
       "\n",
       "        driver_wins  ...  constructor_minardi  constructor_prost  \\\n",
       "count  1.388000e+04  ...         1.388000e+04       1.388000e+04   \n",
       "mean   2.457208e-17  ...        -1.638139e-17       1.638139e-17   \n",
       "std    1.000036e+00  ...         1.000036e+00       1.000036e+00   \n",
       "min   -3.106935e-01  ...        -2.167811e-01      -1.093473e-01   \n",
       "25%   -3.106935e-01  ...        -2.167811e-01      -1.093473e-01   \n",
       "50%   -3.106935e-01  ...        -2.167811e-01      -1.093473e-01   \n",
       "75%   -3.106935e-01  ...        -2.167811e-01      -1.093473e-01   \n",
       "max    1.089041e+01  ...         4.612948e+00       9.145171e+00   \n",
       "\n",
       "       constructor_red_bull  constructor_renault  constructor_sauber  \\\n",
       "count          1.388000e+04         1.388000e+04        1.388000e+04   \n",
       "mean          -1.638139e-17         1.638139e-17       -2.457208e-17   \n",
       "std            1.000036e+00         1.000036e+00        1.000036e+00   \n",
       "min           -1.943116e-01        -2.035106e-01       -2.396732e-01   \n",
       "25%           -1.943116e-01        -2.035106e-01       -2.396732e-01   \n",
       "50%           -1.943116e-01        -2.035106e-01       -2.396732e-01   \n",
       "75%           -1.943116e-01        -2.035106e-01       -2.396732e-01   \n",
       "max            5.146372e+00         4.913749e+00        4.172348e+00   \n",
       "\n",
       "       constructor_team_lotus  constructor_toro_rosso  constructor_toyota  \\\n",
       "count            13880.000000            1.388000e+04        1.388000e+04   \n",
       "mean                 0.000000            3.276278e-17       -1.638139e-17   \n",
       "std                  1.000036            1.000036e+00        1.000036e+00   \n",
       "min                 -0.163875           -1.855569e-01       -1.400486e-01   \n",
       "25%                 -0.163875           -1.855569e-01       -1.400486e-01   \n",
       "50%                 -0.163875           -1.855569e-01       -1.400486e-01   \n",
       "75%                 -0.163875           -1.855569e-01       -1.400486e-01   \n",
       "max                  6.102206            5.389183e+00        7.140379e+00   \n",
       "\n",
       "       constructor_tyrrell  constructor_williams  \n",
       "count         1.388000e+04          1.388000e+04  \n",
       "mean         -3.276278e-17          3.890580e-17  \n",
       "std           1.000036e+00          1.000036e+00  \n",
       "min          -1.876243e-01         -3.114050e-01  \n",
       "25%          -1.876243e-01         -3.114050e-01  \n",
       "50%          -1.876243e-01         -3.114050e-01  \n",
       "75%          -1.876243e-01         -3.114050e-01  \n",
       "max           5.329801e+00          3.211253e+00  \n",
       "\n",
       "[8 rows x 98 columns]"
      ]
     },
     "execution_count": 9,
     "metadata": {},
     "output_type": "execute_result"
    }
   ],
   "source": [
    "X_train.describe()"
   ]
  },
  {
   "cell_type": "markdown",
   "metadata": {},
   "source": [
    "# Create Test Datasets for Regression"
   ]
  },
  {
   "cell_type": "code",
   "execution_count": 10,
   "metadata": {},
   "outputs": [],
   "source": [
    "for circuit in df[df.season == 2019]['round'].unique():\n",
    "\n",
    "    test = df[(df.season == 2019) & (df['round'] == circuit)]\n",
    "    X_test = test.drop(['driver', 'podium'], axis = 1)\n",
    "    y_test = test.podium\n",
    "\n",
    "    #scaling\n",
    "    X_test = pd.DataFrame(scaler.transform(X_test), columns = X_test.columns)"
   ]
  },
  {
   "cell_type": "code",
   "execution_count": 11,
   "metadata": {},
   "outputs": [
    {
     "data": {
      "text/html": [
       "<div>\n",
       "<style scoped>\n",
       "    .dataframe tbody tr th:only-of-type {\n",
       "        vertical-align: middle;\n",
       "    }\n",
       "\n",
       "    .dataframe tbody tr th {\n",
       "        vertical-align: top;\n",
       "    }\n",
       "\n",
       "    .dataframe thead th {\n",
       "        text-align: right;\n",
       "    }\n",
       "</style>\n",
       "<table border=\"1\" class=\"dataframe\">\n",
       "  <thead>\n",
       "    <tr style=\"text-align: right;\">\n",
       "      <th></th>\n",
       "      <th>season</th>\n",
       "      <th>round</th>\n",
       "      <th>weather_warm</th>\n",
       "      <th>weather_cold</th>\n",
       "      <th>weather_dry</th>\n",
       "      <th>weather_wet</th>\n",
       "      <th>weather_cloudy</th>\n",
       "      <th>grid</th>\n",
       "      <th>driver_points</th>\n",
       "      <th>driver_wins</th>\n",
       "      <th>...</th>\n",
       "      <th>constructor_minardi</th>\n",
       "      <th>constructor_prost</th>\n",
       "      <th>constructor_red_bull</th>\n",
       "      <th>constructor_renault</th>\n",
       "      <th>constructor_sauber</th>\n",
       "      <th>constructor_team_lotus</th>\n",
       "      <th>constructor_toro_rosso</th>\n",
       "      <th>constructor_toyota</th>\n",
       "      <th>constructor_tyrrell</th>\n",
       "      <th>constructor_williams</th>\n",
       "    </tr>\n",
       "  </thead>\n",
       "  <tbody>\n",
       "    <tr>\n",
       "      <th>count</th>\n",
       "      <td>20.000000</td>\n",
       "      <td>2.000000e+01</td>\n",
       "      <td>2.000000e+01</td>\n",
       "      <td>2.000000e+01</td>\n",
       "      <td>2.000000e+01</td>\n",
       "      <td>2.000000e+01</td>\n",
       "      <td>20.000000</td>\n",
       "      <td>20.000000</td>\n",
       "      <td>20.000000</td>\n",
       "      <td>20.000000</td>\n",
       "      <td>...</td>\n",
       "      <td>2.000000e+01</td>\n",
       "      <td>2.000000e+01</td>\n",
       "      <td>20.000000</td>\n",
       "      <td>20.000000</td>\n",
       "      <td>2.000000e+01</td>\n",
       "      <td>2.000000e+01</td>\n",
       "      <td>20.000000</td>\n",
       "      <td>2.000000e+01</td>\n",
       "      <td>20.000000</td>\n",
       "      <td>20.000000</td>\n",
       "    </tr>\n",
       "    <tr>\n",
       "      <th>mean</th>\n",
       "      <td>1.761077</td>\n",
       "      <td>2.321897e+00</td>\n",
       "      <td>1.256760e+00</td>\n",
       "      <td>-1.538646e-01</td>\n",
       "      <td>-5.570451e-01</td>\n",
       "      <td>-3.374541e-01</td>\n",
       "      <td>-0.349255</td>\n",
       "      <td>-0.201828</td>\n",
       "      <td>2.097408</td>\n",
       "      <td>0.550930</td>\n",
       "      <td>...</td>\n",
       "      <td>-2.167811e-01</td>\n",
       "      <td>-1.093473e-01</td>\n",
       "      <td>0.339757</td>\n",
       "      <td>0.308215</td>\n",
       "      <td>-2.396732e-01</td>\n",
       "      <td>-1.638752e-01</td>\n",
       "      <td>0.371917</td>\n",
       "      <td>-1.400486e-01</td>\n",
       "      <td>-0.187624</td>\n",
       "      <td>0.040861</td>\n",
       "    </tr>\n",
       "    <tr>\n",
       "      <th>std</th>\n",
       "      <td>0.000000</td>\n",
       "      <td>4.556259e-16</td>\n",
       "      <td>2.278130e-16</td>\n",
       "      <td>2.847662e-17</td>\n",
       "      <td>1.139065e-16</td>\n",
       "      <td>5.695324e-17</td>\n",
       "      <td>0.000000</td>\n",
       "      <td>0.876467</td>\n",
       "      <td>2.947319</td>\n",
       "      <td>2.073180</td>\n",
       "      <td>...</td>\n",
       "      <td>2.847662e-17</td>\n",
       "      <td>1.423831e-17</td>\n",
       "      <td>1.643828</td>\n",
       "      <td>1.575059</td>\n",
       "      <td>2.847662e-17</td>\n",
       "      <td>2.847662e-17</td>\n",
       "      <td>1.715869</td>\n",
       "      <td>2.847662e-17</td>\n",
       "      <td>0.000000</td>\n",
       "      <td>1.084251</td>\n",
       "    </tr>\n",
       "    <tr>\n",
       "      <th>min</th>\n",
       "      <td>1.761077</td>\n",
       "      <td>2.321897e+00</td>\n",
       "      <td>1.256760e+00</td>\n",
       "      <td>-1.538646e-01</td>\n",
       "      <td>-5.570451e-01</td>\n",
       "      <td>-3.374541e-01</td>\n",
       "      <td>-0.349255</td>\n",
       "      <td>-1.609252</td>\n",
       "      <td>-0.465538</td>\n",
       "      <td>-0.310694</td>\n",
       "      <td>...</td>\n",
       "      <td>-2.167811e-01</td>\n",
       "      <td>-1.093473e-01</td>\n",
       "      <td>-0.194312</td>\n",
       "      <td>-0.203511</td>\n",
       "      <td>-2.396732e-01</td>\n",
       "      <td>-1.638752e-01</td>\n",
       "      <td>-0.185557</td>\n",
       "      <td>-1.400486e-01</td>\n",
       "      <td>-0.187624</td>\n",
       "      <td>-0.311405</td>\n",
       "    </tr>\n",
       "    <tr>\n",
       "      <th>25%</th>\n",
       "      <td>1.761077</td>\n",
       "      <td>2.321897e+00</td>\n",
       "      <td>1.256760e+00</td>\n",
       "      <td>-1.538646e-01</td>\n",
       "      <td>-5.570451e-01</td>\n",
       "      <td>-3.374541e-01</td>\n",
       "      <td>-0.349255</td>\n",
       "      <td>-0.905540</td>\n",
       "      <td>0.056357</td>\n",
       "      <td>-0.310694</td>\n",
       "      <td>...</td>\n",
       "      <td>-2.167811e-01</td>\n",
       "      <td>-1.093473e-01</td>\n",
       "      <td>-0.194312</td>\n",
       "      <td>-0.203511</td>\n",
       "      <td>-2.396732e-01</td>\n",
       "      <td>-1.638752e-01</td>\n",
       "      <td>-0.185557</td>\n",
       "      <td>-1.400486e-01</td>\n",
       "      <td>-0.187624</td>\n",
       "      <td>-0.311405</td>\n",
       "    </tr>\n",
       "    <tr>\n",
       "      <th>50%</th>\n",
       "      <td>1.761077</td>\n",
       "      <td>2.321897e+00</td>\n",
       "      <td>1.256760e+00</td>\n",
       "      <td>-1.538646e-01</td>\n",
       "      <td>-5.570451e-01</td>\n",
       "      <td>-3.374541e-01</td>\n",
       "      <td>-0.349255</td>\n",
       "      <td>-0.201828</td>\n",
       "      <td>0.678859</td>\n",
       "      <td>-0.310694</td>\n",
       "      <td>...</td>\n",
       "      <td>-2.167811e-01</td>\n",
       "      <td>-1.093473e-01</td>\n",
       "      <td>-0.194312</td>\n",
       "      <td>-0.203511</td>\n",
       "      <td>-2.396732e-01</td>\n",
       "      <td>-1.638752e-01</td>\n",
       "      <td>-0.185557</td>\n",
       "      <td>-1.400486e-01</td>\n",
       "      <td>-0.187624</td>\n",
       "      <td>-0.311405</td>\n",
       "    </tr>\n",
       "    <tr>\n",
       "      <th>75%</th>\n",
       "      <td>1.761077</td>\n",
       "      <td>2.321897e+00</td>\n",
       "      <td>1.256760e+00</td>\n",
       "      <td>-1.538646e-01</td>\n",
       "      <td>-5.570451e-01</td>\n",
       "      <td>-3.374541e-01</td>\n",
       "      <td>-0.349255</td>\n",
       "      <td>0.501885</td>\n",
       "      <td>2.772728</td>\n",
       "      <td>-0.095288</td>\n",
       "      <td>...</td>\n",
       "      <td>-2.167811e-01</td>\n",
       "      <td>-1.093473e-01</td>\n",
       "      <td>-0.194312</td>\n",
       "      <td>-0.203511</td>\n",
       "      <td>-2.396732e-01</td>\n",
       "      <td>-1.638752e-01</td>\n",
       "      <td>-0.185557</td>\n",
       "      <td>-1.400486e-01</td>\n",
       "      <td>-0.187624</td>\n",
       "      <td>-0.311405</td>\n",
       "    </tr>\n",
       "    <tr>\n",
       "      <th>max</th>\n",
       "      <td>1.761077</td>\n",
       "      <td>2.321897e+00</td>\n",
       "      <td>1.256760e+00</td>\n",
       "      <td>-1.538646e-01</td>\n",
       "      <td>-5.570451e-01</td>\n",
       "      <td>-3.374541e-01</td>\n",
       "      <td>-0.349255</td>\n",
       "      <td>1.205597</td>\n",
       "      <td>9.268125</td>\n",
       "      <td>8.305542</td>\n",
       "      <td>...</td>\n",
       "      <td>-2.167811e-01</td>\n",
       "      <td>-1.093473e-01</td>\n",
       "      <td>5.146372</td>\n",
       "      <td>4.913749</td>\n",
       "      <td>-2.396732e-01</td>\n",
       "      <td>-1.638752e-01</td>\n",
       "      <td>5.389183</td>\n",
       "      <td>-1.400486e-01</td>\n",
       "      <td>-0.187624</td>\n",
       "      <td>3.211253</td>\n",
       "    </tr>\n",
       "  </tbody>\n",
       "</table>\n",
       "<p>8 rows × 98 columns</p>\n",
       "</div>"
      ],
      "text/plain": [
       "          season         round  weather_warm  weather_cold   weather_dry  \\\n",
       "count  20.000000  2.000000e+01  2.000000e+01  2.000000e+01  2.000000e+01   \n",
       "mean    1.761077  2.321897e+00  1.256760e+00 -1.538646e-01 -5.570451e-01   \n",
       "std     0.000000  4.556259e-16  2.278130e-16  2.847662e-17  1.139065e-16   \n",
       "min     1.761077  2.321897e+00  1.256760e+00 -1.538646e-01 -5.570451e-01   \n",
       "25%     1.761077  2.321897e+00  1.256760e+00 -1.538646e-01 -5.570451e-01   \n",
       "50%     1.761077  2.321897e+00  1.256760e+00 -1.538646e-01 -5.570451e-01   \n",
       "75%     1.761077  2.321897e+00  1.256760e+00 -1.538646e-01 -5.570451e-01   \n",
       "max     1.761077  2.321897e+00  1.256760e+00 -1.538646e-01 -5.570451e-01   \n",
       "\n",
       "        weather_wet  weather_cloudy       grid  driver_points  driver_wins  \\\n",
       "count  2.000000e+01       20.000000  20.000000      20.000000    20.000000   \n",
       "mean  -3.374541e-01       -0.349255  -0.201828       2.097408     0.550930   \n",
       "std    5.695324e-17        0.000000   0.876467       2.947319     2.073180   \n",
       "min   -3.374541e-01       -0.349255  -1.609252      -0.465538    -0.310694   \n",
       "25%   -3.374541e-01       -0.349255  -0.905540       0.056357    -0.310694   \n",
       "50%   -3.374541e-01       -0.349255  -0.201828       0.678859    -0.310694   \n",
       "75%   -3.374541e-01       -0.349255   0.501885       2.772728    -0.095288   \n",
       "max   -3.374541e-01       -0.349255   1.205597       9.268125     8.305542   \n",
       "\n",
       "       ...  constructor_minardi  constructor_prost  constructor_red_bull  \\\n",
       "count  ...         2.000000e+01       2.000000e+01             20.000000   \n",
       "mean   ...        -2.167811e-01      -1.093473e-01              0.339757   \n",
       "std    ...         2.847662e-17       1.423831e-17              1.643828   \n",
       "min    ...        -2.167811e-01      -1.093473e-01             -0.194312   \n",
       "25%    ...        -2.167811e-01      -1.093473e-01             -0.194312   \n",
       "50%    ...        -2.167811e-01      -1.093473e-01             -0.194312   \n",
       "75%    ...        -2.167811e-01      -1.093473e-01             -0.194312   \n",
       "max    ...        -2.167811e-01      -1.093473e-01              5.146372   \n",
       "\n",
       "       constructor_renault  constructor_sauber  constructor_team_lotus  \\\n",
       "count            20.000000        2.000000e+01            2.000000e+01   \n",
       "mean              0.308215       -2.396732e-01           -1.638752e-01   \n",
       "std               1.575059        2.847662e-17            2.847662e-17   \n",
       "min              -0.203511       -2.396732e-01           -1.638752e-01   \n",
       "25%              -0.203511       -2.396732e-01           -1.638752e-01   \n",
       "50%              -0.203511       -2.396732e-01           -1.638752e-01   \n",
       "75%              -0.203511       -2.396732e-01           -1.638752e-01   \n",
       "max               4.913749       -2.396732e-01           -1.638752e-01   \n",
       "\n",
       "       constructor_toro_rosso  constructor_toyota  constructor_tyrrell  \\\n",
       "count               20.000000        2.000000e+01            20.000000   \n",
       "mean                 0.371917       -1.400486e-01            -0.187624   \n",
       "std                  1.715869        2.847662e-17             0.000000   \n",
       "min                 -0.185557       -1.400486e-01            -0.187624   \n",
       "25%                 -0.185557       -1.400486e-01            -0.187624   \n",
       "50%                 -0.185557       -1.400486e-01            -0.187624   \n",
       "75%                 -0.185557       -1.400486e-01            -0.187624   \n",
       "max                  5.389183       -1.400486e-01            -0.187624   \n",
       "\n",
       "       constructor_williams  \n",
       "count             20.000000  \n",
       "mean               0.040861  \n",
       "std                1.084251  \n",
       "min               -0.311405  \n",
       "25%               -0.311405  \n",
       "50%               -0.311405  \n",
       "75%               -0.311405  \n",
       "max                3.211253  \n",
       "\n",
       "[8 rows x 98 columns]"
      ]
     },
     "execution_count": 11,
     "metadata": {},
     "output_type": "execute_result"
    }
   ],
   "source": [
    "X_test.describe()"
   ]
  },
  {
   "cell_type": "code",
   "execution_count": 12,
   "metadata": {},
   "outputs": [
    {
     "data": {
      "text/plain": [
       "count    20.000000\n",
       "mean      0.050000\n",
       "std       0.223607\n",
       "min       0.000000\n",
       "25%       0.000000\n",
       "50%       0.000000\n",
       "75%       0.000000\n",
       "max       1.000000\n",
       "Name: podium, dtype: float64"
      ]
     },
     "execution_count": 12,
     "metadata": {},
     "output_type": "execute_result"
    }
   ],
   "source": [
    "y_test.describe()"
   ]
  },
  {
   "cell_type": "code",
   "execution_count": 82,
   "metadata": {},
   "outputs": [
    {
     "name": "stdout",
     "output_type": "stream",
     "text": [
      "Index(['season', 'round', 'weather_warm', 'weather_cold', 'weather_dry',\n",
      "       'weather_wet', 'weather_cloudy', 'grid', 'driver_points', 'driver_wins',\n",
      "       'driver_standings_pos', 'constructor_points', 'constructor_wins',\n",
      "       'constructor_standings_pos', 'qualifying_time', 'driver_age',\n",
      "       'circuit_id_BAK', 'circuit_id_adelaide', 'circuit_id_albert_park',\n",
      "       'circuit_id_americas', 'circuit_id_bahrain', 'circuit_id_brands_hatch',\n",
      "       'circuit_id_catalunya', 'circuit_id_detroit', 'circuit_id_estoril',\n",
      "       'circuit_id_galvez', 'circuit_id_hockenheimring',\n",
      "       'circuit_id_hungaroring', 'circuit_id_imola', 'circuit_id_indianapolis',\n",
      "       'circuit_id_interlagos', 'circuit_id_istanbul',\n",
      "       'circuit_id_jacarepagua', 'circuit_id_jerez', 'circuit_id_kyalami',\n",
      "       'circuit_id_magny_cours', 'circuit_id_marina_bay', 'circuit_id_monaco',\n",
      "       'circuit_id_monza', 'circuit_id_nurburgring',\n",
      "       'circuit_id_osterreichring', 'circuit_id_phoenix',\n",
      "       'circuit_id_red_bull_ring', 'circuit_id_ricard', 'circuit_id_rodriguez',\n",
      "       'circuit_id_sepang', 'circuit_id_shanghai', 'circuit_id_silverstone',\n",
      "       'circuit_id_sochi', 'circuit_id_spa', 'circuit_id_suzuka',\n",
      "       'circuit_id_valencia', 'circuit_id_villeneuve', 'circuit_id_yas_marina',\n",
      "       'circuit_id_yeongam', 'circuit_id_zandvoort', 'nationality_American',\n",
      "       'nationality_Australian', 'nationality_Austrian', 'nationality_Belgian',\n",
      "       'nationality_Brazilian', 'nationality_British', 'nationality_Canadian',\n",
      "       'nationality_Dutch', 'nationality_Finnish', 'nationality_French',\n",
      "       'nationality_German', 'nationality_Italian', 'nationality_Japanese',\n",
      "       'nationality_Mexican', 'nationality_Russian', 'nationality_Spanish',\n",
      "       'nationality_Swedish', 'constructor_arrows', 'constructor_bar',\n",
      "       'constructor_benetton', 'constructor_brabham', 'constructor_ferrari',\n",
      "       'constructor_footwork', 'constructor_force_india', 'constructor_haas',\n",
      "       'constructor_jaguar', 'constructor_jordan', 'constructor_larrousse',\n",
      "       'constructor_ligier', 'constructor_lotus_f1', 'constructor_mclaren',\n",
      "       'constructor_mercedes', 'constructor_minardi', 'constructor_prost',\n",
      "       'constructor_red_bull', 'constructor_renault', 'constructor_sauber',\n",
      "       'constructor_team_lotus', 'constructor_toro_rosso',\n",
      "       'constructor_toyota', 'constructor_tyrrell', 'constructor_williams'],\n",
      "      dtype='object')\n"
     ]
    }
   ],
   "source": [
    "print(X_test.columns)"
   ]
  },
  {
   "cell_type": "markdown",
   "metadata": {},
   "source": [
    "## Functions to compare Model Score between Training & Test Datasets"
   ]
  },
  {
   "cell_type": "code",
   "execution_count": 13,
   "metadata": {},
   "outputs": [],
   "source": [
    "def score_classification(model):\n",
    "    score = 0\n",
    "    acc = 0\n",
    "    for circuit in df[df.season == 2019]['round'].unique():\n",
    "\n",
    "        test = df[(df.season == 2019) & (df['round'] == circuit)]\n",
    "        X_test = test.drop(['driver', 'podium'], axis = 1)\n",
    "        y_test = test.podium\n",
    "\n",
    "        #scaling\n",
    "        X_test = pd.DataFrame(scaler.transform(X_test), columns = X_test.columns)\n",
    "\n",
    "        # make predictions\n",
    "        prediction_df = pd.DataFrame(model.predict_proba(X_test), columns = ['proba_0', 'proba_1'])\n",
    "        prediction_df['actual'] = y_test.reset_index(drop = True)\n",
    "        prediction_df.sort_values('proba_1', ascending = False, inplace = True)\n",
    "        prediction_df.reset_index(inplace = True, drop = True)\n",
    "        prediction_df['predicted'] = prediction_df.index\n",
    "        prediction_df['predicted'] = prediction_df.predicted.map(lambda x: 1 if x == 0 else 0)\n",
    "\n",
    "        # Evaluate the classifier precision using the test set\n",
    "        score += precision_score(prediction_df.actual, prediction_df.predicted)\n",
    "        \n",
    "        # Evaluate the classifier accuracy using the test set\n",
    "        acc += accuracy_score(prediction_df.actual, prediction_df.predicted)\n",
    "\n",
    "    model_score = score / df[df.season == 2019]['round'].unique().max()\n",
    "    model_acc = acc / df[df.season == 2019]['round'].unique().max()\n",
    "    return model_score, model_acc"
   ]
  },
  {
   "cell_type": "code",
   "execution_count": 14,
   "metadata": {},
   "outputs": [],
   "source": [
    "import pickle\n",
    "\n",
    "def save_model(model, model_filepath):\n",
    "    \"\"\"\n",
    "    Export your model as a pickle file.\n",
    "    Saves trained model as pickle file to be loaded later.\n",
    "    \n",
    "    \"\"\"\n",
    "    \n",
    "    filename = model_filepath\n",
    "    pickle.dump(model, open(filename, 'wb'))"
   ]
  },
  {
   "cell_type": "markdown",
   "metadata": {},
   "source": [
    "## Structure to store Models Results"
   ]
  },
  {
   "cell_type": "code",
   "execution_count": 15,
   "metadata": {},
   "outputs": [],
   "source": [
    "comparison_dict ={'modelname':[],\n",
    "                  'params': [],\n",
    "                  'score': [],\n",
    "                  'model':[]}"
   ]
  },
  {
   "cell_type": "markdown",
   "metadata": {},
   "source": [
    "## --------------------------------------\n",
    "## Classification ML\n",
    "## --------------------------------------"
   ]
  },
  {
   "cell_type": "markdown",
   "metadata": {},
   "source": [
    "## Logistic Regression"
   ]
  },
  {
   "cell_type": "code",
   "execution_count": 16,
   "metadata": {},
   "outputs": [],
   "source": [
    "penalty='l2'\n",
    "solver='liblinear'\n",
    "c=10.0"
   ]
  },
  {
   "cell_type": "code",
   "execution_count": 17,
   "metadata": {},
   "outputs": [],
   "source": [
    "# Logistic Regression\n",
    "\n",
    "model_params = (penalty, solver, c)\n",
    "model = LogisticRegression(penalty = penalty, solver = solver, C = c, max_iter = 10000)\n",
    "model.fit(X_train, y_train)\n",
    "\n",
    "model_score, model_acc = score_classification(model)\n",
    "\n",
    "comparison_dict['modelname'].append('logistic_regression')\n",
    "comparison_dict['params'].append(model_params)\n",
    "comparison_dict['score'].append(model_score)\n",
    "comparison_dict['model'].append(model)"
   ]
  },
  {
   "cell_type": "code",
   "execution_count": 18,
   "metadata": {},
   "outputs": [
    {
     "name": "stdout",
     "output_type": "stream",
     "text": [
      "0.5714285714285714\n"
     ]
    }
   ],
   "source": [
    "print(model_score)"
   ]
  },
  {
   "cell_type": "code",
   "execution_count": 19,
   "metadata": {},
   "outputs": [
    {
     "name": "stdout",
     "output_type": "stream",
     "text": [
      "0.9526733500417712\n"
     ]
    }
   ],
   "source": [
    "print(model_acc)"
   ]
  },
  {
   "cell_type": "code",
   "execution_count": 20,
   "metadata": {},
   "outputs": [
    {
     "name": "stdout",
     "output_type": "stream",
     "text": [
      "Saving model ...\n",
      "    MODEL: ./models/logistic_regression.pkl\n"
     ]
    }
   ],
   "source": [
    "model_filepath='./models/{}.pkl'.format('logistic_regression')\n",
    "print('Saving model ...\\n    MODEL: {}'.format(model_filepath))\n",
    "save_model(model, model_filepath)"
   ]
  },
  {
   "cell_type": "code",
   "execution_count": 21,
   "metadata": {},
   "outputs": [
    {
     "data": {
      "text/plain": [
       "array([-2.2694e-01, -1.7354e-01,  2.8404e-04, -6.0928e-03,  1.2251e-02,\n",
       "        2.9918e-03,  2.6760e-02, -2.9075e+00,  3.7240e-01,  2.4918e-02,\n",
       "       -1.2878e-01, -4.2149e-01,  1.8333e-01, -2.2746e-01, -5.6369e-01,\n",
       "        1.9438e-01, -1.1070e-03, -3.1973e-02, -4.8921e-02, -1.7921e-02,\n",
       "       -6.6332e-03,  1.9297e-02, -2.5435e-02,  1.7515e-02, -2.0371e-02,\n",
       "       -1.7501e-02, -1.9764e-02, -2.4484e-02, -7.1499e-03,  3.1086e-03,\n",
       "       -1.3975e-02, -6.9478e-03, -1.8698e-02, -2.4780e-02, -3.8184e-03,\n",
       "       -1.1742e-02, -3.2525e-02, -1.1901e-02, -1.5051e-02, -1.0202e-02,\n",
       "        3.6735e-03, -1.3587e-02,  1.0311e-02, -3.8877e-03, -2.0172e-02,\n",
       "       -4.5690e-03, -3.2125e-03, -2.8939e-02, -1.7317e-03, -1.4117e-02,\n",
       "       -3.5614e-02, -7.0741e-03, -2.5314e-02, -2.4732e-02, -2.4280e-02,\n",
       "        5.9715e-03, -4.6467e-01, -1.0473e-01, -9.9377e-02,  1.0905e-02,\n",
       "       -4.4066e-02,  1.2270e-01,  8.7331e-02,  8.5550e-02, -5.4161e-02,\n",
       "       -9.4023e-02,  1.4168e-01, -2.6932e-01, -4.7063e-01, -2.1272e-01,\n",
       "       -3.9881e-01,  1.4367e-01, -4.6681e-01, -5.9450e-01, -6.5166e-01,\n",
       "        6.2164e-02,  1.3580e-02,  9.6238e-02, -3.0337e-01, -6.3986e-01,\n",
       "       -3.0997e-01, -4.3440e-01, -8.1497e-02, -2.2683e-01, -7.4252e-02,\n",
       "        4.1877e-02,  1.6630e-01,  1.0126e-01, -4.3522e-01, -3.8478e-01,\n",
       "        1.8105e-01,  3.8912e-02, -8.6177e-01, -8.4642e-02,  3.9322e-02,\n",
       "       -6.8005e-01,  7.3206e-02, -4.1077e-02])"
      ]
     },
     "execution_count": 21,
     "metadata": {},
     "output_type": "execute_result"
    }
   ],
   "source": [
    "# get importance\n",
    "importance = model.coef_[0]\n",
    "importance"
   ]
  },
  {
   "cell_type": "code",
   "execution_count": 22,
   "metadata": {},
   "outputs": [
    {
     "name": "stdout",
     "output_type": "stream",
     "text": [
      "Feature: 0, Score: -0.22694\n",
      "Feature: 1, Score: -0.17354\n",
      "Feature: 2, Score: 0.00028\n",
      "Feature: 3, Score: -0.00609\n",
      "Feature: 4, Score: 0.01225\n",
      "Feature: 5, Score: 0.00299\n",
      "Feature: 6, Score: 0.02676\n",
      "Feature: 7, Score: -2.90747\n",
      "Feature: 8, Score: 0.37240\n",
      "Feature: 9, Score: 0.02492\n",
      "Feature: 10, Score: -0.12878\n",
      "Feature: 11, Score: -0.42149\n",
      "Feature: 12, Score: 0.18333\n",
      "Feature: 13, Score: -0.22746\n",
      "Feature: 14, Score: -0.56369\n",
      "Feature: 15, Score: 0.19438\n",
      "Feature: 16, Score: -0.00111\n",
      "Feature: 17, Score: -0.03197\n",
      "Feature: 18, Score: -0.04892\n",
      "Feature: 19, Score: -0.01792\n",
      "Feature: 20, Score: -0.00663\n",
      "Feature: 21, Score: 0.01930\n",
      "Feature: 22, Score: -0.02543\n",
      "Feature: 23, Score: 0.01752\n",
      "Feature: 24, Score: -0.02037\n",
      "Feature: 25, Score: -0.01750\n",
      "Feature: 26, Score: -0.01976\n",
      "Feature: 27, Score: -0.02448\n",
      "Feature: 28, Score: -0.00715\n",
      "Feature: 29, Score: 0.00311\n",
      "Feature: 30, Score: -0.01397\n",
      "Feature: 31, Score: -0.00695\n",
      "Feature: 32, Score: -0.01870\n",
      "Feature: 33, Score: -0.02478\n",
      "Feature: 34, Score: -0.00382\n",
      "Feature: 35, Score: -0.01174\n",
      "Feature: 36, Score: -0.03253\n",
      "Feature: 37, Score: -0.01190\n",
      "Feature: 38, Score: -0.01505\n",
      "Feature: 39, Score: -0.01020\n",
      "Feature: 40, Score: 0.00367\n",
      "Feature: 41, Score: -0.01359\n",
      "Feature: 42, Score: 0.01031\n",
      "Feature: 43, Score: -0.00389\n",
      "Feature: 44, Score: -0.02017\n",
      "Feature: 45, Score: -0.00457\n",
      "Feature: 46, Score: -0.00321\n",
      "Feature: 47, Score: -0.02894\n",
      "Feature: 48, Score: -0.00173\n",
      "Feature: 49, Score: -0.01412\n",
      "Feature: 50, Score: -0.03561\n",
      "Feature: 51, Score: -0.00707\n",
      "Feature: 52, Score: -0.02531\n",
      "Feature: 53, Score: -0.02473\n",
      "Feature: 54, Score: -0.02428\n",
      "Feature: 55, Score: 0.00597\n",
      "Feature: 56, Score: -0.46467\n",
      "Feature: 57, Score: -0.10473\n",
      "Feature: 58, Score: -0.09938\n",
      "Feature: 59, Score: 0.01090\n",
      "Feature: 60, Score: -0.04407\n",
      "Feature: 61, Score: 0.12270\n",
      "Feature: 62, Score: 0.08733\n",
      "Feature: 63, Score: 0.08555\n",
      "Feature: 64, Score: -0.05416\n",
      "Feature: 65, Score: -0.09402\n",
      "Feature: 66, Score: 0.14168\n",
      "Feature: 67, Score: -0.26932\n",
      "Feature: 68, Score: -0.47063\n",
      "Feature: 69, Score: -0.21272\n",
      "Feature: 70, Score: -0.39881\n",
      "Feature: 71, Score: 0.14367\n",
      "Feature: 72, Score: -0.46681\n",
      "Feature: 73, Score: -0.59450\n",
      "Feature: 74, Score: -0.65166\n",
      "Feature: 75, Score: 0.06216\n",
      "Feature: 76, Score: 0.01358\n",
      "Feature: 77, Score: 0.09624\n",
      "Feature: 78, Score: -0.30337\n",
      "Feature: 79, Score: -0.63986\n",
      "Feature: 80, Score: -0.30997\n",
      "Feature: 81, Score: -0.43440\n",
      "Feature: 82, Score: -0.08150\n",
      "Feature: 83, Score: -0.22683\n",
      "Feature: 84, Score: -0.07425\n",
      "Feature: 85, Score: 0.04188\n",
      "Feature: 86, Score: 0.16630\n",
      "Feature: 87, Score: 0.10126\n",
      "Feature: 88, Score: -0.43522\n",
      "Feature: 89, Score: -0.38478\n",
      "Feature: 90, Score: 0.18105\n",
      "Feature: 91, Score: 0.03891\n",
      "Feature: 92, Score: -0.86177\n",
      "Feature: 93, Score: -0.08464\n",
      "Feature: 94, Score: 0.03932\n",
      "Feature: 95, Score: -0.68005\n",
      "Feature: 96, Score: 0.07321\n",
      "Feature: 97, Score: -0.04108\n"
     ]
    }
   ],
   "source": [
    "# summarize feature importance\n",
    "for i,v in enumerate(importance):\n",
    "\tprint('Feature: %0d, Score: %.5f' % (i,v))"
   ]
  },
  {
   "cell_type": "code",
   "execution_count": 23,
   "metadata": {},
   "outputs": [
    {
     "data": {
      "image/png": "[encoded data removed]",
      "text/plain": [
       "<Figure size 432x288 with 1 Axes>"
      ]
     },
     "metadata": {
      "needs_background": "light"
     },
     "output_type": "display_data"
    }
   ],
   "source": [
    "from matplotlib import pyplot\n",
    "# plot feature importance\n",
    "pyplot.bar([x for x in range(len(importance))], importance)\n",
    "pyplot.show()"
   ]
  },
  {
   "cell_type": "code",
   "execution_count": 24,
   "metadata": {},
   "outputs": [
    {
     "name": "stdout",
     "output_type": "stream",
     "text": [
      "Index(['season', 'round', 'weather_warm', 'weather_cold', 'weather_dry',\n",
      "       'weather_wet', 'weather_cloudy', 'grid', 'driver_points', 'driver_wins',\n",
      "       'driver_standings_pos', 'constructor_points', 'constructor_wins',\n",
      "       'constructor_standings_pos', 'qualifying_time', 'driver_age',\n",
      "       'circuit_id_BAK', 'circuit_id_adelaide', 'circuit_id_albert_park',\n",
      "       'circuit_id_americas', 'circuit_id_bahrain', 'circuit_id_brands_hatch',\n",
      "       'circuit_id_catalunya', 'circuit_id_detroit', 'circuit_id_estoril',\n",
      "       'circuit_id_galvez', 'circuit_id_hockenheimring',\n",
      "       'circuit_id_hungaroring', 'circuit_id_imola', 'circuit_id_indianapolis',\n",
      "       'circuit_id_interlagos', 'circuit_id_istanbul',\n",
      "       'circuit_id_jacarepagua', 'circuit_id_jerez', 'circuit_id_kyalami',\n",
      "       'circuit_id_magny_cours', 'circuit_id_marina_bay', 'circuit_id_monaco',\n",
      "       'circuit_id_monza', 'circuit_id_nurburgring',\n",
      "       'circuit_id_osterreichring', 'circuit_id_phoenix',\n",
      "       'circuit_id_red_bull_ring', 'circuit_id_ricard', 'circuit_id_rodriguez',\n",
      "       'circuit_id_sepang', 'circuit_id_shanghai', 'circuit_id_silverstone',\n",
      "       'circuit_id_sochi', 'circuit_id_spa', 'circuit_id_suzuka',\n",
      "       'circuit_id_valencia', 'circuit_id_villeneuve', 'circuit_id_yas_marina',\n",
      "       'circuit_id_yeongam', 'circuit_id_zandvoort', 'nationality_American',\n",
      "       'nationality_Australian', 'nationality_Austrian', 'nationality_Belgian',\n",
      "       'nationality_Brazilian', 'nationality_British', 'nationality_Canadian',\n",
      "       'nationality_Dutch', 'nationality_Finnish', 'nationality_French',\n",
      "       'nationality_German', 'nationality_Italian', 'nationality_Japanese',\n",
      "       'nationality_Mexican', 'nationality_Russian', 'nationality_Spanish',\n",
      "       'nationality_Swedish', 'constructor_arrows', 'constructor_bar',\n",
      "       'constructor_benetton', 'constructor_brabham', 'constructor_ferrari',\n",
      "       'constructor_footwork', 'constructor_force_india', 'constructor_haas',\n",
      "       'constructor_jaguar', 'constructor_jordan', 'constructor_larrousse',\n",
      "       'constructor_ligier', 'constructor_lotus_f1', 'constructor_mclaren',\n",
      "       'constructor_mercedes', 'constructor_minardi', 'constructor_prost',\n",
      "       'constructor_red_bull', 'constructor_renault', 'constructor_sauber',\n",
      "       'constructor_team_lotus', 'constructor_toro_rosso',\n",
      "       'constructor_toyota', 'constructor_tyrrell', 'constructor_williams'],\n",
      "      dtype='object')\n"
     ]
    }
   ],
   "source": [
    "print(X_train.columns)"
   ]
  },
  {
   "cell_type": "code",
   "execution_count": 25,
   "metadata": {},
   "outputs": [
    {
     "name": "stdout",
     "output_type": "stream",
     "text": [
      "The top 10 Feature importances are:\n",
      "\n",
      "driver_points, Score: 0.372\n",
      "driver_age, Score: 0.194\n",
      "constructor_wins, Score: 0.183\n",
      "constructor_red_bull, Score: 0.181\n",
      "constructor_mclaren, Score: 0.166\n",
      "nationality_Spanish, Score: 0.144\n",
      "nationality_German, Score: 0.142\n",
      "nationality_British, Score: 0.123\n",
      "constructor_mercedes, Score: 0.101\n",
      "constructor_ferrari, Score: 0.096\n"
     ]
    }
   ],
   "source": [
    "# Output importances \n",
    "imp_list = []\n",
    "for i,v in enumerate(importance):\n",
    "    imp_list.append((i, v))\n",
    "sorted_list = sorted(imp_list, key=lambda x: x[1], reverse=True)\n",
    "print('The top 10 Feature importances are:' '\\n')\n",
    "for f, i in sorted_list[:10]:\n",
    "    print(f'{X_train.columns[f]}, Score: {round(i, 3)}')"
   ]
  },
  {
   "cell_type": "code",
   "execution_count": 26,
   "metadata": {},
   "outputs": [
    {
     "data": {
      "image/png": "[encoded data removed]",
      "text/plain": [
       "<Figure size 432x288 with 1 Axes>"
      ]
     },
     "metadata": {
      "needs_background": "light"
     },
     "output_type": "display_data"
    }
   ],
   "source": [
    "from matplotlib import pyplot\n",
    "# Plot importances:\n",
    "pyplot.bar([x for x in range(len(importance))], importance)\n",
    "pyplot.ylim(0, 0.40)\n",
    "pyplot.show()"
   ]
  },
  {
   "cell_type": "code",
   "execution_count": 85,
   "metadata": {},
   "outputs": [
    {
     "data": {
      "image/png": "[encoded data removed]",
      "text/plain": [
       "<Figure size 842.4x595.44 with 1 Axes>"
      ]
     },
     "metadata": {
      "needs_background": "light"
     },
     "output_type": "display_data"
    }
   ],
   "source": [
    "import pandas as pd\n",
    "import matplotlib.pyplot as plt\n",
    "lr_importances = pd.Series([x for x in range(len(importance))], index=X_train.columns)\n",
    "\n",
    "fig, ax = plt.subplots()\n",
    "lr_importances.plot.bar(ax=ax)\n",
    "ax.set_title(\"Feature importances\")\n",
    "ax.set_ylabel(\"Mean decrease in impurity\")\n",
    "fig.tight_layout()"
   ]
  },
  {
   "cell_type": "markdown",
   "metadata": {},
   "source": [
    "## Random Forest Classifier"
   ]
  },
  {
   "cell_type": "code",
   "execution_count": 27,
   "metadata": {},
   "outputs": [],
   "source": [
    "criterion='gini'\n",
    "max_features='auto'\n",
    "max_depth=13.0"
   ]
  },
  {
   "cell_type": "code",
   "execution_count": 28,
   "metadata": {},
   "outputs": [],
   "source": [
    "# Random Forest Classifier\n",
    "model_params = (criterion, max_features, max_depth)\n",
    "model = RandomForestClassifier(criterion = criterion, max_features = max_features, max_depth = max_depth)\n",
    "model.fit(X_train, y_train)\n",
    "\n",
    "model_score,model_acc = score_classification(model)\n",
    "\n",
    "comparison_dict['modelname'].append('random_forest_classifier')\n",
    "comparison_dict['params'].append(model_params)\n",
    "comparison_dict['score'].append(model_score)\n",
    "comparison_dict['model'].append(model)"
   ]
  },
  {
   "cell_type": "code",
   "execution_count": 29,
   "metadata": {},
   "outputs": [
    {
     "name": "stdout",
     "output_type": "stream",
     "text": [
      "0.38095238095238093\n"
     ]
    }
   ],
   "source": [
    "print(model_score)"
   ]
  },
  {
   "cell_type": "code",
   "execution_count": 30,
   "metadata": {},
   "outputs": [
    {
     "name": "stdout",
     "output_type": "stream",
     "text": [
      "0.9319061542745753\n"
     ]
    }
   ],
   "source": [
    "print(model_acc)"
   ]
  },
  {
   "cell_type": "code",
   "execution_count": 31,
   "metadata": {},
   "outputs": [
    {
     "name": "stdout",
     "output_type": "stream",
     "text": [
      "Saving model ...\n",
      "    MODEL: ./models/random_forest_classifier.pkl\n"
     ]
    }
   ],
   "source": [
    "model_filepath='./models/{}.pkl'.format('random_forest_classifier')\n",
    "print('Saving model ...\\n    MODEL: {}'.format(model_filepath))\n",
    "save_model(model, model_filepath)"
   ]
  },
  {
   "cell_type": "markdown",
   "metadata": {},
   "source": [
    "## SVM Classifier"
   ]
  },
  {
   "cell_type": "code",
   "execution_count": 32,
   "metadata": {},
   "outputs": [],
   "source": [
    "gamma=0.0001438449888287663\n",
    "c=0.029763514416313176\n",
    "kernel='rbf'"
   ]
  },
  {
   "cell_type": "code",
   "execution_count": 33,
   "metadata": {},
   "outputs": [],
   "source": [
    "# Support Vector Machines\n",
    "\n",
    "model_params = (gamma, c, kernel)\n",
    "model = svm.SVC(probability = True, gamma = gamma, C = c, kernel = kernel )\n",
    "model.fit(X_train, y_train)\n",
    "\n",
    "model_score,model_acc = score_classification(model)\n",
    "\n",
    "comparison_dict['modelname'].append('svm_classifier')\n",
    "comparison_dict['params'].append(model_params)\n",
    "comparison_dict['score'].append(model_score)\n",
    "comparison_dict['model'].append(model)"
   ]
  },
  {
   "cell_type": "code",
   "execution_count": 34,
   "metadata": {},
   "outputs": [
    {
     "name": "stdout",
     "output_type": "stream",
     "text": [
      "0.42857142857142855\n"
     ]
    }
   ],
   "source": [
    "print(model_score)"
   ]
  },
  {
   "cell_type": "code",
   "execution_count": 35,
   "metadata": {},
   "outputs": [
    {
     "name": "stdout",
     "output_type": "stream",
     "text": [
      "0.9383876357560568\n"
     ]
    }
   ],
   "source": [
    "print(model_acc)"
   ]
  },
  {
   "cell_type": "code",
   "execution_count": 36,
   "metadata": {},
   "outputs": [
    {
     "name": "stdout",
     "output_type": "stream",
     "text": [
      "Saving model ...\n",
      "    MODEL: ./models/svm_classifier.pkl\n"
     ]
    }
   ],
   "source": [
    "model_filepath='./models/{}.pkl'.format('svm_classifier')\n",
    "print('Saving model ...\\n    MODEL: {}'.format(model_filepath))\n",
    "save_model(model, model_filepath)"
   ]
  },
  {
   "cell_type": "markdown",
   "metadata": {},
   "source": [
    "## Neural Network : MLP Classifier"
   ]
  },
  {
   "cell_type": "code",
   "execution_count": 37,
   "metadata": {},
   "outputs": [],
   "source": [
    "hidden_layer_sizes = (75, 25, 50, 10)\n",
    "activation = 'identity'\n",
    "solver = 'lbfgs'\n",
    "alpha = 0.01623776739188721"
   ]
  },
  {
   "cell_type": "code",
   "execution_count": 38,
   "metadata": {},
   "outputs": [],
   "source": [
    "# Neural network\n",
    "\n",
    "model_params = (hidden_layer_sizes, activation, solver, alpha )\n",
    "model = MLPClassifier(hidden_layer_sizes = hidden_layer_sizes,\n",
    "                      activation = activation, solver = solver, alpha = alpha, random_state = 1)\n",
    "model.fit(X_train, y_train)\n",
    "\n",
    "model_score, model_acc = score_classification(model)\n",
    "\n",
    "comparison_dict['modelname'].append('neural_network_classifier')\n",
    "comparison_dict['params'].append(model_params)\n",
    "comparison_dict['score'].append(model_score)\n",
    "comparison_dict['model'].append(model)"
   ]
  },
  {
   "cell_type": "code",
   "execution_count": 39,
   "metadata": {},
   "outputs": [
    {
     "name": "stdout",
     "output_type": "stream",
     "text": [
      "0.6190476190476191\n"
     ]
    }
   ],
   "source": [
    "print(model_score)"
   ]
  },
  {
   "cell_type": "code",
   "execution_count": 40,
   "metadata": {},
   "outputs": [
    {
     "name": "stdout",
     "output_type": "stream",
     "text": [
      "0.957685881370092\n"
     ]
    }
   ],
   "source": [
    "print(model_acc)"
   ]
  },
  {
   "cell_type": "code",
   "execution_count": 41,
   "metadata": {},
   "outputs": [
    {
     "name": "stdout",
     "output_type": "stream",
     "text": [
      "Saving model ...\n",
      "    MODEL: ./models/neural_network_classifier.pkl\n"
     ]
    }
   ],
   "source": [
    "model_filepath='./models/{}.pkl'.format('neural_network_classifier')\n",
    "print('Saving model ...\\n    MODEL: {}'.format(model_filepath))\n",
    "save_model(model, model_filepath)"
   ]
  },
  {
   "cell_type": "code",
   "execution_count": 42,
   "metadata": {},
   "outputs": [
    {
     "data": {
      "text/plain": [
       "array([[-0.0464,  0.0975, -0.196 , ..., -0.1404,  0.1092, -0.0401],\n",
       "       [-0.1175,  0.1462, -0.0525, ...,  0.0781,  0.019 , -0.1718],\n",
       "       [-0.1559,  0.1649,  0.0277, ..., -0.1313,  0.1159, -0.0555],\n",
       "       ...,\n",
       "       [-0.1777, -0.0107,  0.0239, ..., -0.0505, -0.0103,  0.1615],\n",
       "       [ 0.1071,  0.0939, -0.0988, ...,  0.0698, -0.0225, -0.0168],\n",
       "       [-0.0737,  0.1084, -0.0053, ...,  0.1946,  0.0066,  0.0782]])"
      ]
     },
     "execution_count": 42,
     "metadata": {},
     "output_type": "execute_result"
    }
   ],
   "source": [
    "# get importance\n",
    "importance = model.coefs_[0]\n",
    "importance"
   ]
  },
  {
   "cell_type": "code",
   "execution_count": 43,
   "metadata": {},
   "outputs": [
    {
     "name": "stdout",
     "output_type": "stream",
     "text": [
      "Number of Coefs :  5\n"
     ]
    },
    {
     "data": {
      "text/plain": [
       "[(98, 75), (75, 25), (25, 50), (50, 10), (10, 1)]"
      ]
     },
     "execution_count": 43,
     "metadata": {},
     "output_type": "execute_result"
    }
   ],
   "source": [
    "print(\"Number of Coefs : \", len(model.coefs_))\n",
    "\n",
    "[weights.shape for weights in model.coefs_]"
   ]
  },
  {
   "cell_type": "code",
   "execution_count": 44,
   "metadata": {},
   "outputs": [
    {
     "name": "stdout",
     "output_type": "stream",
     "text": [
      "Number of Intercepts :  5\n"
     ]
    },
    {
     "data": {
      "text/plain": [
       "[(75,), (25,), (50,), (10,), (1,)]"
      ]
     },
     "execution_count": 44,
     "metadata": {},
     "output_type": "execute_result"
    }
   ],
   "source": [
    "print(\"Number of Intercepts : \", len(model.intercepts_))\n",
    "\n",
    "[intercept.shape for intercept in model.intercepts_]"
   ]
  },
  {
   "cell_type": "code",
   "execution_count": 45,
   "metadata": {},
   "outputs": [
    {
     "name": "stdout",
     "output_type": "stream",
     "text": [
      "Number of Iterations for Which Estimator Ran :  63\n"
     ]
    }
   ],
   "source": [
    "print(\"Number of Iterations for Which Estimator Ran : \", model.n_iter_)"
   ]
  },
  {
   "cell_type": "code",
   "execution_count": 46,
   "metadata": {},
   "outputs": [
    {
     "name": "stdout",
     "output_type": "stream",
     "text": [
      "Name of Output Layer Activation Function :  logistic\n"
     ]
    }
   ],
   "source": [
    "print(\"Name of Output Layer Activation Function : \", model.out_activation_)"
   ]
  },
  {
   "cell_type": "code",
   "execution_count": 47,
   "metadata": {},
   "outputs": [
    {
     "name": "stdout",
     "output_type": "stream",
     "text": [
      "Hidden Weights:\n",
      "- [-0.046375542992811714, -0.11753005201318693, -0.1559390746673125, 0.1635688117712782, 0.13181127630169306, -0.04763335532772077, -0.12690525099284283, -0.2311226571336953, 0.08773730659180767, 0.17390212128681384, -0.0020067632465597665, -0.07093378378961604, -0.10179866735600676, -0.08683447373888431, -0.10453955120198855, 0.1606177973376548, 0.1240361944784894, -0.0380539439297325, -0.1685939005764353, 0.17868810978496252, -0.13276371190793215, 0.09179194805457135, -0.10243013227460286, -0.10048455992719581, 0.17276314857165595, 0.012012395919861455, -0.13870971822063402, 0.013738957122900837, -0.03423074400465635, -0.12667307838968317, 0.08998378489394095, -0.05619321694420162, 0.15127658475821026, -0.12191198767795573, 0.17163126725019917, -0.033247228360230786, 0.07693537860494767, -0.1084603385794496, 0.02081825767137017, 0.15859286232413883, 0.10166375918789484, 0.146583548788174, -0.13076229750939025, 0.13672347522232534, -0.10286779528156814, -0.025905653888446678, -0.12115822703763125, 0.04745602438700929, -0.17535453716839836, -0.006112768355327603, 0.01192684730590181, -0.0015981322029168703, 0.17193212705865613, -0.04476497991850274, -0.07823986868051432, 0.023963528222256628, 0.009961497568468007, 0.16378876896076455, 0.16675660106824705, 0.0056587043805143315, 0.06991947361598447, -0.1072109847380253, -0.05101463831804709, 0.17877126678819202, -0.09390067851299226, -0.12233744590558607, -0.09064419225506637, 0.042892792655077144, 0.0927867573331672, 0.05947331450566513, 0.02317032017780584, 0.03970226057898494, 0.15253481351781356, 0.10844303963842113, 0.005867656387128657, 0.05320036076679982, -0.09325042635248636, -0.1755139932357485, 0.149715258268326, -0.024098797241211875, 0.04994710606716882, -0.09828897266207157, -0.15927844656008036, -0.1403591938590402, -0.0138971329349576, 0.11062892160164232, -0.09925825006630375, 0.10700162507467594, 0.07435837046209166, -0.08732333380446511, 0.03736696765275543, -0.05335899233945806, -0.2000301106561426, 0.1356797067175256, 0.1569737210267592, -0.17771194109281097, 0.10706727567703309, -0.07369188077422893]\n",
      "- [0.09747891973732378, 0.1461586950388687, 0.1648543198687351, 0.028577372094180865, 0.11151057836541621, 0.1346840221481747, 0.06215062132016008, -0.05179075862605802, 0.0784318103030971, -0.11831393424179441, -0.11924989396876823, -0.05541566394108972, 0.13087717804952073, -0.04493223028440136, 0.18843755495075293, -0.0022882111635673277, 0.03557883128355218, -0.14574055993072194, 0.0895388440533125, -0.022493774424127554, 0.041943076173437406, 0.029823137058925354, -0.005750650268700075, 0.03988457769951982, -0.09649507361281891, 0.056371732731954075, 0.10943046736472078, 0.05557543512543075, 0.04156912087319518, -0.17295878612953822, -0.061374066089452624, 0.08148318801518001, -0.017858531887168887, -0.0850036400053112, -0.13572207361148003, 0.0626672667314499, 0.12577947673862655, -0.08186740760523745, 0.11537274299192199, -0.11041676687352041, -0.14214934266778428, 0.17636851239697943, -0.009581092050923924, 0.0443886929490989, -0.1162858386089697, 0.117220982499087, -0.0891102699758557, 0.18068852706567456, -0.11064591955276228, 0.0797589092097894, -0.17149087681809025, 0.005326860618477169, 0.014121839686508444, -0.04195906210636987, -0.1208101904017267, 0.01606952706200836, -0.16254291605760685, 0.11964201180921322, -0.02987055763858487, -0.1274253855996095, 0.08924411090514772, -0.048065828469299826, 0.028548669807912555, 0.14576201756783452, 0.0010070465747005002, 0.1188772342219703, -0.06741670523894618, 0.02222981133473105, 0.13378103319511858, 0.010700233622183425, -0.07491153268206908, 0.16423839816997418, 0.12272340098221408, -0.023056161588781234, -0.13827194655370068, 0.004390212002816325, -0.12774383483071694, -0.17656954087295473, -0.005528485192607153, -0.0325402766074045, 0.1777901954658426, 0.034985308927818294, -0.062085536308575495, 0.09408888958285694, -0.17051706881222314, -0.13131008615536235, -0.0007687914599044109, 0.12574107299156478, 0.12203772475695362, 0.014900371925318614, -0.08922237519211522, -0.008447010426449202, -0.07618554833347631, -0.0397269435933684, -0.14774002871292854, -0.01066594636738203, 0.09393925692525074, 0.10839237276148136]\n",
      "- [-0.19599352349146457, -0.05245821152450474, 0.027733564883675788, 0.14093502071611128, 0.08675829418426026, 0.0717428114409502, 0.1421127699671009, -0.2145406195451012, -0.14131241939474326, -0.18100865008010464, 0.1544807148393132, -0.1722381330208657, -0.1720613584454335, 0.00993174422456316, 0.05846728907569909, -0.015679866603405146, 0.17702707687520172, -0.0910075286603763, 0.010666076730895348, -0.07413029455934818, 0.06261444886922464, 0.058749626600199466, -0.09898420862919219, -0.113030635314047, -0.06394385144987577, -0.11528999321727544, 0.12244261213295018, 0.006877146268409239, 0.07748521259644185, -0.007162512289276815, -0.05477779335529159, -0.16219368497737477, -0.16612560055526063, -0.05081647458937741, -0.08954218076206975, 0.1561365674143028, -0.04677085838160583, -0.07689925686105806, -0.04377698313066673, -0.07645065067660527, -0.12445469023181378, -0.008701372506002615, -0.08753236923487671, 0.1723309731466172, 0.09990136861016452, 0.1149125276324101, -0.06671364149704496, 0.08665214031271228, 0.011875345665983783, -0.10451508523562496, -0.04728252843688121, 0.09492987680770075, -0.014715057568711212, -0.08007537333247836, 0.1005185749429282, -0.017694632685321437, 0.1279269912351646, 0.08166456377559743, 0.08220287157359758, 0.07421412291081597, -0.05928774600829205, -0.11810045436380383, -0.1817044954149636, -0.020286269524639824, -0.13387341114219342, -0.1676101382053331, -0.12391925177772528, -0.17008421807316554, 0.12347018041938208, -0.08132786050780451, 0.05651037356931486, -0.13411598822331722, -0.05878507842638911, -0.14243488350823988, -0.15441039613456395, -0.017523223256631425, -0.0924158908029105, -0.050112907812513645, -0.03531835624950418, -0.026485040613983664, 0.14004999095240564, -0.11029829542711492, -0.11641854440944181, -0.17846044752815976, -0.15247241074842308, -0.15826107324247485, 0.11912312544226353, -0.16300067537147864, -0.02235276686991544, 0.039426467525514625, 0.0874787886879151, 0.1726114997105566, -0.07434520844629167, 0.07019849687938301, 0.00725388282422836, 0.023947116944747084, -0.0987945748732828, -0.005263276934206907]\n",
      "- [-0.09020901049024022, 0.10128002259553841, -0.10579488948427217, 0.1307119093435204, 0.041029631859196926, 0.07168997770333765, 0.16768006489607418, -0.07430863986846789, -0.08365163249292096, 0.14972804628239628, 0.15335456160452618, 0.029097423902314574, 0.15169468519068088, -0.10444621553245396, -0.1682220073366916, 0.03248951687534662, 0.03933694612195386, -0.14967730564767398, -0.1794849143786868, 0.00946213959845641, -0.026831794513422588, -0.151204138609677, 0.12900225317094968, 0.11804907836833378, 0.16433257880278476, 0.10887946433683036, 0.05465221606868237, -0.07494113037198813, 0.13075918636508146, -0.12208511476721937, -0.07605076368331035, 0.012675573243205722, 0.1238525516110012, -0.041751220974248694, -0.15073244843715028, 0.058179113072390536, -0.02811546363051926, -0.04695836889458251, -0.15899764456787832, -0.18620906368718423, 0.1732067707053226, 0.10517979425498468, 0.10584621532874447, 0.02904133573376772, 0.1796603924961587, 0.14462218249707517, 0.059003273533689164, -0.15440557441686226, 0.023016001485671806, 0.08852287171972675, 0.176947660150629, -0.06178985130868734, 0.11824946139169765, 0.09791894161083671, 0.014370596830840243, 0.09016070508770112, -0.01563881325765848, 0.11988061608831839, 0.028989405777946606, 0.13187005641157964, -0.011914973641298171, 0.15498315464883916, 0.03095478347048543, -0.023618499021464727, -0.07457160626539738, -0.05475470376776252, 0.11901792437435985, -0.004309984148530716, -0.1366584794336322, -0.03945492182666736, 0.005141530073992155, 0.12309558085692457, -0.04403842843972814, 0.1681825203246118, -0.18582838770120425, 0.011856777532422116, 0.15144931198081538, -0.17147227802728954, 0.08035123989175291, -0.06360458352163835, -0.048299686793717676, -0.05952075584005476, 0.005792726162107832, 0.16547198692072373, -0.14748420867953524, 0.10022208074437335, -0.1378875669675344, -0.021961482077876612, 0.12692590831078204, 0.0739114542631644, 0.1630568196447195, -0.16398487227798134, 0.031755437531418976, 0.01531289563724977, 0.19326787626090514, 0.06904124901110356, -0.1460569710358767, 0.11406356863507337]\n",
      "- [-0.12840101144622765, 0.08605501188462157, -0.0912173443761093, 0.14994083329698035, -0.12562534087329819, -0.11520117396557861, 0.08048272297191952, -0.04687158541961634, -0.10577710767058852, 0.15070467246366448, -0.008534149918806707, 0.08419998744633228, 0.03781510915398436, 0.06029100239539567, 0.13458274916045274, -0.0865711561853253, -0.1125899170395362, -0.07421887449225775, -0.08311674640746847, 0.05371549601478454, -0.16088160448933675, -0.15383644962935536, 0.17187606948655254, -0.09452830162714293, 0.1190398377409086, 0.0379696365889488, -0.11120957394717106, -0.14166035930506374, 0.0684343742850422, 0.05144088245570883, -0.039389421001128945, -0.18486512068171707, 0.005730479215703178, 0.026414902424517703, -0.0446603695602472, -0.07348986288967455, 0.11942327116659404, -0.07361481676832822, 0.037338061307457295, -0.026391746462505014, 0.16157478813999301, -0.005923312084328963, 0.06607036768320883, -0.1772984524269885, -0.18099136615638056, -0.017759122771696462, 0.06852217404122689, -0.17567776408237415, -0.04650593603606401, 0.0005355459108571911, 0.07240472118670235, 0.1250392546330924, -0.09693896205581062, -0.06630179730516311, -0.030408768314860616, -0.06154505387767251, 0.13353954708475452, -0.18167902528977425, 0.1767759826360911, -0.1031846895547849, 0.1130051034487406, -0.11303637815483807, 0.0928077125733703, -0.1805128870658809, -0.035699878566903674, 0.13689052275015096, 0.08372850190575515, 0.00891608190073982, 0.14388481150052151, 0.13438523554631154, 0.12951905354465607, 0.12497864518344899, 0.07674254928652331, 0.13339759068291293, -0.1062530861671857, -0.0741591238947547, 0.07980263775721658, -0.0024212636862616394, 0.03479317252318166, -0.09474161566352246, 0.03722974744008026, -0.12301946283764782, 0.04972477085236559, 0.1268850131804638, -0.0430182376880148, 0.17636541650427123, 0.02731739719317966, -0.09022737000156976, -0.1550752536033368, -0.15093050475494976, -0.15617811212758134, -0.11273781184015907, 0.023690092070607432, -0.061390018110846975, -0.008076012237302902, 0.1401416153602296, -0.06906928879781372, 0.12505854991106488]\n",
      "- [-0.14376281672242294, 0.12421659690181602, 0.09011795646632448, -0.016888049739880014, -0.016237104387449314, -0.026400656345958687, 0.09226642421992715, 0.20410780898340258, 0.1308053875760437, 0.09780626624685003, 0.11085447696043878, 0.056274600491924225, -0.03640327911669939, -0.14578142875447717, 0.07319693407013705, -0.07094891258486159, -0.02554346218779928, 0.08390687345957089, 0.013929450124998162, -0.15096802140163096, 0.0029340425993130853, 0.053605354696566423, -0.16213504965291178, -0.07650967750985149, 0.15404174813078672, 0.17784637365254094, -0.08589934263046695, -0.0806005352786164, -0.09517431327754304, 0.016764264135469685, -0.11182718828011377, 0.18185227279960509, -0.05991273485271342, -0.17277971618705998, -0.07793303581718158, 0.045523416920549564, 0.08504147668540986, 0.07021940180036998, -0.167969717828081, -0.10640424285270635, 0.024096338594341946, 0.059242979595703384, -0.1618087963019138, -0.020682834427424496, -0.0915297740330065, 0.08482259216891065, 0.12268039868413139, -0.05618453230884053, -0.07795247064190576, 0.07524063889845484, -0.04793186470386687, 0.1780769936483104, 0.10765628918206649, 0.10693369980514171, -0.1626417912630065, 0.1490856940147302, -0.10855502589787394, -0.12854216760099862, -0.12005497513465153, -0.19065860686390632, 0.05894799514669496, 0.0864104653508376, -0.053319376560442784, -0.02628409098452978, 0.07335260020762854, -0.14473669645275813, 0.07703664463903487, 0.05495828876464511, 0.061806935027067716, 0.1253247461992833, -0.13651536700400888, 0.10772349237885304, -0.13108168320672817, 0.028714215821697406, -0.15760427950869893, -0.11256736096205122, -0.09824038241656614, -0.17253266886447888, -0.08364195957932105, 0.16699123148165812, 0.00940451234063839, 0.06811826288430016, 0.03638459344902296, 0.06494766098150248, 0.0742597908749851, -0.10716379776449336, 0.05182483163396832, 0.004473046423703481, -0.037244314392291165, -0.14169226945219157, -0.11526895121333004, -0.13102327439772848, 0.1304268427593768, -0.05081847999496182, 0.11391499135982412, -0.03892060112166431, -0.12013333297821024, 0.033192107875622344]\n",
      "- [-0.12454007859864036, 0.054593391485773426, -0.11008403396986913, 0.013421224288906053, -0.04018455860486924, 0.03251355665307114, 0.15198000031085382, -0.17368935322977183, 0.09856460789480823, 0.01933074974174918, -0.028912351949449203, 0.0442219989915522, 0.19399323195510396, -0.154790566629721, 0.028851913883450285, -0.04526154415266476, -0.05712599207528424, 0.046916079334972466, 0.09877168680477674, 0.10717031951644963, -0.007947889240897189, -0.038984931563590175, 0.06676245018638148, 0.15999918881933442, -0.18451875568851742, -0.0981179709859706, -0.034820326272226296, 0.1088481865523974, 0.15263997971044554, 0.10256624448181736, -0.07741252193999672, 0.02194690301802485, 0.16721424686554223, 0.06320906105580833, -0.001562896492781095, -0.052762212370021724, 0.15478091091256285, -0.1757220309634491, -0.04949877634041157, 0.05395258994525772, 0.03473857489326953, -0.09998215631837735, 0.18887488886966164, -0.17680937497163413, 0.10476575441984012, -0.002169357143174416, -0.10640130753471821, 0.18427516162144497, -0.10518524846038312, -0.02606013111170513, 0.061915716111085116, 0.16234672320223797, -0.11590382118994605, 0.1572406583174823, -0.18605378916774012, -0.15819042737487693, -0.16222521798159295, -0.05776035370175547, 0.09463219219297088, -0.0822116932226004, -0.17409670924505383, 0.17357721108323385, 0.10355894048225273, -0.10180084284025326, 0.15302713122855693, -0.06184206750871336, 0.06710664151984007, 0.011881998987974722, 0.06431020424378714, -0.12601396450352184, -0.09143132472807956, -0.011925730248855427, 0.030475888267722906, 0.06041841330113951, -0.005374298634062463, 0.04511523894560649, 0.1056412908492533, -0.021330531436920024, -0.015044560745107054, 0.104507264932048, 0.108275862220108, -0.16729619669453336, -0.14507331797157377, -0.17578850100508445, -0.16815784963354977, 0.02873275986971672, -0.1038483096725991, 0.04912666162232432, -0.06677884653529148, 0.1386013606120276, 0.01081395435019879, 0.02263027681966464, 0.05001279593431073, 0.1450896122580396, 0.04270967482661501, 0.06018507232446495, 0.15115671936076183, -0.0382905398477136]\n",
      "- [-0.02785794831243483, 0.07430911000859257, 0.019537499943143632, 0.11146254201166868, -0.14832818484258367, 0.18022457522393334, -0.013723889785245798, 0.3321901127506733, -0.03339718640050048, 0.05511441679887814, 0.07511277917721587, -0.09727531399053076, -0.17303813226469894, 0.1571061009683202, 0.11626452995815383, -0.10045751967398212, 0.1666103249724618, 0.05192979074185384, -0.1771951717536226, 0.10591491538295611, 0.10578924455497798, -0.1418760520624792, -0.04018008048168898, 0.13692908233764137, -0.040819836668558505, -0.02042323355342461, 0.01649919019125018, 0.03981473895589733, 0.11532555340327685, -0.031188701410719135, -0.11780911358139051, -0.011409991314659366, 0.18580949807827174, -0.13182278632048025, -0.037891349393207756, -0.06015958836305644, 0.20221954373955253, -0.050159319086132914, 0.17968987598896535, 0.08160902249562389, -0.04738042833393718, -0.15412301399983772, 0.07341171750560571, -0.06823563387207698, 0.08042786631329568, -0.16389212219130458, 0.0693669899103461, -0.04848011972816612, 0.08712974189013528, 0.01504589580307672, -0.09434306450941311, -0.047334748859465904, 0.03284542451559159, -0.004904402303128088, -0.04496418831475144, 0.025814064463964732, 0.022858065450064056, 0.09021104145365728, -0.06728728251835223, 0.023716281067822878, -0.08541844099922404, -0.014778492911319836, -0.03838384503153706, -0.08430991786306821, -0.037620370420158714, -0.11874492156083045, 0.1249958179563828, -0.16421723137177893, 0.047319764531199716, 0.08750393975844221, 0.03378624836767484, -0.006634493560985642, -0.09093180223004736, 0.19567654807493942, -0.12664666368343863, 0.19457357603488246, 0.008849160574322404, -0.037523471098814515, 0.17562137805866126, -0.03433199844828178, -0.13356118513867707, -0.030262701010625066, -0.09946820937309128, -0.09381460930982538, -0.17643589326806233, -0.16708973462736412, 0.035098496835808575, -0.134261634738035, 0.11602112891014058, -0.032815419009596454, 0.08400188377347914, -0.11139066794620897, 0.20199099493969278, 0.0018394167809876862, 0.045873291284392895, -0.1259856642143547, -0.06693262585589749, 0.04817849097533705]\n",
      "- [-0.038592826492368774, -0.051303836840071185, 0.17537265765096702, -0.07607348833936191, 0.03550803068446127, -0.11023904716149469, -0.09945091586712826, 0.09067759430734226, -0.06865958197044691, 0.1087815739790536, -0.04207124937645829, -0.12024071075089844, 0.006118595705871463, -0.09889062972567823, -0.09488070300476098, 0.030630678167657174, -0.041490861037003855, -0.1811338824267421, 0.02072706840854293, 0.12820532130306614, -0.0924283345624528, -0.04713630127567906, 0.04601091072569423, 0.011750872153842625, -0.09577261228540106, 0.14589323122274742, -0.005203798170887233, 0.1111029385538841, -0.0707562094219065, 0.18024579565900778, 0.17374205031928136, -0.1279476098085347, -0.09583214224607266, -0.02667046250125367, 0.15676776122874408, 0.03819977536935852, -0.11701548030176401, 0.08896078444516611, 0.13870111593918288, -0.1443956213065985, 0.16751536781039617, 0.17728605626872118, -0.09593850876510118, -0.00731807455166048, -0.09201892085574377, -0.15809104062529886, 0.07933139057259944, 0.08271291833194304, -0.06380782222260796, -0.166284979286625, -0.15277948266839, -0.031176335741934832, 0.041145313662197695, -0.024507067261002335, -0.08981348216234183, -0.06147910497463669, -0.01564053942700633, 0.17665648234564638, 0.18110469600146994, -0.06996630455612772, 0.16668686225708784, 0.11889686504511739, -0.03066969194549349, -0.0821156809525266, 0.08210172288883, 0.13664972209222914, 0.1463574974178979, 0.04381715955312054, 0.16410659489357102, 0.1827598665230923, 0.04758028406077855, 0.18429321826368483, -0.14769183574699501, -0.12460186745944214, -0.021808123388946624, 0.00340373634002342, -0.031637670259585124, 0.17294029968021363, 0.06630229723591358, -0.12345529129105841, 0.04405964235935454, 0.013173438820791273, -0.0006781765768234766, -0.132764218398233, -0.13223709704379064, 0.021799907801447742, -0.16022866745394412, 0.14778069726641938, 0.1322836618838713, 0.08313225354617271, 0.053047671534429304, -0.1573774044812608, -0.004696911969562705, -0.007539895487787942, -0.08408170775648334, 0.11900244022294092, -0.0694454966594463, 0.07353219669667688]\n",
      "- [0.01751258909435828, -0.09056450804179836, 0.1285511289511141, -0.005937253414077283, -0.07154158231934514, -0.09436400978316643, -0.11587736419924967, 0.1308855244590037, 0.12086758502858536, -0.03998674935544965, -0.0030047343744192237, 0.007193289339860077, -0.16576932443266376, -0.04575061051260432, 0.0375436073763947, 0.07420523523110743, 0.18163160353589874, 0.06407365073266019, 0.11083639727562744, 0.14408530120992158, -0.03770688818945769, 0.06479416559959808, -0.09227111204737291, 0.13486296132169553, -0.07479282079233146, 0.037596304486185256, -0.013142948559949382, 0.008268748528651114, -0.07283559655078056, 0.0067570347632372445, -0.0029896009622592183, 0.07107212641972865, -0.10615447993671856, -0.021562998715160004, 0.10843760986247279, -0.12528050388471007, -0.10115124623813715, 0.1662165739950922, -0.12615860855569305, -0.1543905625328055, 0.061988168148514, 0.11642758987595972, -0.1780643901352446, 0.031846355401691256, 0.019588984373140626, -0.09083919832426714, 0.020011522817587623, 0.08471609771098523, -0.005127754925642767, -0.006237195003167793, 0.00896463509025869, 0.08402759220328487, -0.018140541099941922, -0.1537299722110031, -0.005858787405121643, -0.048797051668488814, -0.17987661630296362, 0.08659269599913313, -0.054239780436404456, 0.1237968311107094, 0.14451151996816564, -0.02603054042018475, -0.07116094165299328, 0.06212764985834678, -0.13575514822684154, -0.13795644599402945, 0.04541852085756732, 0.027264952608727, -0.09256225768037979, 0.1079312385439971, -0.03255271269785019, 0.16376796858232726, 0.06511071586830555, 0.01349103197539233, -0.0964911336558571, 0.06770286912211287, -0.11330889886017777, -0.16667173945482264, 0.02497104653254345, -0.1400058046795207, -0.025654819025422916, 0.018670668301303688, -0.18183694039283796, 0.0772389199468522, 0.16069050352309638, -0.02099468761861198, 0.1102021436350347, -0.0901223587195478, 0.08428819803656987, 0.07707452619085801, -0.17996344853057764, 0.0058115245865976335, 0.016784711356476478, 0.1801696365624436, 0.11913729854469939, -0.0648785243988765, 0.058509576673628126, -0.11622517333002581]\n",
      "- [-0.026146834675206253, 0.13564638544838886, -0.09546827003423007, 0.04179884053300106, 0.14390342930085329, -0.09297687869935642, -0.1460061503394116, 0.07526610119116654, -0.04287091741442905, 0.10640341986336402, -0.13175254800458555, 0.15656434249814105, 0.02994015194548617, 0.01784381265928791, 0.11801397937627743, -0.15881330487475495, 0.007161124788241912, -0.0034195184825744603, 0.06162216812953953, -0.05414009103633618, -0.0971175168422103, -0.10878545012995748, 0.06184301476189855, -0.05965868166030712, 0.09523209041684712, 0.07786763807918115, 0.13348399033727568, -0.10466216620578804, 0.14958885181758258, -0.010121119419816717, 0.15812393174050002, 0.1587920680126026, 0.0358111424844053, -0.05403265264208379, 0.13545109717460643, -0.009639298478503729, 0.08827737290621278, 0.11509409651612108, 0.11642832433746994, 0.1474685353806034, 0.07297901963751803, -0.08389411298990465, -0.008791396995230868, -0.09277267681070031, 0.0385389775684338, 0.17858311906951857, 0.04738703121416722, 0.023086407352185038, 0.11524031132915839, -0.12855982177994485, -0.0744513117094848, 0.15473210211932426, 0.14602540916825654, -0.08891878182035222, 0.1554022614172487, -0.07408361602380618, -0.16348944345642413, -0.01102496501732795, 0.17371501119443997, 0.12243470466462505, -0.06446080098131343, 0.11395059579524595, 0.0879806914272711, -0.032989632308835094, -0.15146748483259778, -0.08747600703337538, -0.06889866683659057, 0.011260545755318605, 0.1116879263883183, 0.08427949464448696, 0.14943918924600424, 0.09470338305187, -0.10512998778173248, -0.03577902507570581, 0.02939053103002098, 0.007946615240531009, -0.06717727815813572, -0.14376195107810152, 0.14444571096029635, 0.11683943824628111, 0.13496664913764964, -0.039418808799851636, 0.08800135014592168, -0.1582077706247053, 0.13371501785511425, -0.10645354332666555, -0.06581301008092429, 0.08666878982889197, -0.12838069392182122, -0.0030999675181884834, -0.062261304151395136, 0.11701977365388054, 0.14309332632608956, -0.02891822944160779, -0.10061668907106193, -0.08977230973690062, -0.009982461556654935, 0.11085594659104102]\n",
      "- [0.08977573436997427, -0.0452714271916675, -0.008551835078947823, -0.175863509390999, 0.10626707801337126, 0.09132036904799198, 0.12673316560019074, 0.1967248602805493, 0.11866136224871968, 0.0831968265842507, 0.1706354786475379, -0.0926876642553117, -0.11284694531550366, 0.017635673616567718, -0.14040545751465866, 0.1727985791112467, -0.1377157877997525, -0.11161264461692574, 0.15717870562677594, -0.046982628491046674, 0.06013701511934101, 0.15741034927089145, -0.025606899028259498, 0.16927522125992456, 0.09138927397054628, -0.04614591772431535, 0.14157500515657426, 0.03541306812403922, -0.12385840863343948, 0.09322667429961187, 0.10717659852582428, -0.0395553356527334, 0.1475272893168244, -0.05687047332922666, -0.12228759481906369, 0.1635830244398928, 0.11474895412574743, -0.08448553467881813, 0.11656148468496857, -0.04456626226252331, -0.14559397368231283, 0.02204191093074584, -0.08016505501329384, 0.022178636027193995, 0.08687283409800267, 0.06939505044346583, -0.18049941310339573, -0.04002497266506871, 0.02160939155008018, -0.12117472686521108, -0.009537486456722848, 0.10669871324422375, 0.02410171536060909, 0.13193280416357916, -0.015549672281644267, 0.034200187075827664, -0.1357812760012808, 0.16370792278066978, 0.12075547714996575, -0.07154699195640829, 0.14851693759448545, 0.0926516045087476, 0.14634004208745105, 0.012463444459290535, -0.028919381202796253, -0.0051463004105831165, -0.04261940029040212, 0.12614280192897231, 0.01682967379651613, -0.0616159573745971, 0.11275706375668612, -0.03313295587087882, 0.14225793026259395, 0.02136593736174311, -0.0024831677764559834, -0.10725003326648262, -0.16008718176477987, 0.14468176102261934, -0.061947709523910224, 0.09147763446163434, 0.09213706959009675, 0.07777426820898525, 0.04829277505982694, 0.1451787165717349, -0.032314072924368935, 0.009066191907947444, -0.0223108669092459, 0.11174604461378419, 0.06469196400828066, -0.12346413092138778, 0.03437941642605689, 0.04942899029058239, -0.14107188168737173, -0.03456346656192206, 0.052753905735406816, -0.018113984024687297, 0.07164130289212435, -0.13209138393717743]\n",
      "- [-0.1389738799151999, 0.19120761764746694, 0.0538405610455625, 0.03248301380944573, -0.04489312591623452, -0.01386304215302201, -0.15021532901020654, -0.15283049340260815, 0.12208974042143156, 0.0503101117025848, -0.07562093729821683, -0.04594209314304332, 0.043579326178571694, -0.1692331773235379, -0.16305349861068438, 0.09780461633888032, -0.1430861030848265, -0.10812298653475837, -0.15182738707500046, -0.122579936067601, 0.18900069237209324, 0.15535280356761758, -0.0944679631453874, -0.008830058448491598, -0.022576312993521253, 0.0789809530878617, 0.1146715970135031, -0.06212132541272729, 0.037350072067950484, 0.022211801784226833, -0.03107440477683301, 0.0713753956910286, -0.08114154110672292, -0.10226528835932358, 0.013088860182143872, -0.044411272909524215, 0.014446591886617557, -0.11181905349679662, 0.15590413058384947, 0.011952395982776696, 0.09856202880169901, -0.033571679244777254, 0.043754086147054456, -0.04374279506100237, -0.0154796151225636, -0.09044624130606152, -0.10445586710473732, -0.1242848688087949, -0.013098418429528937, -0.03722130251019064, 0.1532015271575629, 0.06499515007737212, -0.010433915361947802, -0.08454153973254687, -0.09852960585633992, -0.09664955032614024, -0.18826366749263168, -0.049320612620271306, 0.048724577662293024, -0.02606034248397647, -0.003751293970917109, 0.17562282064841725, -0.013915186454575495, 0.1532305396901263, 0.10666937936577815, 0.039466334294312844, -0.16400572262836616, -0.016022877939434858, 0.12458876460070753, -0.1410328322474598, 0.016740443999378154, 0.031234263006304528, 0.04461770571853967, -0.15804316699494383, 0.10032320002605752, 0.018799581207984885, -0.09069744332095533, 0.10095862311027133, 0.15883903641608602, -0.18286068998352428, -0.11375181842639458, -0.15199004892582185, -0.140345540443169, 0.02116356704935332, -0.12970562337457314, 0.07286361772641495, -0.033852852924447334, 0.17585708497482216, -0.03250867507838145, 0.11659986881361131, 0.09317850221140499, -0.157556021093946, -0.14831489286645957, -0.17249304712600858, -0.1393020395495991, -0.1826276149125496, 0.09098419624953392, -0.055925155693230186]\n",
      "- [0.13307797829311538, 0.06793496943852524, 0.1244000968317047, -0.025856936693181974, -0.12878767090169516, -0.16323710786639498, -0.0947396845502199, -0.23244077267832955, 0.012095985451282208, -0.02327608604608949, -0.15235663318700887, -0.030217635494994524, 0.1877451878476827, 0.13066784118636263, 0.11665327943653382, 0.11593804212888051, -0.04213886638577837, -0.11309890162837183, -0.08138309772020422, -0.09274885648400945, -0.11712264037042217, 0.16817089116232267, 0.14437338639802116, -0.07026761964751367, -0.05115636197628347, 0.16980333972598494, 0.13980724144599482, -0.17042778530438743, -0.08706052338082035, -0.052944584894728974, 0.08663863334273585, -0.08833511306284848, 0.024414498953543275, -0.15375305284729202, -0.11229722623561243, -0.11697998194490299, 0.13308103377577468, -0.119964694317032, -0.1013575353315216, 0.17185401782710674, 0.0891947494889284, -0.11740256267960479, 0.07061955763563851, 0.0037991611878714776, -0.03625375188919917, 0.076695464568855, -0.022068511483561985, 0.17298114288128577, -0.1106701060090031, 0.024383470341689188, 0.058849075100959, 0.13096842980887577, -0.03166677793478412, 0.048616074635458896, 0.12047659046475702, -0.07539609267830025, -0.12592346229231266, 0.050519877889369694, -0.17153090790073877, -0.17275192124507122, -0.10950940257273842, -0.055692173958979914, 0.18542708075656808, 0.13158635136013833, -0.09539370469758757, -0.06638235001116742, 0.15935503400784853, 0.03622704574324969, -0.09129250619460798, 0.1301335276682711, -0.0344262140793612, 0.12066280423229835, -0.08643716630596278, -0.02507731931565705, -0.06975321835503982, 0.1677208681539097, 0.0628519174998585, 0.1576447605735585, -0.12103745476320704, -0.15063304469615577, -0.146851772628132, 0.07403642733349756, 0.1464883083235506, -0.14683924772661802, -0.056287941530724195, 0.1558552363128319, -0.05476353110730252, 0.1791976163654278, 0.02741712158719796, 0.11262235959223285, 0.0038596891919850168, -0.16229510648652257, -0.12159151419260535, -0.04793965500128353, -0.17515399208359275, -0.08972934016141854, 0.017297211776100708, 0.14534417020385396]\n",
      "- [-0.18067934512655043, 0.03404946414959403, -0.1303796754989049, 0.11125732818759164, -0.1091514628974934, 0.0007389217235330844, 0.12052068123301536, -0.059441582290779, -0.15157526913059347, 0.04404304318056834, -0.12680063587228949, -0.022140652827639707, 0.11157951056271366, 0.1685137196575289, 0.047711620936256076, 0.09236367903778743, -0.13877654945042708, 0.12731665260943523, 0.15624365602021253, 0.17668919056261786, 0.12014011429781375, 0.08518333338718245, 0.17562966389127183, -0.16133045846277758, 0.023565934162664504, -0.10711561333421561, 0.026809240182395635, 0.14359622084990858, 0.1171840542288576, -0.001546442786515085, 0.0528718611479558, 0.17064910503650282, -0.12029127882430708, 0.014951972614983256, 0.14291180527415742, -0.009698013870832028, -0.09921581863249826, 0.139782602017784, -0.009699783950967123, 0.10156690998681482, 0.08097550285669124, -0.02203295253352129, 0.11018018681237163, -0.11610176973725284, -0.07169558350653202, 0.0597720263162182, 0.07918233574911367, -0.16283366035091856, -0.03949924416790594, -0.06512199408438053, 0.08209841154415094, -0.04035246242899649, -0.17374231413856803, -0.0032060422567020703, -0.07401883265304418, -0.07857857245526413, 0.026214986811818466, -0.19255898489343237, -0.11249525339529519, 0.017383138797079978, -0.08514811890543818, 0.09418552636005417, 0.10723117671582647, 0.03719308389450649, 0.11149044208460683, -0.10088029381250317, 0.06502995456718753, -0.13372856351262183, -0.1807706985914807, 0.04433800720407924, -0.04104583227206989, -0.08204755001392737, 0.02920517066322915, -0.017782200070268303, -0.0992794039357483, 0.07013004965481545, -0.04824369268385266, -0.14208599834067032, 0.12710190273725444, 0.1522126097244404, 0.022046332947521737, 0.15600354841256836, 0.02201384388998431, -0.020008839116837332, 0.16320000796619863, 0.11042858626730286, 0.1665460153392767, 0.054362739627824605, -0.18580710410428156, -0.019658461524295328, -0.16836913501278467, 0.013941987883865234, 0.022212965906376038, -0.11821646486013707, -0.010014160949880316, -0.18258339120622105, 0.005162211945976279, 0.010790730200124625]\n",
      "- [0.05699113474273226, -0.13276063191498977, -0.177033858470269, -0.06927155536865857, 0.012490907196094421, -0.10472755248606296, -0.07563424424526498, -0.047686559504548004, 0.20075548381088182, -0.17407827342464602, -0.1795173129198346, -0.131381015227408, -0.008776305545465903, 0.11313889861476639, 0.003374309814224481, -0.15488097926989208, 0.05390100525040312, 0.18375309959383224, 0.10057651631300944, -0.07168231689916474, -0.09791142325830313, -0.03955021748412768, 0.031800820743220354, 0.18396193762294016, 0.012205421047940757, 0.11688320873316252, 0.17089787217481495, -0.0239067632922819, -0.05427110362006256, -0.1184186226085168, -0.08138736376152941, 0.06426319474681774, -0.12166251422566503, 0.04143697266114241, -0.18725658581778548, 0.12484491168070322, -0.06630647561797486, -0.10183710825903665, 0.12292779257879842, -0.06630833313523869, 0.07457505655609058, -0.07430331620673443, -0.1722104058306761, -0.12777809550837593, -0.09807150605198829, -0.17038215519909652, -0.11472400251850703, -0.10353651368395465, 0.0017616204256093958, -0.12976306187450637, -0.14608655062119233, 0.00280748673695429, -0.04948857162292776, -0.1467940325476331, 0.14935848219753461, -0.182872960425526, -0.01463494964144527, -0.11788449205232529, -0.16211053993718616, -0.1205732069412941, -0.09527451630209868, 0.16040105660716103, -0.06534513858285927, -0.015127273240239717, -0.08777938020034579, -0.05595490254317098, 0.15787990458797693, -0.09314149000910024, -0.16938197566697355, -0.04719918456291346, -0.14246506521553318, -0.08592454664368644, 0.0341321021675272, 0.03229007455345, 0.15377777947302354, -0.17984184327389807, 0.11812360212925015, 0.03455866160746159, 0.08065248236637812, 0.12853446867293566, 0.16912241555952914, 0.17301260707995583, 0.17811968670527414, -0.13122916293291853, 0.05268001802133341, 0.18078560568363405, 0.1482089773699834, 0.05815503598091992, -0.09255318653387679, -0.028578105333615312, 0.05459204529960617, -0.1288952874652659, 0.061100852997806814, -0.14417067406014233, 0.16929138812130404, -0.10705917948499132, 0.10793786532259218, -0.0842455149319426]\n",
      "- [-0.025908071850020534, 0.16437018211639604, -0.15885123831586778, 0.14705640369629763, 0.0816409197854863, 0.10941844246047996, 0.1823489601655723, 0.09569699627179254, -0.13317109644116681, 0.11759377667540247, 0.07048234432772155, -0.04534956545607166, 0.09036036752787817, -0.0853100276787758, -0.0964212166742917, -0.005422060782009012, -0.032299365106399296, 0.15113900434744393, 0.038822221809401626, 0.14807080699204542, -0.16154864284848794, 0.0940238217432619, -0.11124722631598484, -0.01701561980283096, 0.02396799047017045, 0.1727866315558176, 0.041572508776158854, -0.025125253490658053, 0.08949392962821118, -0.039591838848061285, 0.0027909936717865863, 0.045536658919124104, 0.09878516968552221, -0.13179738425832213, -0.1491113481715656, 0.12703953970760998, 0.0018604375727261906, 0.09806083183197961, 0.06984086568935081, -0.15519814701896897, -0.13118568922212537, -0.1842035191784656, 0.07877270315789399, 0.10062224504291006, -0.1502197164345231, -0.047740475416161214, -0.04335235800852797, -0.06868988494152142, 0.1820454324611143, 0.0915994877024395, -0.007029880965236541, 0.012179427253045095, -0.14225175274990134, 0.14742763769502362, 0.13702106135006223, -0.0467595459069815, 0.18236220935015457, -0.0767992091912183, 0.10732155176793023, -0.14641764291641315, -0.16348508983546048, 0.11617929976870386, -0.09556956627063776, -0.04213065628612075, -0.15546834016460123, 0.024765243980539118, -0.06957493757627434, 0.12447087287588027, 0.15013024584413634, 0.09646134776025507, 0.16432128700391857, -0.10766042424869668, 0.12270864956278536, 0.06478695094594855, -0.008827798193548961, -0.046586686426606405, 0.05588561951568751, 0.005061967660552895, 0.13771649374722236, -0.07111322811285117, -0.05824194908806772, 0.14491024426448423, -0.17446076522699092, -0.027151458975166215, -0.01337447175950289, -0.02686997406938849, -0.06344960555118113, 0.045123948999072856, -0.15739396901473346, 0.016297498098043955, 0.002907007743997307, 0.07582009763629378, -0.0829967178521295, -0.047631958427186476, -0.06895798093311932, 0.13200381255267107, 0.11129570819732505, 0.168839869408416]\n",
      "- [0.011819099640241783, -0.016459406828861073, -0.0029978533606471605, 0.024435059291579214, -0.07647098773579358, -0.0766973667633773, -0.09094227401570093, -0.09251775541609616, -0.09737880063854366, 0.1518979098711354, 0.016650434532025558, -0.10334548275211108, 0.09567311516191741, -0.00012382131317453292, -0.09403807436314576, -0.01901183734913312, 0.19544474362657838, -0.05166777739100605, 0.12768621587847398, 0.16111465379513462, -0.12511634296730786, -0.08225195242896477, 0.14794013789519067, 0.1003023892933065, 0.03904958263067947, -0.1698986068931307, 0.037790144426434615, 0.09654190296715215, -0.12577074761043391, -0.17329089716454563, 0.06586753690545848, 0.1409887359613073, -0.14223257169078427, -0.09200531122681681, -0.056942685458762514, 0.12298795165873971, -0.08416540831031004, -0.09759191305133633, 0.03706029997705813, 0.017442165536164414, 0.0591803276204196, -0.034584718496929484, -0.057562929310072286, -0.05788599953488722, 0.0530823328833799, 0.10735566995949278, 0.016373627895240786, 0.14651163696459132, -0.0649678999737657, 0.16212323298942918, -0.0316562821152051, 0.04048772536632979, 0.022470256857727945, -0.15413060405277487, 0.0399877401183571, -0.1629212610196004, -0.1671390734122099, -0.05315518653419518, -0.1486006707832637, -0.1531185528350106, -0.01868433755446411, 0.11856915094122542, -0.04451375173431434, -0.1445019047242915, 0.009677495612381345, 0.16675412915986074, 0.17247120042576908, -0.18268492014364063, 0.040867977020803824, 0.07800427274382835, -0.09674296918155531, 0.03294913524634044, -0.13254594785098156, 0.03170207401543236, -0.1857206314527899, 0.05049531410138989, 0.04892368438461074, -0.06836561489290498, 0.018960595654439732, -0.15429094467788187, 0.1701633488290122, -0.10302105145081084, 0.10431608386122689, 0.07856223878158804, -0.04225143702060067, -0.1279374567348271, -0.11395752231538805, 0.012539355665578256, -0.0548427159123656, -0.06293830038987107, 0.10178430403946848, -0.08162926380408894, -0.019095284448388823, -0.13365929298682575, -0.0635405575791228, 0.09755773870125586, 0.15531732812219107, 0.06906169755920127]\n",
      "- [-0.1361009400352245, 0.047055610932378235, 0.04121514454991945, -0.11822369108725594, -0.08547263850813602, -0.17135124297776633, 0.011633587958574606, -0.042863958012563666, -0.0033627922197536036, -0.08571879525530872, 0.11977213268228355, 0.1283960931017783, 0.00678583988988065, -0.05278222343853506, 0.1342218814221782, 0.06419717971781279, 0.160956608541654, 0.11002138725616513, 0.14305408480333137, 0.16569189961802436, 0.16090050044204132, -0.07397223724722946, 0.08302797418954411, 0.05154527383425515, -0.03998271973864675, -0.10312419328847185, -0.0719738141295267, 0.1740105503499762, -0.010154271027893218, -0.013354671746848106, -0.07311004637404962, -0.09103300966837373, -0.09604434344171885, -0.07648242182518807, -0.04164228871498244, -0.17879230305490096, 0.014850376954574985, -0.17468855726894386, 0.05724566677024539, -0.0613272714207895, -0.16633291556938293, 0.15548355576352094, 0.1843220546025902, 0.04986996495043081, 0.05812422456546911, -0.15783643728000687, 0.16980578800279528, 0.08205343016304423, -0.12147716868991734, 0.08927667067017434, 0.05298101705291193, 0.1350925437211285, 0.048056692205567936, 0.07318496199684531, 0.09349672532076242, 0.13899125748645305, 0.13141900160083506, -0.009305237912356242, 0.10765059237075897, -0.110478126843125, 0.149661313060487, 0.17181270937244722, -0.03379727119632289, -0.006000904245716235, -0.18046692113188045, -0.07252851083139437, 0.13067935957026672, -0.12608816158400182, 0.08228406397582294, 0.052212237343978736, -0.1275604790461189, 0.17186066416468498, 0.04899848660245716, 0.08446294443813969, -0.16268540705201584, 0.024351319369915986, -0.03407577307951696, 0.019694413900631376, -0.10346233110594266, 0.11100580920462749, 0.0017585011076908014, -0.1779382248382281, -0.15901352946911107, 0.07497873849900671, 0.14914888143564492, -0.027209266234998048, 0.01954685563863897, -0.04931584844396701, 0.08792469690973846, -0.007993289921410374, -0.03836294908895074, -0.015088252828132948, 0.07608262358053003, -0.07625451374022714, -0.16099103791998276, -0.05490065556895626, 0.15407102389589655, 0.019770268038976833]\n",
      "- [-0.0963249189327435, -0.02268247796850762, 0.01562963836131129, 0.09691979400218909, 0.13365511642096586, 0.04115249225466335, -0.04559698706679434, -0.10752404831165535, -0.030645327483272193, -0.14931968572764923, 0.02842597655333269, 0.10866208393840791, 0.006689386639911855, 0.04172231036132503, -0.021402860280025495, -0.02305754716139095, -0.13476437333524027, 0.01894053622057017, 0.1582271954474693, -0.1196436818674431, 0.14516758521883055, 0.036269123210360577, 0.0857374727243445, 0.08698812925943662, 0.0937609594781806, -0.13043579927372917, 0.05597990985927852, -0.15379581242374227, 0.10149522406306886, -0.07089239392207723, -0.17447879760556356, 0.15733596464159066, 0.0720856099522625, 0.11062218574316902, -0.08026911219952787, -0.0731173465230965, 0.06680468848586672, 0.08883106890637585, -0.10106883942973857, -0.1669321158748228, 0.06626600097843363, 0.12338722023550416, 0.1199671624530307, 0.024081070753288986, 0.05575058363444795, 0.15272940640739735, -0.16094725959033998, -0.06556777868011562, -0.11007585794552348, -0.15816178544700082, -0.08764226943589397, 0.03972848143921442, 0.08281643235020904, 0.1826892559082426, -0.11166135444609987, 0.08675305792726994, 0.02574795259953379, 0.11145707739088243, -0.17158098115085088, -0.12349608572390362, 0.007930958507592147, -0.07413594635202786, -0.000514529855622868, -0.02890734476701077, 0.0787662296682077, -0.05208327592549603, 0.11611904955173696, 0.1251431106547183, 0.0051538684078338785, -0.09711205789139163, 0.004277796304617389, -0.0946179671478364, 0.11672750520758565, 0.032437191340521955, 0.026257534890274582, -0.12935301554815998, 0.03982400999198576, 0.1224669106293054, 0.004188341675953225, -0.16613598788469988, -0.10304429278099071, 0.17484919704667046, 0.16724979755137037, -0.06172102264127053, 0.1806653672569607, 0.11765031036656294, -0.1287583436323262, -0.18940744119461675, -0.08408695659673047, -0.013016014878482212, 0.1152296286303818, 0.05852437012997699, 0.08842836139634815, 0.07324294497469097, 0.06518104845276215, -0.025049284186489617, 0.15034646379174257, 0.15685504141384216]\n",
      "- [0.07637244362121692, -0.08396379938719234, -0.05748392323633963, 0.04882237528246098, -0.01586418746142203, 0.1306493054058357, 0.12231871607706721, -0.27602117610987714, -0.09127332593137617, -0.12532508003704945, 0.12229404948626142, -0.0663728546918837, -0.14883554920597447, 0.17280639813962367, -0.1682633864433233, 0.07857064282243124, -0.03508252789825261, 0.12854061641625572, 0.19595053148926758, 0.15153659374168693, -0.08678196268037233, 0.02258402542002195, -0.09535606590113054, -0.16129453873665864, -0.10225203635595397, 0.09548687782976197, -0.16517696425492534, -0.1256501734631695, -0.037816277768922796, -0.0042554706595281325, -0.08271955556491725, 0.05938597633666118, -0.19067924812803805, -0.11571379513383882, -0.15093710538885746, 0.1771314353567023, -0.11860284021909781, 0.07568083696692224, -0.19395462406627606, 0.09230187367785354, -0.18122149548021976, 0.03780018642519153, 0.03524108930674872, 0.12822365617253903, -0.17978004606832423, 0.13916964400701407, 0.13270086163848846, -0.15088063151606654, -0.09967933742854958, 0.12204162736242788, -0.04038410776284843, 0.16055815754513866, 0.03777591804896093, 0.07954513565687783, 0.019913755556892808, 0.028478021232114337, 0.1255882938885339, -0.07368592624469372, -0.08839866450595725, -0.16123010481220515, 0.01336303899011517, -0.02336962798655109, 0.06668671203986945, -0.0968485156189559, 0.09304451109885095, 0.07529031570549728, -0.17307384851236457, -0.08575303252759423, 0.008604187609250524, 0.12426886839041722, -0.020539300933945497, 0.11320340448737891, -0.06822070901394317, -0.03838416558964149, -0.1316017033183297, 0.13651904171147902, 0.16046945023017492, -0.1497888825714812, 0.1127846596889773, 0.015936320057406438, -0.18663200559475027, 0.0030459031449729273, -0.04516092359887309, -0.05428819614892477, 0.10936582382957273, -0.0920390231153189, 0.030338083965430897, 0.07975731564552978, 0.0036379517142476952, -0.08596386184887322, -0.06608676311909363, 0.17061089028212215, -0.06050466681827341, 0.11185880900227714, 0.10232335091163405, -0.150665043210532, -0.013056394557343321, 0.12195816362868303]\n",
      "- [0.17541059264886905, 0.15331488355909173, 0.18494220236755687, -0.16021068037553962, 0.03249728908674485, -0.04420424135459312, -0.0564706731161006, 0.10962367980528326, 0.08961783750990622, -0.05949523419797672, 0.06630254077320931, 0.05527496041365687, -0.03293566670432515, -0.0726912680311893, 0.14848205943333975, 0.06859489495055866, -0.01655865381397245, -0.006911998785665387, -0.13003887757598812, 0.04299520506055098, 0.16348804262297958, 0.14259977777404778, 0.12294657748752794, 0.1470239632466184, 0.06495919040059475, -0.16384376705039191, -0.13277429989549777, -0.06635629065729153, -0.11833033072448251, -0.18047332699133098, 0.10960207730932231, 0.10517928259114163, -0.1759542493482904, 0.0234659419011639, -0.14360117654781349, -0.147285210131571, 0.0019347673150131367, -0.15106420194534953, 0.09248091147499896, -0.04962021705936895, 0.10487732567474674, -0.07361474882247436, 0.0355667322259461, 0.14144602408808757, -0.01832639581771304, 0.12736651334775867, 0.17492682120088418, 0.13666311685084098, -0.1584692476843908, -0.15458070049408762, 0.18193404787150855, 0.08460422346965982, -0.10582524948442924, -0.06658340929567545, -0.06524583984502222, 0.0876769450400489, -0.16198760781844956, -0.14967040396208728, -0.08124949248936317, 0.17607781963614963, -0.10258409030343481, -0.14601471312094846, 0.12651663073640357, 0.10465438144489136, 0.17684836225573125, -0.07444465721670208, -0.03617669561979051, -0.09308909453106667, -0.04865672011443434, 0.07697123348688643, -0.1577336093077129, -0.17907070333847125, 0.0011142323632042004, 0.00018384605612741585, -0.13122996141071488, -0.04306470417976234, -0.07012838958758412, 0.06106066920022893, 0.11035477779540538, -0.1276217826896438, -0.0767735426069148, 0.01958260487015616, 0.06149678567794104, -0.15300390166351896, 0.1239816244438897, -0.12638775808185476, -0.09834265077765307, -0.03199962046628335, 0.05204075909160959, 0.14069580322655514, 0.13486991802207998, -0.11980708698760617, 0.07956281028922528, -0.07328216752911156, 0.15047294417365623, -0.06542186606730246, 0.0916615518517493, 0.0782765126945298]\n",
      "- [-0.07663773275095975, 0.025395071967333017, 0.03037383157486678, -0.02929007098906594, -0.0983981359811359, 0.09397235036777005, -0.0302388852308663, -0.08240995008140671, -0.10388376186173738, 0.13459977595462244, 0.1057580889352019, -0.14682933209340554, -0.13341560015541037, 0.058573123432324674, -0.1093131036011787, 0.07433455822926582, 0.021891074603454515, 0.03358781750284806, -0.15525735132515636, -0.10676407658591049, 0.1300961637717907, -0.09492050920188558, -0.09387783423478628, 0.15923569385034972, 0.16995248702854582, 0.18338649900791618, -0.1373505347609305, -0.09530198030657346, 0.05496762539320962, 0.015063033080971159, 0.15524067633239427, 0.021178441134794238, -0.0775839309782211, 0.02658844970610993, -0.06716698039678297, -0.009659768453293938, 0.17826936004765817, -0.06789887320724093, -0.0689716718284201, 0.02414241627543087, 0.00040334528794280116, -0.09724087458055405, -0.11213022134736532, -0.02315969474835419, -0.13714202654549798, -0.14616717925131853, -0.08593719524256212, 0.10013972560081816, -0.04887805647616346, -0.029486809585343113, -0.1413312396056399, -0.03389521611089082, 0.09582505881239052, -0.16024657150994498, -0.00902731692470875, 0.14851339229138774, -0.15308766188240228, 0.01005172010762672, 0.025018217140319002, 0.05965227782166358, -0.16895222392906714, 0.13887698722600164, -0.16274101333154636, 0.07633896744557013, 0.05989280394889036, -0.05364250684140554, -0.1319081351389637, 0.07679706408510815, 0.1006454605450569, -0.07977792061079335, 0.026488219656271017, 2.583023535339366e-05, -0.00576287822817066, -0.03281124594727382, -0.12152893291795436, 0.07722804347396754, -0.05453088104393117, -0.0742637976956332, -0.12916012974644597, 0.05923122790016233, -0.17663937189597656, -0.1377825662263379, 0.07803384656601353, -0.15313113152651414, -0.07049550409699475, 0.054623333848488664, -0.15989610589570868, -0.08330866675973624, -0.10775183412369413, -0.1705610032042182, -0.18136938651024084, 0.1486605996616292, 0.005891592382230377, -0.058878797341862785, -0.01855045229845028, -0.04114273762548087, 0.03191882251586932, -0.15675682923370382]\n",
      "- [0.0855152825659453, -0.19782699204322948, -0.04708492511404261, 0.0626770252052213, -0.15042824833380902, 0.0004223323248095615, 0.017235037569970288, 0.2116918526558917, 0.028837969848155925, 0.033739697863690445, -0.051634544628876206, 0.02123205639008243, 0.09725763269916747, -0.07168684415032724, 0.1190064931450709, 0.04477880524721348, 0.1050636995047457, 0.10067994770588076, -0.16049840721153552, -0.062323888025248006, -0.01636138538292115, 0.10678487611626153, 0.03989135606587525, 0.018767073793914815, -0.17866146779157502, -0.03891044530447449, 0.05835383674792297, 0.0018270919267712696, 0.09482563929255161, -0.07091218251619119, 0.03871945497837693, 0.12295383388707193, -0.05560879040750554, -0.061911640427539355, 0.16571819717938274, 0.11154020979330394, -0.060761286443586096, 0.17122239852935503, -0.033533984374731755, 0.09911033811372409, -0.11570366931685701, 0.16502830865546242, -0.10468425909159636, -0.09583818586920187, 0.008853783179982026, 0.036258553032083904, 0.14186733060071716, -0.16060875365398306, -0.08114665151632904, 0.15903634533591554, -0.1126389463856694, 0.033575423725508285, 0.02851721176542936, 0.02733409633691673, -0.0966119271218162, 0.07702466958299499, 0.1428159536621346, 0.17210379401687365, 0.023340452578914487, -0.04738818404145346, -0.1343059232679403, -0.05805565561868299, -0.009795524293744851, 0.17024766942476288, -0.004409040691776285, 0.18266078286206555, 0.16026456343245024, 0.16231925440976563, 0.09929715616697736, -0.1539434446773093, 0.07632713852456638, -0.07959092612047292, 0.18143108779727465, -0.0988087559641699, 0.10209312560596823, 0.12062203094399147, 0.12002888587382796, -0.03604684110091327, 0.19131985839574503, -0.10625977716257284, 0.034585155983266266, 0.16118101326661033, 0.0708083474206903, -0.16860744923715665, 0.15786090615791074, 0.1560496132312252, -0.15914796068150117, 0.11367665727056671, 0.010770885694334143, -0.050568482407383326, 0.10060291294905671, -0.052383411182455944, -0.13374868131041084, 0.0922205804598565, -0.15698025188428033, -0.1457362914194044, 0.09043121594861947, -0.037528294638398435]\n",
      "- [0.1410631604382163, 0.0428309150063424, 0.021322485088040046, 0.15993720591966384, -0.005724000085094739, 0.014756819038254586, 0.15919785446390577, -0.0794627888571939, 0.08912282182388098, -0.07367530839844147, 0.0508478839018412, -0.06548121622842286, -0.0014901205611695706, 0.10254579325265303, 0.1459239537833778, -0.1297157305140455, -0.008115764966230878, -0.14976038389102522, -0.17975850663704526, -0.13331433831449852, -0.01608991463289219, 0.16635398195843573, 0.08305223109546264, 0.1662401166547234, 0.08731534161849283, 0.1442128919453187, -0.11912897469447604, 0.11902596803684895, -0.07425190562366987, 0.02637911110815607, -0.13242687658293747, 0.08171446437485409, -0.050003401572455454, -0.05436045629182269, -0.1071745725174092, -0.14265321924042842, -0.16552866681215073, -0.12133575193591835, 0.043937777046810775, 0.15960266792922964, 0.09182931639930021, 0.01960122217621431, -0.13347496866525466, 0.04696615740183344, 0.18093984700692078, 0.072910222330237, -0.08492494035745032, 0.1407773172901933, 0.14067752466309325, -0.0819200360338974, -0.09712045519978749, 0.15915574165177354, -0.14386719682399146, 0.0838949829395913, 0.15140425569654004, 0.030815596866496372, 0.030132630836674227, -0.032129812897899866, 0.1388002933983939, -0.16751927111909584, -0.10702196898102016, 0.15050223617924466, -0.029992664795945288, -0.050033204213435725, -0.1595287855500852, 0.04266272551793672, 0.007278091383007354, -0.11338717877562515, 0.07835499939134352, 0.15263107531182743, -0.0036351798272382433, -0.08584395387300148, -0.15814007148395803, -0.10022619046118134, 0.17009284288548632, -0.10793486852383866, 0.012016584376787466, 0.13367019062719224, -0.17185739750146262, -0.054613468211637435, 0.07683976396553832, 0.17650554029224763, 0.07518392401604851, -0.15609857034169108, -0.017241051306363567, -0.03833778158627159, 0.13175331071588176, 0.05635284776151867, -0.12602833871152283, 0.10784447939587133, 0.11901019291041583, -0.1315010108032903, 0.17640492639548602, 0.10569910301344813, -0.17417391086141212, -0.0536997906350727, -0.03777177722902725, 0.0062923156540427815]\n",
      "- [0.1392368693040225, -0.058450803518948824, 0.09423182504425616, -0.1846570206564343, -0.0027661526106509604, 0.17186449460131425, -0.18068871771778622, -0.0838011483258604, -0.0989233710140668, -0.13850392934259625, -0.11411206557796616, 0.12506456254320245, -0.02453161719358723, -0.06268816296940412, -0.007290191386583498, 0.09710862461938621, -0.028325072152686738, 0.017293933216248957, 0.17697522135231966, -0.017021391456710413, 0.04677150934222779, -0.18868511790234765, 0.08967112564803467, -0.08074662372718412, -0.14753908620474468, -0.11578207299747073, -0.05980517341567113, 0.13274378174947438, -0.018585328221884214, 0.08451514404305861, 0.09688862545301626, -0.13427659554537136, 0.10953278845565759, 0.1745127718964752, 0.09023041589365846, 0.05983853406055399, 0.11490917537516837, -0.1553902973797996, 0.055776356822110414, 0.04035816252576178, -0.07189449341007338, -0.10363125348413203, -0.04207359095313641, 0.0461566599016235, -0.00032422045550416494, 0.14034804246046476, 0.11527068413495817, 0.02877412304270822, 0.1065701047228465, -0.13862819796204542, 0.07347621712706053, 0.03855965057351364, -0.1798033106332514, -0.0507711153613657, -0.03612691193326307, -0.1411716715020264, 0.018113290701165803, -0.08809564901482839, 0.051840826836134, -0.16378809001191663, 0.13851338773131816, -0.1105528781072191, -0.029518213581994367, -0.026696906141230943, 0.01467107256669605, 0.11952706295615888, -0.002434904140872106, 0.09567589596038913, 0.16910980603830206, 0.10566298928987718, -0.15903111676312434, -0.03880923930837946, 0.016656002541409403, -0.0185647623244081, -0.14332178012213356, 0.05610757180986356, 0.1609836917135062, -0.14297517818788055, -0.04481617629757555, -0.1471598177507551, 0.05996152193937887, 0.12966066668238893, -0.1803282754169079, -0.0418113804611962, -0.11830527084377858, 0.07774200952275193, -0.13614185690905456, 0.15014989162576148, -0.16775166642797748, -0.008545493710172518, 0.06940977571393782, -0.02866280489512181, 0.1661760083911142, -0.12354060344073474, 0.14645618705539695, -0.00978212822569217, 0.14827915687107407, 0.043356443487243775]\n",
      "- [-0.16455931017883718, 0.007509335397944838, 0.06737053822675886, 0.17905589833211988, -0.11515216912882861, 0.1109968937095113, 0.06959087440414091, -0.044361691821415486, 0.04930973968649261, -0.06446409287020416, -0.08315271679353911, 0.0627650409190878, 0.15150878091045064, 0.12744467742972262, 0.023621392327623423, 0.10792515818320778, -0.08110702833074511, -0.04859893306936371, -0.1421576980257678, -0.15008457916188306, -0.12231500854779495, -0.009964856468919021, -0.04654562419351338, 0.042957799808120055, 0.018230753005754972, -0.021980391230399486, -0.16531485973507318, 0.03754003534001071, 0.14764837511979653, -0.02747355708015157, -0.002242969993909966, 0.03197409427110945, -0.1779213770790489, 0.028649123811997145, -0.0965664199975484, -0.010372817029965474, -0.005795960349075352, 0.02927887442107801, -0.10687196453025286, -0.07165242883849006, 0.1347123877833472, -0.0903740541351142, -0.13134932387509993, 0.07581274298257307, -0.04165497935075711, -0.15077190203566707, -0.008404636409484998, -0.028095292884370255, -0.13486029653851872, 0.0923606981661173, 0.08552041599596676, 0.06956504262952092, -0.06778332964002907, 0.05774133512016382, -0.021135962631717967, -0.034507589000747546, -0.1837103541076343, 0.0974470739528796, -0.12249826848952408, 0.11754571245509361, 0.18422579049634427, -0.05388908152159165, 0.028643274903420054, 0.011482698931053378, -0.13100617274177934, -0.18170094765807301, 0.010090106228301133, -0.1388814132518097, 0.09185865443950429, -0.00794155569319522, -0.11855523959394253, 0.019062323568510196, -0.01416058635427946, -0.027227484858948322, 0.1332259791367114, 0.004061280394617211, -0.11063462355397374, 0.13880332014101843, 0.08365344860602218, -0.08743691218692676, -0.06697438434111554, 0.06444618324655003, -0.11420564218400413, 0.11941774360672446, 0.03091707805277241, -0.03754673718214304, -0.028884046359531387, -0.12161612979044843, 0.10137651883222625, 0.09724925534462464, 0.16307520932892455, 0.12816457340686316, -0.14045844724383738, -0.04201440759628927, 0.0580901312923326, -0.1930491456820769, 0.12686516835803366, 0.06862914378213451]\n",
      "- [-0.15956368039834762, 0.12804945048502037, -0.0939827700144795, -0.051136514672831465, 0.03519793539476663, -0.17651704012457056, 0.1618602031180657, 0.15274504845601683, 0.06097719745049642, 0.02116582204191701, -0.11731078260298758, 0.04642279194765047, -0.006836853473263887, 0.10160462341060063, 0.02177214765924639, 0.14757737693249487, 0.14806086205364455, 0.03310333203015355, 0.12046978682430082, -0.13106026712827365, -0.1795912947466731, 0.06319279333966034, 0.10572325904401943, -0.03617726897896332, 0.044077325602061464, 0.13124430444525897, -0.10092327176500585, -0.1017489454137914, 0.13691985069609877, 0.06876053180785331, 0.10236060571520483, -0.07389263228532507, -0.04012734853648966, 0.044517311023493586, -0.1634564915180919, -0.10713522935151061, -0.1629820423896003, 0.16502304925369993, 0.11896675293235764, -0.13781062592890495, -0.10465777796853859, 0.17214633609619243, -0.008265464181381367, 0.15455872873030574, 0.11340575104841763, 0.12399304680593222, 0.028446088184134938, 0.07783099652569889, 0.12059798103344746, 0.1580793827535388, 0.10114161578355582, 0.07695772670913796, 0.06439162823125379, 0.021084548224199272, 0.09302998171998307, 0.03185566971047042, 0.05834114541731393, 0.03816098207248626, -0.17589385582551068, -0.03668864225833163, -0.17945312069254596, 0.06595693777739979, 0.16107501134101032, -0.05850465531941577, 0.10630947485702598, -0.12155996127570633, 0.011958716924712622, -0.041818931816103314, 0.1860786762535902, -0.019828927091539772, -0.1445735229124813, 0.09761390221561242, -0.03647535000572735, 0.107923126339485, 0.09209569813650702, -0.11008123904131048, -0.10970384664803615, -0.030519911742516982, 0.18961301953698523, -0.12427071765625143, -0.12889844363179045, -0.034012816629182686, 0.117850715534847, -0.06481237679242202, 0.06940229052170016, -0.05746420942059746, -0.15847034205871177, -0.059449259277527464, -0.10553489366425202, 0.005782617972453229, -0.1213049477876329, -0.17031873622898602, -0.0067020022462320455, -0.1755553396900526, 0.14620744402942848, -0.005954519167076587, 0.09189842943812324, 0.06763516537888158]\n",
      "- [-0.10595162714897884, -0.054515733242713006, -0.1674193943417144, 0.1675187983967714, 0.016739134772391986, 0.07881670566667685, -0.15290825257218504, 0.02374709544948259, 0.03630619944810111, -0.05984695616556068, -0.0288237699119347, -0.13158941418832476, -0.030157984770908784, 0.10797769868433867, 0.04945743673483083, -0.1008741304076297, -0.1806410132419671, 0.16816601875540635, 0.05622092608803264, -0.11038259694217668, -0.08204050806989686, 0.13023003761945334, 0.14105215688984288, 0.05007865688612925, -0.0973137780515212, 0.043657871994661326, 0.16570038062054268, -0.1107545965566269, 0.0707769791758662, -0.08494052050704183, 0.13424837452076865, 0.15439760472654687, 0.05745823917037289, -0.01442613683997033, -0.17908838513175654, 0.15337033279895507, 0.1476083626717213, -0.13144737863360767, -0.039283444146914905, -0.14922694870945996, 0.15373687057692043, -0.099228092249021, 0.04199743999428657, 0.1121747288577602, 0.1643489471059295, -0.06972670061687439, -0.09739632097592424, -0.14918125575949112, -0.15153338031010208, -0.06527329680215029, -0.05172022498736394, -0.057732815520744406, 0.15563097558794867, -0.17110162892410014, -0.12576970119455147, 0.043693991648974695, 0.13205065991718623, -0.18627739136069302, 0.10009109636501329, -0.14545223246890976, -0.019042053485982476, 0.1590138041277312, -0.05861896772218536, 0.01764200257140898, 0.02707784925733583, 0.08391452365054586, -0.0032002345834179643, -0.06840145527314363, 0.0384398684257101, 0.05657131190614366, 0.03270300773925598, 0.17328129932035521, 0.07378260530184093, -0.022227010483900224, 0.032291932072518514, 0.09841708071415743, 0.12078849304398419, 0.15957482590714392, -0.12096780836841395, 0.004195646821931224, 0.06181463144196228, 0.1626983935006422, 0.10543182409111099, -0.0022713432369082403, -0.024681503741229478, -0.13589773710126676, -0.12717927713371446, 0.025801764596523384, -0.12632877949650037, 0.18108864908307754, -0.059952297720459465, -0.1245117163477908, 0.06379586115868802, -0.029701835755579532, 0.13298583069768466, -0.09320415960687439, -0.08930667271950986, 0.14280183204803518]\n",
      "- [0.12883180528856683, 0.15826116038789723, -0.04746228066863152, 0.036463409362866725, 0.07221140773194397, -0.01095994183841582, 0.003926575115920721, -0.18602966424317702, 0.053061557639112744, -0.029498422115545004, -0.08496318505499403, -0.03460327881923888, -0.09946577813880185, -0.009897759630933362, 0.12868752221705745, -0.12005584196866949, 0.12255229611918993, -0.03497373777028972, -0.005082277337786008, 0.0809303125298023, -0.18041971416444438, -0.12440068660081616, 0.03326936719301367, -0.06577092111564221, 0.1458628236684009, -0.00879699524144711, 0.0004384315566751655, 0.0912982010748191, 0.027093026237130613, 0.18482350715519474, 0.16661916897776108, -0.11996900314036975, -0.1362881302961663, 0.056216333128014155, -0.12964372383565226, -0.11721894346108779, -0.04654495346268425, -0.0001388387147451844, 0.040535145818800376, -0.0648762465480305, 0.17082044047786724, -0.13885273924256264, -0.13501686102666033, 0.04023193460448024, -0.08197726496682467, 0.031133854517481307, 0.07889263806826081, -0.067652175488854, 0.08576190966945925, -0.10622889215085607, 0.13007392365632567, -0.11658844674102659, 0.1623335582500037, 0.15989597731981903, -0.003877112258358999, 0.17190805428663022, 0.17609301221083645, 0.18063691076293703, 0.01900903457694507, -0.11579451143461401, -0.049165326286925264, 0.07051198719188219, 0.16612190430532423, 0.156993182683527, -0.10490504482190752, 0.012121406725366572, 0.15230416083773496, 0.15001848467454848, 0.0375136366073457, -0.041503880295456375, -0.15593236848400654, -0.12590397749671986, 0.08132034405197167, 0.05743740255517331, -0.1706376188848092, 0.009088951047214133, -0.1441381357972097, 0.15335059541738089, 0.14975997795785842, 0.04380287866493081, -0.1655474618435494, 0.12063165269689045, 0.11313436558901624, 0.043556557979506035, -0.044992745522775456, -0.16819935613427148, -0.053112502832083304, -0.0615641611447202, 0.15490661043670897, 0.1364979837561481, -0.09819153518070282, 0.03839951858731377, 0.003621431271567845, 0.14083907677565669, -0.0034342719174464613, -0.12241844852995477, -0.009923828899619331, 0.014242325121010662]\n",
      "- [-0.15299790508445885, 0.052790295465813895, 0.04428187401390256, 0.11907055145894065, -0.12486461787741925, 0.16965556845696922, -0.06169387492226522, -0.07963105847246758, -0.070076197009377, -0.048662553820852966, -0.014673005713297285, 0.16217117204106418, -0.18553010078633747, -0.09345940159610765, -0.07624272991329457, -0.043956828289494, -0.11559349070527762, -0.03475298852354473, -0.0640091846583513, 0.03491495087578998, 0.06066610605627417, 0.12751081444300227, -0.14620211423077326, 0.12636048206176909, 0.035388377184224794, 0.011398513489285037, -0.13471299772356543, -0.10042554673486255, 0.11047932430793282, -0.09145694557264553, 0.06905604056586401, -0.07726543269584331, 0.13091024246009328, 0.03485852320059692, -0.009971152301613728, 0.05755459486705765, 0.15399553166688723, 0.06547711843327905, 0.16160463611190717, 0.0651078043119583, -0.06941460621345062, -0.11031783721760231, -0.05904642748559739, 0.02816661372937222, 0.10716522585245157, 0.07922978567450473, -0.12613330304115108, -0.15066691896762127, 0.026061969477474318, -0.1198141225825546, 0.07072101568751721, -0.030512614560743567, 0.0789327968986821, -0.04045190343155662, 0.11817498854713902, -0.10971431808785029, -0.03082716818252056, -0.004940465978756433, 0.03294011882698431, 0.07254619578062543, 0.00978348885449027, -0.059978595030814416, -0.10143622474715107, 0.09597560881348742, 0.07809868466513324, 0.18551723579962004, 0.12776067993386225, 0.06933022396964882, 0.0515171794912907, -0.16895033006396468, -0.045156599087572157, -0.03557117979793356, 0.006898654126370423, -0.1288763015369509, 0.10489324030908517, -0.10868371374808573, -0.006435936239902647, -0.0401783806705714, -0.10390682563777687, -0.04364541149204311, 0.06142301500881505, 0.12046502590637412, -0.17338226125751927, 0.02765102410878715, 0.07984573238603904, -0.12927813765775337, -0.13764366090275573, -0.07213476232864666, -0.17600244074008906, -0.18175729434630064, 0.12402313621258683, -0.02790397664025638, -0.055401128907420265, -0.16486322854040675, 0.06732545631358511, -0.10021949811732332, -0.10478268997958588, 0.15477617547143055]\n",
      "- [-0.024449239841262835, -0.1828826848887647, -0.10807259555606677, 0.03232417416219816, 0.08261796975986165, -0.1044534202867184, 0.12975567614117067, 0.02542495918115363, 0.0812402286981561, 0.1330960584522826, 0.16542217326963246, 0.18595454760431976, -0.01897684651357547, -0.1753503452969221, 0.1443640025194898, -0.06683533102273592, 0.06816308459843262, 0.10606194164203434, -0.051660669099837755, 0.13164888045819167, 0.016833770969949997, -0.046472810883750965, -0.13573134878714116, -0.16633248221344277, -0.09308397494009298, 0.021229964174599738, 0.012922089224029652, 0.012218190453070089, 0.15793681378205876, 0.16113198408295937, 0.13233109631508097, -0.16007814637907125, 0.05404109029764209, -0.13005466745262048, 0.0955401929092109, 0.08505135406519009, -0.028210254474410255, -0.12074589515838256, 0.028988016404692982, 0.06813951840003322, 0.14102199239075966, 0.09427455220945835, -0.16054736412068576, -0.10417233820810835, 0.18921064616599118, 0.1016540669921737, 0.015205868945255328, 0.06460222722237115, -0.15355486245782493, 0.17850084048510098, 0.08341909716959943, -0.12507495299833057, -0.06884490134832444, -0.04767961420520488, 0.06457160817977975, 0.05863186357578234, -0.06435488858655673, -0.07221582270509169, -0.037166225787207026, -0.03347954613447137, 0.04158569948806458, -0.1695901443074061, 0.016657991946148247, -0.11806039536865408, -0.06232967452494419, 0.0004487600840077738, 0.11129610054795179, -0.0666954059853738, -0.06086040223469655, -0.07501495995453411, -0.13083353412481577, -0.1275191008004321, -0.15904204696366447, 0.12368438614585407, 0.12001226487253178, -0.03107420972299218, 0.12703192003264185, -0.06822984181020877, 0.022359110818919767, 0.1721627257877161, 0.12444549821712775, 0.038603839178907515, -0.17082908846669548, -0.1331755324830495, -0.09122571419557056, -0.028815233713034186, 0.08352462473628874, 0.0008772731260486439, 0.07806100251062817, -0.004259727521153082, 0.09197930538839784, -0.013106933837084618, 0.1606807411290357, -0.0389373926417455, 0.08715694546377888, -0.1297255780994475, -0.1401812067882502, -0.13292149604799855]\n",
      "- [0.19031852587816553, 0.1466413812215948, 0.08681625954313987, 0.04324303964631479, -0.13139096412276222, -0.08766168614009366, 0.0453913851486241, 0.1734141733092678, 0.12491187288290066, -0.04719383470864699, -0.05417480004592587, 0.06012343963594362, -0.18695489273016436, -0.04740393704958181, 0.04700671390955002, 0.11380613038728316, -0.06723161344590653, 0.04581752925325355, -0.1042087441993925, -0.10917846626768296, -0.07010675597632694, 0.1525027090239609, -0.1328311999116019, -0.17633603863873995, 0.09896956795788601, -0.02372586485547826, 0.16085646925543923, 0.0872960238864432, -0.18090567889291345, -0.09527649473360998, 0.10677287359159285, -0.0012184351101724566, -0.12379488142781471, -0.08026060034340085, 0.09964013469149115, 0.033814766173640605, -0.1445995107964423, -0.16990703127229795, -0.0545511896967772, -0.10218192373193537, 0.1491391438737547, 0.07311735449741583, -0.016704156592002594, 0.056086131189062624, -0.1507614604249861, -0.07135244541322369, -0.018405127014529184, -0.014358740513936917, 0.12976546465356578, 0.03408943472196933, 0.10913377405973321, 0.14359640207099708, 0.0384034848773494, 0.12241662847705832, -0.04429753450834705, -0.09024071415886957, -0.026304222202813445, 0.06511413640934084, 0.028150317998987064, -0.1634535316782083, -0.0403447896939267, -0.06807312059203074, 0.07324843586578281, 0.10000392399182237, 0.054314895465834415, -0.025253144046936002, -0.08991520650465992, -0.1743691825288208, -0.15814712031458256, -0.07753250657487604, -0.03497387017321245, 0.11293722503374844, -0.0651796667006113, 0.07583220361108077, 0.11549940576932867, 0.08081189101158626, 0.06264561281593134, -0.10747863661012311, -0.002037805224336773, 0.11593421380357984, -0.13953249829000564, -0.14329505612894003, -0.14387791063266794, 0.03882780413126003, 0.07387518836492105, 0.08268299935406906, -0.14790842428455414, -0.18846845929577216, -0.023545368173381303, 0.15375774120471145, 0.11532321435824565, 0.11544699027618752, 0.10486956692612548, -0.0730268399733205, -0.03985084172628835, 0.19338841757132164, 0.05661914740241278, -0.03602820756669942]\n",
      "- [0.004885011307449657, 0.07839091551971909, -0.15925889240653357, -0.08034222897128322, 0.015149096699620626, -0.1528569084021679, 0.06529165666818187, 0.06951429658529229, -0.006146706681617264, -0.050993164780703266, 0.18142634370782662, -0.13848960693846313, -0.06867842707891801, -0.17506217605427218, -0.1475063800060102, 0.043698354383513806, 0.1776731989758721, -0.03558945251487016, 0.1535251107781804, 0.054781331907842325, 0.1040954818375844, -0.18108196896052656, -0.1271500802872048, -0.16641651940372362, -0.14797676893748832, -0.11383737576526408, 0.13331576266516412, -0.09721318904715331, -0.040275245832714364, -0.004254898255437914, 0.07919220684208815, 0.014108319309268686, -0.11322125826327994, -0.010895516995189251, -0.058496302827495704, 0.04584978853979321, -0.10014924976116904, 0.1416143182061359, 0.04308804980596509, -0.1575253583088693, -0.037249514191254156, -0.021403448997441434, 0.06081667931669653, 0.11433120140517472, 0.010894061755292046, 0.03709280959891032, 0.13095961861230385, -0.012627049360125424, 0.14374535528287555, 0.13101886778405994, 0.048774626967829846, 0.06768668454460831, -0.10047098117539952, -0.003797751374205935, 0.07458581448778392, -0.03087589421607187, -0.10687345988390425, -0.07624456981317385, -0.0334637898878766, -0.034116130726139574, -0.11731968715105294, -0.005517717246388191, 0.14464598568768552, 0.11582001759958394, 0.10721110673245031, -0.11805005594283505, 0.10912334501480161, -0.048018291840863425, 0.1009030671271087, 0.16956249673853635, 0.0465381943649553, -0.15281714978621463, -0.1956740028674109, 0.1021663533143268, 0.008988919741155416, 0.17890412625754246, -0.013414519895006477, -0.11269924614169867, 0.10623291355686595, 0.005480755451608908, -0.060752602716540885, -0.18540687883620238, 0.13420353785947106, 0.0094858085848421, 0.027682967344850175, -0.16335114040415238, 0.09122233529578072, -0.16942477378710352, -0.13770136080344125, -0.06700971750957001, -0.053033870387340656, -0.12131465322662273, -0.16391227904756422, -0.17770718284935216, -0.1243358356284508, -0.13704096951567535, -0.020879460923303002, -0.14560128681202988]\n",
      "- [0.05587541399062485, 0.19227809774766264, -0.08707555983207156, 0.03061432981495882, 0.12320988880214753, -0.024592017749978025, -0.025902481773507555, -0.19103293596088486, 0.12246262020274995, 0.04519661419487418, 0.06468937002146712, 0.021990144453340386, -0.019273664661628512, 0.07550063998410986, -0.10497367396909252, 0.09618739072459964, -0.1363973211041235, 0.07692353506835563, 0.08465941168019811, -0.1622606600222317, -0.13297447422465059, -0.1617222543147003, -0.13736399419706444, -0.12115898242755314, 0.011387074812544995, -0.1385446462286275, -0.04334750937713518, -0.12115080943796888, 0.016440131611759903, 0.11782406549471558, 0.13535325052015584, 0.01959244386291663, 0.08512156968348163, -0.13461597546247728, -0.008699022758138693, -0.14139848989629128, -0.06798785533682071, -0.17844849575384922, -0.009795389496121422, -0.07101946213074325, -0.054937668535689106, 0.11772004542963245, 0.05064372481941434, 0.14835751552128057, 0.11459340875490262, -0.08505095502931129, 0.0032299083602174363, -0.08547659774088502, 0.13332296925787288, -0.07797252202230186, -0.029413466708148314, -0.04451168666000792, 0.08033093208942352, -0.014496535528735071, 0.15455907403178978, 0.17504616451382812, -0.11171647875655283, -0.013633914195910963, -0.014666294738759814, -0.1597240661954627, 0.0308976057928414, 0.08466656422639561, 0.10257824422333155, 0.12480229074228259, -0.15148098060428636, 0.0301646118542607, -0.13316728009385562, 0.18494552079936608, 0.07067806707765326, 0.0941549511266011, -0.05385496952040271, 0.13757391613469497, -0.0863702777774469, -0.060660589370358335, 0.037403662596171845, 0.009485215484041435, -0.11700405704095798, 0.0989875786401864, -0.14478103329902256, 0.0087961996584388, 0.04045926735528265, -0.11467352427037852, -0.006215989021202238, 0.09184832416140591, -0.05873344162601096, -0.09169629453639541, 0.11567131707133728, 0.11688306821995205, -0.10644271829749437, 0.07875562735177193, -0.12482813847043815, -0.061497890738753586, 0.03717928774204327, -0.043555283058977455, -0.07075626423250708, 0.006297314316228096, -0.1050123046308797, 0.0789240661049492]\n",
      "- [-0.06211045916634581, -0.12540093762852855, 0.109184911305567, 0.09090719178195578, -0.18196044280832127, -0.14533514927176142, 0.05547095562633018, -0.1558874914897499, -0.17099662137370142, -0.1113926473391399, -0.043160893097269316, 0.025302652493511036, 0.16946377723992442, 0.06733092273367344, 0.04061084155693649, -0.028133033889777972, -0.11832776065364946, -0.037726084498598114, -0.17945210611363804, 0.004345779552922722, -0.09506304206766493, 0.18006206392623106, 0.10586800548764991, -0.03875910638207607, -0.151973498179619, -0.12822304203647708, -0.08141402018574663, -0.1732139782121745, 0.08496306901881195, 0.08367378994323042, 0.15974718356339734, 0.15302202995385947, -0.03183645339572114, -0.056539544967336194, 0.11981315333746406, -0.06977146983030615, 0.09443171810451016, -0.09021320518065044, -0.019373087497705936, 0.020692890934401874, -0.07620039171692752, 0.007292224142989601, 0.11257866478914537, 0.1563179228224555, -0.04726258700752104, 0.1887459820988719, 0.10338930172834203, 0.11156707480880322, -0.05190551426591992, -0.16584780420338152, -0.17554510164851328, -0.11573171915617758, -0.1262477304997199, 0.052002957373289, 0.15118232958815614, -0.06151469567672237, -0.023377840644004857, 0.054754975298643385, 0.03484833240692076, -0.08790652480758286, -0.17427194040607283, 0.14564220274797057, 0.17278574876935476, -0.06914662799453745, 0.0021823450612894067, 0.10244760226507407, 0.12894096035547156, 0.011636031907053606, -0.15407824498126868, -0.03171856201085371, 0.14679141620853384, 0.08849166389641272, -0.00610907238527325, 0.061229500545670744, -0.019750301576977713, 0.11228162156449642, 0.01694196213417929, 0.09471829868788217, -0.1106296990208898, -0.06275458026938091, 0.05738801179663283, -0.14961806084725096, 0.08844786222925936, 0.0634281155163192, 0.06630460347779293, -0.17488311729373843, -0.1581209428330945, -0.18514297530470708, 0.0890589119757626, -0.026850161436686767, 0.169463335070973, -0.10989662925025484, -0.09838620672226027, -0.09472181682618419, 0.015325915133073905, -0.1176362470022859, -0.015804023556039267, 0.10630281235272317]\n",
      "- [0.0767546014042527, -0.12612046884696088, -0.11527152031948525, 0.1315750300842598, -0.0700076218146053, 0.05275035941477535, -0.07033970673568417, 0.02746229642566445, 0.12764903993986718, -0.00013192717937654817, 0.13962092001008172, -0.0016642338668873867, -0.13312975883900335, -0.017230698948894604, -0.0946271130676108, -0.14950220721959787, 0.14125636678002024, -0.1348714854236932, -0.021750576835082722, 0.13566577131397567, -0.07855121771835452, 0.04048186174040881, -0.17698796338355427, 0.16576911720434798, 0.03119160870169003, -0.16575611076026323, 0.09285520651853026, -0.12640241648919862, -0.15309543351359856, 0.0804604876932959, 0.15237935028474056, -0.05437195395435566, -0.005594138081258801, -0.1044518545174002, 0.12591182665571385, 0.037977370310353684, -0.11263429730720075, 0.060940203533087274, 0.08960856836307465, 0.0960148118874197, 0.17631400474231695, -0.03642337489527406, -0.10486941877549762, 0.022551387877084435, -0.025844063109474683, 0.11946834659406778, -0.03763038076578765, -0.15773995657759163, -0.1075809256643398, -0.012577220894838412, 0.030756670005973836, 0.136926813487557, 0.09342069937121696, -0.10563653367005896, 0.09900411207429166, -0.05106860808639291, 0.0693188857556719, -0.13525943498266868, -0.004608028377913413, 0.0020769466964902787, 0.14638574713269806, -0.18035061792264678, 0.019904097751954328, 0.04040124274667261, -0.14614196707767044, 0.1570211608164614, 0.09126178264802302, 0.0894207242110568, -0.1279087418619565, 0.09196323062561014, -0.02950408562042896, 0.13191491993984256, 0.10720391594235007, -0.10220258937775345, -0.06804828071907994, -0.057019533000631645, 0.1729684346019128, 0.15952634114678108, 0.03069015574640261, 0.010960089094579906, -0.10918227943780709, 0.09370543146984102, -0.1042915414327291, -0.007581564487906804, -0.16884053459249768, 0.12484808319222525, -0.16161368886308078, 0.07235257775966099, 0.13684691847451402, -0.1519124229321161, -0.023277861262421963, -0.1449347779176943, -0.14769497577589535, 0.12500777419750062, -0.09233644977756128, -0.08566386490457448, -0.1355227327694403, 0.005785506328164947]\n",
      "- [0.146130071485861, 0.148565058321212, 0.04409587078807226, 0.0890320434833079, 0.11027126615256053, 0.1127368029221504, -0.1549287498529462, 0.22518269811848535, -0.1514062849693984, -0.0833919794178108, 0.05816488533121315, -0.019907513179944564, 0.06165633109936518, 0.11770842960075101, -0.11550694719242237, -0.14570448696173827, 0.016003733758128018, -0.02752481669479877, -0.09551652780828561, 0.16651384589645854, -0.11562956570974313, -0.025237133502709095, -0.08398613529006971, -0.15096632722074294, -0.09374820912716444, 0.02085013616095215, -0.10200565677905382, 0.12710906471491482, -0.03411847363136454, -0.011584675451397878, -0.025104011883024833, -0.0037796746949352775, 0.1666714183662791, 0.10819445422116498, -0.05229655041287446, -0.027268910593477705, -0.01335539135868391, -0.0674111522209219, 0.15683694050440686, 0.018591567641949382, -0.0714509286695734, -0.14725638477465372, 0.015430783187172085, -0.08846651848822756, 0.08570728169991554, -0.024796105246754928, -0.08740256339244508, -0.05503331114099388, 0.16200312133689598, -0.10499564032455083, 0.011285566231662266, 0.07268713313387827, 0.13109272598321542, 0.004092634510600282, -0.062260713523367414, -0.021016172467325234, 0.06820008543298327, -0.007139253106899551, -0.16849162113208663, -0.028987890359596057, 0.052938863272107686, -0.16168479387775386, 0.14682658526107015, 0.045235046586567684, 0.046641463949048896, -0.11649171521374636, 0.07698208250821602, -0.0547174236586406, 0.08431613224294476, -0.05581007444173439, 0.15935090823979076, 0.13146612533946617, 0.04377846326771162, -0.09740346324270686, -0.0882300605111267, 0.019307686338245908, 0.10095527104298835, -0.1629243614908523, -0.08461138099133893, 0.11737371973909315, 0.07129683143245816, 0.14624745477406126, 0.07603423715215271, 0.1633904086078381, 0.023066018278009894, -0.04648145822685505, -0.007097152361472848, -0.04875672168316898, -0.06495883543335253, -0.049954299853906155, 0.061649093251586615, 0.005004981793681694, -0.01404153533005922, 0.06752045836868206, 0.1350394830831994, 0.09303016389588104, 0.03355729295812321, -0.050148023760760684]\n",
      "- [-0.17580312985112265, 0.07203373481881103, 0.00627664094864756, 0.07001252763633153, 0.1229671232379831, 0.07488438111532747, 0.03775885634692876, -0.15885042061675844, -0.04233023656938881, 0.03559151260960468, -0.07987392149290946, 0.025922329754951817, -0.003965492701490388, 0.021776280230479252, -0.11824419443287754, -0.048101071071758233, -0.07626818492035266, -0.06356444462845832, -0.1796374609113976, -0.1834877290102802, -0.15339307875742333, -0.12448246141073468, 0.1430568913485094, 0.05394597193754869, 0.052477569054580134, 0.1308816787479711, -0.09570944920388252, -0.1470383049233554, -0.08380979195299953, 0.09695170124391746, -0.15317978404756585, 0.12989017632901234, -0.12836010446326904, -0.06619292594650765, -0.1802680319846469, 0.06393210374269459, 0.13809739550035444, -0.18027240204711886, -0.011185115988265014, -0.07613962807827697, 0.1599788854397565, 0.14322348186505982, -0.08133932588092842, -0.0628469843845367, -0.1528554538267094, 0.14296579642403595, 0.10518632106916896, 0.040533832879768, 0.11126084034264905, 0.00401881262466759, 0.032757699202418826, 0.18782686751198346, 0.004144461771668666, 0.06163667447077628, -0.04014159717334403, -0.17004819883283873, 0.10003409129301404, 0.09109260406010453, 0.1780309048480239, 0.09903479803591952, -0.15084192673569843, -0.08341772167692918, 0.05828174193084366, -0.14076983248227884, -0.071274905197231, -0.1779161956323471, 0.003393367654976567, -0.011308902324496042, 0.014697614133733796, 0.013606137092877585, 0.11820381502942566, -0.1345233281967276, -0.009153783667271913, -0.09747791628307372, 0.10214326447660547, 0.12656939458673885, -0.1704287119844329, -0.11177112484878036, 0.14477519414718334, -0.1848182578190727, 0.02806373618248656, 0.014813093614806922, -0.01759449195744259, -0.09135146180962228, 0.03894098874144623, -0.07786305957710893, 0.03234941203744641, 0.1625895521336684, -0.06081044981508351, -0.06724044470449803, 0.048591737370621425, -0.1076648049091004, -0.16678107134763007, -0.007352234290824445, 0.030948743852934578, 0.0011866535623131058, 0.1761410634709187, -0.17335969522758876]\n",
      "- [0.06185463276150332, -0.15307172636432004, 0.17267669582728246, 0.14550800476269846, 0.04897179188797324, 0.09606983461255048, -0.1098517227824631, -0.08149488502830682, -0.0334308309521369, 0.1720383479584869, 0.07761849231381497, 0.12617207098686942, 0.11783366539364189, -0.20613060476863115, 0.09624581127102357, -0.10759450058635149, -0.1663206557560021, -0.09607863613486255, 0.1668585753632179, -0.07886078116343985, 0.14354524447796158, 0.05120287928682392, 0.16042952905806876, 0.01623052938461927, 0.08673538520386828, -0.05545386614140592, -0.1441892372103473, -0.0975688360210675, -0.02765475891691791, 0.13932011125943963, 0.0985523980378554, 0.006159133504251121, 0.14752486850196947, -0.07176234044454505, -0.18873620044807954, 0.11313609139154036, -0.002127825609723759, 0.013870375033198722, -0.1463805261673148, 0.033416336890404186, -0.05074086885466928, -0.0793905929870344, -0.1160013690664551, 0.18788774100284486, -0.038141229145868066, 0.07710749957208342, -0.012235665251456107, 0.07109945909996558, -0.14099050411628072, 0.00811269246710089, -0.04924741964734609, -0.1776302573623117, -0.14425259552587166, 0.01879219464260229, -0.012732026633453079, -0.03967308654797723, -0.11366345477310526, 0.16486448226242365, 0.13689180498054115, -0.11239532573182792, 0.02336041121668625, 0.017855777156189058, -0.1150746900943792, 0.16616750258978658, 0.06345557878657093, -0.031124137656480394, 0.02355815920011389, -0.11620406924322428, -0.13536585226977993, -0.13386282467626123, -0.13976764135823608, 0.035917968603705976, 0.03745457776466204, -0.09480782216838163, 0.1359337407983203, 0.15600861156255152, 0.09571005374137412, 0.2001400167289423, -0.002688858153525352, -0.03425868967052278, 0.10621575417034286, 0.023066811457265243, 0.16084524397523375, 0.0877481151696012, -0.08807870037272925, 0.10340862273395289, 0.08056158786048366, 0.15643821638721284, -0.0567317311800135, 0.03315099445788243, -0.09910951796234427, 0.15111727852582035, -0.1774695501820988, 0.05963138491249923, 0.09302872809218456, -0.15925655253754706, 0.08922942429685254, 0.06934295483477912]\n",
      "- [0.20367608972512266, 0.09453061343705954, -0.09178466671281407, -0.06760954572041179, 0.11348175030928262, -0.057506361582333, 0.02402144057711777, 0.15213248553321454, -0.17612483612350582, -0.0012808018468743196, -0.024338097961455012, 0.12083907164404167, -0.11052024244175525, -0.12508687329491233, 0.04851497286576713, 0.11797075546835185, -0.1111120721687334, 0.15233730670618056, 0.09172425684562852, -0.11346276639190266, -0.1536973798066461, -0.1659868780825801, 0.0353107729819218, -0.06676833517432844, 0.016574240016815615, -0.16193662846996879, 0.13212477779392492, -0.17038790516735733, 0.005481605960577661, -0.015717722227644074, 0.017908590460053303, 0.06797692104879544, -0.16159541191388752, -0.043614735870864015, 0.09195060271666963, -0.10935541342364227, -0.13225240250045614, -0.06068788228037374, 0.03615165188607145, -0.08644801078586525, 0.16267346616683323, 0.03159746458770348, -0.08948711886564263, 0.016063495482087947, 0.01916931435889978, 0.1667377615291694, -0.012460670267490084, 0.05733779811578556, -0.05949148015511627, -0.0674127365681107, 0.014195383225735228, -0.08822897665487532, -0.011557989382822794, 0.07459834096172069, -0.026398907057035514, 0.044762626638599784, 0.09441409380952914, -0.17129820350243175, -0.052271663610591976, -0.004963797960392396, -0.13823815211927218, 0.014538759656120765, -0.17246423235035338, -0.06281985074981432, -0.17086374747071248, -0.11234639349426115, -0.11341500032641792, 0.11925178342218, -0.15401391321371838, -0.08119619863095155, -0.145481188942978, -0.08170955229383234, -0.15717955789162785, -0.02422639337126096, 0.06016729254218512, -0.10593192701347026, 0.16136139437835417, -0.0008945815612005983, 0.16968066376033872, 0.17021269621221152, 0.08402328622021879, 0.004567658443669294, -0.07761962763017989, -0.11009405312052378, -0.05280218302216298, -0.09126942162746028, 0.00454656416371491, -0.04156935961199071, 0.14511735246934748, 0.16647667958981166, 0.11644082392754476, -0.17002310634891793, 0.013626376864258454, -0.14017260591459946, 0.12528958556329242, -0.1344155694446739, -0.17285399544497923, -0.08953292603712897]\n",
      "- [0.08730450411493924, 0.10014099512073264, -0.15732292197551928, 0.06681830095099484, 0.17641188922344195, 0.12810325686216106, 0.14582840822264148, -0.053645671159324705, 0.16067162211444405, 0.12153749474688667, -0.06309101832668218, 0.03796906065660945, -0.14756738754673385, -0.12140867092593903, 0.1626506243870538, 0.038431369954322045, -0.12638479758802676, 0.07374775531649097, -0.05903627810951955, -0.16473175966349884, 0.06954620393210911, -0.07032584420792902, 0.1701097094461196, -0.11239443418380295, 0.06198022272978362, -0.02831986875293759, -0.01673298180675347, 0.06879555059922751, 0.06020564845436716, 0.007556273193462445, 0.010832513293862226, -0.08638684093698022, -0.1584060293974724, 0.07657343348081054, -0.09159563783682385, 0.14737963949264948, -0.17793012591275412, -0.13244352519982067, -0.09008847320698764, 0.0533931417922916, 0.11602047639024253, 0.17931541680426588, -0.15010157950408767, 0.11867394356173055, -0.09484932922088632, -0.12367399014588418, 0.033778490420822364, 0.07924602368891591, 0.1242206361520215, -0.06948358559365313, -0.11789108799006126, -0.16349398656272515, 0.13052036792247143, 0.0393821943285087, -0.02371396344119046, 0.028499292569447658, 0.10922233986093394, 0.12232269473221877, 0.017471919368738275, -0.1289083087715287, -0.14124940998924382, -0.025108737202125742, 0.09892221674417552, 0.07173274879558916, 0.1405741122938793, 0.03237400389751056, 0.123432273102779, -0.055657806648568564, 0.03771628225854563, -0.029522718002142543, -0.13479032311654696, -0.07990996919247667, 0.06600507725729408, 0.12349636486087684, 0.00841159128371996, 0.1286458239165088, -0.11150475874183939, 0.020427099492386965, 0.09245474187574565, 0.1274368832663874, -0.06039067844715273, 0.15952550369445995, -0.15078114742999607, 0.06420186163234017, 0.13181629500328115, -0.08247883075172015, 0.024877446542428582, -0.024746332831121064, 0.09303990441112966, 0.06890017315884539, 0.1880609792512493, 0.1501776150045262, 0.1730868971009453, 0.0921742824249713, 0.14889149456915288, 0.13705658610316174, -0.1597806373604063, -0.14082981363783054]\n",
      "- [-0.07931308831412148, 0.15590934122075054, 0.08744653954818815, -0.017864558186912738, 0.11514821989634809, -0.02710354519976041, -0.025076547921116667, 0.1744463014621713, -0.056413555720460286, -0.017827772000312832, -0.06204865858889368, 0.16243359595647955, -0.03937107516032561, -0.05781201486207391, -0.053775822905685174, 0.06990732199458953, -0.11288362556442816, 0.03569221180074642, 0.10814389482961408, -0.18563238214827904, -0.14331417148037928, -0.06434432878984117, -0.16514902577249538, -0.10524248415875993, 0.11638191497736931, 0.036491509455519516, 0.022973296149357586, -0.1015647100340303, 0.0009560806264039503, -0.16003148510241136, 0.1264610243894787, 0.0012973849578872669, -0.0993832791655437, -0.16432400991844354, -0.0035939518717092293, -0.041147897048075484, 0.08035828741888312, 0.17837980939977827, -0.1720141919818155, 0.12758094486936453, -0.12253588332496088, -0.11672107150850841, 0.1651592087430206, 0.03434054926040795, 0.125596560235907, -0.0771725185001556, 0.11520877420658002, -0.17317981967547957, 0.006085097426103647, -0.17406785179177578, 0.05347774926024334, 0.09557305261413263, -0.12173341859533257, 0.12557628355255054, 0.1131915087295365, 0.13816844024709274, 0.025304500690080823, 0.16480777887194717, 0.15932055230511727, -0.11854505480154351, -0.08815677139246086, 0.14199469883776877, 0.06297575075428594, 0.15642487428918417, -0.009668917363482087, 0.04861270705575143, 0.1684446855588824, -0.17093764547227805, -0.16250041846216212, -0.1524651581662885, 0.05102917490737095, -0.182692641817458, -0.06155719844817872, 0.16822703073914858, 0.14736883529981162, 0.18391223847637128, 0.16967674636752125, -0.05493759249006395, -0.004316077244214322, -0.09957134076400667, -0.09714691037456469, 0.04624091957946026, 0.02196624827113433, -0.09413831337169554, 0.045310939894048184, 0.16191480759541732, 0.01636093350955889, -0.1444857946155178, -0.10195512332433833, -0.06059976708914919, 0.1696067621513946, 0.03131892934203733, 0.1362748235478118, -0.07181436627066136, 0.16801843883904913, -0.08918524979602957, -0.168594682916809, 0.08278119966925444]\n",
      "- [0.11236291047900568, 0.0828972954543307, 0.10027767070148877, -0.04708427842986293, 0.13520278715059494, 0.1217943756243068, -0.08688962280831701, 0.05581542057377131, 0.012643723608410066, 0.06366269136717134, 0.07716626061517202, -0.16024795135871842, 0.1143263752155572, -0.16182596276563882, 0.0345139326349712, -0.003897449078234558, 0.14736628694544895, 0.09228230709032924, -0.06953874284567568, -0.0002145770580639342, -0.17961857590117258, 0.03951577406547079, 0.1596789215884256, -0.16960689155988823, 0.11411584913323564, -0.024307179077103825, 0.08456755711008022, -0.0276050050197951, 0.04173457742722335, -0.03690481593235133, -0.1761063226615939, 0.04150303414751719, 0.11327690882442862, -0.12099033020015337, -0.11672419092595343, 0.16912339745534716, 0.17781678157458683, -0.12366471341183193, 0.11002814562283263, 0.054508170480753494, 0.018590550708099073, 0.1719115315378357, 0.08331442373638834, 0.004902558522774098, 0.09490608353362404, -0.1467268992467704, 0.03333615429336687, -0.08406723937634245, -0.09453541147426364, -0.030107549095092844, -0.1619318450035667, -0.13024005388781382, -0.17274162520131098, 0.14359165605011084, -0.14277163467590187, 0.054527796124039324, -0.013541174943387373, 0.18124534310800758, -0.03671038234983195, -0.030390864591251017, 0.0988223145361727, 0.08570643768846321, -0.0755390915700173, 0.06728287677132135, 0.11025900824569294, -0.03720994255727986, 0.010879985372525785, 0.06940964955406978, -0.1066721173706408, 0.1346690120606435, 0.07003076151030709, 0.007281819911896334, 0.019766876174471697, 0.05143764402349705, -0.16830463999415302, -0.013056168080920142, -0.10546773780308064, 0.0631214545165166, 0.07348443243761034, 0.0922135354264359, 0.041561998622208204, 0.04385648147899469, 0.06533811216545579, -0.10988426240124753, 0.0515395400625718, -0.12347201021339672, 0.08718899565591162, -0.0484265312713954, 0.01719242995380167, 0.06394653871971649, -0.06076952665117629, 0.13997222332778492, -0.1797429193142302, 0.001717662626824512, 0.046194251834840425, 0.17049342918972923, -0.07681756450455282, 0.08940328904353281]\n",
      "- [-0.1475692386834442, -0.12083795951130477, 0.15132857845648476, -0.037376079009858995, -0.13478967767472522, 0.053013185644308625, -0.0441578480082511, -0.22380139746086586, 0.029196340434092034, -0.12060069898142983, -0.0752154937585282, 0.17964042417385345, -0.09893941477169274, 0.043692935906513415, 0.029429123406173097, -0.15283224894833566, 0.14095056012011054, 0.02085239734395663, -0.07649309872093002, -0.15630939836120739, 0.02473978166569145, 0.049586760980201684, -0.08829713322045195, 0.08061363222876906, 0.04311023347432844, 0.12226476785151022, 0.10356298877433426, -0.12362561317506315, 0.02239203200863246, -0.010712862471480521, 0.13180624290967424, -0.14996221625311754, -0.025501935532277448, 0.07440814488840741, 0.12121155485532947, 0.046534973075035575, 0.09960057679743477, 0.08107642026396342, -0.08212409105669838, 0.026393857049719555, 0.0396132034761634, 0.05659056716111882, -0.1420445412139049, -0.05546259169629911, 0.16688196954393777, -0.06372337100232268, -0.022713069993536464, -0.16714225181235656, 0.11491688346636371, -0.06862551597394198, 0.13834160074127655, 0.12584791374351637, 0.08483436863540235, -0.1418660309254931, 0.17727584235775404, 0.023536821689153147, -0.13512028151579683, 0.16694503893256787, 0.1698242521120017, -0.12009883763137737, 0.07430131540734433, -0.12897603452314102, -0.13900115585601253, 0.17305765867193232, -0.09563716146818155, 0.05436955255444964, 0.14635769392539652, -0.12883831709711838, -0.006109334153440903, 0.15200296912764605, 0.11036349274451729, -0.17271307926503934, 0.014706960766610782, -0.13794179366630346, -0.08289870681586503, -0.07062796165532635, 0.11000604033482651, -0.02918001964106347, -0.17078756639912596, 0.026041672535365185, -0.09960551177724647, 0.12236253989215744, -0.14443827452192198, -0.04688982218303438, -0.14647537450328105, -0.16568716179736132, -0.11346136858549968, -0.1003583970831448, 0.08437213064377007, -0.17160115006514715, 0.16305138943772876, -0.16424242828674665, 0.11714285269533684, -0.15807820936119787, 0.19271433220694553, 0.1289473759697411, 0.15550905336868528, -0.04769876542336164]\n",
      "- [-0.028958295449937096, -0.171290551164249, 0.16389198408128192, -0.03131446727807094, 0.0562708491810785, -0.13057454359347564, 0.1457482371940761, -0.029752242032745253, -0.11590201363634482, -0.021519866527688624, 0.11307033347027742, -0.16768119827074118, 0.10629286775687004, 0.0002558537525456427, 0.04116868670679627, -0.0977359357641229, 0.07570710606109896, 0.07861368560504034, 0.16461320170416494, -0.08148057449456939, 0.14623519608846455, 0.12530272860120054, 0.1134859481287797, 0.05440617195563572, -0.01650905027586114, 0.15906985545334776, -0.017603133001288847, -0.04708103755425861, -0.023018222890015757, 0.13924011237733783, -0.1735234827171985, -0.17338867150789833, 0.05016374030869909, 0.10165021306961998, -0.0008671703795477758, 0.10029062309065861, 0.09796947046120204, 0.14234034315735675, 0.10019051111993006, -0.07889613144672694, -0.034085357562983795, -0.137966932936404, 0.11292928602035544, 0.008080142408538389, 0.013162210440549561, -0.05332604781572062, -0.12591754374427017, -0.013272417942357137, -0.08362314698003068, 0.04662739582182028, -0.10082914413800427, -0.009247712479916013, 0.025889444004396356, -0.08958926410430776, 0.0676880069368747, 0.04852022180378297, -0.17181529615423832, -0.1331459753349273, -0.17729930749746517, 0.024917349355995898, 0.019610782859997625, -0.0961158909859358, 0.06811227081157534, 0.07465137025467494, -0.05824348825042743, -0.11339705381852362, -0.07089893777123468, 0.1127074120174452, -0.15507094080177197, -0.11691342438945723, 0.015038925200389753, 0.14814766231922355, -0.13007064884887176, -0.035563492860598185, -0.05343006593982786, 0.14234765866660032, -0.12355397371234605, -0.007437948661558701, 0.04002426558734796, -0.0042416699554292635, -0.1649985613248687, -0.04762723182947559, 0.01416347090187728, 0.007218467117218056, -0.096894182517028, 0.16949691858246693, -0.18424223721823907, -0.06445592095544049, -0.020514718393818743, -0.048772171726764256, -0.13327836499701431, -0.06647169640925386, -0.09800121993961121, 0.11148926181332648, 0.11383196152710547, -0.13758909667737068, -0.01913765351115586, -0.11071833912506727]\n",
      "- [0.13706485138538746, -0.17784275391419627, -0.17614400000807295, -0.06656615535532663, 0.09754357995986551, -0.15944281869605298, 0.14861371210854044, 0.05908978959855167, -0.09442326315271932, 0.15857083092584254, -0.09092743223278274, -0.11994813589016244, -0.08073729473251712, 0.025912882798406568, -0.17996012067067504, -0.011151988335860926, -0.0002707818168699602, 0.16405949549056317, 0.18671949734675575, 0.06094059078436134, 0.13877288498151277, 0.15645480845085905, 0.11136903195968552, -0.011346736518155912, -0.03590209897580059, 0.14059746421157074, -0.11302131464752298, -0.027217547112956018, -0.1884815267861987, -0.14960817178868913, 0.06184837124145159, -0.15568547343006922, -0.12958056376712276, 0.054460226651979325, 0.002988844604504248, 0.0004891979473752385, 0.05417937044733776, 0.12510524500872272, -0.0045242835240172025, 0.1383702765794973, -0.19299740114750027, 0.10809018904938533, -0.0378707295059595, -0.18208384131999839, -0.14176225644416343, 0.047590303523272294, 0.08565828959771375, 0.16718127926783077, -0.17238970385984273, 0.1270526204470095, -0.07022588698199131, -0.0001413173422915597, -0.1689928775114548, -0.1633166812824924, 0.1198400531051689, -0.16719729432821817, -0.018390493574186994, 0.1353209708098622, 0.09763111884226329, -0.009501656644678003, -0.08851436177872489, 0.0034081482389383476, 0.09568331062188813, -0.1135354710367049, 0.10141782465822001, 0.10542852229063202, 0.020936894580087104, -0.18250430781756274, -0.044265439155525395, -0.01797288468141499, 0.06552453673433473, -0.07791448289593443, -0.10782710492852486, 0.15818296936109802, -0.18508248322495366, -0.1109666599766924, 0.015374709243490745, 0.033213252449978165, 0.16657048377224906, 0.04885612641882232, 0.10569695277407422, -0.17307093943325558, 0.08202377426381734, 0.06782320675731837, 0.07669182763477451, -0.06969072631140535, 0.006740093982394106, 0.04028298332466339, 0.008808944721576175, -0.126106449335651, 0.1796261776281924, 0.0033779875540316776, -0.13304685910274405, -0.002892059960772534, -0.08190990381796953, -0.012173116505196516, -0.04697124010344177, 0.017114292210253717]\n",
      "- [-0.05778680274604133, -0.1747599009035449, -0.10418410331284902, 0.04514413765992877, 0.01261427342699286, -0.17747089397428903, 0.14497318669477985, 0.21814582584506556, -0.18036475821535217, 0.0354384104139394, 0.02927069995016567, -0.00923997350724478, -0.10218411487514116, -0.004964033927166342, 0.11133304053821005, -0.11547918669131411, 0.10921502347793055, 0.13027065625177287, -0.0031734991339374815, -0.0888277963469633, -0.06715875625725365, 0.064344353621056, 0.14336264998246737, 0.07070605940192738, 0.14152026824825506, 0.07152090812011698, 0.11888851212072066, -0.012850529688286073, -0.10729826498805317, 0.09266414524020332, 0.04902534301119118, 0.011501821893320966, -0.112549612479603, 0.12775721884676222, -0.06861423221507586, 0.019571486816849053, 0.12638525536463363, -0.10657258096556733, -0.06729305500890218, 0.1840906814122822, -0.05057675159696884, 0.1600600696366022, 0.1307071846841227, 0.13729058843948858, 0.15693337095900559, -0.008934238690972606, 0.12814842630308124, -0.1616422014253353, -0.1176459033440762, 0.009043261617769536, 0.13510748037395356, -0.15459250915158507, 0.1760601792333712, -0.10441197224270672, 0.12466480504765715, 0.1826493889491645, 0.06569511754593582, -0.12051599356101915, 0.10237870014098831, 0.15412977995270546, 0.002376523428128682, -0.0517255924651369, 0.014773336665541764, 0.0725077636452054, 0.12736038890608284, -0.15479637375720673, -0.08487226600682944, 0.034671024453963195, -0.16386633999245703, 0.1390300935267673, 0.0689517859347075, -0.013017118947401998, 0.0556340237852303, -0.059726962076014856, 0.024153693998329433, 0.19151089480423866, -0.060623337897239525, -0.18925829238955397, -0.1216872309268447, 0.0667549629470854, -0.08159890548594015, 0.10563921969217252, -0.1307339418038956, -0.07226958946658292, 0.07923581020483215, -0.03458212233196989, 0.16583535643387987, 0.11492156036499343, -0.08563556621366948, 0.08829269047578593, -0.18892263922611885, -0.10901104853977846, -0.03825192567552588, -0.01080360950038855, 0.17530804251015372, -0.11889005231464536, -0.010986156490592043, -0.16733697042842047]\n",
      "- [-0.057271705909298885, -0.10234019124068709, 0.03560408008659482, -0.030753680223816072, 0.09429406189409857, -0.16047697541335829, 0.17644537671516375, 0.13019657076697622, -0.016670689105455067, 0.10944039929490809, -0.007706599813177134, -0.12419070189356858, -0.16373081206112525, 0.13420758035704491, 0.1766652544397896, -0.1777792621435302, -0.008872636534836565, -0.13053533437711168, 0.15824055424959219, -0.09389263464328018, -0.1750686885575987, 0.03477708141191024, -0.015772963839256974, -0.14943274528410166, 0.0793965841208333, -0.01089696147168015, -0.17761317934693469, -0.028301526022756377, -0.06577348690014001, 0.02501916945855645, 0.05529620342978645, -0.16754831577948018, 0.019464882109875858, -0.13535295871649938, 0.01015640192143338, -0.05783959397597211, -0.16064257629707074, -0.09099990384628785, -0.06295345125443838, 0.10792984108957428, 0.13095203142417522, 0.017797675000043815, -0.01612389052113089, 0.03102817806107847, 0.11966004757131198, 0.09074002843981813, -0.15603589672911927, -0.004072870981505238, 0.17375078029351543, -0.15154213046318354, 0.1380724833138951, 0.05439144607065181, 0.027755516753817436, 0.07921350222811313, -0.010384781486658562, -0.1268586683587078, -0.09880775364093532, -0.05209595220734636, -0.11699170767713608, 0.05346374108399554, 0.1601067948232975, 0.11752260628066939, 0.06334380657367396, -0.0449093227146107, -0.02704745364013181, -0.11459532478120646, 0.16840983476559818, -0.007644978955933198, -0.1324869179241069, -0.06695684420121448, -0.05992353217861448, 0.045804257237579096, -0.06482609629386522, 0.051643240228168304, 0.1786202607192688, -0.022656042956927525, 0.05089034784519731, 0.002386125073296825, -0.002351224447456932, -0.14132459385791182, -0.03245614087275466, 0.1392973483100331, 0.10625845696607608, -0.046541372871292175, -0.020706574203025428, 0.10236699114606919, -0.1663823745540257, -0.15318319173134104, 0.07801932131547448, 0.06812279413190306, -0.044028287648601006, -0.02756419173965617, 0.03953112180226749, -0.12625446867797188, 0.10043905262386936, -0.12431534223376449, 0.1323095014522367, 0.09830714142199598]\n",
      "- [-0.10398006337343613, 0.12080786413262225, 0.15867519952902692, 0.1739771914859607, -0.21028273686116658, -0.01617117127336679, -0.07467165796418684, 0.1987131060519063, -0.12985141395837002, 0.01628881451815377, 0.12771969173490494, 0.08378256576171739, -0.01415656310626642, -0.006840429184933272, 0.031398327563129186, 0.08305004530184946, -0.06468238620432118, -0.1006082513609594, 0.13382742792021765, 0.013599337003535654, 0.1118693841093278, -0.02564230140548136, 0.16169337939504155, 0.14776440447668085, -0.10650026312750001, 0.06219540775017304, 0.16474103999145587, -0.148648882798525, -0.12235304979711115, 0.048590784477468923, -0.04131189058475555, 0.06526487881407222, 0.10687615550665606, 0.05946880248952641, -0.177009740583486, -0.13190048829058254, -0.06510165789203393, -0.16494183619406347, -0.15784658266184648, 0.0303174182675745, -0.1503121965556818, 0.05577959420410069, 0.11380398668979445, -0.16505192364019458, 0.01336142096950612, -0.07423045963915428, -0.03342571465021059, -0.15913637325647773, 0.039630654447279444, 0.17204474049611926, 0.11864193429620427, -0.08186729136999525, 0.043817298215490214, -0.16421779765331096, 0.18854236402324184, -0.028899576375748106, -0.020999300778743398, -0.047475896090223624, -0.13548440627900182, -0.16625990553391976, -0.1170462956920687, -0.03071467534318336, -0.0338285609913666, -0.09022492927016011, 0.1530803137964132, 0.19250933352652616, -0.10721714330147544, 0.17515783131965504, 0.18189734252831094, 0.05788395416396429, 0.05741877612943014, -0.19845356619578897, -0.05483965600627993, 0.17607059340399092, 0.13566471283135523, -0.13243065825938233, -0.1388703642624726, -0.14744414722411944, -0.1535060737648677, -0.0006629137083785938, 0.14813753175118813, 0.031527226161343236, 0.01984305775339176, 0.09667919308262252, -0.17110167617468, -0.07031880544347091, 0.05324885328272906, 0.11634489380174959, -0.12196281664159118, -0.03744906632670565, 0.10914398684227325, -0.1810902767225478, 0.04536063442504328, 0.06567218792682929, -0.10844963096134948, 0.10948641083016003, 0.054998456050387966, -0.008892057422292933]\n",
      "- [-0.1666706769803861, 0.015846389972946875, 0.1562700850516154, 0.059266075774132114, 0.09279640216608016, -0.14052908346058568, -0.13322623110270781, 0.08495965196025615, -0.06856712412687285, -0.04264078077140949, 0.17503077588260055, -0.18077326390021853, -0.07878521506308418, -0.15237767817654632, -0.09634308791523219, 0.07709560619319865, -0.0902921736137038, -0.15904037240651248, -0.009254077408377097, -0.04383115866428902, 0.10759466159067448, 0.17223393055116729, -0.07680755125071347, 0.13427380779610099, 0.012652516425765335, -0.172963887921223, 0.02107835962473648, 0.09533831094842136, 0.028518190769628006, -0.16312538794004283, -0.061614955947539796, -0.13634706850870715, -0.006006787459146537, 0.13832653619416346, -0.07051357746610507, -0.030606245873559968, 0.07428320001902919, 0.16282881259068316, -0.001273536656098864, -0.12256365216405553, -0.13163381445350641, -0.1709141106537646, -0.11957479951702132, 0.10980043417414864, 0.11497498362935948, -0.11899666875096199, 0.15791899358387018, 0.059462618150275544, -0.11645114487729573, 0.11648097662146885, -0.07253961141198728, -0.08752712712168051, 0.08232433334669448, -0.12590569342717833, -0.07666480415210118, -0.07519365365503836, -0.0015553240414566559, -0.08264354842748622, 0.03537272843709818, 0.0379443615826364, 0.08119977028229267, 0.1615503378272155, 0.1256456661015826, 0.1089108937589376, 0.026212349599220197, 0.15957859946201267, 0.03457609136351654, -0.12204575507724283, 0.03145646322007977, -0.007426949868659212, -0.03865447104963339, -0.14559383752347757, -0.04104923179093246, -0.014544591691278684, 0.023810207122891922, -0.12863968823159966, 0.027173765836601554, -0.02612239771972098, 0.08549946175347067, -0.10230015816476797, -0.12385648929977526, -0.007571467986680466, -0.16342379859870143, -0.07114221031964905, -0.1606254456269538, -0.1353939910996281, -0.020378794239298566, 0.1279156596251902, -0.047828092936664415, -0.10563178912448444, 0.06631671325737853, 0.037898499844218135, 0.06341339893978339, -0.04647985734776081, -0.17668635815902484, -0.07542233067421822, -0.12564087702009352, 0.12981727395258552]\n",
      "- [0.039426546951334115, 0.03463968988313073, 0.03195774402528906, -0.10351813073136434, 0.10694549224349172, -0.1752451108901054, -0.13253280275752152, -0.188026037580162, -0.1064947569626468, 0.13729516312821755, -0.12440258802685708, -0.09144319057163308, 0.06107507228470281, 0.12420009475948737, 0.07681921640753185, -0.059436164423086316, 0.1686070729901414, 0.18760291500953602, -0.03308489636238797, 0.08561234489169398, 0.13472690429480405, -0.13623845805429802, 0.15817274226293138, 0.0620624456473547, 0.15203136539995954, 0.17618410413181998, 0.14534240164210926, -0.1336308492778355, 0.04282151504741064, -0.1448806489998027, -0.0039548938932529, -0.10432303519787099, 0.11931911947538988, -0.11008621543327944, -0.06667432130768822, -0.11769884219595254, 0.12609039881153175, 0.1343745050512001, 0.11686752721836584, -0.0791503372869026, 0.06407021907871593, 0.18676203572590158, -0.02722617068514663, -0.14416980929008347, 0.150170446032745, -0.05866275839823375, 0.03621196662819403, -0.1448389693205057, 0.08596389225432435, -0.05168390821356649, 0.158884376862717, 0.12696759004681185, 0.1531879589979329, 0.10501939878894896, -0.19132628043183725, 0.0243171521431053, 0.15984572927638033, -0.05210892408156681, -0.005492707043640555, -0.017903826059179128, 0.13821638510960482, -0.1155129402770195, 0.011232811314835518, 0.11776341822843017, -0.1603638915647327, 0.15100356841855664, 0.12239057161116101, 0.06648573771635315, 0.05582108562435764, -0.05765431365838729, 0.052525678654297414, -0.005179922109523695, 0.11876530489200918, -0.009148230906548198, 0.04439833258791025, -0.028116298134405856, -0.1695909367419575, -0.1449111037485139, -0.20170912204778887, 0.048936297947742624, 0.15268868338896038, -0.1641610507614708, 0.027192121183124193, -0.15617056598558962, -0.1543157805890073, 0.11338898922979189, 0.14549465695617386, -0.08603595862601358, -0.0616791177364504, -0.1416969202298946, 0.0995747610717455, 0.1580775470654868, -0.16402141894179986, 0.053619257762908025, 0.18278099229485686, 0.14614586723236594, -0.0388945644593348, -0.12745414446062675]\n",
      "- [-0.09446908573408916, 0.13666446148696537, 0.151694642210363, -0.02789507740488865, -0.09820213500268699, 0.0984653565124721, -0.06090961406929241, 0.05201391105840289, 0.1131827199174169, -0.14332266554049972, 0.035878026235667396, -0.14555100297604198, -0.1391014109141815, 0.06526543699193164, -0.18037773497169854, 0.12692797749416937, -0.045980446753308125, -0.0992061815629604, 0.07324880327818875, -0.003171594356113657, 0.06287549078399227, 0.14830971105676446, 0.03469678384841441, -0.053500383243765874, -0.12466738957232519, -0.12277457157393395, 0.03728305604327173, -0.023129106523477848, 0.001151571975268687, -0.07810952756885411, 0.14186126061761037, -0.026163259087499953, 0.057966922664426185, -0.09764514387570422, -0.08291853453784302, -0.1725557594933088, 0.07225720264890823, 0.038845481327906044, -0.1484061910730785, -0.05003242171834483, -0.0035991442436338742, -0.07495421495109932, -0.05396871609576269, -0.17062721244527895, 0.09981355027319767, -0.018810679776421972, 0.0147601276109688, 0.08733596539356799, 0.06704598088144886, -0.0575750266861765, 0.09980911762860135, 0.14169828063651643, -0.1572922656589322, -0.018682300941664037, -0.14203016162596552, 0.02252915600581027, 0.1429357937190687, 0.021526922375344534, 0.028696269464882667, -0.0008303383169156427, 0.06257530487027813, -0.00283236044587086, 0.1508440353555399, 0.1618915719238479, -0.01578982730687804, 0.14970222344004436, -0.17735692824697777, -0.15543188136989897, -0.04199136510317478, 0.10998372414702975, 0.16408775468251377, 0.04411049408712873, 0.13877871123178523, 0.1603219364500846, 0.10934713726265059, -0.15820782612389236, -0.0390370608744927, 0.12447407495602827, -0.011658955373939043, -0.07747535430284345, 0.009389950310263554, -0.06522224059954725, 0.11053368884762252, -0.16610788389323036, 0.13665099276633502, -0.14219084298321744, -0.1662560513416424, -0.10454565887083189, 0.047033159175151384, -0.10026177129317539, -0.08700593226941503, -0.15615214384059042, -0.039320070224927596, 0.09853633710545726, 0.020166612763448565, 0.12989403900403804, -0.13455311435581124, 0.0775589285580001]\n",
      "- [-0.07379520174721499, -0.14473910568751278, 0.045406177774940805, -0.06721842720986868, -0.09827744628727507, -0.03767656021548582, -0.09703821849692747, 0.11831481239816784, -0.1661855515330969, 0.010427616812835026, 0.16634803566614936, 0.06873720023609552, -0.14015138909801345, 0.13676065234230564, -0.05147156488273561, -0.029037950189134572, -0.010648362507237108, 0.056057367212589644, -0.03071169403332639, 0.04827959752214897, 0.11531526702727628, -0.06972047071630617, 0.18516598760008474, -0.02810415054823419, 0.12155682293718684, 0.15794645048048594, -0.10026309972123931, -0.08480220411983037, -0.07196377526012918, -0.17281883342271132, 0.03366724156039984, -0.13784430064582104, -0.07983263905548145, 0.0009045894372385802, -0.14479203883088437, -0.07063262317504564, -0.11884342926761107, -0.13914434618286928, -0.14987474709198426, -0.06712508276364058, 0.005050200806970133, -0.17611579394957144, -0.16727344428254892, -0.01413965109742326, 0.016069612546167723, -0.02090558546241233, -0.16622950504445347, -0.10417976675409273, 0.03856524380783531, 0.1612242940590217, 0.04777610825560888, -0.1728671732334708, -0.07006167040697824, -0.07884443249905287, -0.09349779404508364, -0.05162769661321727, 0.14037034931703468, -0.15627921037115097, -0.13472183640767976, 0.05490762989153305, -0.1104104178521529, 0.14504931397409915, 0.08761112136133145, -0.10978037478280242, -0.13124649766788526, -0.012579452095157864, 0.1534869873679208, -0.12077072286372761, 0.10522782674896317, 0.0013686953958489776, -0.027532995491080004, 0.11441228332198068, 0.01808362822983608, 0.1630095797173637, -0.07696816474942732, -0.07971466706413409, -0.004420854910395289, -0.05933896607327838, -0.0897197828794305, -0.009758614837683, 0.08250328176958154, -0.11182615575823238, 0.19085304799152186, -0.1433405294290666, -0.13147258728575117, -0.10715639849286733, 0.057972847827962914, 0.07706610220517686, 0.17462845767752644, -0.05627149046513217, -0.04423856758864913, 0.1324225274331228, 0.04966992399077898, -0.17533493546300707, 0.014392337492897226, -0.13940413068723503, 0.07143277309336035, 0.08591801077518026]\n",
      "- [-0.019166623677743137, -0.07900633304335038, -0.03177109232490714, 0.11557369836955711, 0.059320334479133714, 0.09056530988030351, 0.02248647735952096, -0.11310783260141336, 0.19918413256274387, 0.18549807536253024, -0.03447099310210186, 0.06116907669452907, -0.16462895763796304, 0.1511230494157693, 0.14250931748573947, 0.14083006793683697, -0.08638469562389725, -0.1500713129587888, 0.049150701402760164, -0.05137899894933207, 0.1497400204152067, 0.015385677891450641, -0.1784326387593236, -0.006158745869062801, 0.12222017155671612, 0.10992430970121579, -0.07177439545771107, -0.07089863545190522, 0.061082548586245664, 0.05423596533114034, 0.05015942522384292, -0.09471946413458884, -0.10473533493934027, -0.046031033365199356, 0.0014147946764606018, -0.12584190073983084, 0.15738679018671978, -0.12444411469481625, 0.014369189537784674, -0.02733048942056061, -0.055764585239299995, 0.11524009415128932, -0.05189557112482238, 0.17087166993430158, 0.048369450434233734, 0.14795209402556403, 0.018782399580622083, 0.10864892373798175, -0.15164262882092647, -0.04880995440370583, 0.1526633562508656, 0.10902747292668638, -0.10271830713212442, 0.052972391448722726, 0.00247280868575655, 0.17460490525362765, 0.18128448902590807, -0.04540009021089899, -0.08186437347666725, -0.11230228366452924, -0.13508322008707033, -0.15945270958291663, 0.012003234458782742, 0.014309736307867697, 0.0897233910502729, 0.1567397901777771, -0.1343419522704346, 0.17787241995375547, 0.13882930116367562, -0.024440793763317953, 0.0028772940797443, -0.03010227153234944, -0.18155951878486426, 0.14658816367492492, -0.09457252138060676, 0.10145275047044994, 0.1320444336021627, -0.017252788282602467, 0.10114017200113049, 0.10704994940835527, 0.07050808617717222, 0.08458638518720067, 0.17406385013200576, -0.007624441166123465, 0.056093777382364526, -0.13522750471793873, 0.0649247457958337, -0.1665226191585852, -0.11557193226273238, 0.12807798707479515, 0.045083983694457, 0.0895786780638368, 0.09628103670149378, -0.0973562791367981, -0.16333042190271568, -0.0532770001851086, -0.15220399920053593, 0.10432436499940272]\n",
      "- [-0.16695588789286975, 0.036328104860894994, -0.0042103125527502405, 0.13818304749347063, -0.04702115331110895, -0.017325288445777694, -0.028365914030565233, 0.11183527424256977, -0.1170823712422377, 0.013283260846135594, 0.1585594697150222, -0.04715571933441989, -0.14312712862246013, -0.16610495345963552, 0.027225992447837046, 0.058954176373977416, 0.145953333257963, -0.1055711415806167, 0.17912425234756554, -0.07279185170486036, -0.013795537983624904, 0.06642921380938874, 0.07630415435656913, 0.1663294166084795, -0.0025722821679560227, 0.11698797075461495, 0.00922024876886065, 0.06931009408775439, -0.11961302965670817, 0.14165032530498126, -0.0240245312685478, -0.1839793695533587, -0.04972747769511775, 0.07133502490809136, 0.10423631061707421, 0.14519129414201618, 0.14637400429720338, 0.02861917897893102, 0.061615430162661626, 0.0444272776216757, 0.026801469718509104, 0.1772714860388113, 0.06168494728049485, -0.150059339445847, 0.1236450280335815, -0.08217019580839899, 0.06415722349512826, -0.1035773520198747, -0.09354504325952026, 0.04880228330133163, 0.10274079983724753, 0.14339901151087142, -0.01720074934877451, 0.14726044615895303, -0.10142525241508239, 0.09573611713570732, 0.09927326815274756, 0.029369504731736804, -0.15669249395792473, -0.046512269748844814, 0.007445746569841839, -0.08039601647397891, 0.08453962060588167, 0.10687025853137772, -0.05490559062535615, -0.10358085175256589, 0.03699046935615465, 0.11385579846451761, 0.1502671856126261, 0.18546318250818203, -0.06129133802766616, 0.16317358885799182, 0.10604031778275162, 0.006534548058095254, 0.03865004338812359, 0.11098727240749204, 0.09242271986184042, 0.08024669979402342, 0.05366454088227332, 0.10796373810138453, 0.17678824423385903, -0.13017233713172513, -0.03490129474832337, -0.044525197851625786, 0.027381503682480223, -0.09944574416514644, 0.15253648953236051, -0.0017719320116642442, 0.0156694465246315, -0.14736576227689374, -0.03719992839723501, -0.09289199648742158, -0.05150041521342532, 0.06549459994717777, 0.051741929811206566, -0.14305148679285828, -0.16169403369132956, -0.01487748321650259]\n",
      "- [-0.004721816560217534, 0.1948494925994875, 0.04996371301428702, 0.15481678750534242, 0.14731373812721488, -0.015994782450016443, 0.08746128501688034, -0.2592047631143861, 0.08364341987715823, -0.10244433967387467, -0.08540035068136041, -0.14151788051099784, 0.059283690085271276, -0.11527051704187491, 0.10797946703122817, 0.03451378554827926, -0.02907004927441104, 0.013819088776305005, 0.1157190279740552, -0.11578457092490699, 0.02375859357419834, -0.11043666630285567, 0.010855671665283811, 0.1441802480991944, -0.1758652530413364, -0.08339345780864563, 0.17377280647170623, 0.013650825282221576, -0.1904872169229583, 0.004611917544858226, 0.15968731000009548, 0.15579743783693764, 0.07240556298793921, -0.14276427967251518, 0.1492683564902243, -0.1665905520903091, -0.17423847969146355, -0.10692511788476776, 0.06831979356237526, -0.11464873705904294, 0.10527169383560028, 0.09705012881282857, 0.017102009049837268, -0.16887623886606842, 0.050784619899203534, -0.06599890544897204, -0.1088407308226777, -0.08348836836992704, 0.16092381384892218, 0.17171272394044082, -0.018712623880986854, -0.026276002046054913, -0.15109429217366732, -0.1636563831030035, 0.099113250635604, 0.14345536168284, -0.12681378107636626, -0.1359682888194194, -0.13810173043495957, 0.013324640445388586, -0.13599550998109433, -0.10622699475702276, 0.14905859163226298, 0.025964258943817483, -0.10100970622148317, -0.1879915903361039, -0.10536102314630322, -0.09227479627314808, -0.022509204771232846, 0.14981545298265553, 0.03032969907906842, 0.04919284697434951, -0.1694021153270952, 0.0389821032901845, 0.03492808126832612, 0.0953331875663332, -0.1379331144588624, -0.12767454913671566, 0.031051089523013498, 0.09889101954995291, -0.00953287424763461, 0.04313608600724959, -0.18493867316499757, 0.07062357153004803, 0.0819986745448393, -0.08749314486148428, 0.0153679894272978, -0.15506394243016774, 0.07300071281956305, -0.14941046988135684, 0.02544825336973156, 0.012179306607517894, 0.06766910677610154, -0.08053229027203546, 0.018292007784355305, -0.021392740314312386, 0.039576352763221294, 0.034950553468582786]\n",
      "- [-0.12119318123930985, 0.022880661174362132, 0.01421215471511883, 0.0560168410775932, -0.023786650148718155, -0.0064978840556448375, -0.1038697856580523, 0.11948257966956445, -0.17388322168770246, 0.1315940143962859, 0.04662084133704147, 0.09468557049207005, -0.030359773451121015, -0.1559354902713347, 0.04339128972331569, -0.1122424135757878, -0.07912873777049735, -0.14921973377151382, -0.06830588168467064, 0.1624089480497261, 0.004195255948737868, -0.12303847728105217, -0.00779871327455157, -0.00975362400300631, -0.13128398298598312, -0.1013872050355625, -0.12182940332971574, -0.11233788646777419, 0.08472325227714171, 0.021400270762712784, 0.08956428703543834, 0.04046735662751771, 0.167289138157734, -0.13333224820557132, 5.714658059797881e-05, -0.11277548836796761, -0.11242066919432069, -0.07166070213107822, -0.06728486611046715, -0.08888513190633303, -0.08696961356794004, -0.1871523915616019, 0.13440402389938166, 0.14500310307464898, -0.11409325161292778, -0.09946385291587002, 0.16873117980878172, -0.08892235014150089, 0.08237621114321315, -0.173015097129519, -0.0694198659820645, 0.05980585371335219, -0.16113059693442192, 0.07273456288642702, -0.1734444549942002, -0.013936217609341685, 0.12749034750789007, -0.09464402778843897, 0.08108548379484033, 0.04186816495566386, 0.1223514508112946, 0.18131621225211475, -0.11038251421252798, -0.10189039657529675, 0.1266293338379476, 0.02240869639772401, -0.001425923950330344, 0.12740001095429496, 0.10041869506894156, -0.09250463311265347, 0.135921270678938, -0.18707341744837558, 0.06617187972813983, 0.035776948035808165, -0.18012996194378222, -0.16138106793016957, 0.0373915882149206, 0.014365528844786809, 0.024645231184589497, -0.0002748052077682455, 0.0796649402462069, -0.020194944589617108, 0.17403818614174127, -0.15240542039586324, 0.03148028207714657, 0.08350615357204517, 0.07739557507011963, 0.11176256919689287, 0.04215303147440334, -0.04862788016684828, 0.009237310827414563, -0.066128855546364, -0.02292034863010954, 0.09606200238000862, 0.1103234094178546, -0.12138602629718849, -0.0342499425115455, 0.036710319536890273]\n",
      "- [0.0383321656454737, -0.1787895125192554, 0.1596817079255529, -0.08013837613928972, 0.09087936507583766, -0.010447817605169225, 0.07255553963881925, -0.048977271948233175, 0.10079216640431266, -0.08422616241794265, 0.06309828298458015, -0.042109569417757106, -0.05719119902381607, -0.02850515630330747, 0.1236368360521512, 0.01087765305826057, 0.07790266692317417, -0.04396359766870924, -0.14992084002495293, 0.1046121106893072, 0.06831278310589417, 0.006975451947782736, -0.08730376174777886, 0.010442839608847796, 0.16408661148510167, -0.033596684532631434, 0.0075528520250772065, -0.013468330998920745, -0.013405650737894428, 0.03994012544127176, -0.05191416358513539, -0.0378634434225845, 0.1350451651367366, 0.08163877112436527, 0.03527019775728538, 0.07187915190300653, -0.07429931431108976, -0.11940273735541884, -0.16779527936371835, -0.14929339929078878, 0.13472600159902887, -0.1690612731222105, -0.08931328369029863, 0.12058253438874955, 0.07560133129825578, -0.04991872308740799, -0.12061362798017806, 0.11265375129257409, -0.12673616142823058, -0.06165686523803949, -0.03744712806398427, 0.10343005108026139, -0.06442059459786052, 0.06022985686193449, 0.0930969027818645, 0.034293450502949505, -0.11876132698592543, -0.06560117784829457, -0.18266049610558513, -0.08578085108119392, 0.007381518462951342, -0.012501494665171062, -0.027843881613014227, 0.1743515723247155, 0.11751432646592917, -0.06695312915239024, -0.14522082196279512, -0.1759634651034795, 0.08288430531270698, -0.10271647110233367, -0.07974577482146807, 0.06204852881770257, 0.13534233539547874, -0.12351371795060248, 0.13664527584144925, 0.09815141984233054, 0.05872742004549979, 0.007287463584500306, -0.08917499733274196, 0.16284565421373276, 0.06884772266993232, -0.17604476438044184, -0.10166197869654231, -0.12205017896647233, -0.11884815563908603, -0.1573469094899897, -0.032857234541774694, -0.17238325472084579, 0.10010339182538194, 0.04490449591801152, 0.1172963420354279, 0.03550754524752939, 0.17619058747638194, 0.02304476469283012, -0.1618372463028896, 0.13197765683320167, 0.1938973210557394, -0.1552400306765097]\n",
      "- [0.08978723649323445, 0.09908407007950616, 0.15182017687736937, -0.08943643105503056, 0.1582704128541431, 0.10958861528694502, -0.0885909449392033, 0.17783623416893107, -0.14650074521517775, 0.07181055440927019, -0.10761231614955452, 0.13229370615244251, 0.021912447493118326, 0.1381670929720125, 0.15285277836769354, 0.1452234562410208, -0.1214312083974648, 0.006269806279677391, -0.11828381250196768, 0.14738801757164474, 0.06523739680178571, 0.11730699077687205, -0.0534067876998505, 0.13164683868051635, -0.16393671549209918, 0.12386911848443663, -0.05350878357172086, -0.06705443258797937, 0.0816389889331308, -0.07123067617057832, 0.06554455245227099, -0.1598391845938859, -0.07804240100604452, 0.167753345104223, -0.07030042034483425, 0.1559446419513804, 0.1027733265466528, -0.10910388003884407, -0.02848641712810649, -0.07184395732667812, -0.0112299959247535, 0.025323168171826407, -0.06655965315515831, 0.1231464542188594, 0.014968970211058317, -0.03854146069488495, 0.04940057011529386, 0.003050220949335304, -0.0850378730224434, -0.09231324051740779, -0.16373360457966318, 0.08780972299623134, 0.15665910060555052, 0.130929477261499, 0.18297022268086938, -0.0334634151821481, 0.15622452838029113, -0.15928277303692914, 0.007822195808102443, -0.013469875076094652, -0.07938199595146242, 0.14112066142446325, 0.12902383441083398, 0.12944097486097575, -0.06387567279073035, 0.023395062308500376, 0.10160758404117995, 0.009810428495041514, 0.18012389611733964, 0.0686432649910216, 0.12396802200977197, -0.11484509294506853, 0.2045530825053317, 0.0534984790285047, -0.11636698182056673, 0.12034711444668013, 0.08474197282593436, -0.036900927024290944, 0.13231673750438888, -0.1584841584503296, 0.061032545263824865, 0.09223889583677038, 0.1764167083985455, 0.17445985278231924, 0.08781935811129894, 0.05260016962846953, 0.1169092929628841, -0.13038333984912656, -0.11749954030964423, -0.14830890590703052, 0.07347479206824226, -0.11602084729219468, -0.042471066980125156, 0.1429567119049275, 0.014307563553637366, -0.06530106184052144, 0.037317303981871316, 0.18337702380797619]\n",
      "- [-0.16178602708926973, -0.08949606602338757, -0.03540932738473143, 0.13123198365563418, -0.05072416271224603, -0.03555871679651594, 0.018060932076597952, -0.09888798489924772, 0.03082300101502185, 0.012615924731614186, -0.17716814003763318, -0.02251001897466631, 0.17352232107574497, -0.1583268013762819, -0.07848626041607215, -0.07216514507770455, -0.13362329578397708, -0.05306755350510713, 0.013627735775100683, -0.10398297831317936, 0.010683324267335991, 0.0660279672400335, -0.10217453117306684, 0.17525338832344484, -0.05209762903072589, -0.012283623667742808, 0.09914375961738511, 0.08051084701998487, -0.12429188529198247, -0.05158326325671775, 0.009767111566835277, -0.054536206342194915, -0.044756383026865555, 0.1685584060307009, -0.13832989368716514, -0.09343384588756479, 0.12154840965680735, -0.020564279923083174, -0.10483038911373421, -0.0003855758561083839, -0.015345051359134753, -0.05538610926142608, -0.05230962692299851, -0.014664673296323977, -0.08895476627589619, 0.026275525793189248, -0.06994984103237528, 0.13042312159714853, 0.034671886061739245, 0.1512302454464918, -0.04812624774818108, -0.02901047516006085, 0.17224207744878003, -0.1070536106932441, -0.09710778011452283, -0.07189083979146459, -0.0687216078930717, 0.11137978332193652, -0.06875497710062047, -0.07015205010319366, 0.026700083317275813, 0.13264607217396604, -0.1719753757574224, 0.04188082568245691, -0.03081856278246058, -0.022278461631259152, 0.10755779640139848, -0.14924931490716636, -0.10595446722168683, -0.03946991593340997, 0.008273763159084676, -0.1710330637336591, -0.16342106749823887, -0.07193206908074679, -0.007686697596083666, -0.18590342610179242, 0.025253070723402465, 0.06402510598922415, 0.12870382272288142, 0.15147179440946956, 0.0998513927769865, 0.09621049948572033, 0.16817969877200065, -0.027355278470920032, 0.034409649832676574, 0.16140680003721528, 0.07065491368043196, -0.08696908544845143, 0.10819080631722533, -0.10819906339386733, 0.07169185651374045, -0.01615504152925126, -0.07444125780649774, 0.017995596472459054, -0.025876636604615016, -0.015758077196164077, 0.08525424864699531, -0.08799431850662602]\n",
      "- [-0.009548554379986926, 0.10740871359021682, 0.16803072183106604, 0.009490925420031668, -0.15906494154047862, 0.15004995571149224, -0.03844475744440939, 0.20607041174354013, 0.06128972058342541, 0.18058531527299598, -0.034283454559643975, 0.03733300618743246, 0.14307949610968607, -0.0020311098487664258, -0.12828353480726723, 0.1369160996635501, 0.11540526109343113, 0.012570068038684898, -0.037991663996145356, 0.14685598315773898, 0.12181026623143609, -0.13354647233187394, -0.10466202231508835, 0.0393369190649052, 0.05262895333377827, 0.1570680222133977, 0.11163928440338912, -0.10138463542906533, -0.15523748882664623, 0.033492784656442905, 0.14681519216734273, -0.005124746647745649, 0.05296599494484882, 0.13861642046994205, -0.1319426707401523, -0.173719654987902, 0.04563368864869712, 0.014554087655169533, -0.17578116001046853, -0.002584717957806544, 0.09261673794716216, 0.13092698403480868, 0.0013263924050452387, -0.019398853935663554, -0.1881948372998687, -0.0749398136015115, -0.16013930604353732, -0.11965846649370156, 0.10798018099299268, 0.027742668179190876, -0.05979087799397651, 0.03915367083042665, 0.10784728109887709, 0.07415351789685819, 0.0631768020171324, 0.01012299550216881, -0.06769007739169436, -0.0833497542047291, 0.12949922366032088, 0.014813699085141298, -0.08882853050478509, -0.1476062063790251, -0.13515445876872823, -0.0021570428313545946, -0.16800566825931781, 0.002216332075056163, 0.02675769364878368, 0.16822087272422412, 0.03543405996664312, 0.09254009448035945, -0.10064652764771614, 0.07824588049263317, 0.037246321348429264, -0.12719532620308496, 0.04032484664557779, -0.026861404711300607, -0.16030359030086505, 0.10008381498477786, -0.005275467638850449, -0.03514869786826218, -0.04504788591076777, -0.04307735681296688, -0.06114655808508549, 0.15528529376077327, 0.017448378926248207, 0.036945592775735246, -0.13588548941744955, 0.1805614621124622, -0.04353622204765988, 0.13571635612821314, -0.18566435955996882, 0.10319617195406669, 0.09286915006522725, 0.1553870578515156, 0.007945744395297884, 0.1301846786737996, 0.15383992409507935, 0.05573130010125589]\n",
      "- [0.08803582119037472, -0.04021513931343901, -0.12344760168757224, 0.11715813817507865, 0.12413286163587567, -0.17077690978115068, -0.16088233906380936, 0.011088562167603984, -0.13516808189433688, 0.06484429736646088, 0.15863200986767603, -0.1456185346922705, 0.10026719586820275, -0.1356020969312098, 0.09131645780069071, 0.1514426274681335, 0.08302558335489489, 0.008958535073644299, 0.11085349229883726, 0.1497614611709477, -0.002060972835754574, 0.1542061403096196, 0.1109847876401162, 0.07661003098627224, -0.10196128548704828, -0.06437237659847744, -0.02645358471053021, 0.12815088399191688, -0.03576627255376941, 0.11320287112759421, -0.08226953053081364, 0.1715294964047526, 0.0206418283372334, -0.14121595866364775, 0.08770243591663153, 0.16737960775724503, -0.09595392287230095, 0.01052366416734334, 0.07731527187284083, 0.17885765769319226, -0.08419598386505724, 0.12764120109867017, -0.1257401194657164, -0.03302733807658041, -0.09547526668586924, -0.08919619067066467, -0.1017434397940604, 0.003539338563699083, -0.11833130181046042, -0.15548928066346884, 0.13728513922796004, 0.032944262108308676, -0.17148376388694936, -0.15069610592444216, 0.08835110795316312, -0.11773985265192777, 0.04815011746985994, -0.02520339085229856, 0.006944097064582283, -0.0685418031850406, 0.029263120047504507, -0.05424518335040814, -0.034845909039548525, 0.1108149588030331, -0.1206847877429939, 0.03113670852273957, -0.1774747664559326, 0.02434692147847703, -0.16121945464465368, 0.08794577245115041, -0.028612395527487487, 0.010799885873987896, 0.146649673606178, -0.10039904609110076, -0.1758203846027704, 0.13874329520160752, 0.04416872320443059, -0.018896789058634872, 0.04083911729841521, 0.12512527778567994, -0.00276698875640293, 0.0043073342170854715, 0.09840042204254647, -0.09383860838646788, 0.08543202627298421, -0.07279285319858421, -0.1299488695131289, -0.022995051632070766, -0.007867388306214418, 0.06815477900484326, -0.13687804509425905, -0.020985123484950133, 0.050193450846989215, -0.09707092494808774, -0.057467256267295576, 0.028241663480352768, 0.1218589967309325, -0.1291663126477634]\n",
      "- [0.004533123817862004, 0.12608670975706474, -0.1537273693098953, 0.01867468667087665, -0.016018239709972792, 0.10409794628561606, -0.06455075177684429, 0.030056421834087587, -0.018630151382414906, 0.11586782864530695, -0.042629349943368255, 0.07450852031422378, 0.15867748648243657, 0.12567742169361149, 0.0025274264898032793, -0.06892812377082468, 0.01884564260692004, -0.05083969283377594, 0.14249630460293697, -0.09400571613142679, 0.11943991161660193, 0.0006164469665524069, 0.004806380438068358, -0.06418097214294574, 0.18072529696071088, 0.04684106991661286, -0.11772691870996689, 0.007760469894385955, 0.07321697399612305, -0.09565371392236645, -0.13260924786748401, -0.06510625512864422, -0.022796584182077195, -0.15525312399251492, 0.09956031788005167, 0.08038868528507705, -0.014828240797581107, 0.1974355540072282, 0.17121269213566645, 0.1893166652152346, 0.17040807601498795, 0.17311386537797713, -0.14968743450455155, 0.0377357878289009, 0.05473816326740169, 0.09537709467320203, -0.07859062679759594, 0.13523162948528125, -0.169479336058803, 0.10183805819195847, 0.1341888102396762, 0.1510988143727784, 0.08395352492027809, -0.16817022929854306, -0.03532231479849774, -0.10307743184811387, -0.15218953404627036, -0.03276923841243698, 0.1797346818006559, 0.11148198109021246, -0.10142839744722763, -0.003228268445562412, -0.145518972534913, 0.1402215632741289, 0.08042627145151766, 0.17285944207090795, -0.19956544972949758, 0.019122356370862643, 0.17601953521505062, 0.12739935193911653, -0.12408247853840321, 0.0950552776105672, 0.05008123973884803, -0.05823866066444385, -0.0015127535584051413, 0.19159062792111714, 0.04297488521403457, 0.026900806173457418, 0.07482918963825029, 0.19671594309682708, -0.12918323027805342, -0.14840521622683128, 0.0587861772129061, 0.17447202128639763, -0.06498675269831611, 0.1191305072241247, -0.125798171887949, -0.17768780470471587, -0.12543259218066666, -0.037363732371361535, 0.11923634131093315, 0.06483783229213214, -0.006976439385714931, 0.1255833911692835, 0.17212646478799576, 0.04266138984053999, -0.08310128284878725, -0.147869696733052]\n",
      "- [-0.15818533359934095, 0.09150505217289895, -0.1341738949197453, 0.09456188193279491, 0.14237947051710517, -0.13906911989490242, 0.060980709090596996, 0.17441494612462508, -0.11590758304845071, -0.17290933322060292, 0.10472884629653972, -0.03163446977360395, -0.15129126434460863, 0.1325645854094226, -0.12517657387337572, 0.0686921149780626, -0.1081008826721085, 0.06703039054408653, -0.11931359715577053, -0.1018852131308119, -0.08946041897698179, 0.1708663455025063, -0.14390846580995892, 0.137367574758174, -0.11923611117668213, 0.16442476014546015, -0.1577223939588343, -0.004249228364912473, -0.13260836542175822, -0.0691765554698036, -0.1066703917274757, 0.059600294825008344, -0.13862938338609457, -0.16329168495697, -0.11234117640983035, -0.07470402051344893, -0.11693126566099563, -0.12837693790815943, -0.037144582347396086, -0.031571468178397746, 0.09323933751103432, 0.06888651701228289, 0.14700173498841385, 0.08216398007543171, 0.14516714048653998, 0.1466190238701571, -0.030601894128907257, 0.18204460089870708, -0.058011855241988826, 0.08109554816430053, 0.17007711887164836, -0.08736230839514439, -0.1662312690842972, 0.060082085029483305, -0.014822557063195376, -0.0019335686670205916, 0.1603519926248207, -0.05919979228410726, 0.01051487209263057, 0.05594927575328834, -0.10798503640620603, 0.13957262108713067, 0.07889125742507938, 0.09989129000851142, 0.02047381166962572, -0.08516873217906648, -0.11628620746525546, -0.06936280446935554, 0.17681588643391338, -0.088015781967181, 0.1528584544985777, -0.16874132441551165, 0.1063090775357048, 0.17181500912160386, 0.021578953533515327, 0.15441397449158675, -0.09675190794868303, 0.1555968002600233, 0.09521951605166865, 0.15192234927460066, 0.16115199682361164, -0.08629172068239274, 0.13737906293496063, -0.13471233779602437, -0.15489746989977585, 0.13882677011946024, -0.14792638589836332, -0.10102679535675942, 0.08534709078192985, -0.12832202569383697, 0.0837359520352798, 0.12744809901244963, 0.015734450906792066, -0.16853226165784208, -0.020122207369875668, 0.14909618859576576, 0.08888474292763476, -0.00019467873946747526]\n",
      "- [-0.0067992426243828645, 0.03427307372198554, 0.01154193332288646, 0.012193688764646876, 0.06581847065122307, 0.04534452836263751, -0.020860741829251742, -0.150310431314865, 0.12999683386427666, 0.19672588460132928, -0.12380854446956817, -0.11186528976970754, -0.14907198632529092, -0.18081144553179354, 0.019907459712574526, 0.15283793691809658, 0.05140324790373109, 0.07240519790016516, 0.14443545690843648, 0.02709506563194862, -0.11919075826025377, 0.013185805581583505, 0.09548375415430228, 0.12506326778077798, 0.01554430259399026, 0.050534193519613156, -0.1099381682631164, -0.08681011179507857, -0.1121266818535118, 0.07985590999100409, -0.05299701727333314, 0.04724155830401006, 0.06761478172834423, 0.0295149827684463, -0.04114696650978574, -0.018433574924563302, 0.14648090084850104, 0.08955134297335408, -0.07448737921826977, 0.16809233678620297, 0.030365756891805266, 0.14183423064397807, -0.031583878427406585, 0.10125608821384505, 0.12780378707827636, -0.14896467180662343, -0.08825831244558395, 0.047275519244341896, 0.1637690175037214, 0.057047940211185276, -0.059623139022316134, 0.0756428495508032, -0.11657689358874701, -0.174897164781056, 0.07357397448999223, -0.18340504999595958, -0.052804855119682935, -0.13333215934956555, 0.02507289892568991, 0.1279224224533532, 0.008516259181878325, 0.18162168395024228, 0.18045927177516385, -0.017807683320488293, 0.12570077386843917, 0.12979731328226526, 0.19470452591351883, 0.13041571438483518, -0.011388998414571553, 0.1704441685777346, -0.16374768205111942, -0.05067207440221347, 0.07722493042855381, 0.17547658579133288, 0.05335424872341824, 0.004109576333397209, 0.17351951594260778, -0.016108777099984893, 0.01555105406626878, 0.053773967825061206, 0.0034681068318818493, 0.060206315440190034, 0.16146221348462067, 0.10929001535507767, -0.15343377966504748, 0.0017822382780268993, -0.09770710268740163, -0.02058582075793946, 0.10763989117132228, -0.07941052141583659, -0.10763919678144744, 0.16156067531604362, 0.0280446235896425, -0.16967678864352168, -0.045250131523352506, -0.11851203507681235, -0.20384200457258578, -0.06297364927790307]\n",
      "- [0.10146977562973433, -0.1590935563322229, -0.19037597049487726, 0.09558681227060072, 0.14051840824297618, -0.18560561655454008, 0.04427925599523427, 0.25574726608901033, 0.019865591814664386, -0.15940990919400566, -0.0598317281863369, 0.010391129878446414, -0.0012657548717816636, 0.010699736944901861, -0.14695630700595522, -0.16187329211112977, 0.03469167322752106, 0.053228465606373565, 0.1563278682852462, -0.14188182264837237, 0.17530351977606815, -0.1394449161292685, 0.02159466182019488, 0.005700643371795905, 0.05178987420879921, -0.17306605161752517, -0.08646587552834616, -0.12198583684191489, -0.00910651963603178, -0.04511489326395931, 0.14351512899505758, -0.09357485607392457, -0.12676394686876039, 0.11767990350766266, 0.04963576391150889, 0.04743074754005807, 0.12262121138571902, 0.126207835850508, 0.029884515073183023, -0.09832840214141494, -0.06059035562530687, -0.07992619524304571, -0.0009072415507699527, 0.07051747923371705, -0.15067920256068223, -0.1025706300716457, 0.0587426196934028, -0.08485502932335438, -0.11487153080788015, 0.17920601506642875, 0.06215201947637431, 0.1478696824251644, -0.17451663625824765, -0.17925652908824016, -0.10682171243442533, -0.017140414136203576, 0.1275937512662125, 0.1468175928837682, -0.07080198615334701, -0.15247820627882583, 0.12513248368106278, -0.06588942766617609, -0.004952817342339053, 0.10734838753014356, -0.011347568233249877, 0.10775371777867225, -0.11420105059602484, 0.003544818288818455, 0.05559532487787938, 0.022511492961203108, 0.0387991034595602, -0.09048543167485681, 0.182388390296217, 0.15317865799947003, 0.18409885690068972, -0.04561313747480097, -0.03777586515343811, -0.14013977912861997, 0.1485988589617018, 0.10266709744720982, 0.03917820974616933, -0.10397116179352255, -0.10007767655174052, 0.17432269719731414, -0.06287112983577212, 0.00704335678233811, -0.02404283270456372, -0.045612711757086886, 0.04085402234632106, -0.06883423916262836, -0.18763350775940563, 0.17290166675500546, -0.09720862970288607, -0.017033657632658666, -0.13729097095911533, -0.09077188603846975, 0.1468716645869154, -0.01077930370837837]\n",
      "- [0.004658848990494311, -0.16442786941874218, 0.16715837098834266, 0.026793601042378528, 0.025910472021431458, 0.012411237505534255, -0.12560833966256946, 0.07159618872596343, -0.12291131169316008, -0.06557670480411072, -0.13981492028443884, -0.03990421319318453, -0.06319362871213857, -0.10041088937407693, -0.11785341562037441, 0.13981570976506627, -0.057752421575988394, 0.02454191749974888, 0.1745071580106904, -0.018745922607220078, 0.09217598918496328, -0.10891207127632573, 0.0846481882325669, 0.13948526649128484, -0.09863527785724702, -0.011337136532354904, 0.03940226708208676, -0.01040166771426181, 0.04330490276956561, -0.1681009386408641, -0.08741409555151776, -4.5388073604838045e-05, 0.12864254746057066, 0.01718133531667536, -0.14433827596249385, -0.048726542346414194, 0.002226453338593099, 0.02836757444190843, 0.13351539400107873, 0.015226950384059435, 0.06813892342041519, -0.1438293410696971, -0.15671066065913855, 0.026335062836438466, -0.15730701802151137, -0.13527710830986095, 0.11802352020987149, 0.09174870324507489, -0.13816511616470495, 0.13967579674510053, 0.05434347455386382, 0.10904730175506024, -0.12861315871970436, -0.1699741691824178, -0.13903428697515335, 0.18573292678478726, 0.07926973497891199, 0.06095650584747822, -0.09103598040726375, -0.11484578877392657, 0.05451906110709373, 0.10430062102233803, 0.1721582046695659, -0.10024465984966044, 0.10173059413810231, -0.1633195493009423, 0.09951171441506003, -0.182111135682445, 0.09980419380309934, -0.1559007110116363, -0.1459294474489517, 0.03193889315698817, 0.06161148954670028, -0.011964312587745954, -0.16129713922970282, 0.0334796749559633, 0.13976667066136608, 0.021051153489226645, 0.11790802308675624, 0.177604326967316, -0.09171788942675001, -0.10067220485078807, -0.03661067505012049, -0.0033821391601441824, -0.1033845711631581, 0.028675865087075696, 0.06614599153208293, -0.1283706678665409, -0.14447717304202476, 0.07544884194277439, -0.1170704390680143, 0.14561611707561203, 0.03931288824687578, -0.117706112687347, 0.15632967011462276, 0.021572957489639805, -0.10893708712873298, -0.1394612482121365]\n",
      "- [0.13603469866635354, -0.12111819831545777, 0.13553658852325837, -0.0033945193531960483, 0.03840934982225898, -0.18317816058228373, -0.010270533379597917, -0.23926298006067992, 0.19244194947825657, 0.20088076939407626, 0.062338398159418475, -0.016971131189024755, 0.18862540072765502, 0.14284031264163705, 0.08020259274276093, -0.1089234924833683, -0.14688321443566998, -0.04227659139376287, -0.15263314976035647, -0.10281084721107199, -0.0870028073065936, 0.12313427810945314, -0.01268925271374699, 0.13047795099986514, -0.006573006469869676, -0.06607313351868725, 0.14474569794609973, 0.1879923409390354, 0.09425332770423839, -0.1459061042976936, 0.024145963733220786, 0.08334469670459767, 0.10983968176109783, 0.13238956373245037, 0.086709285932041, 0.12206882914219425, -0.030473566548479596, -0.026467260413133544, 0.11474478957668112, -0.03170571333241091, -0.11830457715140569, 0.13757511814884762, -0.10187076679301442, -0.03419347443462925, 0.10814558826955598, 0.05665973909179791, 0.12634958903065516, -0.19203448459470804, -0.14003246619562842, 0.08998483670731434, -0.08235337428908165, 0.08032996777017669, 0.0865108261620035, -0.007024339702036496, -0.07496753988848362, 0.11689066050657779, 0.06457533239692176, -0.08378487139049783, -0.0244008727491637, 0.032198210927991106, -0.14842080121181717, 0.14017302215131408, -0.12687809456297935, 0.025783227393269503, 0.014978329908669565, 0.10273732042487134, -0.043230434684632155, -0.12330448034067264, -0.11382436161557069, -0.1712473978906377, -0.06664238794486717, 0.014332282030230957, 0.10210869727988575, -0.022884288708671166, -0.11061241359473468, 0.014410815268387916, 0.0688524841716795, -0.0229465455847276, -0.01131050400639077, -0.04484214329240181, 0.1127947425743613, 0.05178314539658748, 0.06558289032638422, 0.006908574563505838, 0.08730724339834031, -0.13610287185780742, -0.04970292057308948, -0.14651609637253757, -0.1801182245930425, -0.10107124179891108, 0.1526111399214702, -0.09542196205907501, 0.03770778393017235, 0.14515751783589528, -0.1314563270370172, -0.17652129257670657, 0.14495686453928214, 0.009006823443265543]\n",
      "- [0.014938986423150096, -0.15255971842927957, -0.1713943996000527, -0.052711061237004475, -0.12076894382461617, 0.17040581027525, 0.16383120569490153, -0.18253933027875155, -0.14184640420061212, -0.15885000879786848, 0.06830965527948454, 0.1770174124024769, 0.014431711068589656, 0.15442978355377684, -0.1966120110615699, 0.13386553458308462, 0.14813847317961631, 0.04959451586433369, -0.15624710062587294, 0.17544467536061098, 0.029700726575628097, 0.07055585279890147, -0.048257947278883336, 0.1134650295294419, -0.0002467270674065649, 0.008844365543625086, -0.13669551339701008, -0.13014348142947513, -0.14356082620518867, -0.12388401604467454, 0.03574120076774708, -0.16167210690094969, 0.06215996760266563, -0.10019851487355501, 0.03368049932788191, 0.07642959391707899, -0.1555853957794834, 0.14117257088548468, 0.0715313384967856, 0.16529708239906765, 0.09942800245642819, -0.07370611678711005, -0.13439549198225118, -0.0709367075979999, -0.07617654682508883, -0.1148129862048242, 0.09089548125677167, 0.08163279979853706, -0.04263611069482049, -0.1028450438030844, 0.1432444386194135, 0.10051868531847867, 0.08206153108273122, 0.10013032034689066, -0.11482792675753156, -0.15802206971235597, 0.00488733302337571, -0.1462152376682799, -0.10109711218925567, -0.1526309563793049, -0.1355242256221306, -0.07611333127034114, 0.07833823732005897, -0.0627017298229048, 0.03282003036168888, -0.050875574863033936, -0.07346740221253821, -0.026763869447423143, -0.05598597254658508, 0.007694303997984662, -0.1311048294614753, 0.11023343100859384, 0.027169396266836177, 0.09314178034899011, -0.006549950911790831, 0.049367975330935225, 0.04853463865345912, 0.09463753854382367, 0.12528402675625055, -0.16533425948077327, -0.20083339352197557, -0.1722641065378725, 0.02413659325796301, -0.11441303196152737, 0.03877704911625352, -0.04492725539957847, 0.01546053645352102, 0.13384418949949925, -0.16157178953676388, 0.050297441001901894, 0.1898790275622145, -0.03292636409942797, 0.0783506003389658, 0.09229816054037558, -0.011455110834693793, -0.08509158218190134, 0.1448073470978842, -0.06589611983323129]\n",
      "- [0.14127036929793108, -0.14037284002359462, -0.11746650798345891, -0.16337893716662358, -0.037675062125251804, 0.151892003492696, 0.11524992578337083, -0.16057665906042543, 0.14997197527651676, 0.12627819578163654, 0.07115131596678077, -0.0638097802159295, 0.017795673235480914, 0.03816345888823267, -0.08211580900983008, 0.06424077978517, -0.010847157672949047, 0.16556774316448092, -0.18248233890677015, 0.0068485575596996875, 0.1739103451649126, 0.1424985287429304, 0.17162724156109183, -0.13244542406046816, 0.09665336292352243, -0.07588410281790471, 0.16798369457691517, -0.07462791123283105, 0.04137667434723414, -0.002960567862473361, -0.043186267091857244, 0.026225144699456842, -0.009765020316901204, 0.13916362872549146, 0.03743015078544126, 0.16957499600435805, -0.07684937518262822, 0.11867342950550855, -0.024871415057883924, 0.1260624481547363, -0.19631179874250718, -0.02682229676227643, 0.1237064656709643, -0.0791015330618442, -0.0867921769727885, 0.03996102411072559, -0.07576843229129673, 0.11941510837156634, -0.16632662575897725, -0.14135363449286212, -0.10683420687025523, -0.04330263015378557, -0.048498369242022124, 0.1863243437672604, -0.07635533742399839, 0.060087055798153204, -0.018994544789342656, -0.14043505292834405, -0.15465953287642656, 0.02299066336727478, -0.037984758037402776, -0.11035625959070118, 0.03646693656600674, -0.13251718492469677, -0.11453195057555442, -0.06888636661182677, -0.08680941693744938, -0.15647850303007638, -0.08685603904452348, -0.0004032570009808294, 0.0005811998129360552, -0.11194159981950633, 0.14671705611283717, -0.1531126598467419, -0.08713997289206078, 0.03214231280338279, 0.017797138411326636, 0.10346788807621109, -0.11980428963299444, -0.1850992492768168, -0.15910481209065364, 0.07492418679308203, 0.15720819096030625, 0.040390631020116766, -0.1519518284150308, 0.12099250186131352, 0.12690055993044771, -0.09149929144987434, -0.015866528711308982, -0.04455484417895421, 0.10215024120434782, -0.04082793837238352, -0.1254407918410983, 0.08489216749980492, 0.073876667671842, -0.07905645519720576, 0.01478171628847693, 0.03443191834969544]\n",
      "- [-0.13676096249899664, -0.1050838111079636, -0.06220993695560441, -0.04367124234116873, -0.18166625652718724, 0.10868816545595085, 0.033279353958575, -0.11810401199415385, 0.009411855179802702, 0.11661250312415831, -0.08477094482945408, 0.09597893665283509, 0.12897037516773308, 0.1826734937399452, -0.17240457477043328, -0.05974935403085589, 0.09678765636227965, 0.03585660846181855, -0.06974339862495901, 0.16906075807252702, -0.15983355025729262, -0.06230115597413627, -0.165951644283079, 0.013273973787054333, 0.04732380657602133, -0.14171061907789717, 0.06931838998472441, 0.10675635023681768, -0.03937777054126207, 0.0509336759697035, -0.15769068668245775, -0.16943498976024765, 0.07584033931629704, -0.11756252267685338, 0.07942734506517113, -0.05439854886193695, -0.1392331583266935, -0.165383063325161, 0.0655678193987504, -0.10614291103906395, -0.11297642677761216, 0.05537126307671234, -0.1514786464035474, -0.08101905020449619, -0.1848643998008303, -0.1151140721199107, -0.1113457709855115, 0.02225126816013763, 0.026941686318099917, -0.10149689889072015, 0.09069969291804968, 0.05065558208919101, 0.08033646142963245, -0.10335184822525295, -0.12916050248138264, -0.10434498745732422, 0.05543368410217248, -0.08297298674640446, -0.029523812500996276, -0.0638610360671863, -0.06864908538611095, 0.05006850674696937, 0.10219706970634243, -0.13370416445658267, 0.014348383112767808, -0.1807427666356856, -0.07864435812306991, -0.07649748441876413, 0.018465710523692606, 0.16386083545047725, 0.04943151640845408, 0.025877319175935144, 0.05533760302683321, 0.18417666654270087, -0.026058040122881827, 0.13520801474916352, 0.059461301103184656, -0.11437133128806284, -0.0284189378176022, 0.1434487244573189, -0.1572281122885157, 0.05164241608873094, -0.011182237751102027, -0.09669317852733456, 0.08480354253985782, 0.009518785464956372, 0.13063801493754726, -0.16721338456246163, 0.049914513475139664, -0.04738673591649396, 0.10149269195281632, -0.1331146546500066, 0.05920244773018476, -0.0007034979753333545, -0.1319570805887282, 0.17172570909171644, -0.11503902359301767, -0.13079603784672533]\n",
      "- [-0.14042830469876869, 0.07813771300311392, -0.13129597885888294, -0.15114545349908465, -0.12527077685025603, 0.15257191289333755, 0.1643837162709607, -0.06811848366388012, -0.029392462084402184, -0.004957687791032002, 0.05639586981716198, 0.02672779344156806, -0.005332409904289541, -0.07058741559766547, 0.17770583084801841, -0.12737473923510617, -0.08849455114642982, 0.17844353941850863, -0.1557806247060642, 0.05202592437755687, -0.15333458295920704, 0.0116808553869437, 0.15603900728260767, 0.14449547464883003, -0.004874781319462273, 0.056515155096286136, 0.09501871867523513, 0.06288943806640061, 0.06893667641856026, 0.13404360648035638, 0.08147291341386433, -0.18832654732821527, -0.04442730699022605, -0.15617497866668675, 0.17499249118228855, 0.1541426077723982, 0.10598373673029633, 0.17093211863392063, -0.09889546984607026, -0.02966638556409875, 0.01671045412915954, 0.035481046188674474, 0.014195644301989297, 0.07121045911972, -0.14232427820638757, 0.1151264625784923, -0.14534707778649472, -0.014290595582693525, 0.07073766571367619, -0.1087738068870703, -0.12637466840166056, 0.08678548016425074, 0.14403453170194447, 0.10739726902421383, -0.1587851606358203, -0.1439209568462001, 0.07261005241149339, -0.16695418915974397, -0.14901840633586436, -0.06523666141797609, 0.14753100831135652, 0.02381678866848364, 0.018169564921400743, 0.1587074993772021, -0.10971352692525109, -0.09939081147501248, -0.16370247132222937, -0.09935380156933186, 0.16341046997255415, 0.14087459415108305, 0.12409445944729476, 0.05388873486425628, 0.13416900236486054, 0.07151552085893677, 0.17392436558718252, -0.05227097113842848, 0.13134132439517, -0.015179983469846507, 0.04045780239709782, -0.1821606405989479, -0.1083453835966446, 0.055897450914967194, 0.036054912680213394, 0.08598202766623671, 0.1516993264506871, 0.15655328342779914, 0.08075264823225156, -0.025390443545946426, -0.17464824322727968, 0.10171345786706987, -0.1666565327520661, -0.16507369476981396, 0.07898555485932218, -0.007759666933002507, 0.1622049153795525, -0.05054122790168406, 0.06976224496970176, 0.19460708251035405]\n",
      "- [0.10922039402595941, 0.01901729906929172, 0.1159103135869012, 0.18040453996289393, 0.08697797564061815, -0.13233495135447648, 0.14707459289323868, -0.16727155910551517, 0.0906006458634084, -0.10630474975784644, -0.09612356320772567, 0.1345004677947092, 0.1281877602181757, 0.1515195505651817, 0.03611030046812429, 0.05000434831583622, 0.03131751535535509, -0.02167321077743415, -0.0775017202467524, -0.008281783116439251, 0.04023670651283579, 0.05496890959947816, 0.17127262938434573, 0.10222570886916377, 0.05828253587651676, 0.06554526158584696, 0.17954877155181456, -0.08676589032327041, -0.10822398139536649, 0.14900426550754303, -0.06827111854660232, -0.15811727661330052, 0.11517571333747338, -0.03153180125457335, 0.029063551038708245, -0.0069366433329337614, 0.01658709543583985, -0.18189552041598944, -0.08696091137266754, -0.12359989745206289, 0.09051370232530108, -0.026820814794396585, -0.13314153367990256, 0.09118410916585447, -0.13570979271047603, -0.07365501769594923, -0.04181823277766725, 0.16197734325277838, -0.01933450112320705, 0.02540065431980814, -0.14870683555918948, 0.10569032059304612, -0.14480096477292506, 0.1071851583388539, 0.15558622690862123, -0.05830944109746017, -0.09901424966794102, -0.1298698163693588, 0.08224193556685533, -0.10259593536673149, 0.14400168350689882, -0.1307460047346283, 0.1729160714770845, -0.11337435995579669, 0.018820803205738704, 0.07673855002941589, 0.17650006539795088, -0.18007191973591802, -0.04108359932575594, -0.012578092335968422, -0.02094460070344962, -0.018470784292560966, 0.03878955853198417, -0.07786586527481723, -0.16440929723922335, -0.09854828461497538, 0.10818368334563103, -0.07917774533659824, -0.14660532209082366, 0.1646274004257626, 0.00458193393771641, -0.0657699968288554, -0.1479303696162956, -0.011687210661458804, 0.12319620532172056, 0.046443252838357624, 0.11302757833058133, -0.04091054668099693, -0.16587196602836288, -0.11039024302824828, 0.13445825627855848, -0.0793092650912094, -0.15081985528726954, 0.0317200261214716, -0.16355852525429668, -0.01028159412061821, -0.022455699557664438, 0.006642106246596781]\n",
      "- [-0.040108419858126174, -0.1717679540945083, -0.05545630661723143, -0.11653781204772837, -0.1744962302104033, -0.12584709090065596, 0.0327074751759852, -0.1540343800837074, 0.09003926081486847, 0.11791783783554234, -0.022603315881877584, -0.05264213469075719, -0.0877256593260586, -0.019569746870507988, -0.07822557553592831, 0.12942966021245106, -0.026847552176104635, 0.09153277102045856, -0.05322185122846564, 0.1755711222329773, -0.10413655436702106, 0.03345795840489945, -0.04492936598737353, -0.03363046553959308, -0.016149363895505982, 0.13552882842213043, -0.032236083430610796, -0.06608536415859191, 0.011722339277649515, -0.07344027625297066, -0.037693232614010405, -0.008872227801295141, 0.10158826110241637, 0.02343599144411557, 0.13270690886282524, 0.05243809064331331, -0.10063146389719316, 0.027683585152202667, 0.10428439793688993, 0.008519445278323321, -0.00889552259156486, -0.04488239097587733, -0.08126869995187287, 0.03377751667753283, -0.12721599768922, 0.06079174995472142, -0.15139593234394672, -0.1869133482122308, 0.0902781634055487, 0.0635809810068476, 0.08171091983771193, 0.1642882965646349, -0.15175069515429632, 0.14068328889464843, -0.05701472188955802, 0.0646185935082706, 0.092717287758778, -0.004370344930361353, -0.07656804153836773, -0.18091617583911332, -0.17539213784870822, 0.0906120901887602, -0.022134154936459156, 0.056279251211320075, -0.1312542650014709, 0.1269696102061058, 0.02677473428275505, 0.07279093273823048, -0.17014779460919774, -0.11210439331018977, 0.10143664356208729, 0.021225368186596465, -0.065504883656465, 0.15220307752294607, 0.15651704960268079, -0.18064389043159992, 0.0627195827592693, 0.1602153673447243, 0.07908540719646072, 0.023459973056280482, -0.01676767860642785, 0.013215590880608872, -0.09987572608779081, -0.09697277638567153, 0.06592505665019763, 0.10587115726324989, -0.06925345477396153, 0.011075362246220926, 0.1785673311950284, -0.019395048337215077, 0.06762833081633148, 0.13400784835534305, -0.16561115284355415, 0.033256339035070144, -0.101040555516048, 0.16146621066672218, -0.01676187804732438, 0.0782449097761469]\n",
      "Hidden Bias\n",
      "[0.1333413986036495, 0.04150571107255994, -0.020354427310206584, 0.07240116595456106, -0.18435696981807445, 0.11937686001873171, -0.1591970477469395, 0.0626012718226362, 0.04219099089347529, -0.14967910188148317, 0.046293109312865885, 0.22320834467084785, -0.15815627459190257, -0.11909282286422472, -0.09408318456753502, -0.19346453351272205, -0.08338582452200698, 0.10420954285479697, -0.023344300042604182, 0.03334962490174973, -0.17521675526958355, 0.12597872110300773, 0.07318170866030774, -0.0393766760693904, 0.13980220636652446, 0.013437210032474896, -0.13004476192379794, 0.08023853600994625, 0.044100387914093035, -0.06186322486056089, 0.10724140650857693, 0.08071178966193573, 0.053583743779047566, -0.05145283898688045, 0.17411730041172832, -0.059155257419475034, 0.08940528353472489, 0.2479479134717289, 0.12381970517570347, -0.2732242623647256, -0.003637280567805329, -0.009019020951589874, 0.05416991023940665, 0.1757516490735595, -0.08345488330504953, -0.04428626567026409, -0.07296425652435083, 0.10019115624008708, 0.045200216091166395, 0.22371877236124912, 0.197284369604816, -0.11068949814974467, -0.02423472087953486, 0.015708041618498897, -0.17348005940625172, -0.03247526153531627, -0.20470565085040313, -0.04514391189211631, -0.13917793719997865, 0.006109454938689289, -0.13256005163422147, 0.0029310067835964437, 0.05304304222887857, -0.002790907075089382, 0.1579313740387365, -0.18268885718075362, -0.036122355632523674, 0.03688763855693279, -0.3198556537341, -0.11977278646962924, 0.0021692812314774504, 0.17392033732653853, 0.053341799602444256, 0.018902031195895456, 0.10947283923003598]\n",
      "Output Weights:\n",
      "- [0.14748359550935086]\n",
      "- [0.13326904855620386]\n",
      "- [-0.03611117476091968]\n",
      "- [0.1645365658151394]\n",
      "- [-0.03293770894375072]\n",
      "- [-0.03078773972555418]\n",
      "- [-0.14416871877724477]\n",
      "- [0.009197749271969839]\n",
      "- [-0.04606676233000258]\n",
      "- [-0.1939175989488111]\n",
      "- [-0.22672495979686688]\n",
      "- [0.03821898523219756]\n",
      "- [-0.083202888943507]\n",
      "- [-0.10357322588303303]\n",
      "- [0.022938644737232325]\n",
      "- [-0.08529221805046583]\n",
      "- [-0.10647993722794709]\n",
      "- [0.0362018912537503]\n",
      "- [0.03087826936890545]\n",
      "- [0.1790183389572237]\n",
      "- [0.15256488924708414]\n",
      "- [-0.21656363087429145]\n",
      "- [0.13177608824851134]\n",
      "- [-0.0698915075443738]\n",
      "- [-0.0012756707826250121]\n",
      "- [-0.05124123657207017]\n",
      "- [-0.11663075864484922]\n",
      "- [0.15254780778848934]\n",
      "- [-0.05602145413535135]\n",
      "- [0.06973378010334097]\n",
      "- [0.15674617917624598]\n",
      "- [0.09739434349300018]\n",
      "- [0.16855092591226584]\n",
      "- [0.1823131272065262]\n",
      "- [0.17361963639803987]\n",
      "- [-0.028752960352199437]\n",
      "- [-0.1279795351920435]\n",
      "- [-0.17352561313045559]\n",
      "- [-0.18238203380453813]\n",
      "- [-0.08643644339578777]\n",
      "- [0.015960549257427948]\n",
      "- [-0.1772417522167439]\n",
      "- [0.011102270311169959]\n",
      "- [-0.1882544968909144]\n",
      "- [-0.17862631997171555]\n",
      "- [-0.08201219965286967]\n",
      "- [-0.047277671792403726]\n",
      "- [-0.0972211804605824]\n",
      "- [-0.059855914452722966]\n",
      "- [-0.008593529096907629]\n",
      "- [-0.09685170089666931]\n",
      "- [0.04112428650151385]\n",
      "- [0.046237947677817484]\n",
      "- [0.017427198706926054]\n",
      "- [-0.20497328558524477]\n",
      "- [-0.0035866198853234292]\n",
      "- [0.11198356177848054]\n",
      "- [-0.05279098987842734]\n",
      "- [0.02707190420152924]\n",
      "- [-0.23275140815780093]\n",
      "- [0.2168093175242479]\n",
      "- [-0.08156299697943525]\n",
      "- [-0.0030387927876004677]\n",
      "- [-0.12120659267276725]\n",
      "- [-0.15148939454327334]\n",
      "- [0.19365032676652494]\n",
      "- [-0.07453286401293786]\n",
      "- [0.11843330815285476]\n",
      "- [0.1292916408900026]\n",
      "- [0.19249510498780859]\n",
      "- [-0.18142396760000007]\n",
      "- [0.1861583225023774]\n",
      "- [-0.03822983387931939]\n",
      "- [-0.20663991844387877]\n",
      "- [-0.010646421270544942]\n",
      "Output Bias\n",
      "[ 0.1651 -0.1119 -0.3652 -0.1631  0.1558  0.0073  0.1022  0.2101  0.1218\n",
      "  0.2493  0.0066 -0.2679  0.3385  0.0127 -0.1887 -0.0514 -0.216   0.3971\n",
      "  0.1841 -0.2622 -0.1114 -0.2043 -0.023  -0.0765 -0.3938]\n"
     ]
    }
   ],
   "source": [
    "#matrix\n",
    "print('Hidden Weights:')\n",
    "for l in model.coefs_[0].T:\n",
    "    print('-', l.tolist())\n",
    "print('Hidden Bias')\n",
    "print(model.intercepts_[0].tolist())\n",
    "\n",
    "print('Output Weights:')\n",
    "for l in model.coefs_[1].T[0]:\n",
    "    print('-', str([l]))\n",
    "print('Output Bias')\n",
    "print(model.intercepts_[1])"
   ]
  },
  {
   "cell_type": "code",
   "execution_count": 48,
   "metadata": {},
   "outputs": [
    {
     "name": "stdout",
     "output_type": "stream",
     "text": [
      "Network weights, w/o bias, input layer is layer #0:\n",
      "Layer #1\n",
      "                  0         1         2         3         4         5   \\\n",
      "Neuron #0  -0.046376 -0.117530 -0.155939  0.163569  0.131811 -0.047633   \n",
      "Neuron #1   0.097479  0.146159  0.164854  0.028577  0.111511  0.134684   \n",
      "Neuron #2  -0.195994 -0.052458  0.027734  0.140935  0.086758  0.071743   \n",
      "Neuron #3  -0.090209  0.101280 -0.105795  0.130712  0.041030  0.071690   \n",
      "Neuron #4  -0.128401  0.086055 -0.091217  0.149941 -0.125625 -0.115201   \n",
      "...              ...       ...       ...       ...       ...       ...   \n",
      "Neuron #70  0.141270 -0.140373 -0.117467 -0.163379 -0.037675  0.151892   \n",
      "Neuron #71 -0.136761 -0.105084 -0.062210 -0.043671 -0.181666  0.108688   \n",
      "Neuron #72 -0.140428  0.078138 -0.131296 -0.151145 -0.125271  0.152572   \n",
      "Neuron #73  0.109220  0.019017  0.115910  0.180405  0.086978 -0.132335   \n",
      "Neuron #74 -0.040108 -0.171768 -0.055456 -0.116538 -0.174496 -0.125847   \n",
      "\n",
      "                  6         7         8         9   ...        88        89  \\\n",
      "Neuron #0  -0.126905 -0.231123  0.087737  0.173902  ...  0.074358 -0.087323   \n",
      "Neuron #1   0.062151 -0.051791  0.078432 -0.118314  ...  0.122038  0.014900   \n",
      "Neuron #2   0.142113 -0.214541 -0.141312 -0.181009  ... -0.022353  0.039426   \n",
      "Neuron #3   0.167680 -0.074309 -0.083652  0.149728  ...  0.126926  0.073911   \n",
      "Neuron #4   0.080483 -0.046872 -0.105777  0.150705  ... -0.155075 -0.150931   \n",
      "...              ...       ...       ...       ...  ...       ...       ...   \n",
      "Neuron #70  0.115250 -0.160577  0.149972  0.126278  ... -0.015867 -0.044555   \n",
      "Neuron #71  0.033279 -0.118104  0.009412  0.116613  ...  0.049915 -0.047387   \n",
      "Neuron #72  0.164384 -0.068118 -0.029392 -0.004958  ... -0.174648  0.101713   \n",
      "Neuron #73  0.147075 -0.167272  0.090601 -0.106305  ... -0.165872 -0.110390   \n",
      "Neuron #74  0.032707 -0.154034  0.090039  0.117918  ...  0.178567 -0.019395   \n",
      "\n",
      "                  90        91        92        93        94        95  \\\n",
      "Neuron #0   0.037367 -0.053359 -0.200030  0.135680  0.156974 -0.177712   \n",
      "Neuron #1  -0.089222 -0.008447 -0.076186 -0.039727 -0.147740 -0.010666   \n",
      "Neuron #2   0.087479  0.172611 -0.074345  0.070198  0.007254  0.023947   \n",
      "Neuron #3   0.163057 -0.163985  0.031755  0.015313  0.193268  0.069041   \n",
      "Neuron #4  -0.156178 -0.112738  0.023690 -0.061390 -0.008076  0.140142   \n",
      "...              ...       ...       ...       ...       ...       ...   \n",
      "Neuron #70  0.102150 -0.040828 -0.125441  0.084892  0.073877 -0.079056   \n",
      "Neuron #71  0.101493 -0.133115  0.059202 -0.000703 -0.131957  0.171726   \n",
      "Neuron #72 -0.166657 -0.165074  0.078986 -0.007760  0.162205 -0.050541   \n",
      "Neuron #73  0.134458 -0.079309 -0.150820  0.031720 -0.163559 -0.010282   \n",
      "Neuron #74  0.067628  0.134008 -0.165611  0.033256 -0.101041  0.161466   \n",
      "\n",
      "                  96        97  \n",
      "Neuron #0   0.107067 -0.073692  \n",
      "Neuron #1   0.093939  0.108392  \n",
      "Neuron #2  -0.098795 -0.005263  \n",
      "Neuron #3  -0.146057  0.114064  \n",
      "Neuron #4  -0.069069  0.125059  \n",
      "...              ...       ...  \n",
      "Neuron #70  0.014782  0.034432  \n",
      "Neuron #71 -0.115039 -0.130796  \n",
      "Neuron #72  0.069762  0.194607  \n",
      "Neuron #73 -0.022456  0.006642  \n",
      "Neuron #74 -0.016762  0.078245  \n",
      "\n",
      "[75 rows x 98 columns]\n",
      "Layer #2\n",
      "                  0         1         2         3         4         5   \\\n",
      "Neuron #0   0.147484  0.133269 -0.036111  0.164537 -0.032938 -0.030788   \n",
      "Neuron #1  -0.139246 -0.134809  0.157550 -0.124501  0.162366  0.060885   \n",
      "Neuron #2   0.090798 -0.021583  0.202047  0.025480 -0.047966  0.077652   \n",
      "Neuron #3   0.096564 -0.182480  0.145942  0.003781 -0.221186 -0.065281   \n",
      "Neuron #4   0.090429  0.126128 -0.023895  0.134692  0.052351 -0.040213   \n",
      "Neuron #5  -0.048728  0.190106 -0.104027 -0.000341 -0.094280 -0.227098   \n",
      "Neuron #6  -0.214716  0.219661  0.051940 -0.225155 -0.176233  0.011958   \n",
      "Neuron #7  -0.055887  0.176231  0.018281 -0.119620 -0.195901 -0.007679   \n",
      "Neuron #8  -0.225331 -0.007660 -0.082144  0.106369  0.177233 -0.048329   \n",
      "Neuron #9  -0.122889 -0.124121 -0.132831  0.003023 -0.249803 -0.179060   \n",
      "Neuron #10  0.162627  0.097506  0.064469  0.105766  0.015860 -0.157926   \n",
      "Neuron #11 -0.023202  0.110490 -0.073746  0.190452  0.035503  0.050145   \n",
      "Neuron #12 -0.152629  0.148197 -0.060174 -0.242189 -0.198448  0.242550   \n",
      "Neuron #13  0.239501 -0.143831 -0.000690 -0.165785 -0.168830  0.052364   \n",
      "Neuron #14 -0.175551 -0.001733  0.046536 -0.119689  0.195952  0.017612   \n",
      "Neuron #15  0.086439  0.158192 -0.216498  0.033515 -0.165411 -0.095823   \n",
      "Neuron #16 -0.123792 -0.100023 -0.010081  0.110270  0.162892 -0.195813   \n",
      "Neuron #17 -0.184898 -0.067730  0.178623 -0.107569 -0.160748  0.053575   \n",
      "Neuron #18 -0.050910  0.086804 -0.201473  0.157975  0.252803  0.093943   \n",
      "Neuron #19 -0.085848  0.077476  0.217174  0.202072 -0.012557  0.187464   \n",
      "Neuron #20  0.034682 -0.127066 -0.128260 -0.142811  0.020814  0.115737   \n",
      "Neuron #21 -0.245919  0.014264 -0.006932  0.026018 -0.198995 -0.166487   \n",
      "Neuron #22 -0.035203  0.241415  0.018014  0.242690 -0.229931 -0.142390   \n",
      "Neuron #23 -0.074128 -0.164112 -0.127351 -0.222826 -0.152418  0.231814   \n",
      "Neuron #24 -0.164025 -0.087478  0.050165 -0.181769 -0.135861  0.085599   \n",
      "\n",
      "                  6         7         8         9   ...        65        66  \\\n",
      "Neuron #0  -0.144169  0.009198 -0.046067 -0.193918  ...  0.193650 -0.074533   \n",
      "Neuron #1   0.093493 -0.026776  0.165632 -0.053166  ... -0.103233 -0.023715   \n",
      "Neuron #2   0.178888 -0.211845  0.087299 -0.105932  ... -0.091745 -0.205177   \n",
      "Neuron #3  -0.004205  0.134354 -0.011701 -0.199805  ... -0.119755 -0.071014   \n",
      "Neuron #4  -0.261269 -0.204727  0.053758  0.102953  ... -0.253164 -0.215630   \n",
      "Neuron #5   0.090849 -0.075609 -0.058123  0.036419  ...  0.089316 -0.084730   \n",
      "Neuron #6  -0.211489  0.024400 -0.125983  0.234808  ... -0.060532  0.073332   \n",
      "Neuron #7  -0.137843  0.151828  0.133472 -0.131737  ... -0.180376 -0.241014   \n",
      "Neuron #8  -0.199002 -0.118693  0.205090 -0.192309  ... -0.115435 -0.105584   \n",
      "Neuron #9   0.166068  0.149250 -0.116459 -0.008738  ... -0.176456 -0.206264   \n",
      "Neuron #10  0.169798 -0.031033  0.063183  0.113448  ... -0.152751  0.106884   \n",
      "Neuron #11 -0.122151  0.162347  0.096821 -0.138608  ... -0.131349  0.175781   \n",
      "Neuron #12  0.105861  0.205442  0.125512 -0.159330  ... -0.229942  0.236129   \n",
      "Neuron #13 -0.005452 -0.042665 -0.104170 -0.242850  ...  0.034595  0.040509   \n",
      "Neuron #14 -0.016026 -0.094819 -0.215348  0.059011  ...  0.183757 -0.128229   \n",
      "Neuron #15 -0.117063 -0.013365  0.098366  0.051216  ... -0.062868 -0.123326   \n",
      "Neuron #16 -0.122372 -0.187416 -0.043130 -0.020551  ...  0.222082 -0.004118   \n",
      "Neuron #17 -0.228349  0.067264  0.108864  0.096075  ...  0.044903  0.215000   \n",
      "Neuron #18 -0.131831  0.052452 -0.196643 -0.212342  ...  0.129419  0.073058   \n",
      "Neuron #19  0.059519 -0.005744  0.074983  0.078496  ...  0.240751 -0.163446   \n",
      "Neuron #20  0.190128 -0.010358 -0.109555 -0.150855  ...  0.120302  0.002466   \n",
      "Neuron #21 -0.159438 -0.176453  0.177585 -0.179577  ...  0.143038 -0.043784   \n",
      "Neuron #22 -0.119147 -0.085473 -0.160021  0.189483  ... -0.195966  0.172626   \n",
      "Neuron #23  0.058893 -0.123350 -0.020047  0.090233  ... -0.157439 -0.199816   \n",
      "Neuron #24 -0.161292  0.028059  0.213764  0.075645  ... -0.060932 -0.126836   \n",
      "\n",
      "                  67        68        69        70        71        72  \\\n",
      "Neuron #0   0.118433  0.129292  0.192495 -0.181424  0.186158 -0.038230   \n",
      "Neuron #1   0.230717 -0.125569  0.000251  0.246166  0.149968  0.000771   \n",
      "Neuron #2   0.131100 -0.217358  0.097598  0.058375 -0.197686 -0.028733   \n",
      "Neuron #3   0.017442  0.053686 -0.233881 -0.194637  0.218300 -0.018236   \n",
      "Neuron #4   0.155670 -0.189781 -0.079812  0.204506 -0.145780  0.018554   \n",
      "Neuron #5  -0.071131  0.189919 -0.208773  0.086111 -0.125934  0.122870   \n",
      "Neuron #6  -0.117171  0.061613 -0.036443 -0.118149 -0.175363 -0.032353   \n",
      "Neuron #7  -0.009885 -0.238316 -0.131907 -0.253770 -0.127666 -0.178935   \n",
      "Neuron #8  -0.104571 -0.151732  0.001744  0.161487 -0.062656  0.166725   \n",
      "Neuron #9   0.074615  0.056148 -0.122992 -0.158624  0.231311  0.028705   \n",
      "Neuron #10  0.201742  0.014770 -0.154728  0.201676 -0.172920 -0.020846   \n",
      "Neuron #11  0.078776 -0.099736  0.042911 -0.119453  0.039820 -0.167905   \n",
      "Neuron #12  0.158694 -0.061038  0.004300 -0.116793 -0.003111  0.019547   \n",
      "Neuron #13  0.204418 -0.137398 -0.037936 -0.021833  0.048372 -0.165475   \n",
      "Neuron #14  0.091152  0.265316 -0.065282  0.182939 -0.219286 -0.283371   \n",
      "Neuron #15 -0.030781  0.200326  0.200356 -0.056403 -0.115315  0.190611   \n",
      "Neuron #16  0.098324  0.126412  0.046469  0.094481 -0.196545 -0.155545   \n",
      "Neuron #17  0.273083 -0.138602 -0.129873  0.083840 -0.004084 -0.102984   \n",
      "Neuron #18  0.114800 -0.209450 -0.110522  0.169151  0.176207  0.134600   \n",
      "Neuron #19  0.100560 -0.196644 -0.097462  0.233997  0.149034 -0.100334   \n",
      "Neuron #20 -0.189964  0.190984  0.098733  0.195107  0.182532  0.041175   \n",
      "Neuron #21  0.145759 -0.130466 -0.000405 -0.018436 -0.050087  0.077892   \n",
      "Neuron #22  0.208065 -0.224152 -0.131392  0.033799  0.007875  0.074691   \n",
      "Neuron #23 -0.198055  0.049966  0.046453  0.038819 -0.113767 -0.111336   \n",
      "Neuron #24  0.185750  0.141714  0.159161  0.004809  0.023887  0.069991   \n",
      "\n",
      "                  73        74  \n",
      "Neuron #0  -0.206640 -0.010646  \n",
      "Neuron #1   0.149652 -0.059633  \n",
      "Neuron #2  -0.118859 -0.139839  \n",
      "Neuron #3  -0.012627  0.106498  \n",
      "Neuron #4  -0.253666  0.209702  \n",
      "Neuron #5  -0.147550 -0.195945  \n",
      "Neuron #6   0.085899 -0.116174  \n",
      "Neuron #7   0.087983 -0.096841  \n",
      "Neuron #8   0.199732  0.084097  \n",
      "Neuron #9  -0.064897 -0.066045  \n",
      "Neuron #10  0.057046  0.130996  \n",
      "Neuron #11 -0.007577 -0.202832  \n",
      "Neuron #12 -0.274230 -0.028748  \n",
      "Neuron #13 -0.004546 -0.079862  \n",
      "Neuron #14  0.125166 -0.006429  \n",
      "Neuron #15  0.099953 -0.182723  \n",
      "Neuron #16 -0.070890 -0.027212  \n",
      "Neuron #17  0.120456 -0.001307  \n",
      "Neuron #18  0.083061 -0.081035  \n",
      "Neuron #19  0.211874  0.047297  \n",
      "Neuron #20  0.237916  0.106651  \n",
      "Neuron #21 -0.114725  0.079918  \n",
      "Neuron #22  0.121736 -0.057854  \n",
      "Neuron #23 -0.229463 -0.200812  \n",
      "Neuron #24 -0.062621  0.162158  \n",
      "\n",
      "[25 rows x 75 columns]\n",
      "Layer #3\n",
      "                  0         1         2         3         4         5   \\\n",
      "Neuron #0  -0.096625 -0.209915  0.272592 -0.254484 -0.243701 -0.211453   \n",
      "Neuron #1  -0.217159 -0.272615 -0.167102 -0.076348 -0.030255  0.105239   \n",
      "Neuron #2  -0.265244  0.267134 -0.025119 -0.231325 -0.281301 -0.033310   \n",
      "Neuron #3  -0.007061  0.038057 -0.060410 -0.102801 -0.202338  0.113499   \n",
      "Neuron #4   0.059915 -0.106264  0.048542  0.111539  0.083182  0.220253   \n",
      "Neuron #5  -0.174197 -0.079084  0.026548 -0.243749  0.110222  0.122030   \n",
      "Neuron #6  -0.097344 -0.164229  0.117239  0.203050  0.093111  0.224723   \n",
      "Neuron #7  -0.029154  0.292975  0.005478 -0.079460 -0.135461  0.001004   \n",
      "Neuron #8  -0.138469  0.201795  0.099293 -0.231258 -0.249443 -0.235548   \n",
      "Neuron #9  -0.083834 -0.143074 -0.101035 -0.219203  0.103273 -0.058963   \n",
      "Neuron #10 -0.136053 -0.107740 -0.172126 -0.195177  0.138347 -0.187786   \n",
      "Neuron #11  0.081980 -0.172986  0.237393  0.108512 -0.206780  0.152553   \n",
      "Neuron #12 -0.070086  0.038268  0.054644  0.236488  0.160330  0.130278   \n",
      "Neuron #13 -0.024326  0.242261 -0.291951  0.151543  0.126453  0.012604   \n",
      "Neuron #14 -0.142068  0.074699 -0.201876 -0.073483 -0.201168  0.164273   \n",
      "Neuron #15  0.041297  0.090914  0.098122  0.150372 -0.010552 -0.079423   \n",
      "Neuron #16 -0.042850  0.106130  0.186628  0.184302 -0.264964 -0.058918   \n",
      "Neuron #17 -0.020292 -0.202071  0.164127 -0.239905  0.048564  0.092493   \n",
      "Neuron #18 -0.158644 -0.095634  0.008255 -0.115999  0.247427  0.024808   \n",
      "Neuron #19  0.003925  0.009966  0.051862  0.132572  0.210864  0.181642   \n",
      "Neuron #20 -0.040592 -0.053188  0.149355 -0.125070  0.219558 -0.220836   \n",
      "Neuron #21  0.019075 -0.105897  0.253440  0.231438  0.154800  0.043391   \n",
      "Neuron #22  0.005010  0.098708  0.193475 -0.144266 -0.059677 -0.097371   \n",
      "Neuron #23  0.115448 -0.113637 -0.056152  0.159320  0.162535 -0.136861   \n",
      "Neuron #24 -0.077914  0.214397  0.259309 -0.052131  0.270302 -0.137398   \n",
      "Neuron #25 -0.156504 -0.236199 -0.223898  0.218436 -0.092519  0.114803   \n",
      "Neuron #26  0.234746  0.260440  0.248416 -0.125009 -0.245250 -0.078855   \n",
      "Neuron #27 -0.059079 -0.230603  0.005399  0.049442 -0.003989 -0.160037   \n",
      "Neuron #28  0.181335 -0.180248  0.116739 -0.268237 -0.089845  0.226063   \n",
      "Neuron #29  0.216005 -0.002261  0.182711  0.166814 -0.160330 -0.022300   \n",
      "Neuron #30  0.080432  0.225450 -0.090577 -0.259097  0.242753  0.019492   \n",
      "Neuron #31  0.154851 -0.099330  0.225294  0.074343 -0.202134 -0.058944   \n",
      "Neuron #32  0.229072  0.107068 -0.119074  0.040046  0.098762 -0.130412   \n",
      "Neuron #33 -0.004755 -0.069687 -0.220378  0.231932 -0.167211 -0.208891   \n",
      "Neuron #34 -0.049249 -0.268072  0.147511  0.236060  0.167892 -0.252409   \n",
      "Neuron #35  0.130366  0.094063  0.244586 -0.146742 -0.117003  0.233463   \n",
      "Neuron #36  0.038659 -0.188410  0.201971 -0.122660  0.073968 -0.228331   \n",
      "Neuron #37 -0.234090 -0.190820 -0.080555  0.098482  0.060144  0.015969   \n",
      "Neuron #38  0.174938  0.147566 -0.106752 -0.121761  0.103930  0.250337   \n",
      "Neuron #39 -0.167333  0.043285 -0.157316 -0.175239 -0.162005 -0.208338   \n",
      "Neuron #40 -0.155800  0.172337 -0.008020 -0.186982  0.011815  0.065783   \n",
      "Neuron #41  0.208858 -0.138153  0.258785 -0.263667 -0.098283  0.134291   \n",
      "Neuron #42  0.171786 -0.252846 -0.001058 -0.025395 -0.174656 -0.237375   \n",
      "Neuron #43  0.150239  0.198414 -0.157546 -0.013358 -0.018655 -0.041695   \n",
      "Neuron #44  0.271003  0.110447 -0.192640 -0.043220  0.207766  0.133224   \n",
      "Neuron #45  0.249618 -0.279029  0.247077  0.268171  0.047772  0.131911   \n",
      "Neuron #46 -0.207353  0.091160  0.088828  0.086236  0.058091  0.083797   \n",
      "Neuron #47 -0.013200 -0.135567  0.126876  0.037720  0.036199  0.164692   \n",
      "Neuron #48 -0.122153 -0.056900  0.056530 -0.240673 -0.244537  0.052605   \n",
      "Neuron #49  0.216682  0.163726  0.069940 -0.028933  0.209690 -0.070452   \n",
      "\n",
      "                  6         7         8         9   ...        15        16  \\\n",
      "Neuron #0  -0.033169  0.016757 -0.184352  0.154094  ... -0.230867 -0.039925   \n",
      "Neuron #1  -0.140983 -0.232357  0.094446  0.199187  ... -0.145664 -0.023273   \n",
      "Neuron #2  -0.091280 -0.155166 -0.024549  0.127227  ...  0.146510 -0.004320   \n",
      "Neuron #3   0.205088 -0.096340 -0.243942  0.219810  ...  0.198417 -0.251843   \n",
      "Neuron #4   0.027153  0.258385  0.017086  0.040288  ... -0.001228 -0.120958   \n",
      "Neuron #5  -0.236939 -0.038364 -0.034419  0.246136  ...  0.036830 -0.230084   \n",
      "Neuron #6   0.097300  0.240511  0.214795  0.227559  ...  0.042172 -0.034039   \n",
      "Neuron #7   0.132036  0.037898  0.092949 -0.030794  ... -0.074060  0.184040   \n",
      "Neuron #8  -0.061764 -0.254937 -0.135313 -0.009965  ...  0.014375  0.257744   \n",
      "Neuron #9  -0.078491  0.092113 -0.163637  0.200387  ... -0.050622  0.021697   \n",
      "Neuron #10 -0.223493 -0.268177 -0.227419 -0.057464  ... -0.136002 -0.081474   \n",
      "Neuron #11  0.023680  0.129566 -0.013798  0.248312  ...  0.021115  0.169891   \n",
      "Neuron #12 -0.130442 -0.058052 -0.083974 -0.119973  ...  0.223865  0.262152   \n",
      "Neuron #13  0.220184  0.028019  0.050885 -0.130901  ... -0.189794 -0.009772   \n",
      "Neuron #14  0.189784  0.150912 -0.244382 -0.218255  ...  0.127811 -0.154990   \n",
      "Neuron #15  0.080680  0.228502 -0.138092 -0.141367  ... -0.050002  0.044810   \n",
      "Neuron #16  0.217104  0.270711  0.003982  0.021375  ...  0.055502 -0.200925   \n",
      "Neuron #17  0.261541  0.181841 -0.070908  0.273570  ...  0.070043  0.161211   \n",
      "Neuron #18  0.080785 -0.295308  0.060147 -0.175782  ... -0.271979  0.107076   \n",
      "Neuron #19  0.271561  0.052613 -0.070587  0.026012  ...  0.161036  0.161948   \n",
      "Neuron #20  0.024394 -0.106212 -0.024795  0.215567  ... -0.238178  0.084473   \n",
      "Neuron #21 -0.118678  0.119843 -0.150340  0.050601  ... -0.243908 -0.245558   \n",
      "Neuron #22 -0.016179 -0.103239 -0.110229  0.192955  ... -0.022548 -0.071208   \n",
      "Neuron #23 -0.053353  0.026630 -0.215773 -0.148763  ...  0.138415 -0.233322   \n",
      "Neuron #24  0.061321  0.242013  0.150043 -0.240905  ...  0.222489  0.230855   \n",
      "Neuron #25 -0.025081 -0.137954  0.171159  0.261401  ...  0.116189  0.256721   \n",
      "Neuron #26 -0.110645 -0.226669 -0.261281 -0.223883  ...  0.247692  0.212163   \n",
      "Neuron #27  0.069838  0.011861 -0.190877  0.171197  ... -0.253774 -0.119354   \n",
      "Neuron #28  0.174307  0.237897  0.169711  0.084931  ...  0.218491 -0.112342   \n",
      "Neuron #29 -0.223677 -0.189405  0.225375  0.200637  ...  0.173045  0.078878   \n",
      "Neuron #30 -0.036225 -0.137340 -0.074825  0.068020  ... -0.265475  0.204062   \n",
      "Neuron #31  0.087329 -0.267426  0.096170 -0.114851  ...  0.184744  0.118941   \n",
      "Neuron #32 -0.257224 -0.274297 -0.184556  0.235468  ...  0.021415 -0.128292   \n",
      "Neuron #33  0.212158  0.013428  0.211576  0.108480  ...  0.069014  0.006028   \n",
      "Neuron #34  0.107650  0.198525  0.185901  0.212323  ...  0.005707  0.167076   \n",
      "Neuron #35  0.154770 -0.036854 -0.146495  0.173118  ...  0.152093  0.062317   \n",
      "Neuron #36 -0.010742 -0.137212  0.062760 -0.197953  ... -0.036176 -0.071165   \n",
      "Neuron #37  0.273695  0.255372  0.127952  0.112762  ... -0.202300  0.134521   \n",
      "Neuron #38 -0.200920  0.075666  0.215639  0.104526  ...  0.161023 -0.210534   \n",
      "Neuron #39  0.249270  0.214214 -0.015471  0.148220  ...  0.111297  0.273551   \n",
      "Neuron #40  0.287879 -0.211821 -0.211485  0.167630  ...  0.170204 -0.233984   \n",
      "Neuron #41 -0.235194 -0.030196 -0.223155  0.246589  ...  0.185590  0.161332   \n",
      "Neuron #42 -0.103548  0.196316  0.022680 -0.241258  ...  0.080695 -0.149462   \n",
      "Neuron #43  0.258922  0.220361 -0.243448  0.010162  ... -0.051119 -0.067646   \n",
      "Neuron #44 -0.058177  0.223037  0.072296  0.007375  ... -0.041264 -0.205350   \n",
      "Neuron #45  0.181611  0.067644 -0.264758  0.115688  ... -0.043303 -0.069462   \n",
      "Neuron #46 -0.128436  0.153092 -0.268389  0.284155  ...  0.069596 -0.270867   \n",
      "Neuron #47  0.019094  0.098866 -0.245732  0.226430  ... -0.109080  0.161867   \n",
      "Neuron #48 -0.030423  0.183410 -0.065190 -0.113030  ...  0.193243 -0.084794   \n",
      "Neuron #49 -0.092388  0.073336 -0.067154 -0.095012  ...  0.107021 -0.087310   \n",
      "\n",
      "                  17        18        19        20        21        22  \\\n",
      "Neuron #0   0.088308  0.197139  0.010718 -0.160763  0.254875  0.260716   \n",
      "Neuron #1   0.323285  0.218171  0.007869 -0.284751 -0.265492 -0.098314   \n",
      "Neuron #2   0.011994 -0.048999  0.096121  0.135481 -0.063204 -0.178868   \n",
      "Neuron #3  -0.042329  0.066663 -0.174471  0.105465 -0.197440 -0.138371   \n",
      "Neuron #4  -0.243899 -0.065475  0.126067 -0.209963  0.228734 -0.067530   \n",
      "Neuron #5  -0.174893  0.221210  0.236647 -0.206967 -0.070774 -0.191550   \n",
      "Neuron #6  -0.134523  0.173681  0.122951 -0.112279  0.123826  0.155047   \n",
      "Neuron #7   0.153274 -0.252617  0.118211 -0.137991  0.020414 -0.055551   \n",
      "Neuron #8   0.172551 -0.263353  0.031954 -0.021802 -0.035513 -0.082225   \n",
      "Neuron #9   0.138970  0.120540  0.244674 -0.041886 -0.226225 -0.154624   \n",
      "Neuron #10  0.116786 -0.250053  0.048638  0.041106  0.212053 -0.144061   \n",
      "Neuron #11 -0.253851  0.234127 -0.023272  0.086964 -0.187968  0.036536   \n",
      "Neuron #12 -0.278741  0.173918 -0.037840 -0.161569  0.143675 -0.058292   \n",
      "Neuron #13  0.001118  0.070745 -0.276019 -0.006590  0.086211 -0.289758   \n",
      "Neuron #14 -0.265713  0.152395  0.256421  0.044558 -0.021239 -0.099499   \n",
      "Neuron #15 -0.160433  0.066840 -0.235136 -0.064545 -0.249995  0.131790   \n",
      "Neuron #16 -0.300143 -0.008026  0.114193  0.206351 -0.114106  0.103078   \n",
      "Neuron #17  0.202475  0.140915 -0.118017  0.052647  0.018484  0.048101   \n",
      "Neuron #18 -0.176958 -0.137662 -0.075388  0.031904 -0.035680 -0.152183   \n",
      "Neuron #19 -0.140174  0.130480  0.194155  0.136047  0.071588  0.122691   \n",
      "Neuron #20 -0.237846 -0.156219 -0.128602 -0.047357 -0.104575 -0.242299   \n",
      "Neuron #21 -0.254192 -0.234232  0.049361  0.065440  0.226929  0.201442   \n",
      "Neuron #22 -0.195167 -0.218829  0.134641 -0.090946  0.264524  0.154027   \n",
      "Neuron #23 -0.020572 -0.284740  0.242423  0.218724 -0.044684 -0.059098   \n",
      "Neuron #24 -0.248277  0.272653 -0.131062  0.250676  0.112885 -0.034054   \n",
      "Neuron #25  0.079379  0.148082  0.111285 -0.201765  0.049247  0.213226   \n",
      "Neuron #26  0.081389 -0.205373  0.168132  0.069215  0.035744 -0.007195   \n",
      "Neuron #27  0.109165 -0.082390 -0.000572  0.026597 -0.141131  0.232226   \n",
      "Neuron #28 -0.266200  0.079744 -0.200528 -0.239108  0.118327  0.267256   \n",
      "Neuron #29  0.203241  0.175629 -0.032312  0.268760 -0.107116 -0.037643   \n",
      "Neuron #30 -0.260041  0.067987 -0.187660 -0.004296  0.226908  0.144572   \n",
      "Neuron #31 -0.203370  0.063983  0.057638  0.007891  0.234873  0.205781   \n",
      "Neuron #32  0.021245 -0.178979 -0.122824  0.029956 -0.277660  0.116827   \n",
      "Neuron #33  0.129553  0.217712  0.112069  0.113889  0.055588 -0.178803   \n",
      "Neuron #34 -0.146447  0.087737 -0.012381  0.098576 -0.131996  0.167512   \n",
      "Neuron #35  0.134110 -0.272309  0.261339 -0.076650 -0.029954  0.281949   \n",
      "Neuron #36  0.328814  0.288475 -0.231674 -0.181492 -0.079328  0.167070   \n",
      "Neuron #37 -0.000220 -0.203548  0.013501  0.058324  0.219293 -0.218832   \n",
      "Neuron #38  0.060168  0.066438  0.176584  0.149342 -0.161037  0.110852   \n",
      "Neuron #39 -0.033066 -0.148661  0.259985  0.057812 -0.175941 -0.119956   \n",
      "Neuron #40 -0.146595 -0.281669  0.130988 -0.012941 -0.247606  0.023619   \n",
      "Neuron #41 -0.161650 -0.185481 -0.138729 -0.132372  0.282097 -0.087026   \n",
      "Neuron #42  0.037894  0.079469 -0.095710 -0.220616 -0.161164  0.261529   \n",
      "Neuron #43  0.201448  0.083822 -0.064972 -0.067545  0.016310 -0.275022   \n",
      "Neuron #44  0.256380  0.081172  0.020972  0.100685 -0.141018  0.105573   \n",
      "Neuron #45 -0.274244  0.074979  0.234097 -0.248000 -0.094246  0.030228   \n",
      "Neuron #46 -0.006867  0.245216  0.149106  0.030217 -0.038032 -0.075901   \n",
      "Neuron #47 -0.024128 -0.142060 -0.252172 -0.246768 -0.090086  0.208686   \n",
      "Neuron #48  0.273693  0.213566 -0.077461 -0.202952  0.273299 -0.250060   \n",
      "Neuron #49 -0.117851 -0.136136 -0.014698  0.002559 -0.281896  0.132373   \n",
      "\n",
      "                  23        24  \n",
      "Neuron #0  -0.078788  0.000932  \n",
      "Neuron #1  -0.120060  0.019773  \n",
      "Neuron #2   0.193922 -0.259639  \n",
      "Neuron #3  -0.133066  0.116152  \n",
      "Neuron #4   0.247837  0.099188  \n",
      "Neuron #5  -0.087159  0.072612  \n",
      "Neuron #6  -0.127546  0.177365  \n",
      "Neuron #7   0.108666  0.028778  \n",
      "Neuron #8   0.205899  0.213701  \n",
      "Neuron #9   0.092201 -0.145270  \n",
      "Neuron #10 -0.270842  0.213327  \n",
      "Neuron #11 -0.163109 -0.097417  \n",
      "Neuron #12 -0.110484  0.105989  \n",
      "Neuron #13 -0.139790 -0.004854  \n",
      "Neuron #14  0.240140  0.222744  \n",
      "Neuron #15  0.185599 -0.017643  \n",
      "Neuron #16  0.115120  0.196241  \n",
      "Neuron #17 -0.080820 -0.256762  \n",
      "Neuron #18 -0.217255  0.192311  \n",
      "Neuron #19 -0.207672 -0.143017  \n",
      "Neuron #20  0.120237  0.134141  \n",
      "Neuron #21  0.143234  0.192081  \n",
      "Neuron #22 -0.221569  0.214421  \n",
      "Neuron #23 -0.199637 -0.114465  \n",
      "Neuron #24 -0.139003 -0.020879  \n",
      "Neuron #25  0.158339  0.012219  \n",
      "Neuron #26 -0.151572  0.049254  \n",
      "Neuron #27 -0.265492 -0.269391  \n",
      "Neuron #28  0.179672 -0.060847  \n",
      "Neuron #29  0.287330 -0.138492  \n",
      "Neuron #30 -0.018245 -0.116552  \n",
      "Neuron #31  0.098586  0.007480  \n",
      "Neuron #32 -0.110650 -0.101927  \n",
      "Neuron #33 -0.017422  0.001989  \n",
      "Neuron #34 -0.018646 -0.188443  \n",
      "Neuron #35 -0.086914 -0.092661  \n",
      "Neuron #36  0.152992 -0.261296  \n",
      "Neuron #37  0.244731 -0.247139  \n",
      "Neuron #38 -0.000324 -0.010073  \n",
      "Neuron #39 -0.025724 -0.233361  \n",
      "Neuron #40  0.014576 -0.036129  \n",
      "Neuron #41  0.144007 -0.115411  \n",
      "Neuron #42  0.018740 -0.182951  \n",
      "Neuron #43 -0.027086 -0.061496  \n",
      "Neuron #44 -0.203540 -0.147408  \n",
      "Neuron #45 -0.115201  0.036738  \n",
      "Neuron #46  0.200779 -0.188560  \n",
      "Neuron #47  0.169576 -0.271590  \n",
      "Neuron #48  0.238121  0.144043  \n",
      "Neuron #49 -0.270518 -0.066368  \n",
      "\n",
      "[50 rows x 25 columns]\n",
      "Layer #4\n",
      "                 0         1         2         3         4         5   \\\n",
      "Neuron #0  0.047498  0.036647 -0.288270 -0.253413 -0.129009  0.030600   \n",
      "Neuron #1 -0.006705 -0.378869 -0.088509  0.132662 -0.230002 -0.032203   \n",
      "Neuron #2  0.259472  0.188546  0.047159  0.071306 -0.201687  0.324554   \n",
      "Neuron #3  0.095514  0.093756  0.083538 -0.051357  0.259431 -0.281577   \n",
      "Neuron #4  0.223754 -0.049368 -0.177662 -0.083796  0.047063  0.191672   \n",
      "Neuron #5  0.137411 -0.347852  0.202560 -0.031028  0.064028  0.225636   \n",
      "Neuron #6 -0.022800 -0.317376 -0.257484 -0.135750  0.325756  0.043253   \n",
      "Neuron #7  0.095418  0.030960  0.263736  0.028749  0.268534  0.239691   \n",
      "Neuron #8 -0.217999  0.245040  0.235723 -0.012741  0.142348 -0.017064   \n",
      "Neuron #9 -0.196295 -0.224020  0.276856  0.148889 -0.161183 -0.236822   \n",
      "\n",
      "                 6         7         8         9   ...        40        41  \\\n",
      "Neuron #0  0.282629  0.060407 -0.187389 -0.010636  ...  0.379444 -0.021881   \n",
      "Neuron #1 -0.244650  0.179395 -0.107880 -0.118399  ... -0.138368  0.018837   \n",
      "Neuron #2 -0.295558 -0.224594 -0.237980  0.103808  ...  0.190243 -0.194180   \n",
      "Neuron #3 -0.032777  0.103454  0.239331  0.174568  ...  0.015812  0.304173   \n",
      "Neuron #4 -0.210499  0.372548  0.012731 -0.010078  ... -0.270901 -0.124377   \n",
      "Neuron #5  0.278390  0.148544 -0.077449 -0.152908  ... -0.092228  0.091325   \n",
      "Neuron #6 -0.293096 -0.180447  0.103423  0.244601  ...  0.121148 -0.284676   \n",
      "Neuron #7  0.268122 -0.149333  0.057316  0.251641  ...  0.239631  0.049248   \n",
      "Neuron #8 -0.269880 -0.018598 -0.165769  0.097647  ... -0.271993  0.260013   \n",
      "Neuron #9 -0.150338 -0.277133  0.296093 -0.176444  ...  0.147179 -0.017519   \n",
      "\n",
      "                 42        43        44        45        46        47  \\\n",
      "Neuron #0 -0.269195 -0.355661 -0.242672  0.065681 -0.280218  0.163453   \n",
      "Neuron #1  0.070511 -0.289198 -0.280183  0.121346  0.133588  0.017207   \n",
      "Neuron #2  0.092051 -0.169485  0.130979  0.037095  0.106297  0.217160   \n",
      "Neuron #3  0.157357 -0.306083 -0.120718  0.109149 -0.306521 -0.155063   \n",
      "Neuron #4 -0.085469 -0.080345  0.122731  0.044285  0.156856 -0.236508   \n",
      "Neuron #5  0.163576 -0.178768 -0.093083 -0.147483  0.209339 -0.274645   \n",
      "Neuron #6 -0.316326 -0.141556  0.107389  0.357442 -0.013448  0.185836   \n",
      "Neuron #7  0.237396  0.015238 -0.079631 -0.152182 -0.314087  0.203879   \n",
      "Neuron #8 -0.265985 -0.289018 -0.158264 -0.124840 -0.248997 -0.134562   \n",
      "Neuron #9 -0.021697  0.127240  0.183655  0.145075  0.173178 -0.221238   \n",
      "\n",
      "                 48        49  \n",
      "Neuron #0 -0.128050 -0.087839  \n",
      "Neuron #1  0.103774 -0.085956  \n",
      "Neuron #2 -0.241138 -0.270996  \n",
      "Neuron #3  0.146571 -0.186557  \n",
      "Neuron #4  0.157353  0.008331  \n",
      "Neuron #5 -0.143067  0.248783  \n",
      "Neuron #6 -0.112601 -0.237223  \n",
      "Neuron #7 -0.237443  0.298938  \n",
      "Neuron #8 -0.211674  0.262364  \n",
      "Neuron #9 -0.203316 -0.068489  \n",
      "\n",
      "[10 rows x 50 columns]\n",
      "Layer #5\n",
      "                  0         1         2         3         4         5  \\\n",
      "Neuron #0  0.472653  0.545599 -0.268854  0.081752 -0.535945  0.573794   \n",
      "\n",
      "                  6         7         8        9  \n",
      "Neuron #0  0.945269  0.454363 -0.192821 -0.13562  \n"
     ]
    }
   ],
   "source": [
    "# display the network weights for each layer rows in each table represent a\n",
    "# neuron, and columns represent the input from the previous layer, a cell\n",
    "# gives us the weight to use for a given neuron + input value\n",
    "print('Network weights, w/o bias, input layer is layer #0:')\n",
    "for i, weight_matrix in enumerate(model.coefs_, start=1):\n",
    "    print('Layer #%d' % i)\n",
    "    if i == 1:\n",
    "        weight_matrix_df = pd.DataFrame(weight_matrix.transpose())\n",
    "        #weight_matrix_df.columns = df.drop('species', axis=1).columns\n",
    "\n",
    "    else:\n",
    "        weight_matrix_df = pd.DataFrame(weight_matrix.transpose())\n",
    "        #weight_matrix_df.columns = ['Neuron #%d from layer #%d' % (c, i - 1)\n",
    "        #                            for c in weight_matrix_df.columns]\n",
    "\n",
    "    weight_matrix_df.index = weight_matrix_df.index.map(\n",
    "        lambda x: 'Neuron #%d' % x)\n",
    "    print(weight_matrix_df)\n",
    "\n",
    "    print"
   ]
  },
  {
   "cell_type": "markdown",
   "metadata": {},
   "source": [
    "## --------------------------------------\n",
    "## Regression ML\n",
    "## --------------------------------------"
   ]
  },
  {
   "cell_type": "code",
   "execution_count": 49,
   "metadata": {},
   "outputs": [],
   "source": [
    "df = data.copy()\n",
    "\n",
    "train = df[df.season <2019]\n",
    "X_train = train.drop(['driver', 'podium'], axis = 1)\n",
    "y_train = train.podium\n",
    "\n",
    "scaler = StandardScaler()\n",
    "X_train = pd.DataFrame(scaler.fit_transform(X_train), columns = X_train.columns)"
   ]
  },
  {
   "cell_type": "code",
   "execution_count": 50,
   "metadata": {},
   "outputs": [],
   "source": [
    "def score_regression(model):\n",
    "    score = 0\n",
    "    acc = 0\n",
    "    for circuit in df[df.season == 2019]['round'].unique():\n",
    "\n",
    "        test = df[(df.season == 2019) & (df['round'] == circuit)]\n",
    "        X_test = test.drop(['driver', 'podium'], axis = 1)\n",
    "        y_test = test.podium\n",
    "\n",
    "        #scaling\n",
    "        X_test = pd.DataFrame(scaler.transform(X_test), columns = X_test.columns)\n",
    "\n",
    "        # make predictions\n",
    "        prediction_df = pd.DataFrame(model.predict(X_test), columns = ['results'])\n",
    "        prediction_df['podium'] = y_test.reset_index(drop = True)\n",
    "        prediction_df['actual'] = prediction_df.podium.map(lambda x: 1 if x == 1 else 0)\n",
    "        prediction_df.sort_values('results', ascending = True, inplace = True)\n",
    "        prediction_df.reset_index(inplace = True, drop = True)\n",
    "        prediction_df['predicted'] = prediction_df.index\n",
    "        prediction_df['predicted'] = prediction_df.predicted.map(lambda x: 1 if x == 0 else 0)\n",
    "\n",
    "        score += precision_score(prediction_df.actual, prediction_df.predicted)\n",
    "        acc += accuracy_score(prediction_df.actual, prediction_df.predicted)\n",
    "\n",
    "    model_score = score / df[df.season == 2019]['round'].unique().max()\n",
    "    model_acc = acc / df[df.season == 2019]['round'].unique().max()\n",
    "    return model_score,model_acc"
   ]
  },
  {
   "cell_type": "markdown",
   "metadata": {},
   "source": [
    "# Linear Regression"
   ]
  },
  {
   "cell_type": "code",
   "execution_count": 51,
   "metadata": {},
   "outputs": [],
   "source": [
    "fit_intercept='True'"
   ]
  },
  {
   "cell_type": "code",
   "execution_count": 52,
   "metadata": {},
   "outputs": [],
   "source": [
    "# Linear Regression\n",
    "\n",
    "model_params = (fit_intercept)\n",
    "model = LinearRegression(fit_intercept = fit_intercept)\n",
    "model.fit(X_train, y_train)\n",
    "\n",
    "model_score, model_acc = score_regression(model)\n",
    "            \n",
    "comparison_dict['modelname'].append('linear_regression')\n",
    "comparison_dict['params'].append(model_params)\n",
    "comparison_dict['score'].append(model_score)\n",
    "comparison_dict['model'].append(model)"
   ]
  },
  {
   "cell_type": "code",
   "execution_count": 53,
   "metadata": {},
   "outputs": [
    {
     "name": "stdout",
     "output_type": "stream",
     "text": [
      "0.47619047619047616\n"
     ]
    }
   ],
   "source": [
    "print(model_score)"
   ]
  },
  {
   "cell_type": "code",
   "execution_count": 54,
   "metadata": {},
   "outputs": [
    {
     "name": "stdout",
     "output_type": "stream",
     "text": [
      "0.942119186856029\n"
     ]
    }
   ],
   "source": [
    "print(model_acc)"
   ]
  },
  {
   "cell_type": "code",
   "execution_count": 55,
   "metadata": {},
   "outputs": [
    {
     "name": "stdout",
     "output_type": "stream",
     "text": [
      "Saving model ...\n",
      "    MODEL: ./models/linear_regression.pkl\n"
     ]
    }
   ],
   "source": [
    "model_filepath='./models/{}.pkl'.format('linear_regression')\n",
    "print('Saving model ...\\n    MODEL: {}'.format(model_filepath))\n",
    "save_model(model, model_filepath)"
   ]
  },
  {
   "cell_type": "markdown",
   "metadata": {},
   "source": [
    "## Random Forest Regressor"
   ]
  },
  {
   "cell_type": "code",
   "execution_count": 56,
   "metadata": {},
   "outputs": [],
   "source": [
    "criterion='mse'\n",
    "max_features=None\n",
    "max_depth= 9.0"
   ]
  },
  {
   "cell_type": "code",
   "execution_count": 57,
   "metadata": {},
   "outputs": [],
   "source": [
    "# Random Forest Regressor\n",
    "\n",
    "model_params = (criterion, max_features, max_depth)\n",
    "model = RandomForestRegressor(criterion = criterion,\n",
    "                              max_features = max_features, max_depth = max_depth, random_state = 1)\n",
    "model.fit(X_train, y_train)\n",
    "\n",
    "model_score,model_acc = score_regression(model)\n",
    "\n",
    "comparison_dict['modelname'].append('random_forest_regressor')\n",
    "comparison_dict['params'].append(model_params)\n",
    "comparison_dict['score'].append(model_score)\n",
    "comparison_dict['model'].append(model)"
   ]
  },
  {
   "cell_type": "code",
   "execution_count": 58,
   "metadata": {},
   "outputs": [
    {
     "name": "stdout",
     "output_type": "stream",
     "text": [
      "0.5238095238095238\n"
     ]
    }
   ],
   "source": [
    "print(model_score)"
   ]
  },
  {
   "cell_type": "code",
   "execution_count": 59,
   "metadata": {},
   "outputs": [
    {
     "name": "stdout",
     "output_type": "stream",
     "text": [
      "0.9479114452798663\n"
     ]
    }
   ],
   "source": [
    "print(model_acc)"
   ]
  },
  {
   "cell_type": "code",
   "execution_count": 60,
   "metadata": {},
   "outputs": [
    {
     "name": "stdout",
     "output_type": "stream",
     "text": [
      "Saving model ...\n",
      "    MODEL: ./models/random_forest_regressor.pkl\n"
     ]
    }
   ],
   "source": [
    "model_filepath='./models/{}.pkl'.format('random_forest_regressor')\n",
    "print('Saving model ...\\n    MODEL: {}'.format(model_filepath))\n",
    "save_model(model, model_filepath)"
   ]
  },
  {
   "cell_type": "markdown",
   "metadata": {},
   "source": [
    "## SVM Regressor"
   ]
  },
  {
   "cell_type": "code",
   "execution_count": 61,
   "metadata": {},
   "outputs": [],
   "source": [
    "gamma=0.001\n",
    "c=1.0\n",
    "kernel='rbf'"
   ]
  },
  {
   "cell_type": "code",
   "execution_count": 62,
   "metadata": {},
   "outputs": [],
   "source": [
    "## Support Vector Machines\n",
    "\n",
    "model_params = (gamma, c, kernel)\n",
    "model = svm.SVR(gamma = gamma, C = c, kernel = kernel)\n",
    "model.fit(X_train, y_train)\n",
    "\n",
    "model_score, model_acc = score_regression(model)\n",
    "\n",
    "comparison_dict['modelname'].append('svm_regressor')\n",
    "comparison_dict['params'].append(model_params)\n",
    "comparison_dict['score'].append(model_score)\n",
    "comparison_dict['model'].append(model)"
   ]
  },
  {
   "cell_type": "code",
   "execution_count": 63,
   "metadata": {},
   "outputs": [
    {
     "name": "stdout",
     "output_type": "stream",
     "text": [
      "0.5238095238095238\n"
     ]
    }
   ],
   "source": [
    "print(model_score)"
   ]
  },
  {
   "cell_type": "code",
   "execution_count": 64,
   "metadata": {},
   "outputs": [
    {
     "name": "stdout",
     "output_type": "stream",
     "text": [
      "0.9476608187134504\n"
     ]
    }
   ],
   "source": [
    "print(model_acc)"
   ]
  },
  {
   "cell_type": "code",
   "execution_count": 65,
   "metadata": {},
   "outputs": [
    {
     "name": "stdout",
     "output_type": "stream",
     "text": [
      "Saving model ...\n",
      "    MODEL: ./models/svm_regressor.pkl\n"
     ]
    }
   ],
   "source": [
    "model_filepath='./models/{}.pkl'.format('svm_regressor')\n",
    "print('Saving model ...\\n    MODEL: {}'.format(model_filepath))\n",
    "save_model(model, model_filepath)"
   ]
  },
  {
   "cell_type": "markdown",
   "metadata": {},
   "source": [
    "## Neural Network Regressor"
   ]
  },
  {
   "cell_type": "code",
   "execution_count": 66,
   "metadata": {},
   "outputs": [],
   "source": [
    "hidden_layer_sizes=[75, 30, 50, 10, 3]\n",
    "activation='tanh'\n",
    "solver='sgd'\n",
    "alpha=1.623776739188721"
   ]
  },
  {
   "cell_type": "code",
   "execution_count": 67,
   "metadata": {},
   "outputs": [],
   "source": [
    "# Neural network\n",
    "\n",
    "model_params = (hidden_layer_sizes, activation, solver, alpha )\n",
    "model = MLPRegressor(hidden_layer_sizes = hidden_layer_sizes,\n",
    "                      activation = activation, solver = solver, alpha = alpha, random_state = 1)\n",
    "model.fit(X_train, y_train)\n",
    "\n",
    "model_score, model_acc = score_regression(model)\n",
    "\n",
    "comparison_dict['modelname'].append('nn_regressor')\n",
    "comparison_dict['params'].append(model_params)\n",
    "comparison_dict['score'].append(model_score)\n",
    "comparison_dict['model'].append(model)"
   ]
  },
  {
   "cell_type": "code",
   "execution_count": 68,
   "metadata": {},
   "outputs": [
    {
     "name": "stdout",
     "output_type": "stream",
     "text": [
      "0.3333333333333333\n"
     ]
    }
   ],
   "source": [
    "print(model_score)"
   ]
  },
  {
   "cell_type": "code",
   "execution_count": 69,
   "metadata": {},
   "outputs": [
    {
     "name": "stdout",
     "output_type": "stream",
     "text": [
      "0.9275549986076302\n"
     ]
    }
   ],
   "source": [
    "print(model_acc)"
   ]
  },
  {
   "cell_type": "code",
   "execution_count": 70,
   "metadata": {},
   "outputs": [
    {
     "name": "stdout",
     "output_type": "stream",
     "text": [
      "Saving model ...\n",
      "    MODEL: ./models/nn_regressor.pkl\n"
     ]
    }
   ],
   "source": [
    "model_filepath='./models/{}.pkl'.format('nn_regressor')\n",
    "print('Saving model ...\\n    MODEL: {}'.format(model_filepath))\n",
    "save_model(model, model_filepath)"
   ]
  },
  {
   "cell_type": "markdown",
   "metadata": {},
   "source": [
    "## Results Analysis"
   ]
  },
  {
   "cell_type": "code",
   "execution_count": 71,
   "metadata": {},
   "outputs": [
    {
     "data": {
      "text/html": [
       "<div>\n",
       "<style scoped>\n",
       "    .dataframe tbody tr th:only-of-type {\n",
       "        vertical-align: middle;\n",
       "    }\n",
       "\n",
       "    .dataframe tbody tr th {\n",
       "        vertical-align: top;\n",
       "    }\n",
       "\n",
       "    .dataframe thead th {\n",
       "        text-align: right;\n",
       "    }\n",
       "</style>\n",
       "<table border=\"1\" class=\"dataframe\">\n",
       "  <thead>\n",
       "    <tr style=\"text-align: right;\">\n",
       "      <th></th>\n",
       "      <th>min</th>\n",
       "      <th>median</th>\n",
       "      <th>max</th>\n",
       "    </tr>\n",
       "    <tr>\n",
       "      <th>modelname</th>\n",
       "      <th></th>\n",
       "      <th></th>\n",
       "      <th></th>\n",
       "    </tr>\n",
       "  </thead>\n",
       "  <tbody>\n",
       "    <tr>\n",
       "      <th>linear_regression</th>\n",
       "      <td>0.476190</td>\n",
       "      <td>0.476190</td>\n",
       "      <td>0.476190</td>\n",
       "    </tr>\n",
       "    <tr>\n",
       "      <th>logistic_regression</th>\n",
       "      <td>0.571429</td>\n",
       "      <td>0.571429</td>\n",
       "      <td>0.571429</td>\n",
       "    </tr>\n",
       "    <tr>\n",
       "      <th>neural_network_classifier</th>\n",
       "      <td>0.619048</td>\n",
       "      <td>0.619048</td>\n",
       "      <td>0.619048</td>\n",
       "    </tr>\n",
       "    <tr>\n",
       "      <th>nn_regressor</th>\n",
       "      <td>0.333333</td>\n",
       "      <td>0.333333</td>\n",
       "      <td>0.333333</td>\n",
       "    </tr>\n",
       "    <tr>\n",
       "      <th>random_forest_classifier</th>\n",
       "      <td>0.380952</td>\n",
       "      <td>0.380952</td>\n",
       "      <td>0.380952</td>\n",
       "    </tr>\n",
       "    <tr>\n",
       "      <th>random_forest_regressor</th>\n",
       "      <td>0.523810</td>\n",
       "      <td>0.523810</td>\n",
       "      <td>0.523810</td>\n",
       "    </tr>\n",
       "    <tr>\n",
       "      <th>svm_classifier</th>\n",
       "      <td>0.428571</td>\n",
       "      <td>0.428571</td>\n",
       "      <td>0.428571</td>\n",
       "    </tr>\n",
       "    <tr>\n",
       "      <th>svm_regressor</th>\n",
       "      <td>0.523810</td>\n",
       "      <td>0.523810</td>\n",
       "      <td>0.523810</td>\n",
       "    </tr>\n",
       "  </tbody>\n",
       "</table>\n",
       "</div>"
      ],
      "text/plain": [
       "                                min    median       max\n",
       "modelname                                              \n",
       "linear_regression          0.476190  0.476190  0.476190\n",
       "logistic_regression        0.571429  0.571429  0.571429\n",
       "neural_network_classifier  0.619048  0.619048  0.619048\n",
       "nn_regressor               0.333333  0.333333  0.333333\n",
       "random_forest_classifier   0.380952  0.380952  0.380952\n",
       "random_forest_regressor    0.523810  0.523810  0.523810\n",
       "svm_classifier             0.428571  0.428571  0.428571\n",
       "svm_regressor              0.523810  0.523810  0.523810"
      ]
     },
     "execution_count": 71,
     "metadata": {},
     "output_type": "execute_result"
    }
   ],
   "source": [
    "df_box = pd.DataFrame(comparison_dict).groupby('modelname')['score'].aggregate([min, np.median, max])\n",
    "df_box"
   ]
  },
  {
   "cell_type": "code",
   "execution_count": 72,
   "metadata": {},
   "outputs": [
    {
     "data": {
      "image/png": "[encoded data removed]",
      "text/plain": [
       "<Figure size 432x288 with 1 Axes>"
      ]
     },
     "metadata": {
      "needs_background": "light"
     },
     "output_type": "display_data"
    }
   ],
   "source": [
    "import matplotlib.pyplot as plt\n",
    "#import pandas as pd\n",
    "\n",
    "df_model = pd.DataFrame(comparison_dict).groupby('modelname')['score'].max()\n",
    "#ax = df_model.plot.bar(rot=0)\n",
    "\n",
    "#df.groupby('state')['name'].nunique().plot(kind='bar')\n",
    "df_model.plot(kind='bar',alpha=0.75, rot=0)\n",
    "plt.rcParams['figure.figsize'] = [11.7, 8.27]\n",
    "plt.title('ML Models comparison'); \n",
    "plt.ylabel('Precision Scores');\n",
    "plt.xlabel('ML models applied');\n",
    "\n",
    "plt.xticks(\n",
    "    rotation=45,\n",
    "    horizontalalignment='right',\n",
    "    fontweight='light',\n",
    "    fontsize='medium',\n",
    ")\n",
    "plt.show()"
   ]
  },
  {
   "cell_type": "code",
   "execution_count": 73,
   "metadata": {},
   "outputs": [],
   "source": [
    "end = time.time()"
   ]
  },
  {
   "cell_type": "code",
   "execution_count": 74,
   "metadata": {},
   "outputs": [
    {
     "data": {
      "text/plain": [
       "'0:02:51.980462'"
      ]
     },
     "execution_count": 74,
     "metadata": {},
     "output_type": "execute_result"
    }
   ],
   "source": [
    "import datetime\n",
    "str(datetime.timedelta(seconds=(end - start)))"
   ]
  },
  {
   "cell_type": "code",
   "execution_count": 75,
   "metadata": {},
   "outputs": [
    {
     "name": "stdout",
     "output_type": "stream",
     "text": [
      "171.9804618358612 seconds\n"
     ]
    }
   ],
   "source": [
    "print(str(end - start)+\" seconds\")"
   ]
  },
  {
   "cell_type": "markdown",
   "metadata": {},
   "source": [
    "## Save all Models in JSON Dict"
   ]
  },
  {
   "cell_type": "code",
   "execution_count": 76,
   "metadata": {},
   "outputs": [],
   "source": [
    "comparison_dict_json ={'modelname':[],\n",
    "                  'params': [],\n",
    "                  'score': []}"
   ]
  },
  {
   "cell_type": "code",
   "execution_count": 77,
   "metadata": {},
   "outputs": [],
   "source": [
    "comparison_dict_json['modelname']=comparison_dict['modelname']\n",
    "comparison_dict_json['params']=comparison_dict['params']\n",
    "comparison_dict_json['score']=comparison_dict['score']"
   ]
  },
  {
   "cell_type": "code",
   "execution_count": 78,
   "metadata": {},
   "outputs": [],
   "source": [
    "import json\n",
    "\n",
    "json = json.dumps(comparison_dict_json)\n",
    "f = open(\"./data/f1_mlmodels_dict.json\",\"w\")\n",
    "f.write(json)\n",
    "f.close()"
   ]
  },
  {
   "cell_type": "markdown",
   "metadata": {},
   "source": [
    "## Load Models from JSON Dict"
   ]
  },
  {
   "cell_type": "code",
   "execution_count": 79,
   "metadata": {},
   "outputs": [],
   "source": [
    "import json\n",
    "\n",
    "with open(\"./data/f1_mlmodels_dict.json\") as json_file:\n",
    "    comparison_dict_json = json.load(json_file)"
   ]
  },
  {
   "cell_type": "code",
   "execution_count": 80,
   "metadata": {},
   "outputs": [
    {
     "name": "stdout",
     "output_type": "stream",
     "text": [
      "['logistic_regression', 'random_forest_classifier', 'svm_classifier', 'neural_network_classifier', 'linear_regression', 'random_forest_regressor', 'svm_regressor', 'nn_regressor']: [['l2', 'liblinear', 10.0], ['gini', 'auto', 13.0], [0.0001438449888287663, 0.029763514416313176, 'rbf'], [[75, 25, 50, 10], 'identity', 'lbfgs', 0.01623776739188721], 'True', ['mse', None, 9.0], [0.001, 1.0, 'rbf'], [[75, 30, 50, 10, 3], 'tanh', 'sgd', 1.623776739188721]] : [0.5714285714285714, 0.38095238095238093, 0.42857142857142855, 0.6190476190476191, 0.47619047619047616, 0.5238095238095238, 0.5238095238095238, 0.3333333333333333] \n"
     ]
    }
   ],
   "source": [
    "modelname = comparison_dict_json['modelname']\n",
    "params = comparison_dict_json['params']\n",
    "score = comparison_dict_json['score']\n",
    "print (\"%s: %s : %s \" % (modelname, params, score))"
   ]
  },
  {
   "cell_type": "code",
   "execution_count": 81,
   "metadata": {},
   "outputs": [
    {
     "name": "stdout",
     "output_type": "stream",
     "text": [
      "logistic_regression: ['l2', 'liblinear', 10.0] : 0.5714285714285714 \n",
      "random_forest_classifier: ['gini', 'auto', 13.0] : 0.38095238095238093 \n",
      "svm_classifier: [0.0001438449888287663, 0.029763514416313176, 'rbf'] : 0.42857142857142855 \n",
      "neural_network_classifier: [[75, 25, 50, 10], 'identity', 'lbfgs', 0.01623776739188721] : 0.6190476190476191 \n",
      "linear_regression: True : 0.47619047619047616 \n",
      "random_forest_regressor: ['mse', None, 9.0] : 0.5238095238095238 \n",
      "svm_regressor: [0.001, 1.0, 'rbf'] : 0.5238095238095238 \n",
      "nn_regressor: [[75, 30, 50, 10, 3], 'tanh', 'sgd', 1.623776739188721] : 0.3333333333333333 \n"
     ]
    }
   ],
   "source": [
    "length = len(modelname)\n",
    "for i in range(length):\n",
    "    print (\"%s: %s : %s \" % (modelname[i], params[i], score[i]))"
   ]
  },
  {
   "cell_type": "code",
   "execution_count": null,
   "metadata": {},
   "outputs": [],
   "source": []
  }
 ],
 "metadata": {
  "kernelspec": {
   "display_name": "Python 3",
   "language": "python",
   "name": "python3"
  },
  "language_info": {
   "codemirror_mode": {
    "name": "ipython",
    "version": 3
   },
   "file_extension": ".py",
   "mimetype": "text/x-python",
   "name": "python",
   "nbconvert_exporter": "python",
   "pygments_lexer": "ipython3",
   "version": "3.6.8"
  },
  "toc": {
   "base_numbering": 1,
   "nav_menu": {},
   "number_sections": true,
   "sideBar": true,
   "skip_h1_title": false,
   "title_cell": "Table of Contents",
   "title_sidebar": "Contents",
   "toc_cell": false,
   "toc_position": {},
   "toc_section_display": true,
   "toc_window_display": false
  },
  "varInspector": {
   "cols": {
    "lenName": 16,
    "lenType": 16,
    "lenVar": 40
   },
   "kernels_config": {
    "python": {
     "delete_cmd_postfix": "",
     "delete_cmd_prefix": "del ",
     "library": "var_list.py",
     "varRefreshCmd": "print(var_dic_list())"
    },
    "r": {
     "delete_cmd_postfix": ") ",
     "delete_cmd_prefix": "rm(",
     "library": "var_list.r",
     "varRefreshCmd": "cat(var_dic_list()) "
    }
   },
   "types_to_exclude": [
    "module",
    "function",
    "builtin_function_or_method",
    "instance",
    "_Feature"
   ],
   "window_display": false
  }
 },
 "nbformat": 4,
 "nbformat_minor": 4
}
